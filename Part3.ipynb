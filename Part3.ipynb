{
 "cells": [
  {
   "cell_type": "code",
   "execution_count": null,
   "metadata": {},
   "outputs": [
    {
     "data": {
      "text/plain": [
       "True"
      ]
     },
     "execution_count": 10,
     "metadata": {},
     "output_type": "execute_result"
    }
   ],
   "source": [
    "from langchain_community.document_loaders.csv_loader import CSVLoader\n",
    "import pandas as pd\n",
    "from IPython.display import Markdown\n",
    "import re\n",
    "import datetime\n",
    "from pykrx.stock import get_market_ticker_list, get_market_ticker_name\n",
    "from typing import Annotated, Literal\n",
    "from typing_extensions import TypedDict\n",
    "from langchain_openai import ChatOpenAI, OpenAIEmbeddings\n",
    "from langchain.text_splitter import RecursiveCharacterTextSplitter\n",
    "from langchain_community.vectorstores import FAISS\n",
    "from langchain_community.tools.tavily_search import TavilySearchResults\n",
    "from langchain.tools.retriever import create_retriever_tool\n",
    "from langchain.document_loaders import PyMuPDFLoader, PyPDFLoader\n",
    "from langgraph.graph import StateGraph, START, END\n",
    "from langgraph.graph.message import add_messages, MessagesState\n",
    "from langgraph.prebuilt import ToolNode, tools_condition\n",
    "from langgraph.checkpoint.memory import MemorySaver\n",
    "from langchain_core.prompts import ChatPromptTemplate, PromptTemplate\n",
    "from langchain_core.tools import tool\n",
    "from langchain_core.documents.base import Document\n",
    "from langchain_core.vectorstores.base import VectorStoreRetriever\n",
    "from langchain_core.output_parsers.openai_tools import JsonOutputToolsParser\n",
    "from langchain_core.output_parsers.string import StrOutputParser\n",
    "from langchain.schema.runnable import RunnablePassthrough, RunnableLambda\n",
    "from langchain_experimental.utilities import PythonREPL\n",
    "from langchain_experimental.tools.python.tool import PythonAstREPLTool\n",
    "from pydantic import BaseModel, Field\n",
    "from markitdown import MarkItDown\n",
    "import dotenv\n",
    "import os\n",
    "\n",
    "dotenv.load_dotenv()"
   ]
  },
  {
   "cell_type": "code",
   "execution_count": null,
   "metadata": {},
   "outputs": [],
   "source": [
    "import yfinance as yf\n",
    "\n",
    "# 피엔티 , 137400"
   ]
  },
  {
   "cell_type": "code",
   "execution_count": 111,
   "metadata": {},
   "outputs": [],
   "source": [
    "class State(TypedDict):\n",
    "    pass"
   ]
  },
  {
   "cell_type": "code",
   "execution_count": 97,
   "metadata": {},
   "outputs": [],
   "source": [
    "# 주식 DB를 만드는 함수 {\"삼성전자\":\"005930, ... }\n",
    "\n",
    "def create_stock_db():\n",
    "    stock_dict = {}\n",
    "    today = datetime.datetime.today()\n",
    "    \n",
    "    stock_list = get_market_ticker_list(today, market=\"KOSPI\")\n",
    "\n",
    "    for stock in stock_list:\n",
    "        stock_dict.update({get_market_ticker_name(stock):stock})\n",
    "    \n",
    "    stock_list = get_market_ticker_list(today, market=\"KOSDAQ\")\n",
    "\n",
    "    for stock in stock_list:\n",
    "        stock_dict.update({get_market_ticker_name(stock):stock})\n",
    "\n",
    "    return stock_dict"
   ]
  },
  {
   "cell_type": "code",
   "execution_count": 98,
   "metadata": {},
   "outputs": [],
   "source": [
    "stock_db = create_stock_db()"
   ]
  },
  {
   "cell_type": "code",
   "execution_count": 99,
   "metadata": {},
   "outputs": [],
   "source": [
    "prompt = PromptTemplate.from_template(\"\"\"\n",
    "당신은 주식 이름 추출기입니다.\n",
    "주어진 문장에서 주식이름만 추출하세요.\n",
    "\n",
    "### 예시 1\n",
    "query : 삼성전자의 최근 1년에 대해서 분석해주세요.\n",
    "\n",
    "answer : 삼성전자\n",
    "\n",
    "### 예시 2\n",
    "query : AJ홀딩스우의 최근 실적은 얼마인가요?\n",
    "\n",
    "answer : AJ홀딩스우\n",
    "\n",
    "### 입력\n",
    "query : {query}\n",
    "\n",
    "answer : \n",
    "\n",
    "\"\"\"\n",
    ")\n",
    "\n",
    "llm = ChatOpenAI(model=\"gpt-4o-mini\",\n",
    "                 temperature=0,)"
   ]
  },
  {
   "cell_type": "code",
   "execution_count": null,
   "metadata": {},
   "outputs": [],
   "source": [
    "stock_name = \"피엔티\"\n",
    "\n",
    "stock_code = stock_db[stock_name]\n"
   ]
  },
  {
   "cell_type": "code",
   "execution_count": null,
   "metadata": {},
   "outputs": [],
   "source": []
  },
  {
   "cell_type": "code",
   "execution_count": 155,
   "metadata": {},
   "outputs": [],
   "source": [
    "@tool\n",
    "def search_stock(query):\n",
    "\n",
    "    \"\"\"\n",
    "    주식 검색 도구입니다.\n",
    "    결과값으로 데이터프레임이 반환됩니다.\n",
    "    입력 쿼리에서 주식이름을 추출한 후 모든 주식 데이터를 가져옵니다.\n",
    "    \"\"\"\n",
    "\n",
    "\n",
    "    prompt = PromptTemplate.from_template(\"\"\"\n",
    "        당신은 주식 이름 추출기입니다.\n",
    "        주어진 문장에서 주식이름만 추출하세요.\n",
    "\n",
    "        ### 예시 1\n",
    "        query : 삼성전자의 최근 1년에 대해서 분석해주세요.\n",
    "\n",
    "        answer : 삼성전자\n",
    "\n",
    "        ### 예시 2\n",
    "        query : AJ홀딩스우의 최근 실적은 얼마인가요?\n",
    "\n",
    "        answer : AJ홀딩스우\n",
    "\n",
    "        ### 입력\n",
    "        query : {query}\n",
    "\n",
    "        answer : \n",
    "\n",
    "        \"\"\"\n",
    "        )\n",
    "    \n",
    "    chain = prompt | llm | StrOutputParser()\n",
    "\n",
    "    stock_name = chain.invoke({\"query\":query})\n",
    "\n",
    "    try:\n",
    "        stock_code = stock_db[stock_name.strip().upper()]   \n",
    "    except:\n",
    "        raise ValueError(f\"종목명 : {stock_name}을/를 검색할 수 없습니다. 오탈자나 한국거래소에서 거래중인 주식인지 확인해주세요.\")\n",
    "    \n",
    "    # 예: 삼성전자 (한국거래소는 뒤에 '.KS'를 붙임)\n",
    "    ticker = yf.Ticker(stock_code+\".KS\")\n",
    "\n",
    "    df = ticker.history(period=\"max\") # 기간: '1d', '5d', '1mo', '1y', 'max' 등\n",
    "\n",
    "    return df"
   ]
  },
  {
   "cell_type": "code",
   "execution_count": 152,
   "metadata": {},
   "outputs": [],
   "source": [
    "df = search_stock(\"posco홀딩스의 최근 실적은 어떤가요?\")"
   ]
  },
  {
   "cell_type": "code",
   "execution_count": 153,
   "metadata": {},
   "outputs": [
    {
     "data": {
      "text/html": [
       "<div>\n",
       "<style scoped>\n",
       "    .dataframe tbody tr th:only-of-type {\n",
       "        vertical-align: middle;\n",
       "    }\n",
       "\n",
       "    .dataframe tbody tr th {\n",
       "        vertical-align: top;\n",
       "    }\n",
       "\n",
       "    .dataframe thead th {\n",
       "        text-align: right;\n",
       "    }\n",
       "</style>\n",
       "<table border=\"1\" class=\"dataframe\">\n",
       "  <thead>\n",
       "    <tr style=\"text-align: right;\">\n",
       "      <th></th>\n",
       "      <th>Open</th>\n",
       "      <th>High</th>\n",
       "      <th>Low</th>\n",
       "      <th>Close</th>\n",
       "      <th>Volume</th>\n",
       "      <th>Dividends</th>\n",
       "      <th>Stock Splits</th>\n",
       "    </tr>\n",
       "    <tr>\n",
       "      <th>Date</th>\n",
       "      <th></th>\n",
       "      <th></th>\n",
       "      <th></th>\n",
       "      <th></th>\n",
       "      <th></th>\n",
       "      <th></th>\n",
       "      <th></th>\n",
       "    </tr>\n",
       "  </thead>\n",
       "  <tbody>\n",
       "    <tr>\n",
       "      <th>2000-01-04 00:00:00+09:00</th>\n",
       "      <td>75453.618838</td>\n",
       "      <td>80802.942562</td>\n",
       "      <td>72638.185299</td>\n",
       "      <td>79958.312500</td>\n",
       "      <td>971800</td>\n",
       "      <td>0.0</td>\n",
       "      <td>0.0</td>\n",
       "    </tr>\n",
       "    <tr>\n",
       "      <th>2000-01-05 00:00:00+09:00</th>\n",
       "      <td>76016.696802</td>\n",
       "      <td>87841.516304</td>\n",
       "      <td>76016.696802</td>\n",
       "      <td>84181.453125</td>\n",
       "      <td>2885100</td>\n",
       "      <td>0.0</td>\n",
       "      <td>0.0</td>\n",
       "    </tr>\n",
       "    <tr>\n",
       "      <th>2000-01-06 00:00:00+09:00</th>\n",
       "      <td>84744.551579</td>\n",
       "      <td>85870.725022</td>\n",
       "      <td>79113.684364</td>\n",
       "      <td>81366.031250</td>\n",
       "      <td>659800</td>\n",
       "      <td>0.0</td>\n",
       "      <td>0.0</td>\n",
       "    </tr>\n",
       "    <tr>\n",
       "      <th>2000-01-07 00:00:00+09:00</th>\n",
       "      <td>81365.995824</td>\n",
       "      <td>83055.255253</td>\n",
       "      <td>80521.366110</td>\n",
       "      <td>81647.539062</td>\n",
       "      <td>511600</td>\n",
       "      <td>0.0</td>\n",
       "      <td>0.0</td>\n",
       "    </tr>\n",
       "    <tr>\n",
       "      <th>2000-01-10 00:00:00+09:00</th>\n",
       "      <td>82210.642592</td>\n",
       "      <td>82773.729185</td>\n",
       "      <td>79395.209626</td>\n",
       "      <td>80521.382812</td>\n",
       "      <td>412700</td>\n",
       "      <td>0.0</td>\n",
       "      <td>0.0</td>\n",
       "    </tr>\n",
       "  </tbody>\n",
       "</table>\n",
       "</div>"
      ],
      "text/plain": [
       "                                   Open          High           Low  \\\n",
       "Date                                                                  \n",
       "2000-01-04 00:00:00+09:00  75453.618838  80802.942562  72638.185299   \n",
       "2000-01-05 00:00:00+09:00  76016.696802  87841.516304  76016.696802   \n",
       "2000-01-06 00:00:00+09:00  84744.551579  85870.725022  79113.684364   \n",
       "2000-01-07 00:00:00+09:00  81365.995824  83055.255253  80521.366110   \n",
       "2000-01-10 00:00:00+09:00  82210.642592  82773.729185  79395.209626   \n",
       "\n",
       "                                  Close   Volume  Dividends  Stock Splits  \n",
       "Date                                                                       \n",
       "2000-01-04 00:00:00+09:00  79958.312500   971800        0.0           0.0  \n",
       "2000-01-05 00:00:00+09:00  84181.453125  2885100        0.0           0.0  \n",
       "2000-01-06 00:00:00+09:00  81366.031250   659800        0.0           0.0  \n",
       "2000-01-07 00:00:00+09:00  81647.539062   511600        0.0           0.0  \n",
       "2000-01-10 00:00:00+09:00  80521.382812   412700        0.0           0.0  "
      ]
     },
     "execution_count": 153,
     "metadata": {},
     "output_type": "execute_result"
    }
   ],
   "source": [
    "df.head()"
   ]
  },
  {
   "cell_type": "code",
   "execution_count": 162,
   "metadata": {},
   "outputs": [],
   "source": [
    "@tool\n",
    "def web_search(query):\n",
    "    \"\"\"\n",
    "    입력된 질의를 바탕으로 검색을 시도하는 도구입니다.\n",
    "    기본적으로 5개의 검색 결과를 가져옵니다.\n",
    "    \"\"\"\n",
    "    tool = TavilySearchResults()\n",
    "    return tool"
   ]
  },
  {
   "cell_type": "code",
   "execution_count": null,
   "metadata": {},
   "outputs": [],
   "source": [
    "tools = [PythonAstREPLTool(), TavilySearchResults(), search_stock]"
   ]
  },
  {
   "cell_type": "code",
   "execution_count": 166,
   "metadata": {},
   "outputs": [],
   "source": [
    "llm_with_tools = llm.bind_tools(tools)"
   ]
  },
  {
   "cell_type": "code",
   "execution_count": 173,
   "metadata": {},
   "outputs": [],
   "source": [
    "result = llm_with_tools.stream(\"피엔티의 최근 실적은 어떤가요?\", stream_mode=\"values\")"
   ]
  },
  {
   "cell_type": "code",
   "execution_count": 172,
   "metadata": {},
   "outputs": [
    {
     "name": "stdout",
     "output_type": "stream",
     "text": [
      "content='' additional_kwargs={'tool_calls': [{'index': 0, 'id': 'call_eJlueOyRz6qlY1dDtoBjtKwa', 'function': {'arguments': '', 'name': 'search_stock'}, 'type': 'function'}]} response_metadata={} id='run-c19068de-2ea6-4e2c-addb-d100c1dbbffe' tool_calls=[{'name': 'search_stock', 'args': {}, 'id': 'call_eJlueOyRz6qlY1dDtoBjtKwa', 'type': 'tool_call'}] tool_call_chunks=[{'name': 'search_stock', 'args': '', 'id': 'call_eJlueOyRz6qlY1dDtoBjtKwa', 'index': 0, 'type': 'tool_call_chunk'}]\n",
      "content='' additional_kwargs={'tool_calls': [{'index': 0, 'id': None, 'function': {'arguments': '{\"', 'name': None}, 'type': None}]} response_metadata={} id='run-c19068de-2ea6-4e2c-addb-d100c1dbbffe' tool_calls=[{'name': '', 'args': {}, 'id': None, 'type': 'tool_call'}] tool_call_chunks=[{'name': None, 'args': '{\"', 'id': None, 'index': 0, 'type': 'tool_call_chunk'}]\n",
      "content='' additional_kwargs={'tool_calls': [{'index': 0, 'id': None, 'function': {'arguments': 'query', 'name': None}, 'type': None}]} response_metadata={} id='run-c19068de-2ea6-4e2c-addb-d100c1dbbffe' invalid_tool_calls=[{'name': None, 'args': 'query', 'id': None, 'error': None, 'type': 'invalid_tool_call'}] tool_call_chunks=[{'name': None, 'args': 'query', 'id': None, 'index': 0, 'type': 'tool_call_chunk'}]\n",
      "content='' additional_kwargs={'tool_calls': [{'index': 0, 'id': None, 'function': {'arguments': '\":\"', 'name': None}, 'type': None}]} response_metadata={} id='run-c19068de-2ea6-4e2c-addb-d100c1dbbffe' invalid_tool_calls=[{'name': None, 'args': '\":\"', 'id': None, 'error': None, 'type': 'invalid_tool_call'}] tool_call_chunks=[{'name': None, 'args': '\":\"', 'id': None, 'index': 0, 'type': 'tool_call_chunk'}]\n",
      "content='' additional_kwargs={'tool_calls': [{'index': 0, 'id': None, 'function': {'arguments': '피', 'name': None}, 'type': None}]} response_metadata={} id='run-c19068de-2ea6-4e2c-addb-d100c1dbbffe' invalid_tool_calls=[{'name': None, 'args': '피', 'id': None, 'error': None, 'type': 'invalid_tool_call'}] tool_call_chunks=[{'name': None, 'args': '피', 'id': None, 'index': 0, 'type': 'tool_call_chunk'}]\n",
      "content='' additional_kwargs={'tool_calls': [{'index': 0, 'id': None, 'function': {'arguments': '엔', 'name': None}, 'type': None}]} response_metadata={} id='run-c19068de-2ea6-4e2c-addb-d100c1dbbffe' invalid_tool_calls=[{'name': None, 'args': '엔', 'id': None, 'error': None, 'type': 'invalid_tool_call'}] tool_call_chunks=[{'name': None, 'args': '엔', 'id': None, 'index': 0, 'type': 'tool_call_chunk'}]\n",
      "content='' additional_kwargs={'tool_calls': [{'index': 0, 'id': None, 'function': {'arguments': '티', 'name': None}, 'type': None}]} response_metadata={} id='run-c19068de-2ea6-4e2c-addb-d100c1dbbffe' invalid_tool_calls=[{'name': None, 'args': '티', 'id': None, 'error': None, 'type': 'invalid_tool_call'}] tool_call_chunks=[{'name': None, 'args': '티', 'id': None, 'index': 0, 'type': 'tool_call_chunk'}]\n",
      "content='' additional_kwargs={'tool_calls': [{'index': 0, 'id': None, 'function': {'arguments': '\"}', 'name': None}, 'type': None}]} response_metadata={} id='run-c19068de-2ea6-4e2c-addb-d100c1dbbffe' invalid_tool_calls=[{'name': None, 'args': '\"}', 'id': None, 'error': None, 'type': 'invalid_tool_call'}] tool_call_chunks=[{'name': None, 'args': '\"}', 'id': None, 'index': 0, 'type': 'tool_call_chunk'}]\n",
      "content='' additional_kwargs={} response_metadata={'finish_reason': 'tool_calls', 'model_name': 'gpt-4o-mini-2024-07-18', 'system_fingerprint': 'fp_e4fa3702df'} id='run-c19068de-2ea6-4e2c-addb-d100c1dbbffe'\n"
     ]
    }
   ],
   "source": [
    "for step in result:\n",
    "    print(step)"
   ]
  },
  {
   "cell_type": "code",
   "execution_count": 175,
   "metadata": {},
   "outputs": [],
   "source": [
    "for step in result:\n",
    "    step.pretty_print()"
   ]
  },
  {
   "cell_type": "code",
   "execution_count": 164,
   "metadata": {},
   "outputs": [
    {
     "data": {
      "text/plain": [
       "tools(tags=None, recurse=True, explode_args=False, func_accepts_config=True, func_accepts={'store': ('__pregel_store', None)}, tools_by_name={'python_repl_ast': PythonAstREPLTool(globals={}, locals={}), 'tavily_search_results_json': TavilySearchResults(api_wrapper=TavilySearchAPIWrapper(tavily_api_key=SecretStr('**********'))), 'search_stock': StructuredTool(name='search_stock', description='주식 검색 도구입니다.\\n결과값으로 데이터프레임이 반환됩니다.\\n입력 쿼리에서 주식이름을 추출한 후 모든 주식 데이터를 가져옵니다.', args_schema=<class 'langchain_core.utils.pydantic.search_stock'>, func=<function search_stock at 0x0000028250B3E950>)}, tool_to_state_args={'python_repl_ast': {}, 'tavily_search_results_json': {}, 'search_stock': {}}, tool_to_store_arg={'python_repl_ast': None, 'tavily_search_results_json': None, 'search_stock': None}, handle_tool_errors=True, messages_key='messages')"
      ]
     },
     "execution_count": 164,
     "metadata": {},
     "output_type": "execute_result"
    }
   ],
   "source": [
    "ToolNode(tools)"
   ]
  },
  {
   "cell_type": "code",
   "execution_count": 157,
   "metadata": {},
   "outputs": [],
   "source": [
    "web_search = TavilySearchResults()"
   ]
  },
  {
   "cell_type": "code",
   "execution_count": 161,
   "metadata": {},
   "outputs": [
    {
     "data": {
      "text/plain": [
       "[{'title': \"[기업분석] 배터리랑 같이 크는 장비 업체 '피엔티' - 바이라인네트워크\",\n",
       "  'url': 'https://byline.network/2022/07/15-195/',\n",
       "  'content': '피엔티는 이차전지를 구성하는 전극과 분리막, 전자소재 등을 제조하는 장비와 자동화 설비를 제공하는 국내 업체입니다. 2003년에 설립했고 2013년에',\n",
       "  'score': 0.8282873},\n",
       " {'title': '회사소개 | (주)피엔티',\n",
       "  'url': 'https://www.epnt.co.kr/company/',\n",
       "  'content': '주식회사 피앤티는 철저한 장인정신과 미래를 개척하는 도전정신으로 감동을 주는 회사, 신뢰를 주는 롤투롤 설비 생산 기업 입니다.',\n",
       "  'score': 0.7001659555555555},\n",
       " {'title': '보유종목점검 - 1. 피엔티 : 네이버 블로그',\n",
       "  'url': 'https://blog.naver.com/chlbest/223714149861',\n",
       "  'content': '피엔티, 현대차 의왕 연구소에 전고체 전극 장비 공급\\u200b 피엔티 공장 조감도(사진=회사 홈페이지)이차전지 제조 장비 전문 기업인 피엔티(PNT)가 현대자동',\n",
       "  'score': 0.57435945},\n",
       " {'title': '(주)피엔티 2025년 기업정보 | 직원수, 근무환경, 복리후생 등 - 사람인',\n",
       "  'url': 'https://www.saramin.co.kr/zf_user/company-info/view/csn/Zm9qNG9WcGt6dlp0RWxvelMrSnVHUT09/company_nm/(%EC%A3%BC)%ED%94%BC%EC%97%94%ED%8B%B0',\n",
       "  'content': '피엔티는 각종 롤투롤 컨버팅 기계를 주력으로 성장한 회사입니다. 웹가이딩, 장력제어, 오토터렛, 오토스플라이싱, 코팅, 칼렌더링, 슬리팅 등 기반이 되는 기술에 강점',\n",
       "  'score': 0.48574239999999996},\n",
       " {'title': '피엔티, 전기차와 안티드론으로 도약 - Goover',\n",
       "  'url': 'https://seo.goover.ai/report/202411/go-public-report-ko-6497454b-f7dd-4dc3-b9c9-fc68dd606368-0-0.html',\n",
       "  'content': '현재의 업황은 침체 중이지만 피엔티는 이차전지 설비 업체 중 실적이 가장 우수하다고 강조하고 있습니다. 기관 및 외국인 투자자들의 매매가 주요한',\n",
       "  'score': 0.34857047777777783}]"
      ]
     },
     "execution_count": 161,
     "metadata": {},
     "output_type": "execute_result"
    }
   ],
   "source": [
    "web_search.invoke(\"피엔티는 어떤 기업인가요?\")"
   ]
  }
 ],
 "metadata": {
  "kernelspec": {
   "display_name": "Modulabs",
   "language": "python",
   "name": "python3"
  },
  "language_info": {
   "codemirror_mode": {
    "name": "ipython",
    "version": 3
   },
   "file_extension": ".py",
   "mimetype": "text/x-python",
   "name": "python",
   "nbconvert_exporter": "python",
   "pygments_lexer": "ipython3",
   "version": "3.10.12"
  }
 },
 "nbformat": 4,
 "nbformat_minor": 2
}
