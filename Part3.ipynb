{
 "cells": [
  {
   "cell_type": "code",
   "execution_count": 25,
   "metadata": {},
   "outputs": [
    {
     "data": {
      "text/plain": [
       "True"
      ]
     },
     "execution_count": 25,
     "metadata": {},
     "output_type": "execute_result"
    }
   ],
   "source": [
    "from langchain_core.runnables import RunnableConfig\n",
    "from langchain.schema import AIMessage\n",
    "from typing import Annotated, Literal\n",
    "from typing_extensions import TypedDict\n",
    "from langchain_openai import ChatOpenAI\n",
    "from langchain_community.tools.tavily_search import TavilySearchResults\n",
    "from langgraph.graph import StateGraph, START, END\n",
    "from langgraph.graph.message import add_messages\n",
    "from langgraph.prebuilt import ToolNode\n",
    "from langgraph.checkpoint.memory import MemorySaver\n",
    "from langchain_core.prompts import PromptTemplate\n",
    "from langchain_core.tools import tool\n",
    "from langchain_community.agent_toolkits import FileManagementToolkit\n",
    "from langchain_experimental.tools.python.tool import PythonAstREPLTool\n",
    "from pydantic import BaseModel, Field\n",
    "from fpdf import FPDF\n",
    "import os\n",
    "import requests\n",
    "import random\n",
    "import pdfplumber\n",
    "import warnings\n",
    "import dotenv\n",
    "\n",
    "warnings.filterwarnings(\"ignore\")\n",
    "dotenv.load_dotenv()"
   ]
  },
  {
   "cell_type": "code",
   "execution_count": 26,
   "metadata": {},
   "outputs": [],
   "source": [
    "class State(TypedDict):\n",
    "    query : Annotated[str, \"User Question\"]\n",
    "    answer : Annotated[str, \"LLM response\"]\n",
    "    messages : Annotated[list, add_messages]\n",
    "    tool_call : Annotated[dict, \"Tool Call Result\"]"
   ]
  },
  {
   "cell_type": "code",
   "execution_count": 27,
   "metadata": {},
   "outputs": [],
   "source": [
    "llm = ChatOpenAI(model=\"gpt-4o-mini\",\n",
    "                 temperature=0.,)"
   ]
  },
  {
   "cell_type": "code",
   "execution_count": 28,
   "metadata": {},
   "outputs": [],
   "source": [
    "@tool\n",
    "def read_pdf(file_path: str) -> str:\n",
    "    \"\"\"\n",
    "    PDF 파일에서 텍스트를 추출하는 도구입니다.\n",
    "    표 형식 또는 일반 텍스트가 포함된 PDF를 읽고 문자열로 반환합니다.\n",
    "    \n",
    "    file_path 예시: './reports/report.pdf'\n",
    "    \"\"\"\n",
    "    try:\n",
    "        text = \"\"\n",
    "        with pdfplumber.open(file_path) as pdf:\n",
    "            for page in pdf.pages:\n",
    "                page_text = page.extract_text()\n",
    "                if page_text:\n",
    "                    text += page_text + \"\\n\"\n",
    "        return text.strip() if text.strip() else \"❌ PDF에서 텍스트를 추출할 수 없습니다.\"\n",
    "    except Exception as e:\n",
    "        return f\"❌ PDF 읽기 오류: {str(e)}\""
   ]
  },
  {
   "cell_type": "code",
   "execution_count": 29,
   "metadata": {},
   "outputs": [],
   "source": [
    "@tool\n",
    "def write_pdf(content: str, filename: str = \"output.pdf\", summary: bool =True):\n",
    "    \"\"\"\n",
    "    텍스트를 PDF 파일로 저장하는 도구입니다.\n",
    "    PDF형태의 문서로 만들어야할 때 이 도구를 사용하세요.\n",
    "    \"\"\"\n",
    "\n",
    "    if summary:\n",
    "        prompt = PromptTemplate.from_template(\"\"\"\n",
    "                당신은 보고서를 작성하는 어시스턴트입니다. 당신에겐 문서 모음이 제공되고 이를 잘 분석하여 보고서를 작성하여야 합니다.\n",
    "                아래의 content는 문서 모음입니다. 문서의 제목, 본문을 잘 판단하고 정리하여 요약합니다.\n",
    "                항상 구조화된 출력을 제공하세요.\n",
    "                항상 마지막엔 인사이트도 첨부합니다.\n",
    "\n",
    "                content : {content}\n",
    "                \"\"\")\n",
    "\n",
    "        chain = prompt | llm\n",
    "\n",
    "        content = chain.invoke({\"content\":content}).content\n",
    "\n",
    "    else:\n",
    "        pass\n",
    "\n",
    "    font_url = \"https://github.com/google/fonts/raw/main/ofl/notosanskr/NotoSansKR%5Bwght%5D.ttf\"\n",
    "    font_path = \"./fonts/NotoSansKR.ttf\"\n",
    "\n",
    "    try:\n",
    "        os.mkdir(\"./fonts/\")\n",
    "        response = requests.get(font_url)\n",
    "        with open(font_path, \"wb\") as f:\n",
    "            f.write(response.content)\n",
    "    except:\n",
    "        pass\n",
    "\n",
    "    pdf = FPDF()\n",
    "    pdf.add_page()\n",
    "    pdf.set_auto_page_break(auto=True, margin=15)\n",
    "\n",
    "    font_path = \"./fonts/NotoSansKR.ttf\"  # <-- 여기에 실제 폰트 파일이 있어야 함\n",
    "\n",
    "    try:\n",
    "        pdf.add_font(\"NotoSans\", \"\", font_path, uni=True)\n",
    "        pdf.set_font(\"NotoSans\", size=12)\n",
    "    except:\n",
    "        raise ValueError(\"한글 폰트를 등록할 수 없습니다.\")\n",
    "\n",
    "    for line in content.split(\"\\n\"):\n",
    "        pdf.multi_cell(0, 10, line)\n",
    "    pdf.output(f\"./reports/{filename}\")\n",
    "\n",
    "    return f\"./reports/{filename} 저장 완료\""
   ]
  },
  {
   "cell_type": "code",
   "execution_count": 30,
   "metadata": {},
   "outputs": [],
   "source": [
    "tools = [TavilySearchResults(include_domains=[\"naver.com\", \"google.com\"]), PythonAstREPLTool(), write_pdf, read_pdf, *FileManagementToolkit(root_dir=\"./reports/\",\n",
    "                                                                            selected_tools=[\"file_delete\",\"list_directory\", ]).get_tools()]\n",
    "search_tool, code_tool, write_tool, read_tool, delete_tool, listdir_tool= tools"
   ]
  },
  {
   "cell_type": "code",
   "execution_count": 31,
   "metadata": {},
   "outputs": [],
   "source": [
    "try:\n",
    "    os.mkdir(\"./reports/\")\n",
    "except:\n",
    "    pass"
   ]
  },
  {
   "cell_type": "code",
   "execution_count": 32,
   "metadata": {},
   "outputs": [
    {
     "data": {
      "text/plain": [
       "'./reports/Write_pdf_test.pdf 저장 완료'"
      ]
     },
     "execution_count": 32,
     "metadata": {},
     "output_type": "execute_result"
    }
   ],
   "source": [
    "# PDF 쓰기 도구 예시\n",
    "\n",
    "write_tool.invoke({\"content\":\"안녕하세요? \\n세미나에 참석해주셔서 감사합니다.\", \"filename\":\"Write_pdf_test.pdf\", \"summary\":False})"
   ]
  },
  {
   "cell_type": "code",
   "execution_count": 33,
   "metadata": {},
   "outputs": [
    {
     "name": "stdout",
     "output_type": "stream",
     "text": [
      "\n",
      "\n",
      " 안녕하세요?\n",
      "세미나에 참석해주셔서 감사합니다.\n"
     ]
    }
   ],
   "source": [
    "# PDF 읽기 도구 예시\n",
    "\n",
    "print(\"\\n\\n\", read_tool.invoke(\"./reports/Write_pdf_test.pdf\"))"
   ]
  },
  {
   "cell_type": "code",
   "execution_count": 34,
   "metadata": {},
   "outputs": [
    {
     "name": "stdout",
     "output_type": "stream",
     "text": [
      "Write_pdf_test.pdf\n"
     ]
    }
   ],
   "source": [
    "# 파일 목록 도구 예시\n",
    "\n",
    "print(listdir_tool.invoke(\"\"))"
   ]
  },
  {
   "cell_type": "code",
   "execution_count": 35,
   "metadata": {},
   "outputs": [
    {
     "data": {
      "text/plain": [
       "'File deleted successfully: Write_pdf_test.pdf.'"
      ]
     },
     "execution_count": 35,
     "metadata": {},
     "output_type": "execute_result"
    }
   ],
   "source": [
    "# 삭제 도구 예시\n",
    "\n",
    "delete_tool.invoke(\"Write_pdf_test.pdf\")"
   ]
  },
  {
   "cell_type": "code",
   "execution_count": 36,
   "metadata": {},
   "outputs": [],
   "source": [
    "llm_with_tools = llm.bind_tools(tools)"
   ]
  },
  {
   "cell_type": "code",
   "execution_count": 37,
   "metadata": {},
   "outputs": [],
   "source": [
    "class HistoryChecker(BaseModel):\n",
    "    \"\"\"\n",
    "    이전의 대화 기록을 참고하여 질문에 대해 답변할 수 있는지 판단합니다.\n",
    "    답변할 수 있다면 \"yes\", 답변할 수 없다면 \"no\"를 반환합니다.\n",
    "    \"\"\"\n",
    "\n",
    "    yes_no : Literal[\"yes\", \"no\"] = Field(..., description=\"\"\"Use your previous conversation history to determine if you can answer your questions.\n",
    "    Return \"yes\" if you can answer, \"no\" if you can't answer.\"\"\")"
   ]
  },
  {
   "cell_type": "code",
   "execution_count": 38,
   "metadata": {},
   "outputs": [],
   "source": [
    "history_checker = llm.with_structured_output(HistoryChecker)"
   ]
  },
  {
   "cell_type": "code",
   "execution_count": 39,
   "metadata": {},
   "outputs": [],
   "source": [
    "def shorterm_memory(state:State):\n",
    "\n",
    "    if len(state[\"messages\"]) > 6:\n",
    "        history = state[\"messages\"][-6:-1]\n",
    "    elif len(state[\"messages\"]) == 1:\n",
    "        history = \"\"\n",
    "    else:\n",
    "        history = state[\"messages\"][:-1]\n",
    "\n",
    "    return history"
   ]
  },
  {
   "cell_type": "code",
   "execution_count": 40,
   "metadata": {},
   "outputs": [],
   "source": [
    "def history_check(state:State):\n",
    "\n",
    "    prompt = PromptTemplate.from_template(\"\"\"\n",
    "\n",
    "                이전의 대화 기록을 참고하여 질문에 대해 답변할 수 있는지 판단합니다.\n",
    "                답변할 수 있다면 \"yes\", 답변할 수 없다면 \"no\"를 반환합니다.\n",
    "                \n",
    "                대화 기록 : {history}\n",
    "                                          \n",
    "                질문 : {query}\n",
    "                                          \n",
    "                \"\"\")\n",
    "    \n",
    "    chain = prompt | history_checker\n",
    "\n",
    "    history = shorterm_memory(state)\n",
    "\n",
    "    result = chain.invoke({\"history\":history,\n",
    "                            \"query\":state[\"query\"]})\n",
    "\n",
    "    return result.yes_no"
   ]
  },
  {
   "cell_type": "code",
   "execution_count": 41,
   "metadata": {},
   "outputs": [],
   "source": [
    "def memory_chat(state:State):\n",
    "\n",
    "    prompt = PromptTemplate.from_template(\"\"\"\n",
    "\n",
    "                이전의 대화 기록을 참고하여 질문에 대해 답변하세요.\n",
    "                아래 대화 기록을 첨부합니다.\n",
    "                대화 기록을 통해 답변이 어렵다면 내부 지식을 참조하세요.\n",
    "                \n",
    "                대화 기록 : {history}\n",
    "                                          \n",
    "                질문 : {query}\n",
    "                                          \n",
    "                \"\"\")\n",
    "\n",
    "    \n",
    "    chain = prompt | llm\n",
    "\n",
    "    history = shorterm_memory(state)\n",
    "\n",
    "    answer = chain.invoke({\"history\":history,\n",
    "                           \"query\":state[\"query\"]})\n",
    "    \n",
    "    if len(state[\"tool_call\"]) == 0:\n",
    "        return {\"answer\":answer.content,\n",
    "                \"messages\":answer,\n",
    "                \"tool_call\":\"사용된 기록 없음.\"}\n",
    "    else:\n",
    "        return {\"answer\":answer.content,\n",
    "                \"messages\":answer}"
   ]
  },
  {
   "cell_type": "code",
   "execution_count": 42,
   "metadata": {},
   "outputs": [],
   "source": [
    "def history_node(state:State):\n",
    "    if len(state[\"messages\"]) == 1:\n",
    "        return {\"answer\":\"답변 없음\",\n",
    "                \"tool_call\":\"사용된 도구 없음\"}\n",
    "    else:\n",
    "        return state"
   ]
  },
  {
   "cell_type": "code",
   "execution_count": 43,
   "metadata": {},
   "outputs": [],
   "source": [
    "def select(\n",
    "    state: State,\n",
    "):\n",
    "\n",
    "    prompt = PromptTemplate.from_template(\"\"\"\n",
    "\n",
    "                이전의 대화 기록을 참고하여 질문에 대해 답변하세요.\n",
    "                아래 대화 기록을 첨부합니다.\n",
    "                대화 기록을 통해 답변이 어렵다면 내부 지식을 참조하세요.\n",
    "                최근에 사용한 도구가 있다면 도구도 참고하세요. 다른 도구를 사용하는 것이 더 좋은 방법이 될 수 있습니다.\n",
    "                                                    \n",
    "                대화 기록 : {history}     \n",
    "                                          \n",
    "                최근 사용한 도구 : {tool_name}\n",
    "                                        \n",
    "                정답 : {answer}\n",
    "                                        \n",
    "                질문 : {query}\n",
    "                                          \n",
    "                \"\"\")\n",
    "\n",
    "    chain = prompt | llm_with_tools\n",
    "\n",
    "    history = shorterm_memory(state)\n",
    "\n",
    "    result = chain.invoke({\"history\" : history,\n",
    "                           \"tool_name\" : state[\"tool_call\"],\n",
    "                            \"answer\": state[\"answer\"],\n",
    "                            \"query\": state[\"query\"]})\n",
    "\n",
    "    if hasattr(result, \"tool_calls\") and len(result.tool_calls) > 0:\n",
    "        tool_calls = result.tool_calls\n",
    "        return {\"messages\": result,\n",
    "                \"tool_call\": [result]}\n",
    "    else:\n",
    "        return {\"messages\":AIMessage(content=f\"\"\"도구를 선택하지 못했습니다. 적절한 도구를 재선택하세요.\n",
    "                                        \"\"\"),\n",
    "                                    \"tool_call\":None}\n",
    "\n",
    "    "
   ]
  },
  {
   "cell_type": "code",
   "execution_count": 44,
   "metadata": {},
   "outputs": [],
   "source": [
    "tool_node = ToolNode(tools)"
   ]
  },
  {
   "cell_type": "code",
   "execution_count": 45,
   "metadata": {},
   "outputs": [],
   "source": [
    "class AnswerChecker(BaseModel):\n",
    "    \"\"\"\n",
    "    정답 분류기입니다.\n",
    "    \n",
    "    정답이 질문을 해결했는지 여부를 판단합니다.\n",
    "    질문을 해결하지 못했을 시 해결될 때까지 도구를 이용합니다.\n",
    "\n",
    "    질문을 해결했다면 \"end\", 해결하지 못했다면 \"tool\"을 반환합니다.\n",
    "    \"\"\"\n",
    "\n",
    "\n",
    "    end : Literal[\"end\", \"tool\"] = Field(..., description=\"\"\"You are the answer sorter.\n",
    "\n",
    "                                                                Determine if the correct answer has solved the question.\n",
    "                                                                If the question is not resolved, use the tool until it is resolved.\n",
    "\n",
    "                                                                Return \"end\" if you solved the question, or \"tool\" if you didn't.\"\"\")    "
   ]
  },
  {
   "cell_type": "code",
   "execution_count": 46,
   "metadata": {},
   "outputs": [],
   "source": [
    "answer_checker = llm.with_structured_output(AnswerChecker)"
   ]
  },
  {
   "cell_type": "code",
   "execution_count": 47,
   "metadata": {},
   "outputs": [],
   "source": [
    "def answer_check(state:State):\n",
    "\n",
    "    prompt = PromptTemplate.from_template(\"\"\"\n",
    "    당신은 정답 분류기 어시스턴트입니다.\n",
    "    \n",
    "    정답이 질문을 해결할 수 있는지 여부를 판단합니다.\n",
    "    질문을 해결할 수 없다면 도구를 이용합니다.\n",
    "\n",
    "    질문을 해결할 수 있다면 \"end\", 아니라면 \"tool\"을 반환합니다.\n",
    "                                          \n",
    "    기존 History도 참고하여 답변하세요.\n",
    "                                          \n",
    "    History : {history}\n",
    "                            \n",
    "    정답 : {answer}\n",
    "                            \n",
    "    질문 : {query}\n",
    "    \"\"\")\n",
    "\n",
    "    chain = prompt | answer_checker\n",
    "\n",
    "    history = shorterm_memory(state)\n",
    "\n",
    "    result = chain.invoke({\"history\" : history,\n",
    "                            \"answer\": state[\"answer\"],\n",
    "                            \"query\": state[\"query\"]})\n",
    "    \n",
    "    return result.end"
   ]
  },
  {
   "cell_type": "code",
   "execution_count": 48,
   "metadata": {},
   "outputs": [],
   "source": [
    "def response(state:State):\n",
    "\n",
    "    return {\"answer\":state[\"messages\"][-1]}"
   ]
  },
  {
   "cell_type": "code",
   "execution_count": 49,
   "metadata": {},
   "outputs": [],
   "source": [
    "graph_builder = StateGraph(State)"
   ]
  },
  {
   "cell_type": "code",
   "execution_count": 50,
   "metadata": {},
   "outputs": [],
   "source": [
    "graph_builder.add_node(\"history_node\", history_node)\n",
    "graph_builder.add_node(\"memory_chat\", memory_chat)\n",
    "graph_builder.add_node(\"select\", select)\n",
    "graph_builder.add_node(\"tools\", tool_node)\n",
    "graph_builder.add_node(\"response\", response)\n",
    "\n",
    "\n",
    "graph_builder.add_edge(START, \"history_node\")\n",
    "graph_builder.add_conditional_edges(\"history_node\",\n",
    "                            history_check,\n",
    "                            {\"yes\":\"memory_chat\",\n",
    "                             \"no\":\"select\"})\n",
    "graph_builder.add_edge(\"select\", \"tools\")\n",
    "graph_builder.add_edge(\"tools\", \"response\")\n",
    "graph_builder.add_edge(\"memory_chat\", \"response\")\n",
    "graph_builder.add_conditional_edges(\"response\",\n",
    "                                    answer_check,\n",
    "                                    {\"end\":END,\n",
    "                                    \"tool\":\"select\"});"
   ]
  },
  {
   "cell_type": "code",
   "execution_count": 51,
   "metadata": {},
   "outputs": [],
   "source": [
    "memory = MemorySaver()\n",
    "\n",
    "graph = graph_builder.compile(checkpointer=memory)"
   ]
  },
  {
   "cell_type": "code",
   "execution_count": 52,
   "metadata": {},
   "outputs": [],
   "source": [
    "def reset_config(limit=15):\n",
    "\n",
    "    thread_id=random.randint(1,999999)\n",
    "\n",
    "    config = RunnableConfig(recursion_limit=limit, configurable={\"thread_id\": thread_id})\n",
    "\n",
    "    return config"
   ]
  },
  {
   "cell_type": "code",
   "execution_count": 53,
   "metadata": {},
   "outputs": [],
   "source": [
    "config = reset_config()"
   ]
  },
  {
   "cell_type": "code",
   "execution_count": 54,
   "metadata": {},
   "outputs": [
    {
     "data": {
      "image/png": "[encoded data removed]",
      "text/plain": [
       "<langgraph.graph.state.CompiledStateGraph object at 0x126dd09a0>"
      ]
     },
     "execution_count": 54,
     "metadata": {},
     "output_type": "execute_result"
    }
   ],
   "source": [
    "graph"
   ]
  },
  {
   "cell_type": "code",
   "execution_count": 55,
   "metadata": {},
   "outputs": [],
   "source": [
    "# 출력 함수 정의\n",
    "# mode = \"values\" : 상태의 키, 값의 형태로 반환\n",
    "# mode = \"updates\" : 업데이트되는 값만 반환\n",
    "\n",
    "def streaming(query, config, mode=\"values\"):\n",
    "\n",
    "    result = graph.stream({\"messages\":(\"user\", query),\n",
    "                           \"query\":query}, config=config, stream_mode=mode)\n",
    "\n",
    "    if mode == \"values\":\n",
    "        for step in result:\n",
    "            for k, v in step.items():\n",
    "                if k == \"messages\":\n",
    "                    v[-1].pretty_print()\n",
    "    elif mode == \"updates\":\n",
    "        for step in result:\n",
    "            for k,v in step.items():\n",
    "                print(f\"\\n\\n=== {k} ===\\n\\n\")\n",
    "                print(v)\n",
    "\n",
    "    return"
   ]
  },
  {
   "cell_type": "code",
   "execution_count": 56,
   "metadata": {},
   "outputs": [
    {
     "name": "stdout",
     "output_type": "stream",
     "text": [
      "\n",
      "\n",
      "=== history_node ===\n",
      "\n",
      "\n",
      "{'answer': '답변 없음', 'tool_call': '사용된 도구 없음'}\n",
      "\n",
      "\n",
      "=== memory_chat ===\n",
      "\n",
      "\n",
      "{'answer': '1+1은 2입니다.', 'messages': AIMessage(content='1+1은 2입니다.', additional_kwargs={'refusal': None}, response_metadata={'token_usage': {'completion_tokens': 8, 'prompt_tokens': 78, 'total_tokens': 86, 'completion_tokens_details': {'accepted_prediction_tokens': 0, 'audio_tokens': 0, 'reasoning_tokens': 0, 'rejected_prediction_tokens': 0}, 'prompt_tokens_details': {'audio_tokens': 0, 'cached_tokens': 0}}, 'model_name': 'gpt-4o-mini-2024-07-18', 'system_fingerprint': 'fp_34a54ae93c', 'finish_reason': 'stop', 'logprobs': None}, id='run-fa912bdd-1f19-44ae-9d6a-b797d906a908-0', usage_metadata={'input_tokens': 78, 'output_tokens': 8, 'total_tokens': 86, 'input_token_details': {'audio': 0, 'cache_read': 0}, 'output_token_details': {'audio': 0, 'reasoning': 0}})}\n",
      "\n",
      "\n",
      "=== response ===\n",
      "\n",
      "\n",
      "{'answer': AIMessage(content='1+1은 2입니다.', additional_kwargs={'refusal': None}, response_metadata={'token_usage': {'completion_tokens': 8, 'prompt_tokens': 78, 'total_tokens': 86, 'completion_tokens_details': {'accepted_prediction_tokens': 0, 'audio_tokens': 0, 'reasoning_tokens': 0, 'rejected_prediction_tokens': 0}, 'prompt_tokens_details': {'audio_tokens': 0, 'cached_tokens': 0}}, 'model_name': 'gpt-4o-mini-2024-07-18', 'system_fingerprint': 'fp_34a54ae93c', 'finish_reason': 'stop', 'logprobs': None}, id='run-fa912bdd-1f19-44ae-9d6a-b797d906a908-0', usage_metadata={'input_tokens': 78, 'output_tokens': 8, 'total_tokens': 86, 'input_token_details': {'audio': 0, 'cache_read': 0}, 'output_token_details': {'audio': 0, 'reasoning': 0}})}\n"
     ]
    }
   ],
   "source": [
    "config = reset_config()\n",
    "\n",
    "query = \"1+1은 뭔가요?\"\n",
    "\n",
    "streaming(query, config, mode=\"updates\")"
   ]
  },
  {
   "cell_type": "code",
   "execution_count": 62,
   "metadata": {},
   "outputs": [
    {
     "name": "stdout",
     "output_type": "stream",
     "text": [
      "================================\u001b[1m Human Message \u001b[0m=================================\n",
      "\n",
      "피엔티라는 회사에 대해 조사해서 보고서의 형태로 정리해주세요. 그 후에 '피엔티_기업_보고서.pdf'라는 이름의 PDF파일로 저장해주세요.\n",
      "================================\u001b[1m Human Message \u001b[0m=================================\n",
      "\n",
      "피엔티라는 회사에 대해 조사해서 보고서의 형태로 정리해주세요. 그 후에 '피엔티_기업_보고서.pdf'라는 이름의 PDF파일로 저장해주세요.\n",
      "==================================\u001b[1m Ai Message \u001b[0m==================================\n",
      "Tool Calls:\n",
      "  tavily_search_results_json (call_kqedtxJwuGDw8glFmdYjq5Zp)\n",
      " Call ID: call_kqedtxJwuGDw8glFmdYjq5Zp\n",
      "  Args:\n",
      "    query: 피엔티 회사\n",
      "=================================\u001b[1m Tool Message \u001b[0m=================================\n",
      "Name: tavily_search_results_json\n",
      "\n",
      "[{\"title\": \"피엔티 주가 전망 : 실적 배당금\", \"url\": \"https://blog.naver.com/future-rich/223448064438?viewType=pc\", \"content\": \"피엔티는 2차 전지 장비 관련주입니다. ​. 2003년에 설립된 회사로 Roll to Roll 기술을 바탕으로 IT 용 소재, 2차 전지의 음극 및 분리 막 소재,\", \"score\": 0.7634314}, {\"title\": \"피엔티의 사업분석 및 고객사에 대하여\", \"url\": \"https://blog.naver.com/humanindicator/222353810766\", \"content\": \"피엔티는 2차전지 배터리회사 LG의 2차협력사에서 1차협력사로 변한 회사 중 하나다. 국내 3사 전극공정에 대한 레퍼런스가 있는 기술력(?)있는 회사이며,\", \"score\": 0.7407191}, {\"title\": \"건식전극과 피엔티 관련 정리(엔지니어TV, 디일렉)\", \"url\": \"https://blog.naver.com/chcmg2022/223467871111?viewType=pc\", \"content\": \"- 피엔티는 코팅, 슬리팅, 노칭, 전극, 조립 전체 공정 앞단을 모두 담당하는 기업으로 경쟁사인 씨아이에스 대비 매출볼륨이 압도적으로 큼. ​. - 롤은\", \"score\": 0.73596483}, {\"title\": \"피엔티 2차전지 장비 제작 판매 기업 (ft. 수출금액, 수주잔고)\", \"url\": \"https://m.blog.naver.com/economystudy/223048784243\", \"content\": \"피엔티(PNT)는 Roll to Roll 기술을 바탕으로 2차전지의 음극 및 분리막 소재, IT용 소재, Copper 등의 코팅 및 슬리터 장비의 제작 판매를 주요 사업하고\", \"score\": 0.7140107}, {\"title\": \"(종목공부) 피엔티 - 네이버블로그\", \"url\": \"https://blog.naver.com/mindy0103/223349748240?viewType=pc\", \"content\": \"피엔티는 Roll to Roll 기술을 바탕으로 IT용 소재,2차 전지의 음극 및 분리막 소재,Copper 등의 코팅 및 슬리터 장비의 제작 판매를 주사업으로 하고 있\", \"score\": 0.58919704}]\n",
      "=================================\u001b[1m Tool Message \u001b[0m=================================\n",
      "Name: tavily_search_results_json\n",
      "\n",
      "[{\"title\": \"피엔티 주가 전망 : 실적 배당금\", \"url\": \"https://blog.naver.com/future-rich/223448064438?viewType=pc\", \"content\": \"피엔티는 2차 전지 장비 관련주입니다. ​. 2003년에 설립된 회사로 Roll to Roll 기술을 바탕으로 IT 용 소재, 2차 전지의 음극 및 분리 막 소재,\", \"score\": 0.7634314}, {\"title\": \"피엔티의 사업분석 및 고객사에 대하여\", \"url\": \"https://blog.naver.com/humanindicator/222353810766\", \"content\": \"피엔티는 2차전지 배터리회사 LG의 2차협력사에서 1차협력사로 변한 회사 중 하나다. 국내 3사 전극공정에 대한 레퍼런스가 있는 기술력(?)있는 회사이며,\", \"score\": 0.7407191}, {\"title\": \"건식전극과 피엔티 관련 정리(엔지니어TV, 디일렉)\", \"url\": \"https://blog.naver.com/chcmg2022/223467871111?viewType=pc\", \"content\": \"- 피엔티는 코팅, 슬리팅, 노칭, 전극, 조립 전체 공정 앞단을 모두 담당하는 기업으로 경쟁사인 씨아이에스 대비 매출볼륨이 압도적으로 큼. ​. - 롤은\", \"score\": 0.73596483}, {\"title\": \"피엔티 2차전지 장비 제작 판매 기업 (ft. 수출금액, 수주잔고)\", \"url\": \"https://m.blog.naver.com/economystudy/223048784243\", \"content\": \"피엔티(PNT)는 Roll to Roll 기술을 바탕으로 2차전지의 음극 및 분리막 소재, IT용 소재, Copper 등의 코팅 및 슬리터 장비의 제작 판매를 주요 사업하고\", \"score\": 0.7140107}, {\"title\": \"(종목공부) 피엔티 - 네이버블로그\", \"url\": \"https://blog.naver.com/mindy0103/223349748240?viewType=pc\", \"content\": \"피엔티는 Roll to Roll 기술을 바탕으로 IT용 소재,2차 전지의 음극 및 분리막 소재,Copper 등의 코팅 및 슬리터 장비의 제작 판매를 주사업으로 하고 있\", \"score\": 0.58919704}]\n",
      "==================================\u001b[1m Ai Message \u001b[0m==================================\n",
      "Tool Calls:\n",
      "  write_pdf (call_MystiZrxACI881maQ3V2Q1y1)\n",
      " Call ID: call_MystiZrxACI881maQ3V2Q1y1\n",
      "  Args:\n",
      "    content: # 피엔티 기업 보고서\n",
      "\n",
      "## 1. 회사 개요\n",
      "피엔티(PNT)는 2003년에 설립된 회사로, 2차 전지 장비 관련주입니다. 이 회사는 Roll to Roll 기술을 바탕으로 IT 용 소재, 2차 전지의 음극 및 분리막 소재 등을 제작하고 있습니다.\n",
      "\n",
      "## 2. 주요 사업\n",
      "피엔티는 2차전지의 음극 및 분리막 소재, IT용 소재, Copper 등의 코팅 및 슬리터 장비의 제작 판매를 주요 사업으로 하고 있습니다. 이 회사는 코팅, 슬리팅, 노칭, 전극, 조립 전체 공정 앞단을 모두 담당하는 기업으로, 경쟁사인 씨아이에스 대비 매출 볼륨이 압도적으로 큽니다.\n",
      "\n",
      "## 3. 고객사 및 시장 위치\n",
      "피엔티는 2차전지 배터리 회사 LG의 2차 협력사에서 1차 협력사로 변한 회사 중 하나입니다. 국내 3사 전극 공정에 대한 레퍼런스가 있는 기술력 있는 회사로 평가받고 있습니다.\n",
      "\n",
      "## 4. 관련 링크\n",
      "- [피엔티 주가 전망 : 실적 배당금](https://blog.naver.com/future-rich/223448064438?viewType=pc)\n",
      "- [피엔티의 사업분석 및 고객사에 대하여](https://blog.naver.com/humanindicator/222353810766)\n",
      "- [건식전극과 피엔티 관련 정리(엔지니어TV, 디일렉)](https://blog.naver.com/chcmg2022/223467871111?viewType=pc)\n",
      "- [피엔티 2차전지 장비 제작 판매 기업 (ft. 수출금액, 수주잔고)](https://m.blog.naver.com/economystudy/223048784243)\n",
      "- [(종목공부) 피엔티 - 네이버블로그](https://blog.naver.com/mindy0103/223349748240?viewType=pc)\n",
      "\n",
      "## 5. 결론\n",
      "피엔티는 2차전지 장비 및 관련 소재의 제작과 판매를 전문으로 하는 기업으로, 기술력과 시장 위치에서 강점을 가지고 있습니다. 앞으로의 성장 가능성이 기대됩니다.\n",
      "    filename: 피엔티_기업_보고서.pdf\n",
      "    summary: True\n",
      "=================================\u001b[1m Tool Message \u001b[0m=================================\n",
      "Name: write_pdf\n",
      "\n",
      "./reports/피엔티_기업_보고서.pdf 저장 완료\n",
      "=================================\u001b[1m Tool Message \u001b[0m=================================\n",
      "Name: write_pdf\n",
      "\n",
      "./reports/피엔티_기업_보고서.pdf 저장 완료\n"
     ]
    }
   ],
   "source": [
    "config = reset_config()\n",
    "\n",
    "query = \"피엔티라는 회사에 대해 조사해서 보고서의 형태로 정리해주세요. 그 후에 '피엔티_기업_보고서.pdf'라는 이름의 PDF파일로 저장해주세요.\"\n",
    "\n",
    "streaming(query, config)"
   ]
  },
  {
   "cell_type": "code",
   "execution_count": 63,
   "metadata": {},
   "outputs": [
    {
     "name": "stdout",
     "output_type": "stream",
     "text": [
      "================================\u001b[1m Human Message \u001b[0m=================================\n",
      "\n",
      "피엔티의 경쟁사에 대한 정보도 정리된 보고서를 작성해주세요. 파일 이름은 '피엔티_경쟁사_보고서.pdf'로 저장합니다.\n",
      "================================\u001b[1m Human Message \u001b[0m=================================\n",
      "\n",
      "피엔티의 경쟁사에 대한 정보도 정리된 보고서를 작성해주세요. 파일 이름은 '피엔티_경쟁사_보고서.pdf'로 저장합니다.\n",
      "==================================\u001b[1m Ai Message \u001b[0m==================================\n",
      "Tool Calls:\n",
      "  tavily_search_results_json (call_uvoLad3MqaQwYSArFX2rZfGG)\n",
      " Call ID: call_uvoLad3MqaQwYSArFX2rZfGG\n",
      "  Args:\n",
      "    query: 피엔티 경쟁사\n",
      "=================================\u001b[1m Tool Message \u001b[0m=================================\n",
      "Name: tavily_search_results_json\n",
      "\n",
      "[{\"title\": \"피엔티의 사업분석 및 고객사에 대하여\", \"url\": \"https://blog.naver.com/humanindicator/222353810766\", \"content\": \"피엔티의 경쟁사는 롤투롤 장비회사의 양대 산맥인 '씨아이에스'다. 주 거래처는 LG이며 최근 노스볼트의 전극공정까지 수주를 따낸 핫한 기업이다. 둘다\", \"score\": 0.8849276}, {\"title\": \"2차전지 장비주 피엔티의 경쟁사 히라노(Hirano)의 실적발표와 ...\", \"url\": \"https://m.blog.naver.com/PostView.naver?blogId=km_joshua&logNo=222055617066\", \"content\": \"![](https://ssl.pstatic.net/static/blog/sp_blog72.png)\\n![](https://ssl.pstatic.net/static/blog/sp_blog_se3_6.png)\\n\\n# [블로그](/Recommendation.naver)\\n\\n## [카테고리 이동](#) [드림수아 스터디룸](/PostList.naver?blogId=km_joshua)\\n\\n2차전지 장비주 피엔티의 경쟁사 히라노(Hirano)의 실적발표와 수주잔고를 통해 본 피엔티의 실적과 주가 향방은?\\n\\n![프로필](https://blogpfthumb-phinf.pstatic.net/MjAxOTA2MjRfMzUg/MDAxNTYxMzgwMjQ1ODg5.Oh9jZXQhQJCgCViTZUe9oE5Iw7k39s78sXu-CsW7raAg.lz2a5MlzZVxQht91kn9GK17r0ClwWM9uuaR8r-uYFzIg.JPEG.km_joshua/xxxxxx2-2.jpg?type=s1) [...] 지난 토요일(2020. 08. 07) 피엔티의 해외 경쟁사 중 하나인 히라노(Hirano)에서 실적 발표를 했다\\n\\n전년대비 해서 매출액, 영업이익, 순이익 모두 감소했다\\n\\n**매출액은 -4.9%, 영업이익은 -49.5%, 순이익은 -57.1%**\\n\\n일본말 모르고, 영어도 모르고 ^^;\\n\\n우리나라 전자공시 시스템(dart) 엄청 자세히 잘 되어 있는 거 같고 ㅎㅎ\\n\\n자세한 내막은 알지 못한다 ^^;\\n\\n아마도 코로나 영향으로 인한 감소폭이 상당부분 반영되었을 것으로 생각해 볼 수 있다\\n\\n**히라노(Hirano) 수주잔고**\\n\\n실적발표에 수주에 관한 사항이 언급되어 있다 [...] ![](https://mblogthumb-phinf.pstatic.net/MjAyMDA4MDlfMTkw/MDAxNTk2OTUzMTYyMTk2.yImzTC209GRDr4Eaw0YAp8O_Ac-tTXFY7ZVdEWKHPVUg.NjU9mY1DhWLKU2XGdfXRIANzRxtq_EL09MOzxBCh0XIg.PNG.km_joshua/image.png?type=w80_blur)\\n\\n일본은 우리나라와 회계기준이 다르다\\n\\n우리나라는 12월 31일이 회계연도마감인데 일본은 3월 31일이다\\n\\n쉽게 1개분기가 늦다고 보면 된다\\n\\n어쨌든, 2018년 말부터 2019년 초에 최대 수주잔고를 찍고 이후 하향 추세이다\\n\\n**코멘트**\\n\\n어떻게 해석해야 할까?\\n\\n​\\n\\n**1. 매출액 관련**\\n\\n​\\n\\n먼저는 과거 일본의 장비 업체들이 배터리 장비관련 선두업체인 것은 사실이나, 그동안 국내 장비업체들의 기술력이 향상되면서 해외 고가 장비를 상당부분 국산화 하는데 성공한 것으로 알고 있다\", \"score\": 0.829285}, {\"title\": \"피엔티_2024년에는 어떨까? - 네이버 블로그\", \"url\": \"https://m.blog.naver.com/chlbest/223314752203\", \"content\": \"[![Image 9](https://dthumb-phinf.pstatic.net/?src=%22https%3A%2F%2Fblogthumb.pstatic.net%2FMjAyMzEyMTRfOTMg%2FMDAxNzAyNTQyOTM2NjY0.Rs3KUoyCHqJnXglUekVOIO8dhOxxCC1hCwa9xvd_PoAg.OIKeg3EGgXcffJl43LmSMGNwHHne0e8zBqQv3hxPq00g.PNG.chlbest%2Fimage.png%3Ftype%3Dw2%22&type=ff500_300)](https://blog.naver.com/chlbest/223292760159)[**피엔티 종속회사 공급계약 소식** #피엔티 #피엔티엠에스 코터 경쟁사인 씨아이에스의 공시는 계속 나오는데~~ 여기는 수주소식이 요즘 없었... blog.naver.com](https://blog.naver.com/chlbest/223292760159)\\n\\n​\\n\\n최근 2차전지의 약세로 주가는 많이 내려온 상태.\", \"score\": 0.7859175}, {\"title\": \"피엔티 - 사업현황 (part 1. 전극공정장비) - 네이버 블로그\", \"url\": \"https://m.blog.naver.com/nihil76/221797573138\", \"content\": \"기술협력이 매우 중요해지고 있고, 조립공정 장비는 파우치형 배터리 사이즈가 완성차 업체마다 달라지기 때문에\\n\\n한 장비가 다양한 사이즈의 배터리에 대응할 수 있는 능력이 중요합니다. 특히 패키징 장비의 기술적 난이도가\\n\\n올라갔습니다.\\n\\n​\\n\\n​\\n\\n많은 투자자들이 배터리 타입에 대한 공정장비 업체들의 특성들에 대한 공부가 아직 많이 진행되지 않은 것을\\n\\n느낍니다.\\n\\n때문에 원형/각형 배터리용 중소형 코팅장비를 주로 생산하는 중국업체(리드차이나 혹은 잉허과기 등)나\\n\\n프레스 기반의 업체(씨아이에스 등)와 피엔티를 경쟁업체로 분류하면서 진입장벽에 대해서 의문을 표시하곤\\n\\n합니다. 그러나 관련 산업에 대해서 공부가 진행된다면 이러한 시장의 오해도 빠르게 불식되지\\n\\n않을까 생각해봅니다.\\n\\n​\\n\\n​\\n\\nEV용 파우치형 배터리를 글로벌 완성차 업체에게 납품하는 SK이노베이션과 LG화학은 관련 전극공정장비를 현재\\n\\n피엔티에게서 납품 받고 있습니다. [...] ![](https://ssl.pstatic.net/static/blog/sp_blog72.png)\\n![](https://ssl.pstatic.net/static/blog/sp_blog_se3_6.png)\\n\\n# [블로그](/Recommendation.naver)\\n\\n## [카테고리 이동](#) [nihil](/PostList.naver?blogId=nihil76)\\n\\n피엔티 - 사업현황 (part 1. 전극공정장비)\\n\\n![프로필](https://ssl.pstatic.net/static/blog/img_profile_default.svg)\\n\\n2020. 2. 5. 19:06\\n\\n**(1) 사업현황**\\n\\n**사실상 국내 독점기업 (파우치형 광폭 전극 코팅장비, 동박설비, 분리막 코팅장비)**\\n\\n**그 외 사업 (노칭, MLCC 등)**\\n\\n​\\n\\n(2) 영업환경\\n\\n강력한 진입장벽을 바탕한 2차전지 시장확대의 최대 수혜주\\n\\n​\\n\\n(3) 경쟁업체 비교\\n\\n씨아이에스, 명성티엔에스, 히라노 등\\n\\n​ [...] 씨아이에스에 관해서는 차후 피엔티의 경쟁업체를 분석할 때 보다 자세히 언급할 예정입니다.\\n\\n​\\n\\n파우치형 제조장비는 기존 원통형 및 각형 제조장비에 비해 운용 및 제작이 상대적으로 까다로운 특징을 가지고\\n\\n있습니다.\\n\\n​\\n\\n대형 파우치형 배터리는 EV용으로 사용되어지는 경우가 많기 때문에, HEV/PHEV에 비교적 많이 사용되는\\n\\n각형 배터리나 전동공구와 같은 Non-IT 제품과 함께 사용되는 원통형 배터리와 달리 순수 전기차(BEV)에 적합한\\n\\n배터리를 만들기 위하여 보다 다양한 첨단 공법 및 소재를 사용하는 경향이 있습니다.\\n\\n그리고 3세대 전기차(주행거리 500km 이상) 시대가 곧 도래함에 따라 이러한 경향은 더욱 가속화 되고 있습니다.\\n\\n​\\n\\n에너지밀도를 높이기 위하여 하이니켈(NCM811 이상)이나 더 얇은 동박(6마이크로 이하)을 사용하고,\\n\\n배터리 사이즈를 크게 만들고 있으며, 고출력을 위하여 스택을 좀 더 쌓아 그리드의 수를 늘리거나\", \"score\": 0.72019166}, {\"title\": \"피엔티 종속회사 공급계약 소식\", \"url\": \"https://blog.naver.com/chlbest/223292760159?viewType=pc\", \"content\": \"#피엔티 #피엔티엠에스. ​. 코터 경쟁사인 씨아이에스의 공시는 계속 나오는데~~ 여기는 수주소식이 요즘 없었네. 매 분기 금액이 늘어나는 것으로 보아\", \"score\": 0.69820654}]\n",
      "=================================\u001b[1m Tool Message \u001b[0m=================================\n",
      "Name: tavily_search_results_json\n",
      "\n",
      "[{\"title\": \"피엔티의 사업분석 및 고객사에 대하여\", \"url\": \"https://blog.naver.com/humanindicator/222353810766\", \"content\": \"피엔티의 경쟁사는 롤투롤 장비회사의 양대 산맥인 '씨아이에스'다. 주 거래처는 LG이며 최근 노스볼트의 전극공정까지 수주를 따낸 핫한 기업이다. 둘다\", \"score\": 0.8849276}, {\"title\": \"2차전지 장비주 피엔티의 경쟁사 히라노(Hirano)의 실적발표와 ...\", \"url\": \"https://m.blog.naver.com/PostView.naver?blogId=km_joshua&logNo=222055617066\", \"content\": \"![](https://ssl.pstatic.net/static/blog/sp_blog72.png)\\n![](https://ssl.pstatic.net/static/blog/sp_blog_se3_6.png)\\n\\n# [블로그](/Recommendation.naver)\\n\\n## [카테고리 이동](#) [드림수아 스터디룸](/PostList.naver?blogId=km_joshua)\\n\\n2차전지 장비주 피엔티의 경쟁사 히라노(Hirano)의 실적발표와 수주잔고를 통해 본 피엔티의 실적과 주가 향방은?\\n\\n![프로필](https://blogpfthumb-phinf.pstatic.net/MjAxOTA2MjRfMzUg/MDAxNTYxMzgwMjQ1ODg5.Oh9jZXQhQJCgCViTZUe9oE5Iw7k39s78sXu-CsW7raAg.lz2a5MlzZVxQht91kn9GK17r0ClwWM9uuaR8r-uYFzIg.JPEG.km_joshua/xxxxxx2-2.jpg?type=s1) [...] 지난 토요일(2020. 08. 07) 피엔티의 해외 경쟁사 중 하나인 히라노(Hirano)에서 실적 발표를 했다\\n\\n전년대비 해서 매출액, 영업이익, 순이익 모두 감소했다\\n\\n**매출액은 -4.9%, 영업이익은 -49.5%, 순이익은 -57.1%**\\n\\n일본말 모르고, 영어도 모르고 ^^;\\n\\n우리나라 전자공시 시스템(dart) 엄청 자세히 잘 되어 있는 거 같고 ㅎㅎ\\n\\n자세한 내막은 알지 못한다 ^^;\\n\\n아마도 코로나 영향으로 인한 감소폭이 상당부분 반영되었을 것으로 생각해 볼 수 있다\\n\\n**히라노(Hirano) 수주잔고**\\n\\n실적발표에 수주에 관한 사항이 언급되어 있다 [...] ![](https://mblogthumb-phinf.pstatic.net/MjAyMDA4MDlfMTkw/MDAxNTk2OTUzMTYyMTk2.yImzTC209GRDr4Eaw0YAp8O_Ac-tTXFY7ZVdEWKHPVUg.NjU9mY1DhWLKU2XGdfXRIANzRxtq_EL09MOzxBCh0XIg.PNG.km_joshua/image.png?type=w80_blur)\\n\\n일본은 우리나라와 회계기준이 다르다\\n\\n우리나라는 12월 31일이 회계연도마감인데 일본은 3월 31일이다\\n\\n쉽게 1개분기가 늦다고 보면 된다\\n\\n어쨌든, 2018년 말부터 2019년 초에 최대 수주잔고를 찍고 이후 하향 추세이다\\n\\n**코멘트**\\n\\n어떻게 해석해야 할까?\\n\\n​\\n\\n**1. 매출액 관련**\\n\\n​\\n\\n먼저는 과거 일본의 장비 업체들이 배터리 장비관련 선두업체인 것은 사실이나, 그동안 국내 장비업체들의 기술력이 향상되면서 해외 고가 장비를 상당부분 국산화 하는데 성공한 것으로 알고 있다\", \"score\": 0.829285}, {\"title\": \"피엔티_2024년에는 어떨까? - 네이버 블로그\", \"url\": \"https://m.blog.naver.com/chlbest/223314752203\", \"content\": \"[![Image 9](https://dthumb-phinf.pstatic.net/?src=%22https%3A%2F%2Fblogthumb.pstatic.net%2FMjAyMzEyMTRfOTMg%2FMDAxNzAyNTQyOTM2NjY0.Rs3KUoyCHqJnXglUekVOIO8dhOxxCC1hCwa9xvd_PoAg.OIKeg3EGgXcffJl43LmSMGNwHHne0e8zBqQv3hxPq00g.PNG.chlbest%2Fimage.png%3Ftype%3Dw2%22&type=ff500_300)](https://blog.naver.com/chlbest/223292760159)[**피엔티 종속회사 공급계약 소식** #피엔티 #피엔티엠에스 코터 경쟁사인 씨아이에스의 공시는 계속 나오는데~~ 여기는 수주소식이 요즘 없었... blog.naver.com](https://blog.naver.com/chlbest/223292760159)\\n\\n​\\n\\n최근 2차전지의 약세로 주가는 많이 내려온 상태.\", \"score\": 0.7859175}, {\"title\": \"피엔티 - 사업현황 (part 1. 전극공정장비) - 네이버 블로그\", \"url\": \"https://m.blog.naver.com/nihil76/221797573138\", \"content\": \"기술협력이 매우 중요해지고 있고, 조립공정 장비는 파우치형 배터리 사이즈가 완성차 업체마다 달라지기 때문에\\n\\n한 장비가 다양한 사이즈의 배터리에 대응할 수 있는 능력이 중요합니다. 특히 패키징 장비의 기술적 난이도가\\n\\n올라갔습니다.\\n\\n​\\n\\n​\\n\\n많은 투자자들이 배터리 타입에 대한 공정장비 업체들의 특성들에 대한 공부가 아직 많이 진행되지 않은 것을\\n\\n느낍니다.\\n\\n때문에 원형/각형 배터리용 중소형 코팅장비를 주로 생산하는 중국업체(리드차이나 혹은 잉허과기 등)나\\n\\n프레스 기반의 업체(씨아이에스 등)와 피엔티를 경쟁업체로 분류하면서 진입장벽에 대해서 의문을 표시하곤\\n\\n합니다. 그러나 관련 산업에 대해서 공부가 진행된다면 이러한 시장의 오해도 빠르게 불식되지\\n\\n않을까 생각해봅니다.\\n\\n​\\n\\n​\\n\\nEV용 파우치형 배터리를 글로벌 완성차 업체에게 납품하는 SK이노베이션과 LG화학은 관련 전극공정장비를 현재\\n\\n피엔티에게서 납품 받고 있습니다. [...] ![](https://ssl.pstatic.net/static/blog/sp_blog72.png)\\n![](https://ssl.pstatic.net/static/blog/sp_blog_se3_6.png)\\n\\n# [블로그](/Recommendation.naver)\\n\\n## [카테고리 이동](#) [nihil](/PostList.naver?blogId=nihil76)\\n\\n피엔티 - 사업현황 (part 1. 전극공정장비)\\n\\n![프로필](https://ssl.pstatic.net/static/blog/img_profile_default.svg)\\n\\n2020. 2. 5. 19:06\\n\\n**(1) 사업현황**\\n\\n**사실상 국내 독점기업 (파우치형 광폭 전극 코팅장비, 동박설비, 분리막 코팅장비)**\\n\\n**그 외 사업 (노칭, MLCC 등)**\\n\\n​\\n\\n(2) 영업환경\\n\\n강력한 진입장벽을 바탕한 2차전지 시장확대의 최대 수혜주\\n\\n​\\n\\n(3) 경쟁업체 비교\\n\\n씨아이에스, 명성티엔에스, 히라노 등\\n\\n​ [...] 씨아이에스에 관해서는 차후 피엔티의 경쟁업체를 분석할 때 보다 자세히 언급할 예정입니다.\\n\\n​\\n\\n파우치형 제조장비는 기존 원통형 및 각형 제조장비에 비해 운용 및 제작이 상대적으로 까다로운 특징을 가지고\\n\\n있습니다.\\n\\n​\\n\\n대형 파우치형 배터리는 EV용으로 사용되어지는 경우가 많기 때문에, HEV/PHEV에 비교적 많이 사용되는\\n\\n각형 배터리나 전동공구와 같은 Non-IT 제품과 함께 사용되는 원통형 배터리와 달리 순수 전기차(BEV)에 적합한\\n\\n배터리를 만들기 위하여 보다 다양한 첨단 공법 및 소재를 사용하는 경향이 있습니다.\\n\\n그리고 3세대 전기차(주행거리 500km 이상) 시대가 곧 도래함에 따라 이러한 경향은 더욱 가속화 되고 있습니다.\\n\\n​\\n\\n에너지밀도를 높이기 위하여 하이니켈(NCM811 이상)이나 더 얇은 동박(6마이크로 이하)을 사용하고,\\n\\n배터리 사이즈를 크게 만들고 있으며, 고출력을 위하여 스택을 좀 더 쌓아 그리드의 수를 늘리거나\", \"score\": 0.72019166}, {\"title\": \"피엔티 종속회사 공급계약 소식\", \"url\": \"https://blog.naver.com/chlbest/223292760159?viewType=pc\", \"content\": \"#피엔티 #피엔티엠에스. ​. 코터 경쟁사인 씨아이에스의 공시는 계속 나오는데~~ 여기는 수주소식이 요즘 없었네. 매 분기 금액이 늘어나는 것으로 보아\", \"score\": 0.69820654}]\n",
      "==================================\u001b[1m Ai Message \u001b[0m==================================\n",
      "Tool Calls:\n",
      "  write_pdf (call_VwkUHElnqSHdBWoi8nn41gUW)\n",
      " Call ID: call_VwkUHElnqSHdBWoi8nn41gUW\n",
      "  Args:\n",
      "    content: # 피엔티 경쟁사 보고서\n",
      "\n",
      "## 1. 경쟁사 개요\n",
      "피엔티(PNT)의 주요 경쟁사는 롤투롤 장비 회사인 **씨아이에스(CIS)**와 **히라노(Hirano)**입니다. 이들 기업은 2차전지 장비 시장에서 중요한 위치를 차지하고 있으며, 피엔티와 유사한 제품군을 제공합니다.\n",
      "\n",
      "## 2. 씨아이에스(CIS)\n",
      "- **주요 거래처**: LG, 노스볼트 등\n",
      "- **특징**: 씨아이에스는 롤투롤 장비 분야에서 피엔티와 경쟁하고 있으며, 최근 노스볼트의 전극공정 수주를 따내며 주목받고 있습니다. 이 회사는 기술력과 시장 점유율에서 강점을 가지고 있습니다.\n",
      "- **링크**: [씨아이에스 관련 블로그](https://blog.naver.com/humanindicator/222353810766)\n",
      "\n",
      "## 3. 히라노(Hirano)\n",
      "- **실적**: 최근 실적 발표에서 매출액, 영업이익, 순이익 모두 감소하였으며, 매출액은 -4.9%, 영업이익은 -49.5%, 순이익은 -57.1% 감소했습니다. 이는 코로나19의 영향으로 해석됩니다.\n",
      "- **수주잔고**: 히라노의 수주잔고는 2018년 말부터 하향 추세를 보이고 있습니다.\n",
      "- **링크**: [히라노 실적 발표 블로그](https://m.blog.naver.com/PostView.naver?blogId=km_joshua&logNo=222055617066)\n",
      "\n",
      "## 4. 시장 환경\n",
      "- **기술 협력**: 피엔티는 SK이노베이션과 LG화학에 전극공정 장비를 납품하고 있으며, 이는 피엔티의 기술력이 시장에서 인정받고 있음을 보여줍니다.\n",
      "- **경쟁업체 비교**: 피엔티는 씨아이에스, 명성티엔에스, 히라노 등과 경쟁하고 있으며, 각 업체의 기술력과 시장 점유율에 따라 경쟁이 치열합니다.\n",
      "\n",
      "## 5. 결론\n",
      "피엔티는 씨아이에스와 히라노와 같은 강력한 경쟁사들과의 경쟁 속에서도 기술력과 시장 점유율을 유지하고 있으며, 앞으로의 성장 가능성이 기대됩니다. 이 보고서는 피엔티의 경쟁사 분석을 통해 향후 전략 수립에 도움이 될 것입니다.\n",
      "    filename: 피엔티_경쟁사_보고서.pdf\n",
      "    summary: True\n",
      "=================================\u001b[1m Tool Message \u001b[0m=================================\n",
      "Name: write_pdf\n",
      "\n",
      "./reports/피엔티_경쟁사_보고서.pdf 저장 완료\n",
      "=================================\u001b[1m Tool Message \u001b[0m=================================\n",
      "Name: write_pdf\n",
      "\n",
      "./reports/피엔티_경쟁사_보고서.pdf 저장 완료\n"
     ]
    }
   ],
   "source": [
    "query = \"피엔티의 경쟁사에 대한 정보도 정리된 보고서를 작성해주세요. 파일 이름은 '피엔티_경쟁사_보고서.pdf'로 저장합니다.\"\n",
    "\n",
    "streaming(query, config)"
   ]
  },
  {
   "cell_type": "code",
   "execution_count": 64,
   "metadata": {},
   "outputs": [
    {
     "name": "stdout",
     "output_type": "stream",
     "text": [
      "================================\u001b[1m Human Message \u001b[0m=================================\n",
      "\n",
      "현재 폴더의 pdf로 이루어진 파일 모두 삭제해줘\n",
      "================================\u001b[1m Human Message \u001b[0m=================================\n",
      "\n",
      "현재 폴더의 pdf로 이루어진 파일 모두 삭제해줘\n",
      "==================================\u001b[1m Ai Message \u001b[0m==================================\n",
      "Tool Calls:\n",
      "  list_directory (call_F1m7djfBKcT0AGZVxgkc9yU1)\n",
      " Call ID: call_F1m7djfBKcT0AGZVxgkc9yU1\n",
      "  Args:\n",
      "=================================\u001b[1m Tool Message \u001b[0m=================================\n",
      "Name: list_directory\n",
      "\n",
      "피엔티_기업_보고서.pdf\n",
      "피엔티_경쟁사_보고서.pdf\n",
      "=================================\u001b[1m Tool Message \u001b[0m=================================\n",
      "Name: list_directory\n",
      "\n",
      "피엔티_기업_보고서.pdf\n",
      "피엔티_경쟁사_보고서.pdf\n",
      "==================================\u001b[1m Ai Message \u001b[0m==================================\n",
      "Tool Calls:\n",
      "  file_delete (call_EEjC5oBNcELdQVrq4f2BXRRo)\n",
      " Call ID: call_EEjC5oBNcELdQVrq4f2BXRRo\n",
      "  Args:\n",
      "    file_path: 피엔티_기업_보고서.pdf\n",
      "  file_delete (call_8LtXXmUmWnxoriZG6Uq5kKXr)\n",
      " Call ID: call_8LtXXmUmWnxoriZG6Uq5kKXr\n",
      "  Args:\n",
      "    file_path: 피엔티_경쟁사_보고서.pdf\n",
      "=================================\u001b[1m Tool Message \u001b[0m=================================\n",
      "Name: file_delete\n",
      "\n",
      "File deleted successfully: 피엔티_경쟁사_보고서.pdf.\n",
      "=================================\u001b[1m Tool Message \u001b[0m=================================\n",
      "Name: file_delete\n",
      "\n",
      "File deleted successfully: 피엔티_경쟁사_보고서.pdf.\n"
     ]
    }
   ],
   "source": [
    "config = reset_config()\n",
    "\n",
    "query = \"현재 폴더의 pdf로 이루어진 파일 모두 삭제해줘\"\n",
    "\n",
    "streaming(query, config)"
   ]
  },
  {
   "cell_type": "code",
   "execution_count": 65,
   "metadata": {},
   "outputs": [
    {
     "name": "stdout",
     "output_type": "stream",
     "text": [
      "================================\u001b[1m Human Message \u001b[0m=================================\n",
      "\n",
      "\n",
      "          모두의연구소는 어떤 곳이야?\n",
      "          깔끔하게 정리해서 레포트로 만들어줘.\n",
      "          레포트의 형식은 pdf로 저장해주면 돼.\n",
      "          이름은 \"모두의연구소_레포트.pdf\"로 해줘.\n",
      "          \n",
      "================================\u001b[1m Human Message \u001b[0m=================================\n",
      "\n",
      "\n",
      "          모두의연구소는 어떤 곳이야?\n",
      "          깔끔하게 정리해서 레포트로 만들어줘.\n",
      "          레포트의 형식은 pdf로 저장해주면 돼.\n",
      "          이름은 \"모두의연구소_레포트.pdf\"로 해줘.\n",
      "          \n",
      "==================================\u001b[1m Ai Message \u001b[0m==================================\n",
      "Tool Calls:\n",
      "  tavily_search_results_json (call_mA1CprX33OkIGsKkRJgCb8ET)\n",
      " Call ID: call_mA1CprX33OkIGsKkRJgCb8ET\n",
      "  Args:\n",
      "    query: 모두의연구소\n",
      "=================================\u001b[1m Tool Message \u001b[0m=================================\n",
      "Name: tavily_search_results_json\n",
      "\n",
      "[{\"title\": \"집단지성의 힘으로 스스로 연구하고 나누는 곳 <모두 ...\", \"url\": \"https://blog.naver.com/kmacforever/222695255714\", \"content\": \"모두의연구소는 AI 기술과 같은 새로운 지식에 갈증을 느끼는 사람이면 학력이나 나이 제한 없이 누구나 참여해 배운 걸 공유하면서 함께 성장하는 곳이다\", \"score\": 0.82761955}, {\"title\": \"누구나 하고 싶은 연구를 마음껏 할 수 있는 AI 커뮤니티, '모두의 ...\", \"url\": \"https://m.post.naver.com/viewer/postView.naver?volumeNo=34405682&memberNo=6457418&searchKeyword=AI%20%EB%B8%8C%EB%9E%9C%EB%93%9C&searchRank=324\", \"content\": \"모두의연구소를 한마디로 표현하면 지도 교수와 상대평가가 없는, 누구에게나 열린 연구 플랫폼이에요. 동료 학습과 열린 연구로 함께 지식과 경험을 나누며 성장하는\", \"score\": 0.82560414}, {\"title\": \"모두의 연구소에서 나랑한컷\", \"url\": \"https://blog.naver.com/hwaya0222/222989791509?viewType=pc\", \"content\": \"모두의 연구소는 · 지식을 공유하며 경험을 통해 배우는 열린 연구소입니다 · 상대평가 없이 순위없이 · 연구와 토론을 통해 각 분야의 전문가로 성장할 수\", \"score\": 0.8047902}, {\"title\": \"직장인 AI/LLM 서비스 개발 과정\", \"url\": \"https://m.site.naver.com/1ARhJ\", \"content\": \"모두의연구소는 카카오임팩트와 협력하여 사회 문제 해결을 목표로 하는 '테크포임팩트' 커뮤니티로 다양한 LAB을 운영하고 있습니다.\\n\\nAI 세미나 '모두팝'\\n------------\\n\\n모두의연구소 열린 세미나 ‘모두팝’에서는 검증된 지식과 노하우를 공유하고 AI·Dev 분야 전문가와 소통할 수 있습니다.\\n\\n[모두팝 보러가기](https://www.youtube.com/watch?v=Hj-vUGEVl2Y&list=PLv6H9ngYdJbKcGl2VrVBr8YAClPcVrrim) [...] 상담하기\\n\\n070-7743-5882(내선 2번)\\n\\n[카카오톡 문의하기](https://bizmessage.kakao.com/chat/open/@%EB%AA%A8%EB%91%90%EC%9D%98%EC%97%B0%EA%B5%AC%EC%86%8C)\\n\\n상담 가능 시간\\n\\n평일 13:00 - 22:00\\n\\n토요일 10:00 ~ 18:00 일, 월, 공휴일 휴무\\n\\n(주) 모두의연구소 | 대표 : 김승일\\n\\n개인정보보호책임자 : 안우진 | 통신판매업신고 : 2017-서울강남-04920 | 사업자등록번호 : 517-88-00184\\n\\n주소 : 서울특별시 강남구 강남대로 324 역삼디오슈페리움 2층 | 전화 : 010-7743-5349\\n\\n[개인정보처리방침](https://modulabs.co.kr/policy/privacy-policy)\\n\\n|\\n\\n[이용 약관](https://modulabs.co.kr/policy/terms-of-use)\\n\\n| [...] *     \\n*     \\n*     \\n*     \\n*     \\n*     \\n*    \\n*     \\n*      \\n*      \\n\\n*     \\n*     \\n*     \\n*     \\n*    \\n*     \\n*      \\n*     \\n*     \\n*     \\n*     \\n\\n커뮤니티\\n\\n모두의연구소 커뮤니티\\n-----------\\n\\n2015년부터 만들어진 국내 최초의 AI 커뮤니티\\n\\n모두연에서 지식의 폭을 넓혀 더 큰 성장을 경험해 보세요.\\n\\n1,900+\\n\\nAI 커뮤니티 활동 연구원\\n\\n909개\\n\\n누적 AI 연구모임 수\\n\\n60개\\n\\nAI 논문 성과\\n\\n**나눌수록 성장하는********모두의연구소 커뮤니티**\\n--------------------------------\\n\\n누구나 하고 싶은 연구를 하도록 연구 문화를 전파하는 모두의연구소의 논문 게재 지원 사업\\n\\n해내고싶은 프로젝트, 대회, 논문, 연구 등 주제가 있다면 누구나 필요한 LAB을 만들 수 있어요.\", \"score\": 0.7931224}, {\"title\": \"[모두의 연구소] 사이트 소개 및 강남 캠퍼스 안내 - 네이버 블로그\", \"url\": \"https://m.blog.naver.com/sd86745/222962948717\", \"content\": \"![Image 12](https://mblogthumb-phinf.pstatic.net/MjAyMjEyMjJfNzAg/MDAxNjcxNzA2NjQxMTIy.pbEDhBzuAfY8DYWjtbEMXORdjzFTlW_pdutUVPtfD1wg.ZwDqG0pYCDI1YbacqOjge0iGdeCOfDQOkqAWAORW-OEg.JPEG.sd86745/Screenshot%EF%BC%BF20221222%EF%BC%8D195459%EF%BC%BFNAVER.jpg?type=w800)\\n\\n블로그를 들어가게 되면 다양한 후기와 더불어 각종 지식, 꿀팁들이 존재하고 있습니다. 이러한 점들을 한번씩 봐보면 넘 도움되겠죠?\\n\\n​\\n\\n이 외에 궁금하신 사항이 있다면 문의하기를 통해 여쭤보면 어떨까요?\\n\\n이상~ 모두의 연구소 홈페이지에 대해 알아봤습니다 ㅎㅎ\\n\\n다들 곧 있을 크리스마스 잘 보내시고 1월에 열리는 모두의 연구소에서 뵙기를 바랄게요~ [...] ![Image 9](https://mblogthumb-phinf.pstatic.net/MjAyMjEyMjJfMTQg/MDAxNjcxNzA2NjQxMTQy.MWqW09IxrBB-OqGCfvsM_B_xiW2V17GT_rIx0wsjHMQg.b3DfNyMOvUiiHFn89pyMrK9h5IVCcCWq2ry2X3CSe-Qg.JPEG.sd86745/Screenshot%EF%BC%BF20221222%EF%BC%8D194528%EF%BC%BFNAVER.jpg?type=w800)\\n\\n모두의 연구소를 먼저 열게 된 계기를 알아볼까요?\\n\\n소장님께서는 열게 된 계기가 아무래도 **모두가 연구하고 다양한 시도를 하며 경험을 나눌 수 있는 장소**에 대한 필요성을 느끼셨습니다. 그래서 연구소를 설입하게 되신 듯 합니다.\\n\\n​ [...] {\\\"title\\\":\\\"[모두의 연구소] 사이트 소개 및 강남 캠퍼스 안내\\\",\\\"source\\\":\\\"https://blog.naver.com/sd86745/222962948717\\\",\\\"blogName\\\":\\\"발전기!\\\",\\\"domainIdOrBlogId\\\":\\\"sd86745\\\",\\\"nicknameOrBlogId\\\":\\\"오라클\\\",\\\"logNo\\\":222962948717,\\\"smartEditorVersion\\\":4,\\\"meDisplay\\\":true,\\\"lineDisplay\\\":true,\\\"outsideDisplay\\\":false,\\\"cafeDisplay\\\":true,\\\"blogDisplay\\\":true}\\n\\n[닫기](https://m.blog.naver.com/sd86745/222962948717#)\\n\\n카테고리\\n----\\n\\n[이 블로그 홈](https://m.blog.naver.com/sd86745)\\n\\n[](https://m.blog.naver.com/sd86745/222962948717#)\", \"score\": 0.70531887}]\n",
      "=================================\u001b[1m Tool Message \u001b[0m=================================\n",
      "Name: tavily_search_results_json\n",
      "\n",
      "[{\"title\": \"집단지성의 힘으로 스스로 연구하고 나누는 곳 <모두 ...\", \"url\": \"https://blog.naver.com/kmacforever/222695255714\", \"content\": \"모두의연구소는 AI 기술과 같은 새로운 지식에 갈증을 느끼는 사람이면 학력이나 나이 제한 없이 누구나 참여해 배운 걸 공유하면서 함께 성장하는 곳이다\", \"score\": 0.82761955}, {\"title\": \"누구나 하고 싶은 연구를 마음껏 할 수 있는 AI 커뮤니티, '모두의 ...\", \"url\": \"https://m.post.naver.com/viewer/postView.naver?volumeNo=34405682&memberNo=6457418&searchKeyword=AI%20%EB%B8%8C%EB%9E%9C%EB%93%9C&searchRank=324\", \"content\": \"모두의연구소를 한마디로 표현하면 지도 교수와 상대평가가 없는, 누구에게나 열린 연구 플랫폼이에요. 동료 학습과 열린 연구로 함께 지식과 경험을 나누며 성장하는\", \"score\": 0.82560414}, {\"title\": \"모두의 연구소에서 나랑한컷\", \"url\": \"https://blog.naver.com/hwaya0222/222989791509?viewType=pc\", \"content\": \"모두의 연구소는 · 지식을 공유하며 경험을 통해 배우는 열린 연구소입니다 · 상대평가 없이 순위없이 · 연구와 토론을 통해 각 분야의 전문가로 성장할 수\", \"score\": 0.8047902}, {\"title\": \"직장인 AI/LLM 서비스 개발 과정\", \"url\": \"https://m.site.naver.com/1ARhJ\", \"content\": \"모두의연구소는 카카오임팩트와 협력하여 사회 문제 해결을 목표로 하는 '테크포임팩트' 커뮤니티로 다양한 LAB을 운영하고 있습니다.\\n\\nAI 세미나 '모두팝'\\n------------\\n\\n모두의연구소 열린 세미나 ‘모두팝’에서는 검증된 지식과 노하우를 공유하고 AI·Dev 분야 전문가와 소통할 수 있습니다.\\n\\n[모두팝 보러가기](https://www.youtube.com/watch?v=Hj-vUGEVl2Y&list=PLv6H9ngYdJbKcGl2VrVBr8YAClPcVrrim) [...] 상담하기\\n\\n070-7743-5882(내선 2번)\\n\\n[카카오톡 문의하기](https://bizmessage.kakao.com/chat/open/@%EB%AA%A8%EB%91%90%EC%9D%98%EC%97%B0%EA%B5%AC%EC%86%8C)\\n\\n상담 가능 시간\\n\\n평일 13:00 - 22:00\\n\\n토요일 10:00 ~ 18:00 일, 월, 공휴일 휴무\\n\\n(주) 모두의연구소 | 대표 : 김승일\\n\\n개인정보보호책임자 : 안우진 | 통신판매업신고 : 2017-서울강남-04920 | 사업자등록번호 : 517-88-00184\\n\\n주소 : 서울특별시 강남구 강남대로 324 역삼디오슈페리움 2층 | 전화 : 010-7743-5349\\n\\n[개인정보처리방침](https://modulabs.co.kr/policy/privacy-policy)\\n\\n|\\n\\n[이용 약관](https://modulabs.co.kr/policy/terms-of-use)\\n\\n| [...] *     \\n*     \\n*     \\n*     \\n*     \\n*     \\n*    \\n*     \\n*      \\n*      \\n\\n*     \\n*     \\n*     \\n*     \\n*    \\n*     \\n*      \\n*     \\n*     \\n*     \\n*     \\n\\n커뮤니티\\n\\n모두의연구소 커뮤니티\\n-----------\\n\\n2015년부터 만들어진 국내 최초의 AI 커뮤니티\\n\\n모두연에서 지식의 폭을 넓혀 더 큰 성장을 경험해 보세요.\\n\\n1,900+\\n\\nAI 커뮤니티 활동 연구원\\n\\n909개\\n\\n누적 AI 연구모임 수\\n\\n60개\\n\\nAI 논문 성과\\n\\n**나눌수록 성장하는********모두의연구소 커뮤니티**\\n--------------------------------\\n\\n누구나 하고 싶은 연구를 하도록 연구 문화를 전파하는 모두의연구소의 논문 게재 지원 사업\\n\\n해내고싶은 프로젝트, 대회, 논문, 연구 등 주제가 있다면 누구나 필요한 LAB을 만들 수 있어요.\", \"score\": 0.7931224}, {\"title\": \"[모두의 연구소] 사이트 소개 및 강남 캠퍼스 안내 - 네이버 블로그\", \"url\": \"https://m.blog.naver.com/sd86745/222962948717\", \"content\": \"![Image 12](https://mblogthumb-phinf.pstatic.net/MjAyMjEyMjJfNzAg/MDAxNjcxNzA2NjQxMTIy.pbEDhBzuAfY8DYWjtbEMXORdjzFTlW_pdutUVPtfD1wg.ZwDqG0pYCDI1YbacqOjge0iGdeCOfDQOkqAWAORW-OEg.JPEG.sd86745/Screenshot%EF%BC%BF20221222%EF%BC%8D195459%EF%BC%BFNAVER.jpg?type=w800)\\n\\n블로그를 들어가게 되면 다양한 후기와 더불어 각종 지식, 꿀팁들이 존재하고 있습니다. 이러한 점들을 한번씩 봐보면 넘 도움되겠죠?\\n\\n​\\n\\n이 외에 궁금하신 사항이 있다면 문의하기를 통해 여쭤보면 어떨까요?\\n\\n이상~ 모두의 연구소 홈페이지에 대해 알아봤습니다 ㅎㅎ\\n\\n다들 곧 있을 크리스마스 잘 보내시고 1월에 열리는 모두의 연구소에서 뵙기를 바랄게요~ [...] ![Image 9](https://mblogthumb-phinf.pstatic.net/MjAyMjEyMjJfMTQg/MDAxNjcxNzA2NjQxMTQy.MWqW09IxrBB-OqGCfvsM_B_xiW2V17GT_rIx0wsjHMQg.b3DfNyMOvUiiHFn89pyMrK9h5IVCcCWq2ry2X3CSe-Qg.JPEG.sd86745/Screenshot%EF%BC%BF20221222%EF%BC%8D194528%EF%BC%BFNAVER.jpg?type=w800)\\n\\n모두의 연구소를 먼저 열게 된 계기를 알아볼까요?\\n\\n소장님께서는 열게 된 계기가 아무래도 **모두가 연구하고 다양한 시도를 하며 경험을 나눌 수 있는 장소**에 대한 필요성을 느끼셨습니다. 그래서 연구소를 설입하게 되신 듯 합니다.\\n\\n​ [...] {\\\"title\\\":\\\"[모두의 연구소] 사이트 소개 및 강남 캠퍼스 안내\\\",\\\"source\\\":\\\"https://blog.naver.com/sd86745/222962948717\\\",\\\"blogName\\\":\\\"발전기!\\\",\\\"domainIdOrBlogId\\\":\\\"sd86745\\\",\\\"nicknameOrBlogId\\\":\\\"오라클\\\",\\\"logNo\\\":222962948717,\\\"smartEditorVersion\\\":4,\\\"meDisplay\\\":true,\\\"lineDisplay\\\":true,\\\"outsideDisplay\\\":false,\\\"cafeDisplay\\\":true,\\\"blogDisplay\\\":true}\\n\\n[닫기](https://m.blog.naver.com/sd86745/222962948717#)\\n\\n카테고리\\n----\\n\\n[이 블로그 홈](https://m.blog.naver.com/sd86745)\\n\\n[](https://m.blog.naver.com/sd86745/222962948717#)\", \"score\": 0.70531887}]\n",
      "==================================\u001b[1m Ai Message \u001b[0m==================================\n",
      "Tool Calls:\n",
      "  write_pdf (call_clkQozyRKiSjs1uwDx3KkhX6)\n",
      " Call ID: call_clkQozyRKiSjs1uwDx3KkhX6\n",
      "  Args:\n",
      "    content: # 모두의 연구소\n",
      "\n",
      "## 개요\n",
      "모두의 연구소는 AI 기술과 같은 새로운 지식에 갈증을 느끼는 사람들이 학력이나 나이 제한 없이 누구나 참여하여 배운 것을 공유하고 함께 성장하는 공간입니다.\n",
      "\n",
      "## 주요 특징\n",
      "- **열린 연구 플랫폼**: 지도 교수와 상대 평가가 없는 구조로, 누구에게나 열린 연구 환경을 제공합니다.\n",
      "- **동료 학습**: 연구와 토론을 통해 각 분야의 전문가로 성장할 수 있는 기회를 제공합니다.\n",
      "- **커뮤니티 활동**: 2015년부터 시작된 국내 최초의 AI 커뮤니티로, 1,900명 이상의 연구원이 활동하고 있습니다.\n",
      "\n",
      "## 프로그램 및 활동\n",
      "- **AI 세미나 '모두팝'**: 검증된 지식과 노하우를 공유하고 AI 및 개발 분야 전문가와 소통할 수 있는 열린 세미나입니다.\n",
      "- **LAB 운영**: 사회 문제 해결을 목표로 하는 다양한 LAB을 운영하며, 연구 문화를 전파하고 있습니다.\n",
      "\n",
      "## 연락처 및 위치\n",
      "- **주소**: 서울특별시 강남구 강남대로 324 역삼디오슈페리움 2층\n",
      "- **전화**: 010-7743-5349\n",
      "- **상담 가능 시간**: 평일 13:00 - 22:00, 토요일 10:00 - 18:00, 일요일 및 공휴일 휴무\n",
      "\n",
      "## 결론\n",
      "모두의 연구소는 누구나 하고 싶은 연구를 마음껏 할 수 있는 공간으로, 지식을 공유하고 경험을 나누며 함께 성장할 수 있는 기회를 제공합니다.\n",
      "    filename: 모두의연구소_레포트.pdf\n",
      "    summary: True\n",
      "=================================\u001b[1m Tool Message \u001b[0m=================================\n",
      "Name: write_pdf\n",
      "\n",
      "./reports/모두의연구소_레포트.pdf 저장 완료\n",
      "=================================\u001b[1m Tool Message \u001b[0m=================================\n",
      "Name: write_pdf\n",
      "\n",
      "./reports/모두의연구소_레포트.pdf 저장 완료\n"
     ]
    }
   ],
   "source": [
    "config = reset_config()\n",
    "\n",
    "streaming(\"\"\"\n",
    "          모두의연구소는 어떤 곳이야?\n",
    "          깔끔하게 정리해서 레포트로 만들어줘.\n",
    "          레포트의 형식은 pdf로 저장해주면 돼.\n",
    "          이름은 \"모두의연구소_레포트.pdf\"로 해줘.\n",
    "          \"\"\", config)"
   ]
  },
  {
   "cell_type": "code",
   "execution_count": 66,
   "metadata": {},
   "outputs": [
    {
     "name": "stdout",
     "output_type": "stream",
     "text": [
      "================================\u001b[1m Human Message \u001b[0m=================================\n",
      "\n",
      "'모두의연구소_레포트.pdf'라는 파일 삭제해줘\n",
      "================================\u001b[1m Human Message \u001b[0m=================================\n",
      "\n",
      "'모두의연구소_레포트.pdf'라는 파일 삭제해줘\n",
      "==================================\u001b[1m Ai Message \u001b[0m==================================\n",
      "Tool Calls:\n",
      "  file_delete (call_wNWMGiTwY6sg9ZmwGYMjgZuy)\n",
      " Call ID: call_wNWMGiTwY6sg9ZmwGYMjgZuy\n",
      "  Args:\n",
      "    file_path: ./모두의연구소_레포트.pdf\n",
      "=================================\u001b[1m Tool Message \u001b[0m=================================\n",
      "Name: file_delete\n",
      "\n",
      "File deleted successfully: ./모두의연구소_레포트.pdf.\n",
      "=================================\u001b[1m Tool Message \u001b[0m=================================\n",
      "Name: file_delete\n",
      "\n",
      "File deleted successfully: ./모두의연구소_레포트.pdf.\n"
     ]
    }
   ],
   "source": [
    "config = reset_config()\n",
    "\n",
    "query = \"'모두의연구소_레포트.pdf'라는 파일 삭제해줘\"\n",
    "\n",
    "streaming(query, config)"
   ]
  }
 ],
 "metadata": {
  "kernelspec": {
   "display_name": ".venv",
   "language": "python",
   "name": "python3"
  },
  "language_info": {
   "codemirror_mode": {
    "name": "ipython",
    "version": 3
   },
   "file_extension": ".py",
   "mimetype": "text/x-python",
   "name": "python",
   "nbconvert_exporter": "python",
   "pygments_lexer": "ipython3",
   "version": "3.10.12"
  }
 },
 "nbformat": 4,
 "nbformat_minor": 2
}
