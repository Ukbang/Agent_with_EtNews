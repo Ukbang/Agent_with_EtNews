{
 "cells": [
  {
   "cell_type": "code",
   "execution_count": 1,
   "metadata": {},
   "outputs": [
    {
     "data": {
      "text/plain": [
       "True"
      ]
     },
     "execution_count": 1,
     "metadata": {},
     "output_type": "execute_result"
    }
   ],
   "source": [
    "from langchain_community.document_loaders.csv_loader import CSVLoader\n",
    "import pandas as pd\n",
    "from IPython.display import Markdown\n",
    "import re\n",
    "\n",
    "from typing import Annotated, Literal\n",
    "from typing_extensions import TypedDict\n",
    "from langchain_openai import ChatOpenAI, OpenAIEmbeddings\n",
    "from langchain.text_splitter import RecursiveCharacterTextSplitter\n",
    "from langchain_community.vectorstores import FAISS\n",
    "from langchain_community.tools.tavily_search import TavilySearchResults\n",
    "from langchain.tools.retriever import create_retriever_tool\n",
    "from langchain.document_loaders import PyMuPDFLoader, PyPDFLoader\n",
    "from langgraph.graph import StateGraph, START, END\n",
    "from langgraph.graph.message import add_messages\n",
    "from langgraph.prebuilt import ToolNode, tools_condition\n",
    "from langgraph.checkpoint.memory import MemorySaver\n",
    "from langchain_core.prompts import ChatPromptTemplate, PromptTemplate\n",
    "from langchain_core.tools import tool\n",
    "from langchain_core.documents.base import Document\n",
    "from langchain_core.vectorstores.base import VectorStoreRetriever\n",
    "from langchain_core.output_parsers.openai_tools import JsonOutputToolsParser\n",
    "from langchain_core.output_parsers.string import StrOutputParser\n",
    "from langchain.schema.runnable import RunnablePassthrough, RunnableLambda\n",
    "from langchain_experimental.utilities import PythonREPL\n",
    "from langchain_experimental.tools.python.tool import PythonAstREPLTool\n",
    "from pydantic import BaseModel, Field\n",
    "from markitdown import MarkItDown\n",
    "import dotenv\n",
    "import os\n",
    "\n",
    "dotenv.load_dotenv()"
   ]
  },
  {
   "cell_type": "code",
   "execution_count": 2,
   "metadata": {},
   "outputs": [],
   "source": [
    "# file_path = \"./data/athlete_events.csv\"\n",
    "file_path = \"./data/titanic.csv\"\n",
    "# df = pd.read_csv(file_path)\n",
    "\n",
    "llm = ChatOpenAI(model=\"gpt-4o-mini\",\n",
    "                 temperature=0.,)"
   ]
  },
  {
   "cell_type": "code",
   "execution_count": 3,
   "metadata": {},
   "outputs": [],
   "source": [
    "class State(TypedDict):\n",
    "    query : Annotated[str, \"User Question\"]\n",
    "    answer : Annotated[str, \"LLM Response\"]\n",
    "    df : Annotated[pd.DataFrame, \"Dataset\"]\n",
    "    title : Annotated[str, \"Dataset Title\"]\n",
    "    summary : Annotated[str, \"Dataset Summary\"]\n",
    "    tool : Annotated[PythonAstREPLTool, \"Code Execute Tool\"]\n",
    "    code : Annotated[str, \"Python Code\"]"
   ]
  },
  {
   "cell_type": "code",
   "execution_count": 4,
   "metadata": {},
   "outputs": [],
   "source": [
    "def init_state(state:State):\n",
    "    df = pd.read_csv(file_path)\n",
    "\n",
    "    print(\"===== Init Complete =====\\n\\n\")\n",
    "    \n",
    "    return {\"df\" : df}"
   ]
  },
  {
   "cell_type": "code",
   "execution_count": 5,
   "metadata": {},
   "outputs": [],
   "source": [
    "def create_title_summary(state:State):\n",
    "\n",
    "    df_sampled = state[\"df\"].sample(n=5000) if len(state[\"df\"]) > 5000 else state[\"df\"]\n",
    "\n",
    "    prompt = PromptTemplate.from_template(\"\"\"\n",
    "            당신은 요약 전문가입니다.\n",
    "           \n",
    "            데이터셋 : {df}\n",
    "\n",
    "            데이터셋의 정보를 보고 제목과 요약을 만들어냅니다.\n",
    "            제목은 이 데이터셋을 가장 잘 표현할 수 있는 제목으로 결정하여야합니다.\n",
    "\n",
    "            참고할 정보는 아래와 같습니다.\n",
    "            \"\"\"\n",
    "            f\"\"\"                                          \n",
    "            파일 이름 : {file_path.split(\"/\")[-1]}\n",
    "\n",
    "            1. 제목: \n",
    "            2. 요약: \n",
    "\n",
    "            \"\"\"\n",
    "            )\n",
    "    \n",
    "    chain = prompt | llm\n",
    "    \n",
    "    result = chain.invoke({\"df\":df_sampled}).content\n",
    "\n",
    "    title = \"Untitled\"\n",
    "    summary = \"No Summary\"    \n",
    "\n",
    "    try:\n",
    "        lines = result.split(\"\\n\")\n",
    "        title = lines[0].replace(\"1. 제목: \", \"\").strip()\n",
    "        summary = \"\\n\".join(lines[1:]).replace(\"2. 요약:\", \"\").strip()\n",
    "    except:\n",
    "        pass\n",
    "\n",
    "    print(\"===== 제목, 요약 생성 완료 =====\\n\\n\")\n",
    "    return {\"title\":title, \n",
    "            \"summary\" :summary}"
   ]
  },
  {
   "cell_type": "code",
   "execution_count": 6,
   "metadata": {},
   "outputs": [],
   "source": [
    "def create_tools(state:State):\n",
    "    tool = PythonAstREPLTool(name=\"python_repl_ast\", \n",
    "                        description=\"A Python shell. Use this to execute python commands. \\\n",
    "                                    Input should be a valid python command. When using this tool, \\\n",
    "                                    sometimes output is abbreviated - make sure it does not look abbreviated before using it in your answer.\",\n",
    "                        locals={\"df\":state[\"df\"]})\n",
    "    \n",
    "    print(\"===== Code Tool Complete =====\\n\\n\")\n",
    "\n",
    "    return {\"tool\" : tool}"
   ]
  },
  {
   "cell_type": "code",
   "execution_count": 7,
   "metadata": {},
   "outputs": [],
   "source": [
    "def create_code(state:State):\n",
    "    \n",
    "    prompt = ChatPromptTemplate([\n",
    "        (\"system\", \"\"\"당신은 pandas, matplotlib 라이브러리를 사용할 수 있는 전문가입니다. 주어진 df의 형태를 참고하여 코드를 작성합니다. \\\n",
    "                    다음은 `print(df.head())`의 형태입니다. {head}\n",
    "        \n",
    "                    ### 예시1\n",
    "                    ```python\n",
    "        \n",
    "                    len(df)\n",
    "                    ```\n",
    "                    ### 예시2\n",
    "                    ```python\n",
    "        \n",
    "                    # sum_gamerounds에 대한 히스토그램\n",
    "                    plt.figure(figsize=(12, 6))\n",
    "                    plt.barplot(df['sum_gamerounds'], bins=10, kde=True)\n",
    "                    plt.title('Distribution of Sum Gamerounds')\n",
    "                    plt.xlabel('Sum Gamerounds')\n",
    "                    plt.ylabel('Frequency')\n",
    "                    plt.grid()\n",
    "                    plt.show()\n",
    "                    ```\n",
    "         \n",
    "                    ### 주의할 점\n",
    "                    1. seaborn은 사용하지 않습니다.\n",
    "        \n",
    "        \"\"\"),\n",
    "        (\"human\", \"{query}\")\n",
    "    ])        \n",
    "    \n",
    "    chain = prompt | llm\n",
    "\n",
    "    print(\"===== 코드 템플릿 생성 완료 =====\\n\\n\")\n",
    "\n",
    "    return {\"answer\" : chain.invoke({\n",
    "        \"head\" : state[\"df\"].head(),\n",
    "        \"query\" : state[\"query\"]\n",
    "    })}"
   ]
  },
  {
   "cell_type": "code",
   "execution_count": 8,
   "metadata": {},
   "outputs": [],
   "source": [
    "def extract_code(state:State):\n",
    "\n",
    "    content = state[\"answer\"].content\n",
    "\n",
    "    try:\n",
    "        code = re.findall(r'```python\\n(.*?)\\n```', content, re.DOTALL)[0]\n",
    "\n",
    "        return {\"code\" : code}\n",
    "    except:\n",
    "        return {\"code\" : \"\"}"
   ]
  },
  {
   "cell_type": "code",
   "execution_count": 9,
   "metadata": {},
   "outputs": [],
   "source": [
    "def execute_code(state:State):\n",
    "    try:\n",
    "        state[\"tool\"].invoke(state[\"code\"])\n",
    "\n",
    "        return state\n",
    "    except:\n",
    "        print(\"코드를 실행하지 못했습니다.\")\n",
    "\n",
    "        return state\n",
    "    "
   ]
  },
  {
   "cell_type": "code",
   "execution_count": 10,
   "metadata": {},
   "outputs": [],
   "source": [
    "def response_llm(state:State):\n",
    "\n",
    "    if state[\"code\"] == \"\":\n",
    "        prompt = ChatPromptTemplate([\n",
    "            (\"system\", \"\"\" 당신은 인사이트를 제공해주는는 데이터 분야 10년차 전문가입니다.\n",
    "             이전 답변과 정보를 기반으로 질문에 대해 답변합니다.\n",
    "            \n",
    "             제목 : {title}            \n",
    "             요약 : {summary}\n",
    "\n",
    "             답변 : \"{answer}\"\n",
    "            \n",
    "            \"\"\"),\n",
    "            (\"human\", \"{query}\")\n",
    "        ])        \n",
    "        \n",
    "        chain = prompt | llm\n",
    "\n",
    "        answer = chain.invoke({\n",
    "            \"title\" : state[\"title\"],\n",
    "            \"summary\" : state[\"summary\"],\n",
    "            \"answer\" : state[\"answer\"],\n",
    "            \"query\" : state[\"query\"]\n",
    "        })\n",
    "\n",
    "        return {\"answer\" : answer}\n",
    "\n",
    "    else:\n",
    "        prompt = ChatPromptTemplate([\n",
    "            (\"system\", \"\"\"당신은 주어진 시각화 차트를 해석하고 인사이트를 제공하는 데이터 분야 10년차 전문가입니다.\n",
    "            \n",
    "            친절하고 상세하게 해당 시각화 차트를 설명해주세요.\n",
    "\n",
    "            제목 : {title}\n",
    "            요약 : {summary}\n",
    "\n",
    "            code : {code}\n",
    "            \"\"\"),\n",
    "            (\"human\", \"{query}\")\n",
    "        ])        \n",
    "        \n",
    "        chain = prompt | llm\n",
    "        \n",
    "        answer = chain.invoke({\n",
    "            \"title\" : state[\"title\"],\n",
    "            \"summary\" : state[\"summary\"],\n",
    "            \"code\" : state[\"code\"],\n",
    "            \"query\" : state[\"query\"]\n",
    "        })\n",
    "\n",
    "        return {\"answer\" : answer}"
   ]
  },
  {
   "cell_type": "code",
   "execution_count": 28,
   "metadata": {},
   "outputs": [],
   "source": [
    "def pretty_print(state:State):\n",
    "\n",
    "    print(\"\\n\\n===== Result =====\\n\\n\")\n",
    "\n",
    "    print(state[\"answer\"].content)\n",
    "    \n",
    "    return state"
   ]
  },
  {
   "cell_type": "code",
   "execution_count": 29,
   "metadata": {},
   "outputs": [],
   "source": [
    "# class intersection(BaseModel):\n",
    "#     \"\"\"\n",
    "#     당신은 도구의 실행을 결정하는 어시스턴트입니다.\n",
    "#     코드를 실행시켜야하는 경우라면 'tool' 이라고 답변하고 아닌 경우 'llm'라고 답변하세요.\n",
    "#     \"\"\"\n",
    "\n",
    "#     binary_score : Literal[\"tool\", \"llm\"] = Field(..., description=\"\"\"You are the assistant in charge of determining the execution of the tool.\n",
    "# Answer 'tool' if you need to run the code and 'llm' if you don't.\"\"\")"
   ]
  },
  {
   "cell_type": "code",
   "execution_count": 30,
   "metadata": {},
   "outputs": [],
   "source": [
    "graph_builder = StateGraph(State)"
   ]
  },
  {
   "cell_type": "code",
   "execution_count": 31,
   "metadata": {},
   "outputs": [],
   "source": [
    "graph_builder.add_node(\"init state\", init_state)\n",
    "graph_builder.add_node(\"create_title_summary\", create_title_summary)\n",
    "graph_builder.add_node(\"create_tools\", create_tools)\n",
    "graph_builder.add_node(\"create_code\", create_code)\n",
    "graph_builder.add_node(\"extract_code\", extract_code)\n",
    "graph_builder.add_node(\"execute_code\", execute_code)\n",
    "graph_builder.add_node(\"response_llm\", response_llm)\n",
    "graph_builder.add_node(\"pretty_print\", pretty_print)\n",
    "\n",
    "graph_builder.add_edge(START, \"init state\")\n",
    "graph_builder.add_edge(\"init state\", \"create_title_summary\")\n",
    "graph_builder.add_edge(\"create_title_summary\", \"create_tools\")\n",
    "graph_builder.add_edge(\"create_tools\", \"create_code\")\n",
    "graph_builder.add_edge(\"create_code\", \"extract_code\")\n",
    "graph_builder.add_edge(\"extract_code\", \"execute_code\")\n",
    "graph_builder.add_edge(\"execute_code\", \"response_llm\")\n",
    "graph_builder.add_edge(\"response_llm\", \"pretty_print\")\n",
    "graph_builder.add_edge(\"pretty_print\", END);"
   ]
  },
  {
   "cell_type": "code",
   "execution_count": 32,
   "metadata": {},
   "outputs": [],
   "source": [
    "graph = graph_builder.compile()"
   ]
  },
  {
   "cell_type": "code",
   "execution_count": 33,
   "metadata": {},
   "outputs": [
    {
     "data": {
      "image/png": "[encoded data removed]",
      "text/plain": [
       "<langgraph.graph.state.CompiledStateGraph object at 0x000001A26647FAF0>"
      ]
     },
     "execution_count": 33,
     "metadata": {},
     "output_type": "execute_result"
    }
   ],
   "source": [
    "graph"
   ]
  },
  {
   "cell_type": "code",
   "execution_count": 34,
   "metadata": {},
   "outputs": [
    {
     "name": "stdout",
     "output_type": "stream",
     "text": [
      "===== Init Complete =====\n",
      "\n",
      "\n",
      "===== 제목, 요약 생성 완료 =====\n",
      "\n",
      "\n",
      "===== Code Tool Complete =====\n",
      "\n",
      "\n",
      "===== 코드 템플릿 생성 완료 =====\n",
      "\n",
      "\n"
     ]
    },
    {
     "data": {
      "image/png": "[encoded data removed]",
      "text/plain": [
       "<Figure size 800x600 with 1 Axes>"
      ]
     },
     "metadata": {},
     "output_type": "display_data"
    },
    {
     "name": "stdout",
     "output_type": "stream",
     "text": [
      "생존자 비율: 38.38%\n",
      "\n",
      "\n",
      "===== Result =====\n",
      "\n",
      "\n",
      "제공된 코드와 설명을 바탕으로 타이타닉 생존자 데이터셋의 생존자 비율을 시각화하고 인사이트를 제공하겠습니다.\n",
      "\n",
      "### 시각화 설명\n",
      "\n",
      "1. **데이터 준비**: \n",
      "   - `df['Survived'].value_counts()`를 통해 생존자와 사망자의 수를 계산합니다. 여기서 'Survived' 열은 0(사망)과 1(생존)으로 표시됩니다.\n",
      "   - 생존자 비율은 각 생존 상태의 수를 전체 승객 수로 나누어 계산합니다.\n",
      "\n",
      "2. **시각화**:\n",
      "   - `plt.bar()` 함수를 사용하여 생존자 비율을 막대 그래프로 시각화합니다. \n",
      "   - x축은 생존 상태(사망, 생존)를 나타내고, y축은 비율을 나타냅니다.\n",
      "   - 생존자는 초록색, 사망자는 빨간색으로 표시하여 시각적으로 구분합니다.\n",
      "   - 그래프의 제목은 \"Survival Rate on the Titanic\"이며, x축과 y축의 레이블도 설정되어 있습니다.\n",
      "   - y축의 범위는 0에서 1로 설정하여 비율을 명확하게 보여줍니다.\n",
      "\n",
      "### 인사이트 제공\n",
      "\n",
      "- **생존자 비율**: \n",
      "  - 생존자 비율은 약 **38.38%**입니다. 이는 전체 승객 중 약 38.38%가 생존했다는 것을 의미합니다.\n",
      "  \n",
      "- **사망자 비율**: \n",
      "  - 사망자 비율은 약 **61.62%**입니다. 이는 전체 승객 중 약 61.62%가 사망했다는 것을 나타냅니다.\n",
      "\n",
      "### 결론\n",
      "\n",
      "타이타닉 호의 승객 중 생존자 비율이 38.38%로, 사망자 비율이 61.62%로 나타났습니다. 이는 타이타닉 사고가 매우 치명적이었음을 보여줍니다. 이 데이터는 생존자와 사망자의 특성을 분석하여, 생존에 영향을 미친 요인(예: 성별, 나이, 객실 등급 등)을 추가적으로 연구하는 데 유용할 수 있습니다. \n",
      "\n",
      "이러한 분석을 통해 우리는 생존자와 사망자의 특성을 비교하고, 향후 유사한 상황에서의 생존 가능성을 높이기 위한 통찰을 얻을 수 있습니다.\n"
     ]
    }
   ],
   "source": [
    "invoke_result = graph.invoke({\"query\": \"생존자의 비율 시각화하고 인사이트 제공해줘.\"})"
   ]
  }
 ],
 "metadata": {
  "kernelspec": {
   "display_name": "Modulabs",
   "language": "python",
   "name": "python3"
  },
  "language_info": {
   "codemirror_mode": {
    "name": "ipython",
    "version": 3
   },
   "file_extension": ".py",
   "mimetype": "text/x-python",
   "name": "python",
   "nbconvert_exporter": "python",
   "pygments_lexer": "ipython3",
   "version": "3.10.12"
  }
 },
 "nbformat": 4,
 "nbformat_minor": 2
}
