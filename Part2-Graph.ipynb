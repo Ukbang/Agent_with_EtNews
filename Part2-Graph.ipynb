{
 "cells": [
  {
   "cell_type": "code",
   "execution_count": 6,
   "metadata": {},
   "outputs": [
    {
     "data": {
      "text/plain": [
       "True"
      ]
     },
     "execution_count": 6,
     "metadata": {},
     "output_type": "execute_result"
    }
   ],
   "source": [
    "from langchain_community.document_loaders.csv_loader import CSVLoader\n",
    "import pandas as pd\n",
    "from IPython.display import Markdown\n",
    "import re\n",
    "\n",
    "from typing import Annotated, Literal\n",
    "from typing_extensions import TypedDict\n",
    "from langchain_openai import ChatOpenAI, OpenAIEmbeddings\n",
    "from langchain.text_splitter import RecursiveCharacterTextSplitter\n",
    "from langchain_community.vectorstores import FAISS\n",
    "from langchain_community.tools.tavily_search import TavilySearchResults\n",
    "from langchain.tools.retriever import create_retriever_tool\n",
    "from langchain.document_loaders import PyMuPDFLoader, PyPDFLoader\n",
    "from langgraph.graph import StateGraph, START, END\n",
    "from langgraph.graph.message import add_messages\n",
    "from langgraph.prebuilt import ToolNode, tools_condition\n",
    "from langgraph.checkpoint.memory import MemorySaver\n",
    "from langchain_core.prompts import ChatPromptTemplate, PromptTemplate\n",
    "from langchain_core.tools import tool\n",
    "from langchain_core.documents.base import Document\n",
    "from langchain_core.vectorstores.base import VectorStoreRetriever\n",
    "from langchain_core.output_parsers.openai_tools import JsonOutputToolsParser\n",
    "from langchain_core.output_parsers.string import StrOutputParser\n",
    "from langchain.schema.runnable import RunnablePassthrough, RunnableLambda\n",
    "from langchain_experimental.utilities import PythonREPL\n",
    "from langchain_experimental.tools.python.tool import PythonAstREPLTool\n",
    "from pydantic import BaseModel, Field\n",
    "from markitdown import MarkItDown\n",
    "import dotenv\n",
    "import os\n",
    "\n",
    "dotenv.load_dotenv()"
   ]
  },
  {
   "cell_type": "code",
   "execution_count": 67,
   "metadata": {},
   "outputs": [],
   "source": [
    "# file_path = \"./data/athlete_events.csv\"\n",
    "file_path = \"./data/titanic.csv\"\n",
    "\n",
    "llm = ChatOpenAI(model=\"gpt-4o-mini\",\n",
    "                 temperature=0.,)"
   ]
  },
  {
   "cell_type": "code",
   "execution_count": 92,
   "metadata": {},
   "outputs": [],
   "source": [
    "class State(TypedDict):\n",
    "    query : Annotated[str, \"User Question\"]\n",
    "    answer : Annotated[str, \"LLM Response\"]\n",
    "    df : Annotated[pd.DataFrame, \"Dataset\"]\n",
    "    title : Annotated[str, \"Dataset Title\"]\n",
    "    summary : Annotated[str, \"Dataset Summary\"]\n",
    "    tool : Annotated[PythonAstREPLTool, \"Code Execute Tool\"]\n",
    "    code : Annotated[str, \"Python Code\"]"
   ]
  },
  {
   "cell_type": "code",
   "execution_count": 93,
   "metadata": {},
   "outputs": [],
   "source": [
    "def check_tools(state:State):\n",
    "\n",
    "    print(\"tool\" in state)\n",
    "    print(\"df\" in state)\n",
    "\n",
    "    print(state)\n",
    "    \n",
    "    if \"tool\" in state and \"df\" in state:\n",
    "        return \"continue\"\n",
    "    else:\n",
    "        return \"new\""
   ]
  },
  {
   "cell_type": "code",
   "execution_count": 94,
   "metadata": {},
   "outputs": [],
   "source": [
    "def setup(state:State):\n",
    "    df = pd.read_csv(file_path)\n",
    "\n",
    "    print(\"===== 데이터프레임 생성 완료 =====\\n\\n\")\n",
    "\n",
    "    df_sampled = df.sample(n=5000) if len(df) > 5000 else df\n",
    "\n",
    "    prompt = PromptTemplate.from_template(\"\"\"\n",
    "            당신은 요약 전문가입니다.\n",
    "           \n",
    "            데이터셋 : {df}\n",
    "\n",
    "            데이터셋의 정보를 보고 제목과 요약을 만들어냅니다.\n",
    "            제목은 이 데이터셋을 가장 잘 표현할 수 있는 제목으로 결정하여야합니다.\n",
    "\n",
    "            참고할 정보는 아래와 같습니다.\n",
    "            \"\"\"\n",
    "            f\"\"\"                                          \n",
    "            파일 이름 : {file_path.split(\"/\")[-1]}\n",
    "\n",
    "            1. 제목: \n",
    "            2. 요약: \n",
    "\n",
    "            \"\"\"\n",
    "            )\n",
    "    \n",
    "    chain = prompt | llm\n",
    "    \n",
    "    result = chain.invoke({\"df\":df_sampled}).content\n",
    "\n",
    "    title = \"Untitled\"\n",
    "    summary = \"No Summary\"    \n",
    "\n",
    "    try:\n",
    "        lines = result.split(\"\\n\")\n",
    "        title = lines[0].replace(\"1. 제목: \", \"\").strip()\n",
    "        summary = \"\\n\".join(lines[1:]).replace(\"2. 요약:\", \"\").strip()\n",
    "    except:\n",
    "        pass\n",
    "\n",
    "    print(\"===== 제목, 요약 생성 완료 =====\\n\\n\")\n",
    "\n",
    "    tool = PythonAstREPLTool(name=\"python_repl_ast\", \n",
    "                        description=\"A Python shell. Use this to execute python commands. \\\n",
    "                                    Input should be a valid python command. When using this tool, \\\n",
    "                                    sometimes output is abbreviated - make sure it does not look abbreviated before using it in your answer.\",\n",
    "                        locals={\"df\":df})    \n",
    "\n",
    "    print(\"===== 코드 툴 생성 완료 =====\\n\\n\")\n",
    "\n",
    "    return {\"df\" : df,\n",
    "            \"title\" : title,\n",
    "            \"summary\" : summary,\n",
    "            \"tool\" : tool}"
   ]
  },
  {
   "cell_type": "code",
   "execution_count": 95,
   "metadata": {},
   "outputs": [],
   "source": [
    "def init_state(state:State):\n",
    "    df = pd.read_csv(file_path)\n",
    "\n",
    "    print(\"===== Init Complete =====\\n\\n\")\n",
    "    \n",
    "    return {\"df\" : df}"
   ]
  },
  {
   "cell_type": "code",
   "execution_count": 96,
   "metadata": {},
   "outputs": [],
   "source": [
    "def create_title_summary(state:State):\n",
    "\n",
    "    df_sampled = state[\"df\"].sample(n=5000) if len(state[\"df\"]) > 5000 else state[\"df\"]\n",
    "\n",
    "    prompt = PromptTemplate.from_template(\"\"\"\n",
    "            당신은 요약 전문가입니다.\n",
    "           \n",
    "            데이터셋 : {df}\n",
    "\n",
    "            데이터셋의 정보를 보고 제목과 요약을 만들어냅니다.\n",
    "            제목은 이 데이터셋을 가장 잘 표현할 수 있는 제목으로 결정하여야합니다.\n",
    "\n",
    "            참고할 정보는 아래와 같습니다.\n",
    "            \"\"\"\n",
    "            f\"\"\"                                          \n",
    "            파일 이름 : {file_path.split(\"/\")[-1]}\n",
    "\n",
    "            1. 제목: \n",
    "            2. 요약: \n",
    "\n",
    "            \"\"\"\n",
    "            )\n",
    "    \n",
    "    chain = prompt | llm\n",
    "    \n",
    "    result = chain.invoke({\"df\":df_sampled}).content\n",
    "\n",
    "    title = \"Untitled\"\n",
    "    summary = \"No Summary\"    \n",
    "\n",
    "    try:\n",
    "        lines = result.split(\"\\n\")\n",
    "        title = lines[0].replace(\"1. 제목: \", \"\").strip()\n",
    "        summary = \"\\n\".join(lines[1:]).replace(\"2. 요약:\", \"\").strip()\n",
    "    except:\n",
    "        pass\n",
    "\n",
    "    print(\"===== 제목, 요약 생성 완료 =====\\n\\n\")\n",
    "    return {\"title\":title, \n",
    "            \"summary\" :summary}"
   ]
  },
  {
   "cell_type": "code",
   "execution_count": 97,
   "metadata": {},
   "outputs": [],
   "source": [
    "def create_tools(state:State):\n",
    "    tool = PythonAstREPLTool(name=\"python_repl_ast\", \n",
    "                        description=\"A Python shell. Use this to execute python commands. \\\n",
    "                                    Input should be a valid python command. When using this tool, \\\n",
    "                                    sometimes output is abbreviated - make sure it does not look abbreviated before using it in your answer.\",\n",
    "                        locals={\"df\":state[\"df\"]})\n",
    "    \n",
    "    print(\"===== Code Tool Complete =====\\n\\n\")\n",
    "\n",
    "    return {\"tool\" : tool}"
   ]
  },
  {
   "cell_type": "code",
   "execution_count": 98,
   "metadata": {},
   "outputs": [],
   "source": [
    "def create_code(state:State):\n",
    "    \n",
    "    prompt = ChatPromptTemplate([\n",
    "        (\"system\", \"\"\"당신은 pandas, matplotlib 라이브러리를 사용할 수 있는 전문가입니다. 주어진 df의 형태를 참고하여 코드를 작성합니다. \\\n",
    "                    다음은 `print(df.head())`의 형태입니다. {head}\n",
    "        \n",
    "                    ### 예시1\n",
    "                    ```python\n",
    "        \n",
    "                    len(df)\n",
    "                    ```\n",
    "                    ### 예시2\n",
    "                    ```python\n",
    "        \n",
    "                    # sum_gamerounds에 대한 히스토그램\n",
    "                    plt.figure(figsize=(12, 6))\n",
    "                    plt.barplot(df['sum_gamerounds'], bins=10, kde=True)\n",
    "                    plt.title('Distribution of Sum Gamerounds')\n",
    "                    plt.xlabel('Sum Gamerounds')\n",
    "                    plt.ylabel('Frequency')\n",
    "                    plt.grid()\n",
    "                    plt.show()\n",
    "                    ```\n",
    "         \n",
    "                    ### 주의할 점\n",
    "                    1. seaborn은 사용하지 않습니다.\n",
    "        \n",
    "        \"\"\"),\n",
    "        (\"human\", \"{query}\")\n",
    "    ])        \n",
    "    \n",
    "    chain = prompt | llm\n",
    "\n",
    "    print(\"===== 코드 템플릿 생성 완료 =====\\n\\n\")\n",
    "\n",
    "    return {\"answer\" : chain.invoke({\n",
    "        \"head\" : state[\"df\"].head(),\n",
    "        \"query\" : state[\"query\"]\n",
    "    })}"
   ]
  },
  {
   "cell_type": "code",
   "execution_count": 99,
   "metadata": {},
   "outputs": [],
   "source": [
    "def extract_code(state:State):\n",
    "\n",
    "    content = state[\"answer\"].content\n",
    "\n",
    "    try:\n",
    "        code = re.findall(r'```python\\n(.*?)\\n```', content, re.DOTALL)[0]\n",
    "\n",
    "        return {\"code\" : code}\n",
    "    except:\n",
    "        return {\"code\" : \"\"}"
   ]
  },
  {
   "cell_type": "code",
   "execution_count": 100,
   "metadata": {},
   "outputs": [],
   "source": [
    "def execute_code(state:State):\n",
    "    try:\n",
    "        state[\"tool\"].invoke(state[\"code\"])\n",
    "\n",
    "        return state\n",
    "    except:\n",
    "        print(\"코드를 실행하지 못했습니다.\")\n",
    "\n",
    "        return state\n",
    "    "
   ]
  },
  {
   "cell_type": "code",
   "execution_count": null,
   "metadata": {},
   "outputs": [],
   "source": [
    "def response_llm(state:State):\n",
    "\n",
    "    if state[\"code\"] == \"\":\n",
    "        prompt = ChatPromptTemplate([\n",
    "            (\"system\", \"\"\" 당신은 인사이트를 제공해주는는 데이터 분야 10년차 전문가입니다.\n",
    "             이전 답변과 정보를 기반으로 질문에 대해 답변합니다.\n",
    "            \n",
    "             제목 : {title}            \n",
    "             요약 : {summary}\n",
    "\n",
    "             답변 : \"{answer}\"\n",
    "            \n",
    "            \"\"\"),\n",
    "            (\"human\", \"{query}\")\n",
    "        ])        \n",
    "        \n",
    "        chain = prompt | llm\n",
    "\n",
    "        answer = chain.invoke({\n",
    "            \"title\" : state[\"title\"],\n",
    "            \"summary\" : state[\"summary\"],\n",
    "            \"answer\" : state[\"answer\"],\n",
    "            \"query\" : state[\"query\"]\n",
    "        })\n",
    "\n",
    "        return {\"answer\" : answer}\n",
    "\n",
    "    else:\n",
    "        prompt = ChatPromptTemplate([\n",
    "            (\"system\", \"\"\"당신은 주어진 시각화 차트를 해석하고 인사이트를 제공하는 데이터 분야 10년차 전문가입니다.\n",
    "            \n",
    "            친절하고 상세하게 해당 시각화 차트를 설명해주세요.\n",
    "            단, 코드를 설명하는 것이 아닙니다.\n",
    "            숫자를 물어본다면 정확한 숫자까지 이야기하세요.\n",
    "\n",
    "            제목 : {title}\n",
    "            요약 : {summary}\n",
    "\n",
    "            code : {code}\n",
    "            \"\"\"),\n",
    "            (\"human\", \"{query}\")\n",
    "        ])        \n",
    "        \n",
    "        chain = prompt | llm\n",
    "        \n",
    "        answer = chain.invoke({\n",
    "            \"title\" : state[\"title\"],\n",
    "            \"summary\" : state[\"summary\"],\n",
    "            \"code\" : state[\"code\"],\n",
    "            \"query\" : state[\"query\"]\n",
    "        })\n",
    "\n",
    "        return {\"answer\" : answer}"
   ]
  },
  {
   "cell_type": "code",
   "execution_count": 102,
   "metadata": {},
   "outputs": [],
   "source": [
    "def pretty_print(state:State):\n",
    "\n",
    "    print(\"\\n\\n===== Result =====\\n\\n\")\n",
    "\n",
    "    print(state[\"answer\"].content)\n",
    "    \n",
    "    return state"
   ]
  },
  {
   "cell_type": "code",
   "execution_count": 103,
   "metadata": {},
   "outputs": [],
   "source": [
    "# class intersection(BaseModel):\n",
    "#     \"\"\"\n",
    "#     당신은 도구의 실행을 결정하는 어시스턴트입니다.\n",
    "#     코드를 실행시켜야하는 경우라면 'tool' 이라고 답변하고 아닌 경우 'llm'라고 답변하세요.\n",
    "#     \"\"\"\n",
    "\n",
    "#     binary_score : Literal[\"tool\", \"llm\"] = Field(..., description=\"\"\"You are the assistant in charge of determining the execution of the tool.\n",
    "# Answer 'tool' if you need to run the code and 'llm' if you don't.\"\"\")"
   ]
  },
  {
   "cell_type": "code",
   "execution_count": 104,
   "metadata": {},
   "outputs": [],
   "source": [
    "graph_builder = StateGraph(State)"
   ]
  },
  {
   "cell_type": "code",
   "execution_count": 105,
   "metadata": {},
   "outputs": [],
   "source": [
    "# graph_builder.add_node(\"init state\", init_state)\n",
    "# graph_builder.add_node(\"create_title_summary\", create_title_summary)\n",
    "# graph_builder.add_node(\"create_tools\", create_tools)\n",
    "# graph_builder.add_node(\"create_code\", create_code)\n",
    "# graph_builder.add_node(\"extract_code\", extract_code)\n",
    "# graph_builder.add_node(\"execute_code\", execute_code)\n",
    "# graph_builder.add_node(\"response_llm\", response_llm)\n",
    "# graph_builder.add_node(\"pretty_print\", pretty_print)\n",
    "\n",
    "# graph_builder.add_edge(START, \"init state\")\n",
    "# graph_builder.add_edge(\"init state\", \"create_title_summary\")\n",
    "# graph_builder.add_edge(\"create_title_summary\", \"create_tools\")\n",
    "# graph_builder.add_edge(\"create_tools\", \"create_code\")\n",
    "# graph_builder.add_edge(\"create_code\", \"extract_code\")\n",
    "# graph_builder.add_edge(\"extract_code\", \"execute_code\")\n",
    "# graph_builder.add_edge(\"execute_code\", \"response_llm\")\n",
    "# graph_builder.add_edge(\"response_llm\", \"pretty_print\")\n",
    "# graph_builder.add_edge(\"pretty_print\", END);"
   ]
  },
  {
   "cell_type": "code",
   "execution_count": 106,
   "metadata": {},
   "outputs": [],
   "source": [
    "# graph_builder.add_node(\"check_tools\", check_tools)\n",
    "graph_builder.add_node(\"setup\", setup)\n",
    "# graph_builder.add_node(\"init state\", init_state)\n",
    "# graph_builder.add_node(\"create_title_summary\", create_title_summary)\n",
    "# graph_builder.add_node(\"create_tools\", create_tools)\n",
    "graph_builder.add_node(\"create_code\", create_code)\n",
    "graph_builder.add_node(\"extract_code\", extract_code)\n",
    "graph_builder.add_node(\"execute_code\", execute_code)\n",
    "graph_builder.add_node(\"response_llm\", response_llm)\n",
    "graph_builder.add_node(\"pretty_print\", pretty_print)\n",
    "\n",
    "graph_builder.add_conditional_edges(START,\n",
    "                                    check_tools,\n",
    "                                    {\"new\":\"setup\",\n",
    "                                     \"continue\":\"create_code\"}\n",
    "                                     )\n",
    "graph_builder.add_edge(\"setup\", \"create_code\")\n",
    "graph_builder.add_edge(\"create_code\", \"extract_code\")\n",
    "graph_builder.add_edge(\"extract_code\", \"execute_code\")\n",
    "graph_builder.add_edge(\"execute_code\", \"response_llm\")\n",
    "graph_builder.add_edge(\"response_llm\", \"pretty_print\")\n",
    "graph_builder.add_edge(\"pretty_print\", END);"
   ]
  },
  {
   "cell_type": "code",
   "execution_count": 107,
   "metadata": {},
   "outputs": [],
   "source": [
    "graph = graph_builder.compile()"
   ]
  },
  {
   "cell_type": "code",
   "execution_count": 108,
   "metadata": {},
   "outputs": [
    {
     "data": {
      "image/png": "[encoded data removed]",
      "text/plain": [
       "<langgraph.graph.state.CompiledStateGraph object at 0x000001E51F25D3C0>"
      ]
     },
     "execution_count": 108,
     "metadata": {},
     "output_type": "execute_result"
    }
   ],
   "source": [
    "graph"
   ]
  },
  {
   "cell_type": "code",
   "execution_count": 85,
   "metadata": {},
   "outputs": [
    {
     "name": "stdout",
     "output_type": "stream",
     "text": [
      "===== 데이터프레임 생성 완료 =====\n",
      "\n",
      "\n",
      "===== 제목, 요약 생성 완료 =====\n",
      "\n",
      "\n",
      "===== 코드 툴 생성 완료 =====\n",
      "\n",
      "\n",
      "===== 코드 템플릿 생성 완료 =====\n",
      "\n",
      "\n"
     ]
    },
    {
     "data": {
      "image/png": "[encoded data removed]",
      "text/plain": [
       "<Figure size 800x600 with 1 Axes>"
      ]
     },
     "metadata": {},
     "output_type": "display_data"
    },
    {
     "name": "stdout",
     "output_type": "stream",
     "text": [
      "생존자 비율: 38.38%\n",
      "\n",
      "\n",
      "===== Result =====\n",
      "\n",
      "\n",
      "제목: **타이타닉 생존자 비율 시각화**\n",
      "\n",
      "이 시각화는 타이타닉 호에서의 생존자와 사망자의 비율을 보여줍니다. 차트는 두 개의 바로 구성되어 있으며, 각각 생존 여부에 따라 '생존하지 않은 경우(Not Survived)'와 '생존한 경우(Survived)'를 나타냅니다. \n",
      "\n",
      "- **생존하지 않은 경우(Not Survived)**: 이 바는 빨간색으로 표시되어 있으며, 전체 승객 중 생존하지 못한 비율을 나타냅니다.\n",
      "- **생존한 경우(Survived)**: 이 바는 초록색으로 표시되어 있으며, 전체 승객 중 생존한 비율을 나타냅니다.\n",
      "\n",
      "차트의 Y축은 생존 비율을 0에서 1까지의 범위로 설정하여, 각 생존 상태의 비율을 직관적으로 비교할 수 있도록 하였습니다. X축은 생존 상태를 나타내며, 각 바의 높이는 해당 상태의 비율을 나타냅니다. \n",
      "\n",
      "이 시각화를 통해 다음과 같은 인사이트를 얻을 수 있습니다:\n",
      "\n",
      "1. **생존자 비율**: 전체 승객 중 약 38.38%가 생존하였음을 알 수 있습니다. 이는 타이타닉 호의 비극적인 사고에서 생존한 승객의 비율을 나타내며, 생존자 수가 상대적으로 적다는 것을 보여줍니다.\n",
      "\n",
      "2. **사망자 비율**: 반면, 약 61.62%의 승객이 사망하였음을 나타냅니다. 이는 사고의 심각성을 강조하며, 많은 승객이 구조되지 못했음을 시사합니다.\n",
      "\n",
      "이 데이터는 생존율 분석 및 다양한 인구 통계적 요인과의 관계를 연구하는 데 중요한 기초 자료가 될 수 있습니다. 예를 들어, 생존자와 사망자의 성별, 나이, 객실 등급 등의 특성을 추가적으로 분석하면, 생존에 영향을 미친 요인들을 더 깊이 이해할 수 있을 것입니다.\n"
     ]
    }
   ],
   "source": [
    "invoke_result = graph.invoke({\"query\": \"생존자의 비율 시각화하고 인사이트 제공해줘.\"})"
   ]
  },
  {
   "cell_type": "code",
   "execution_count": 109,
   "metadata": {},
   "outputs": [
    {
     "name": "stdout",
     "output_type": "stream",
     "text": [
      "False\n",
      "False\n",
      "{'query': '성별 비율 알려줘'}\n",
      "===== 데이터프레임 생성 완료 =====\n",
      "\n",
      "\n",
      "===== 제목, 요약 생성 완료 =====\n",
      "\n",
      "\n",
      "===== 코드 툴 생성 완료 =====\n",
      "\n",
      "\n",
      "===== 코드 템플릿 생성 완료 =====\n",
      "\n",
      "\n"
     ]
    },
    {
     "data": {
      "image/png": "[encoded data removed]",
      "text/plain": [
       "<Figure size 800x500 with 1 Axes>"
      ]
     },
     "metadata": {},
     "output_type": "display_data"
    },
    {
     "name": "stdout",
     "output_type": "stream",
     "text": [
      "\n",
      "\n",
      "===== Result =====\n",
      "\n",
      "\n",
      "제공된 시각화 차트는 타이타닉 승객의 성별 비율을 나타내고 있습니다. 이 차트는 두 가지 성별, 즉 남성과 여성의 비율을 비교하는 바 차트 형태로 구성되어 있습니다.\n",
      "\n",
      "1. **성별 비율**: 차트에서 남성과 여성의 비율이 각각 어떻게 분포되어 있는지를 보여줍니다. 일반적으로 타이타닉 승객 데이터셋에서는 남성이 여성보다 더 많은 비율을 차지하는 경향이 있습니다. 이 비율은 생존율 분석에 중요한 요소로 작용할 수 있습니다.\n",
      "\n",
      "2. **색상 구분**: 남성은 파란색, 여성은 분홍색으로 표시되어 있어 시각적으로 쉽게 구분할 수 있습니다. 이러한 색상 구분은 데이터의 이해를 돕고, 각 성별의 비율을 직관적으로 파악할 수 있게 합니다.\n",
      "\n",
      "3. **비율의 해석**: 차트의 Y축은 각 성별의 비율을 나타내며, 이 비율은 0과 1 사이의 값으로 표현됩니다. 예를 들어, 만약 남성이 0.6, 여성이 0.4로 나타난다면, 이는 전체 승객 중 60%가 남성이고 40%가 여성이라는 것을 의미합니다.\n",
      "\n",
      "4. **추가적인 인사이트**: 성별 비율은 생존율과 밀접한 관계가 있을 수 있습니다. 역사적으로 타이타닉 사고에서 여성과 어린이의 생존율이 남성보다 높았다는 점을 고려할 때, 이 성별 비율은 생존 분석에 중요한 기초 데이터를 제공합니다.\n",
      "\n",
      "이 차트를 통해 타이타닉 승객의 성별 분포를 명확히 이해할 수 있으며, 이는 이후의 생존율 분석 및 인구 통계적 연구에 중요한 기초 자료로 활용될 수 있습니다.\n"
     ]
    }
   ],
   "source": [
    "invoke_result2 = graph.invoke({\"query\": \"성별 비율 알려줘\"})"
   ]
  },
  {
   "cell_type": "code",
   "execution_count": null,
   "metadata": {},
   "outputs": [],
   "source": []
  }
 ],
 "metadata": {
  "kernelspec": {
   "display_name": "Modulabs",
   "language": "python",
   "name": "python3"
  },
  "language_info": {
   "codemirror_mode": {
    "name": "ipython",
    "version": 3
   },
   "file_extension": ".py",
   "mimetype": "text/x-python",
   "name": "python",
   "nbconvert_exporter": "python",
   "pygments_lexer": "ipython3",
   "version": "3.10.12"
  }
 },
 "nbformat": 4,
 "nbformat_minor": 2
}
