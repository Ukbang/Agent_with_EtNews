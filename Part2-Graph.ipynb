{
 "cells": [
  {
   "cell_type": "code",
   "execution_count": null,
   "metadata": {},
   "outputs": [
    {
     "data": {
      "text/plain": [
       "True"
      ]
     },
     "execution_count": 1,
     "metadata": {},
     "output_type": "execute_result"
    }
   ],
   "source": [
    "import pandas as pd\n",
    "import re\n",
    "\n",
    "from typing import Annotated, Literal\n",
    "from typing_extensions import TypedDict\n",
    "from langchain_openai import ChatOpenAI\n",
    "from langchain.schema import HumanMessage, AIMessage\n",
    "from langgraph.graph import StateGraph, START, END\n",
    "from langgraph.graph.message import add_messages\n",
    "from langgraph.checkpoint.memory import MemorySaver\n",
    "from langchain_core.prompts import ChatPromptTemplate, PromptTemplate\n",
    "from langchain_core.runnables import RunnableConfig\n",
    "from langchain_experimental.tools.python.tool import PythonAstREPLTool\n",
    "from pydantic import BaseModel, Field\n",
    "import dotenv\n",
    "import os\n",
    "\n",
    "dotenv.load_dotenv()"
   ]
  },
  {
   "cell_type": "code",
   "execution_count": 2,
   "metadata": {},
   "outputs": [],
   "source": [
    "class State(TypedDict):\n",
    "    query : Annotated[str, \"User Question\"]\n",
    "    code : Annotated[str, \"Python Code\"]\n",
    "    messages : Annotated[list, add_messages]"
   ]
  },
  {
   "cell_type": "code",
   "execution_count": 3,
   "metadata": {},
   "outputs": [],
   "source": [
    "def create_title_summary(df):\n",
    "\n",
    "    df_sampled = df.sample(n=5000) if len(df) > 5000 else df\n",
    "\n",
    "    prompt = PromptTemplate.from_template(\"\"\"\n",
    "            당신은 요약 전문가입니다.\n",
    "           \n",
    "            데이터셋 : {df}\n",
    "\n",
    "            데이터셋의 정보를 보고 제목과 요약을 만들어냅니다.\n",
    "            제목은 이 데이터셋을 가장 잘 표현할 수 있는 제목으로 결정하여야합니다.\n",
    "\n",
    "            참고할 정보는 아래와 같습니다.\n",
    "            \"\"\"\n",
    "            f\"\"\"                                          \n",
    "            파일 이름 : {file_path.split(\"/\")[-1]}\n",
    "\n",
    "            1. 제목: \n",
    "            2. 요약: \n",
    "\n",
    "            \"\"\"\n",
    "            )\n",
    "    \n",
    "    chain = prompt | llm\n",
    "    \n",
    "    result = chain.invoke({\"df\":df_sampled}).content\n",
    "\n",
    "    title = \"Untitled\"\n",
    "    summary = \"No Summary\"    \n",
    "\n",
    "    try:\n",
    "        lines = result.split(\"\\n\")\n",
    "        title = lines[0].replace(\"1. 제목: \", \"\").strip()\n",
    "        summary = \"\\n\".join(lines[1:]).replace(\"2. 요약:\", \"\").strip()\n",
    "    except:\n",
    "        pass\n",
    "\n",
    "    print(\"===== 제목, 요약 생성 완료 =====\\n\\n\")\n",
    "    \n",
    "    return title, summary"
   ]
  },
  {
   "cell_type": "code",
   "execution_count": 4,
   "metadata": {},
   "outputs": [],
   "source": [
    "class Discriminator(BaseModel):\n",
    "    \"\"\"\n",
    "    주어진 데이터와 관련이 있는 정보인지 판단하고 분석을 할 준비를 진행합니다.\n",
    "    데이터와 관련이 있는 질문이라면 \"yes\", 기존 지식으로만 답변할 수 있다면 \"no\"라고 답변하세요.\n",
    "    \"\"\"\n",
    "\n",
    "    binary : Literal[\"yes\", \"no\"] = Field(..., description=\"\"\"Determine if the information is relevant to the given data and prepare for analysis.\n",
    "Answer \"yes\" if the questions are related to the data, and \"no\" if the questions can only be answered with existing knowledge.\"\"\")"
   ]
  },
  {
   "cell_type": "code",
   "execution_count": 5,
   "metadata": {},
   "outputs": [],
   "source": [
    "class Judge(BaseModel):\n",
    "    \"\"\"\n",
    "    당신은 AI에이전트입니다.\n",
    "    가지고 있는 도구는 아래와 같습니다.\n",
    "\n",
    "    1. PythonAstREPLTool : 텍스트로 된 파이썬 코드를 실행시킬 수 있는 도구\n",
    "\n",
    "    입력된 값을 기준으로 판단했을 때 도구를 실행시켜야하는 경우라면 'tool', 코드를 실행시키지 않아도 되는 경우에는 'llm'이라고 답변하세요.\n",
    "    \"\"\"\n",
    "\n",
    "    select_tool : Literal[\"tool\", \"llm\"] = Field(..., description=\"\"\"You are the assistant in charge of determining the execution of the tool.\n",
    "Answer 'tool' if you need to run the code and 'llm' if you don't.\"\"\")"
   ]
  },
  {
   "cell_type": "code",
   "execution_count": 6,
   "metadata": {},
   "outputs": [],
   "source": [
    "recent = \"\""
   ]
  },
  {
   "cell_type": "code",
   "execution_count": 7,
   "metadata": {},
   "outputs": [],
   "source": [
    "file_path = \"./data/titanic.csv\"\n",
    "df = pd.read_csv(file_path)\n",
    "\n",
    "llm = ChatOpenAI(model=\"gpt-4o-mini\",\n",
    "                 temperature=0.,)\n",
    "\n",
    "tool = PythonAstREPLTool(name=\"python_repl_ast\", \n",
    "                        description=\"A Python shell. Use this to execute python commands. \\\n",
    "                                    Input should be a valid python command. When using this tool, \\\n",
    "                                    sometimes output is abbreviated - make sure it does not look abbreviated before using it in your answer.\",\n",
    "                        locals={\"df\":df})    "
   ]
  },
  {
   "cell_type": "code",
   "execution_count": 8,
   "metadata": {},
   "outputs": [
    {
     "name": "stdout",
     "output_type": "stream",
     "text": [
      "===== 제목, 요약 생성 완료 =====\n",
      "\n",
      "\n"
     ]
    }
   ],
   "source": [
    "title, summary = create_title_summary(df)"
   ]
  },
  {
   "cell_type": "code",
   "execution_count": 9,
   "metadata": {},
   "outputs": [],
   "source": [
    "discriminator = ChatOpenAI(model=\"gpt-4o-mini\",\n",
    "                          temperature=0.,).with_structured_output(Discriminator)\n",
    "\n",
    "judge = ChatOpenAI(model=\"gpt-4o-mini\",\n",
    "                          temperature=0.,).with_structured_output(Judge)"
   ]
  },
  {
   "cell_type": "code",
   "execution_count": 10,
   "metadata": {},
   "outputs": [],
   "source": [
    "def Discriminate(state:State):\n",
    "\n",
    "    prompt = ChatPromptTemplate.from_messages([\n",
    "        (\"system\",\"df : {df}\"),\n",
    "        (\"human\", \"query : {query}\")\n",
    "    ])\n",
    "\n",
    "    chain = prompt | discriminator\n",
    "\n",
    "    result = chain.invoke({\"df\":df.head(),\n",
    "                           \"query\":state[\"query\"]}).binary\n",
    "    \n",
    "    global recent\n",
    "    recent = result\n",
    "\n",
    "    return result"
   ]
  },
  {
   "cell_type": "code",
   "execution_count": 11,
   "metadata": {},
   "outputs": [],
   "source": [
    "def Judgement(state:State):\n",
    "\n",
    "    prompt = ChatPromptTemplate.from_messages([\n",
    "        (\"system\",\"\"\" 당신은 10년차 데이터 분석 전문가 및 해결사입니다.\n",
    "                    질문의 결과를 위해 코드 실행이 필요한지 여부를 판단해야합니다.\n",
    "                    그 판단을 위해 당신에겐 샘플 데이터가 주어집니다.\n",
    "                    코드 실행이 필요하지 않다면 \"llm\"이라고 답변하세요.\n",
    "                    하지만, 코드 실행을 해야한다면 \"tool\"을 반환합니다.\n",
    "                    \n",
    "                    ### 샘플 데이터\n",
    "                    title : {title}\n",
    "                    summary : {summary}\n",
    "                    \n",
    "                    df : {df}\n",
    "                    ---\n",
    "\n",
    "                \"\"\"),\n",
    "        (\"human\", \"query : {query}\")\n",
    "    ])\n",
    "\n",
    "    chain = prompt | judge\n",
    "\n",
    "    result = chain.invoke({\"title\":title,\n",
    "                            \"summary\":summary,\n",
    "                            \"df\" : df.head(),\n",
    "                            \"query\":state[\"query\"]}).select_tool\n",
    "\n",
    "    global recent\n",
    "    recent = result\n",
    "\n",
    "    return result"
   ]
  },
  {
   "cell_type": "code",
   "execution_count": 12,
   "metadata": {},
   "outputs": [],
   "source": [
    "def create_code(state:State):\n",
    "    \n",
    "    prompt = ChatPromptTemplate([\n",
    "        (\"system\", \"\"\"당신은 pandas, matplotlib 라이브러리를 사용할 수 있는 전문가입니다. 주어진 df의 형태를 참고하여 코드를 작성합니다. \\\n",
    "                    다음은 `print(df.head())`의 형태입니다. {head}\n",
    "        \n",
    "                    ### 예시1\n",
    "                    ```python\n",
    "        \n",
    "                    len(df)\n",
    "                    ```\n",
    "                    ### 예시2\n",
    "                    ```python\n",
    "        \n",
    "                    # sum_gamerounds에 대한 히스토그램\n",
    "                    plt.figure(figsize=(12, 6))\n",
    "                    plt.barplot(df['sum_gamerounds'], bins=10, kde=True)\n",
    "                    plt.title('Distribution of Sum Gamerounds')\n",
    "                    plt.xlabel('Sum Gamerounds')\n",
    "                    plt.ylabel('Frequency')\n",
    "                    plt.grid()\n",
    "                    plt.show()\n",
    "                    ```\n",
    "         \n",
    "                    ### 주의할 점\n",
    "                    1. seaborn은 사용하지 않습니다.\n",
    "        \n",
    "        \"\"\"),\n",
    "        (\"human\", \"{query}\")\n",
    "    ])        \n",
    "    \n",
    "    chain = prompt | llm\n",
    "\n",
    "    result = chain.invoke({\n",
    "        \"head\" : df.head(),\n",
    "        \"query\" : state[\"query\"]\n",
    "    }).content\n",
    "\n",
    "    try:\n",
    "        code = re.findall(r'```python\\n(.*?)\\n```', result, re.DOTALL)[0]\n",
    "\n",
    "        return {\"code\" : code}\n",
    "    except:\n",
    "        return {\"answer\" : result,\n",
    "                \"code\" : \"\"}"
   ]
  },
  {
   "cell_type": "code",
   "execution_count": 13,
   "metadata": {},
   "outputs": [],
   "source": [
    "def execute_code(state:State):\n",
    "    try:\n",
    "        tool.invoke(state[\"code\"])\n",
    "\n",
    "        return state\n",
    "    except:\n",
    "        raise Exception(\"코드를 실행하지 못했습니다.\")"
   ]
  },
  {
   "cell_type": "code",
   "execution_count": null,
   "metadata": {},
   "outputs": [],
   "source": [
    "def response(state:State):\n",
    "\n",
    "    if recent == \"no\":\n",
    "        prompt = ChatPromptTemplate([\n",
    "            (\"system\", \"\"\"이전 대화 기록을 첨부합니다.\n",
    "                          답변에 참고하세요.\n",
    "                          history : {messages}\"\"\"),\n",
    "            (\"user\", \"{query}\")\n",
    "\n",
    "        ])\n",
    "\n",
    "        chain = prompt | llm\n",
    "        answer = chain.invoke({\"messages\":state[\"messages\"],\n",
    "                             \"query\":state[\"query\"]})\n",
    "        return {\"answer\":answer,\n",
    "                \"messages\":[\n",
    "                    HumanMessage(content=state[\"query\"]), \n",
    "                    AIMessage(content=answer.content)\n",
    "                    ]}\n",
    "    elif recent == \"llm\":\n",
    "        prompt = ChatPromptTemplate([\n",
    "            (\"system\", \"\"\" 당신은 인사이트를 제공해주는는 데이터 분야 10년차 전문가입니다.\n",
    "             데이터셋의 정보를 기반으로 질문에 대해 답변합니다.\n",
    "            \n",
    "             제목 : {title}            \n",
    "             요약 : {summary}\n",
    "\n",
    "             df : {df}\n",
    "            \n",
    "            \"\"\"),\n",
    "            (\"human\", \"{query}\")\n",
    "        ])        \n",
    "        \n",
    "        chain = prompt | llm\n",
    "\n",
    "        answer = chain.invoke({\n",
    "            \"title\" : title,\n",
    "            \"summary\" : summary,\n",
    "            \"df\" : df,\n",
    "            \"query\" : state[\"query\"]\n",
    "        })\n",
    "\n",
    "        return {\"answer\" : chain.invoke({\"title\" : title,\n",
    "                                         \"summary\" : summary,\n",
    "                                         \"df\" : df,\n",
    "                                         \"query\" : state[\"query\"]\n",
    "                                          }),\n",
    "                                \"messages\":[\n",
    "                    HumanMessage(content=state[\"query\"]), \n",
    "                    AIMessage(content=answer.content)\n",
    "                    ]}\n",
    "    \n",
    "    else:\n",
    "        raise Exception(\"알 수 없는 응답입니다.\")"
   ]
  },
  {
   "cell_type": "code",
   "execution_count": 15,
   "metadata": {},
   "outputs": [],
   "source": [
    "def code_response(state:State):\n",
    "\n",
    "    if state[\"code\"] == \"\":\n",
    "        prompt = ChatPromptTemplate([\n",
    "            (\"system\", \"\"\" 당신은 인사이트를 제공해주는는 데이터 분야 10년차 전문가입니다.\n",
    "             이전 답변과 정보를 기반으로 질문에 대해 답변합니다.\n",
    "            \n",
    "             제목 : {title}            \n",
    "             요약 : {summary}\n",
    "\n",
    "             답변 : {answer}\n",
    "            \n",
    "            \"\"\"),\n",
    "            (\"human\", \"{query}\")\n",
    "        ])        \n",
    "        \n",
    "        chain = prompt | llm\n",
    "\n",
    "        answer = chain.invoke({\n",
    "            \"title\" : title,\n",
    "            \"summary\" : summary,\n",
    "            \"answer\" : state[\"answer\"],\n",
    "            \"query\" : state[\"query\"]\n",
    "        })\n",
    "\n",
    "        return {\"answer\" : answer, \n",
    "                \"messages\":[\n",
    "                    HumanMessage(content=state[\"query\"]), \n",
    "                    AIMessage(content=answer.content)\n",
    "                    ]}\n",
    "\n",
    "    else:\n",
    "        prompt = ChatPromptTemplate([\n",
    "            (\"system\", \"\"\"당신은 주어진 시각화 차트를 해석하고 인사이트를 제공하는 데이터 분야 10년차 전문가입니다.\n",
    "            \n",
    "            친절하고 상세하게 해당 시각화 차트를 설명해주세요.\n",
    "            단, 코드를 설명하는 것이 아닙니다.\n",
    "            숫자를 물어본다면 정확한 숫자까지 이야기하세요.\n",
    "\n",
    "            제목 : {title}\n",
    "            요약 : {summary}\n",
    "\n",
    "            코드 : {code}\n",
    "            \"\"\"),\n",
    "            (\"human\", \"{query}\")\n",
    "        ])        \n",
    "        \n",
    "        chain = prompt | llm\n",
    "        \n",
    "        answer = chain.invoke({\n",
    "            \"title\" : title,\n",
    "            \"summary\" : summary,\n",
    "            \"code\" : state[\"code\"],\n",
    "            \"query\" : state[\"query\"]\n",
    "        })\n",
    "\n",
    "        return {\"answer\" : answer,\n",
    "                \"messages\":[\n",
    "                    HumanMessage(content=state[\"query\"]), \n",
    "                    AIMessage(content=answer.content)\n",
    "                    ]}"
   ]
  },
  {
   "cell_type": "code",
   "execution_count": 16,
   "metadata": {},
   "outputs": [],
   "source": [
    "def pretty_print(state:State):\n",
    "\n",
    "    print(f\"\\n\\n===== Result =====\\n\\n\")\n",
    "\n",
    "    print(state[\"messages\"][-1].content)"
   ]
  },
  {
   "cell_type": "code",
   "execution_count": 17,
   "metadata": {},
   "outputs": [],
   "source": [
    "def inter(state:State):\n",
    "    return state"
   ]
  },
  {
   "cell_type": "code",
   "execution_count": 18,
   "metadata": {},
   "outputs": [],
   "source": [
    "graph_builder = StateGraph(State)"
   ]
  },
  {
   "cell_type": "code",
   "execution_count": 19,
   "metadata": {},
   "outputs": [],
   "source": [
    "graph_builder.add_node(\"inter\", inter)\n",
    "graph_builder.add_node(\"create_code\", create_code)\n",
    "graph_builder.add_node(\"execute_code\", execute_code)\n",
    "graph_builder.add_node(\"response\", response)\n",
    "graph_builder.add_node(\"code_response\", code_response)\n",
    "graph_builder.add_node(\"pretty_print\", pretty_print)\n",
    "\n",
    "\n",
    "graph_builder.add_conditional_edges(START,\n",
    "                                    Discriminate,\n",
    "                                    {\n",
    "                                    \"yes\":\"inter\",\n",
    "                                     \"no\":\"response\"\n",
    "                                     }\n",
    "                                     )\n",
    "graph_builder.add_conditional_edges(\"inter\",\n",
    "                                    Judgement,\n",
    "                                    {\n",
    "                                    \"tool\":\"create_code\",\n",
    "                                     \"llm\":\"response\"\n",
    "                                     }\n",
    "                                     )\n",
    "graph_builder.add_edge(\"create_code\", \"execute_code\")\n",
    "graph_builder.add_edge(\"execute_code\", \"code_response\")\n",
    "graph_builder.add_edge(\"code_response\", \"pretty_print\")\n",
    "graph_builder.add_edge(\"response\", \"pretty_print\")\n",
    "graph_builder.add_edge(\"pretty_print\", END);"
   ]
  },
  {
   "cell_type": "code",
   "execution_count": 20,
   "metadata": {},
   "outputs": [],
   "source": [
    "memory = MemorySaver()\n",
    "\n",
    "graph = graph_builder.compile(checkpointer=memory)"
   ]
  },
  {
   "cell_type": "code",
   "execution_count": 21,
   "metadata": {},
   "outputs": [
    {
     "data": {
      "image/png": "[encoded data removed]",
      "text/plain": [
       "<langgraph.graph.state.CompiledStateGraph object at 0x0000016EC91C6230>"
      ]
     },
     "execution_count": 21,
     "metadata": {},
     "output_type": "execute_result"
    }
   ],
   "source": [
    "graph"
   ]
  },
  {
   "cell_type": "code",
   "execution_count": 22,
   "metadata": {},
   "outputs": [],
   "source": [
    "config = RunnableConfig(recursion_limit=10, configurable={\"thread_id\": \"1054\"})"
   ]
  },
  {
   "cell_type": "code",
   "execution_count": 23,
   "metadata": {},
   "outputs": [],
   "source": [
    "events = graph.stream({\"query\": \"생존자의 비율 시각화하고 인사이트 제공해줘.\"}, config=config)"
   ]
  },
  {
   "cell_type": "code",
   "execution_count": 24,
   "metadata": {},
   "outputs": [
    {
     "name": "stdout",
     "output_type": "stream",
     "text": [
      "\n",
      "[   inter   ]\n",
      "\n",
      "{'query': '생존자의 비율 시각화하고 인사이트 제공해줘.', 'messages': []}\n",
      "\n",
      "[   create_code   ]\n",
      "\n",
      "{'code': 'import pandas as pd\\nimport matplotlib.pyplot as plt\\n\\n# 생존자와 사망자 수 계산\\nsurvived_counts = df[\\'Survived\\'].value_counts()\\n\\n# 생존자 비율 계산\\nsurvived_ratio = survived_counts / survived_counts.sum()\\n\\n# 시각화\\nplt.figure(figsize=(8, 6))\\nplt.bar(survived_ratio.index, survived_ratio.values, color=[\\'red\\', \\'green\\'])\\nplt.xticks(ticks=[0, 1], labels=[\\'Not Survived\\', \\'Survived\\'])\\nplt.title(\\'Survival Rate on the Titanic\\')\\nplt.xlabel(\\'Survival Status\\')\\nplt.ylabel(\\'Proportion\\')\\nplt.ylim(0, 1)\\nplt.grid(axis=\\'y\\')\\nplt.show()\\n\\n# 인사이트 제공\\nprint(f\"생존자 비율: {survived_ratio[1] * 100:.2f}%\")\\nprint(f\"사망자 비율: {survived_ratio[0] * 100:.2f}%\")'}\n"
     ]
    },
    {
     "data": {
      "image/png": "[encoded data removed]",
      "text/plain": [
       "<Figure size 800x600 with 1 Axes>"
      ]
     },
     "metadata": {},
     "output_type": "display_data"
    },
    {
     "name": "stdout",
     "output_type": "stream",
     "text": [
      "생존자 비율: 38.38%\n",
      "\n",
      "[   execute_code   ]\n",
      "\n",
      "{'query': '생존자의 비율 시각화하고 인사이트 제공해줘.', 'code': 'import pandas as pd\\nimport matplotlib.pyplot as plt\\n\\n# 생존자와 사망자 수 계산\\nsurvived_counts = df[\\'Survived\\'].value_counts()\\n\\n# 생존자 비율 계산\\nsurvived_ratio = survived_counts / survived_counts.sum()\\n\\n# 시각화\\nplt.figure(figsize=(8, 6))\\nplt.bar(survived_ratio.index, survived_ratio.values, color=[\\'red\\', \\'green\\'])\\nplt.xticks(ticks=[0, 1], labels=[\\'Not Survived\\', \\'Survived\\'])\\nplt.title(\\'Survival Rate on the Titanic\\')\\nplt.xlabel(\\'Survival Status\\')\\nplt.ylabel(\\'Proportion\\')\\nplt.ylim(0, 1)\\nplt.grid(axis=\\'y\\')\\nplt.show()\\n\\n# 인사이트 제공\\nprint(f\"생존자 비율: {survived_ratio[1] * 100:.2f}%\")\\nprint(f\"사망자 비율: {survived_ratio[0] * 100:.2f}%\")', 'messages': []}\n",
      "\n",
      "[   code_response   ]\n",
      "\n",
      "{'messages': [HumanMessage(content='생존자의 비율 시각화하고 인사이트 제공해줘.', additional_kwargs={}, response_metadata={}, id='f738c56e-7325-449e-a9e6-c2e4a951f13d'), AIMessage(content=\"제목: **타이타닉 생존자 비율 시각화**\\n\\n이 시각화는 타이타닉 호에서의 생존자와 사망자의 비율을 보여줍니다. 총 891명의 승객 중에서 생존 여부에 따라 두 가지 카테고리로 나누어져 있습니다: 생존자(Survived)와 사망자(Not Survived).\\n\\n### 시각화 설명:\\n- **막대 그래프**: 그래프는 두 개의 막대로 구성되어 있습니다. 왼쪽 막대는 사망자를 나타내며 빨간색으로 표시되고, 오른쪽 막대는 생존자를 나타내며 초록색으로 표시됩니다.\\n- **X축**: X축은 생존 상태를 나타내며, 'Not Survived'와 'Survived'라는 두 가지 레이블이 붙어 있습니다.\\n- **Y축**: Y축은 비율을 나타내며 0에서 1까지의 범위를 가집니다. 이는 전체 승객 중에서 각 카테고리에 해당하는 비율을 나타냅니다.\\n- **그리드**: Y축에 대한 그리드가 추가되어 있어 비율을 쉽게 읽을 수 있도록 돕습니다.\\n\\n### 인사이트:\\n- **생존자 비율**: 생존자의 비율은 약 38.38%입니다. 이는 전체 승객 중 약 342명이 생존했음을 의미합니다.\\n- **사망자 비율**: 사망자의 비율은 약 61.62%로, 전체 승객 중 약 549명이 사망했음을 나타냅니다.\\n\\n이 데이터는 타이타닉 호의 비극적인 사건에서 생존율이 상대적으로 낮았음을 보여주며, 생존자와 사망자 간의 비율 차이는 다양한 요인(예: 성별, 나이, 객실 등급 등)에 따라 달라질 수 있습니다. 이러한 인사이트는 향후 생존율 분석 및 인구 통계적 요인과의 관계를 연구하는 데 중요한 기초 자료가 될 수 있습니다.\", additional_kwargs={}, response_metadata={}, id='6d10aa98-228b-4415-b9fa-c91ebf916d04')]}\n",
      "\n",
      "\n",
      "===== Result =====\n",
      "\n",
      "\n",
      "제목: **타이타닉 생존자 비율 시각화**\n",
      "\n",
      "이 시각화는 타이타닉 호에서의 생존자와 사망자의 비율을 보여줍니다. 총 891명의 승객 중에서 생존 여부에 따라 두 가지 카테고리로 나누어져 있습니다: 생존자(Survived)와 사망자(Not Survived).\n",
      "\n",
      "### 시각화 설명:\n",
      "- **막대 그래프**: 그래프는 두 개의 막대로 구성되어 있습니다. 왼쪽 막대는 사망자를 나타내며 빨간색으로 표시되고, 오른쪽 막대는 생존자를 나타내며 초록색으로 표시됩니다.\n",
      "- **X축**: X축은 생존 상태를 나타내며, 'Not Survived'와 'Survived'라는 두 가지 레이블이 붙어 있습니다.\n",
      "- **Y축**: Y축은 비율을 나타내며 0에서 1까지의 범위를 가집니다. 이는 전체 승객 중에서 각 카테고리에 해당하는 비율을 나타냅니다.\n",
      "- **그리드**: Y축에 대한 그리드가 추가되어 있어 비율을 쉽게 읽을 수 있도록 돕습니다.\n",
      "\n",
      "### 인사이트:\n",
      "- **생존자 비율**: 생존자의 비율은 약 38.38%입니다. 이는 전체 승객 중 약 342명이 생존했음을 의미합니다.\n",
      "- **사망자 비율**: 사망자의 비율은 약 61.62%로, 전체 승객 중 약 549명이 사망했음을 나타냅니다.\n",
      "\n",
      "이 데이터는 타이타닉 호의 비극적인 사건에서 생존율이 상대적으로 낮았음을 보여주며, 생존자와 사망자 간의 비율 차이는 다양한 요인(예: 성별, 나이, 객실 등급 등)에 따라 달라질 수 있습니다. 이러한 인사이트는 향후 생존율 분석 및 인구 통계적 요인과의 관계를 연구하는 데 중요한 기초 자료가 될 수 있습니다.\n",
      "\n",
      "[   pretty_print   ]\n",
      "\n",
      "None\n"
     ]
    }
   ],
   "source": [
    "for event in events:\n",
    "    for k,v in event.items():\n",
    "        print(f\"\\n[   {k}   ]\\n\")\n",
    "        try:\n",
    "            print(v)\n",
    "        except:   \n",
    "            pass"
   ]
  },
  {
   "cell_type": "code",
   "execution_count": 25,
   "metadata": {},
   "outputs": [
    {
     "name": "stdout",
     "output_type": "stream",
     "text": [
      "\n",
      "\n",
      "===== Result =====\n",
      "\n",
      "\n",
      "당신이 아까 질문했던 내용은 \"생존자의 비율 시각화하고 인사이트 제공해줘.\"였습니다. 이에 대한 답변으로 타이타닉 생존자 비율을 시각화하고, 생존자와 사망자의 비율에 대한 인사이트를 제공했습니다. 생존자의 비율은 약 38.38%로, 사망자의 비율은 약 61.62%라는 내용이 포함되어 있었습니다. 추가적인 정보나 질문이 필요하시면 말씀해 주세요!\n"
     ]
    }
   ],
   "source": [
    "result = graph.invoke({\"query\":\"아까 내가 질문했던 내용 다시 알려줘\"}, config=config)"
   ]
  },
  {
   "cell_type": "code",
   "execution_count": 26,
   "metadata": {},
   "outputs": [
    {
     "name": "stdout",
     "output_type": "stream",
     "text": [
      "\n",
      "\n",
      "===== Result =====\n",
      "\n",
      "\n",
      "아까 언급된 숫자는 생존자 수 342명과 사망자 수 549명입니다. 이 두 숫자를 더하면:\n",
      "\n",
      "342 + 549 = 891\n",
      "\n",
      "따라서 총 승객 수는 891명입니다.\n"
     ]
    }
   ],
   "source": [
    "result = graph.invoke({\"query\":\"아까 물어봤던 숫자들 다 더하면 몇인지 알려줘\"}, config=config)"
   ]
  },
  {
   "cell_type": "code",
   "execution_count": 27,
   "metadata": {},
   "outputs": [
    {
     "name": "stdout",
     "output_type": "stream",
     "text": [
      "\n",
      "\n",
      "===== Result =====\n",
      "\n",
      "\n",
      "아까 생존자 비율은 약 38.38%라고 말씀드렸습니다. 추가적인 질문이 있으시면 언제든지 말씀해 주세요!\n"
     ]
    }
   ],
   "source": [
    "result = graph.invoke({\"query\":\"아까 생존자 비율이 얼마라고 했지?\"}, config=config)"
   ]
  }
 ],
 "metadata": {
  "kernelspec": {
   "display_name": "Modulabs",
   "language": "python",
   "name": "python3"
  },
  "language_info": {
   "codemirror_mode": {
    "name": "ipython",
    "version": 3
   },
   "file_extension": ".py",
   "mimetype": "text/x-python",
   "name": "python",
   "nbconvert_exporter": "python",
   "pygments_lexer": "ipython3",
   "version": "3.10.12"
  }
 },
 "nbformat": 4,
 "nbformat_minor": 2
}
