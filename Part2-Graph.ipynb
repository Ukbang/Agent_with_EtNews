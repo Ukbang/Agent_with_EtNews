{
 "cells": [
  {
   "cell_type": "code",
   "execution_count": 56,
   "metadata": {},
   "outputs": [
    {
     "data": {
      "text/plain": [
       "True"
      ]
     },
     "execution_count": 56,
     "metadata": {},
     "output_type": "execute_result"
    }
   ],
   "source": [
    "from langchain_openai import ChatOpenAI, OpenAIEmbeddings\n",
    "from langchain.text_splitter import RecursiveCharacterTextSplitter\n",
    "from langchain_community.vectorstores import FAISS\n",
    "from langchain.document_loaders import PyPDFLoader\n",
    "from langchain_core.prompts import ChatPromptTemplate, PromptTemplate\n",
    "from langchain.schema.runnable import RunnablePassthrough, RunnableLambda\n",
    "from langchain.retrievers import ContextualCompressionRetriever\n",
    "from langchain.retrievers.document_compressors import LLMChainExtractor\n",
    "from langchain_core.runnables import RunnableConfig\n",
    "from langchain_core.documents.base import Document\n",
    "from langgraph.checkpoint.memory import MemorySaver\n",
    "from langgraph.graph import StateGraph, START, END\n",
    "from langgraph.graph.message import add_messages\n",
    "from typing import Annotated, Literal\n",
    "from typing_extensions import TypedDict\n",
    "from pydantic import BaseModel, Field\n",
    "import dotenv\n",
    "import os\n",
    "\n",
    "dotenv.load_dotenv()"
   ]
  },
  {
   "cell_type": "code",
   "execution_count": 57,
   "metadata": {},
   "outputs": [],
   "source": [
    "llm = ChatOpenAI(model=\"gpt-4o-mini\",\n",
    "                 temperature=0.,)\n",
    "\n",
    "embeddings = OpenAIEmbeddings()"
   ]
  },
  {
   "cell_type": "code",
   "execution_count": 58,
   "metadata": {},
   "outputs": [],
   "source": [
    "path = \"./files/rules/rules2/\"\n",
    "filename = os.listdir(path)"
   ]
  },
  {
   "cell_type": "code",
   "execution_count": 59,
   "metadata": {},
   "outputs": [],
   "source": [
    "# 텍스트 스플리터 생성\n",
    "\n",
    "splitter = RecursiveCharacterTextSplitter(chunk_size=100, \n",
    "                                          chunk_overlap=0,\n",
    "                                          separators=[\"\\n\\n\"])"
   ]
  },
  {
   "cell_type": "code",
   "execution_count": 60,
   "metadata": {},
   "outputs": [],
   "source": [
    "# PDF 로더 생성\n",
    "\n",
    "hr_loader = PyPDFLoader(path+filename[0])\n",
    "security_loader = PyPDFLoader(path+filename[1])\n",
    "onboard_loader = PyPDFLoader(path+filename[2])\n",
    "tools_loader = PyPDFLoader(path+filename[3])\n",
    "culture_loader = PyPDFLoader(path+filename[4])"
   ]
  },
  {
   "cell_type": "code",
   "execution_count": 61,
   "metadata": {},
   "outputs": [],
   "source": [
    "# 문서 전처리 함수 생성\n",
    "\n",
    "def cleaning_page(docs):\n",
    "    docs = docs.load()\n",
    "    lens = None\n",
    "    for idx, doc in enumerate(docs):\n",
    "        corpus = doc.page_content.replace(\"\\xa0\", \"\").replace(\"  \", \" \").split(\"\\n\")\n",
    "        if lens is None:\n",
    "            lens = []\n",
    "            for sentence in corpus:\n",
    "                lens.append(len(sentence))\n",
    "            length = sorted(lens)[len(lens)//2]\n",
    "        else:\n",
    "            pass\n",
    "\n",
    "        cleaning_corpus = []\n",
    "        for sentence in corpus[:-2]:\n",
    "            if len(sentence) >= length:\n",
    "                cleaning_corpus.append(sentence)\n",
    "            else:\n",
    "                cleaning_corpus.append(sentence+\"\\n\\n\")   \n",
    "        docs[idx].page_content = \"\".join(cleaning_corpus)\n",
    "\n",
    "    return docs"
   ]
  },
  {
   "cell_type": "code",
   "execution_count": 62,
   "metadata": {},
   "outputs": [],
   "source": [
    "# 문서 전처리\n",
    "\n",
    "hr_docs = cleaning_page(hr_loader)\n",
    "security_docs = cleaning_page(security_loader)\n",
    "onboard_docs = cleaning_page(onboard_loader)\n",
    "tools_docs = cleaning_page(tools_loader)\n",
    "culture_docs = cleaning_page(culture_loader)"
   ]
  },
  {
   "cell_type": "code",
   "execution_count": 63,
   "metadata": {},
   "outputs": [],
   "source": [
    "# 텍스트 스플리터를 이용한 문서 분할\n",
    "\n",
    "hr_docs = splitter.split_documents(hr_docs)\n",
    "security_docs = splitter.split_documents(security_docs)\n",
    "onboard_docs = splitter.split_documents(onboard_docs)\n",
    "tools_docs = splitter.split_documents(tools_docs)\n",
    "culture_docs = splitter.split_documents(culture_docs)"
   ]
  },
  {
   "cell_type": "code",
   "execution_count": 64,
   "metadata": {},
   "outputs": [],
   "source": [
    "# 벡터스토어 생성\n",
    "\n",
    "hr_vector_store = FAISS.from_documents(embedding=embeddings, documents=hr_docs)\n",
    "security_vector_store = FAISS.from_documents(embedding=embeddings, documents=security_docs)\n",
    "onboard_vector_store = FAISS.from_documents(embedding=embeddings, documents=onboard_docs)\n",
    "tools_vector_store = FAISS.from_documents(embedding=embeddings, documents=tools_docs)\n",
    "culture_vector_store = FAISS.from_documents(embedding=embeddings, documents=culture_docs)"
   ]
  },
  {
   "cell_type": "code",
   "execution_count": 65,
   "metadata": {},
   "outputs": [],
   "source": [
    "# 리트리버 생성\n",
    "\n",
    "hr_retriever = hr_vector_store.as_retriever()\n",
    "security_retriever = security_vector_store.as_retriever()\n",
    "onboard_retriever = onboard_vector_store.as_retriever()\n",
    "tools_retriever = tools_vector_store.as_retriever()\n",
    "culture_retriever = culture_vector_store.as_retriever()\n",
    "compressor = LLMChainExtractor.from_llm(llm)"
   ]
  },
  {
   "cell_type": "code",
   "execution_count": 66,
   "metadata": {},
   "outputs": [],
   "source": [
    "# LLM 기반 Reranker\n",
    "\n",
    "hr_reranked = ContextualCompressionRetriever(\n",
    "    base_retriever=hr_retriever,\n",
    "    base_compressor=compressor\n",
    ")\n",
    "\n",
    "security_reranked = ContextualCompressionRetriever(\n",
    "    base_retriever=security_retriever,\n",
    "    base_compressor=compressor\n",
    ")\n",
    "\n",
    "onboard_reranked = ContextualCompressionRetriever(\n",
    "    base_retriever=onboard_retriever,\n",
    "    base_compressor=compressor\n",
    ")\n",
    "\n",
    "tools_reranked = ContextualCompressionRetriever(\n",
    "    base_retriever=tools_retriever,\n",
    "    base_compressor=compressor\n",
    ")\n",
    "\n",
    "culture_reranked = ContextualCompressionRetriever(\n",
    "    base_retriever=culture_retriever,\n",
    "    base_compressor=compressor\n",
    ")"
   ]
  },
  {
   "cell_type": "code",
   "execution_count": 67,
   "metadata": {},
   "outputs": [],
   "source": [
    "class State(TypedDict):\n",
    "    query : Annotated[str, \"User Question\"]\n",
    "    answer : Annotated[str, \"LLM response\"]\n",
    "    document : Annotated[Document, \"Retrieve Response\"]\n",
    "    retrieval_type : Annotated[str, \"Document Category\"]"
   ]
  },
  {
   "cell_type": "code",
   "execution_count": 68,
   "metadata": {},
   "outputs": [],
   "source": [
    "class RetriverChecker(BaseModel):\n",
    "    \"\"\"\n",
    "    질문의 의도를 파악하고 5가지 주제 중 어디에 속하는지 답변합니다.\n",
    "    당신이 가진 주제는 아래와 같습니다.\n",
    "\n",
    "    1. 인사 운영 메뉴얼 : 회사의 인사 운영 원칙과 절차를 담은 매뉴얼입니다. 채용, 원격근무, 근로시간, 휴가, 평가, 복지, 퇴직 등 직원 전반의 라이프사이클을 공정하고 효율적으로 관리하기 위한 기준을 안내합니다.\n",
    "    2. 보안 정책 : 회사의 정보 자산과 고객 데이터를 안전하게 보호하기 위한 보안 정책입니다. 계정 관리, 데이터 보안, 물리적 보안, 사고 대응, 보안 교육 등 전사적 보안 수칙을 담아 모든 임직원과 협력사가 따라야 할 기준을 안내합니다.\n",
    "    3. 온보딩 메뉴얼 : 신규 입사자가 조직에 빠르게 적응하고 성과를 낼 수 있도록 돕는 온보딩 가이드입니다. 입사 전 준비부터 첫 3개월간의 일정, 교육, 피드백, 문화 적응까지 체계적인 지원 절차를 제공합니다.\n",
    "    4. 업무 도구 가이드 : 회사에서 사용하는 주요 협업 도구의 사용 원칙과 규칙을 정리한 가이드입니다. 일관된 커뮤니케이션과 효율적인 협업을 위한 도구별 활용법과 팀 내 운영 기준을 안내합니다.\n",
    "    5. 문화 규칙 : 우리 팀이 자연스럽게 지키는 협업과 소통의 문화 원칙입니다. 시간 약속, 수평적 호칭, 명확한 소통, 유대감 있는 잡담, 자율적 휴식, 책임 있는 결정 등 모두가 함께 일하기 좋은 팀 문화를 위한 10가지 약속을 담고 있습니다.\n",
    "\n",
    "    질문이 1에 해당한다면 \"HR\", 2에 해당한다면 \"Security\", 3에 해당한다면 \"Onboard\", 4에 해당한다면 \"Tools\", 5에 해당한다면 \"Culture\"라는 답변을 반환합니다.\n",
    "\n",
    "    \"\"\"\n",
    "\n",
    "    retrieval_type : Literal[\"HR\", \"Security\", \"Onboard\", \"Tools\", \"Culture\"] = Field(..., description=\"\"\"Identify the intent of the question and answer which of the five topics it belongs to.\n",
    "The topics you have are as follows.\n",
    "\n",
    "1. Personnel Management Manual: This is a manual that contains the company's personnel management principles and procedures. It guides the standards for fair and efficient management of the overall lifecycle of employees such as hiring, remote work, working hours, vacation, evaluation, welfare, and retirement.\n",
    "2. Security Policy: A security policy to secure the company's information assets and customer data. It guides all executives and partners to follow with company-wide security rules such as account management, data security, physical security, incident response, and security training.\n",
    "3. Onboarding Manual: This is an onboarding guide that helps new employees quickly adapt to the organization and achieve results. It provides a systematic support process from pre-employment preparation to the first three months of scheduling, training, feedback, and cultural adaptation.\n",
    "4. Work Tool Guide: A guide that outlines the principles and rules of use of key collaborative tools used by the company. It guides you on how to use each tool for consistent communication and efficient collaboration and how to operate within the team.\n",
    "5. Cultural Rules: The cultural principles of collaboration and communication that our team naturally follows. They contain 10 commitments for a team culture that is good for everyone to work with: time commitments, horizontal calling, clear communication, bonding small talk, autonomous rest, responsible decisions, etc.\n",
    "\n",
    "Return \"HR\" if the question corresponds to 1, \"Security\" if it corresponds to 2, \"Onboard\" if it corresponds to 3, \"Tools\" if it corresponds to 4, and \"Culture\" if it corresponds to 5.\n",
    "    Return \"yes\" if you can answer, \"no\" if you can't answer.\"\"\")"
   ]
  },
  {
   "cell_type": "code",
   "execution_count": 69,
   "metadata": {},
   "outputs": [],
   "source": [
    "retriever_checker = llm.with_structured_output(RetriverChecker)"
   ]
  },
  {
   "cell_type": "code",
   "execution_count": 70,
   "metadata": {},
   "outputs": [],
   "source": [
    "result = retriever_checker.invoke(\"복지에는 어떤 것들이 있나요?\")"
   ]
  },
  {
   "cell_type": "code",
   "execution_count": 71,
   "metadata": {},
   "outputs": [
    {
     "data": {
      "text/plain": [
       "RetriverChecker(retrieval_type='HR')"
      ]
     },
     "execution_count": 71,
     "metadata": {},
     "output_type": "execute_result"
    }
   ],
   "source": [
    "result"
   ]
  },
  {
   "cell_type": "code",
   "execution_count": 72,
   "metadata": {},
   "outputs": [],
   "source": [
    "def retriever_check(state: State):\n",
    "    prompt = PromptTemplate.from_template(\n",
    "    \"\"\"\n",
    "    질문의 의도를 파악하고 5가지 주제 중 어디에 속하는지 답변합니다.\n",
    "    당신이 가진 주제는 아래와 같습니다.\n",
    "\n",
    "    1. 인사 운영 메뉴얼 : 회사의 인사 운영 원칙과 절차를 담은 매뉴얼입니다. 채용, 원격근무, 근로시간, 휴가, 평가, 복지, 퇴직 등 직원 전반의 라이프사이클을 공정하고 효율적으로 관리하기 위한 기준을 안내합니다.\n",
    "    2. 보안 정책 : 회사의 정보 자산과 고객 데이터를 안전하게 보호하기 위한 보안 정책입니다. 계정 관리, 데이터 보안, 물리적 보안, 사고 대응, 보안 교육 등 전사적 보안 수칙을 담아 모든 임직원과 협력사가 따라야 할 기준을 안내합니다.\n",
    "    3. 온보딩 메뉴얼 : 신규 입사자가 조직에 빠르게 적응하고 성과를 낼 수 있도록 돕는 온보딩 가이드입니다. 입사 전 준비부터 첫 3개월간의 일정, 교육, 피드백, 문화 적응까지 체계적인 지원 절차를 제공합니다.\n",
    "    4. 업무 도구 가이드 : 회사에서 사용하는 주요 협업 도구의 사용 원칙과 규칙을 정리한 가이드입니다. 일관된 커뮤니케이션과 효율적인 협업을 위한 도구별 활용법과 팀 내 운영 기준을 안내합니다.\n",
    "    5. 문화 규칙 : 우리 팀이 자연스럽게 지키는 협업과 소통의 문화 원칙입니다. 시간 약속, 수평적 호칭, 명확한 소통, 유대감 있는 잡담, 자율적 휴식, 책임 있는 결정 등 모두가 함께 일하기 좋은 팀 문화를 위한 10가지 약속을 담고 있습니다.\n",
    "\n",
    "    질문이 1에 해당한다면 \"HR\", 2에 해당한다면 \"Security\", 3에 해당한다면 \"Onboard\", 4에 해당한다면 \"Tools\", 5에 해당한다면 \"Culture\"라는 답변을 반환합니다.\n",
    "\n",
    "    질문 : {query}\n",
    "\n",
    "    \"\"\"\n",
    "    )\n",
    "\n",
    "    chain = prompt | retriever_checker\n",
    "\n",
    "    result = chain.invoke({\"query\":state[\"query\"]})\n",
    "\n",
    "    return {\"retrieval_type\" : result.retrieval_type}"
   ]
  },
  {
   "cell_type": "code",
   "execution_count": 73,
   "metadata": {},
   "outputs": [],
   "source": [
    "def reranker(state: State):\n",
    "\n",
    "    if state[\"retrieval_type\"] == \"HR\":\n",
    "        docs = hr_reranked.invoke(state[\"query\"])\n",
    "        return {\"document\": docs}\n",
    "    elif state[\"retrieval_type\"] == \"Security\":\n",
    "        docs = security_reranked.invoke(state[\"query\"])\n",
    "        return {\"document\": docs}\n",
    "    elif state[\"retrieval_type\"] == \"Onboard\":\n",
    "        docs = onboard_reranked.invoke(state[\"query\"])\n",
    "        return {\"document\": docs}\n",
    "    elif state[\"retrieval_type\"] == \"Tools\":\n",
    "        docs = tools_reranked.invoke(state[\"query\"])\n",
    "        return {\"document\": docs}\n",
    "    else:\n",
    "        docs = culture_reranked.invoke(state[\"query\"])\n",
    "        return {\"document\": docs}"
   ]
  },
  {
   "cell_type": "code",
   "execution_count": 74,
   "metadata": {},
   "outputs": [],
   "source": [
    "def response(state: State):\n",
    "    prompt = ChatPromptTemplate([\n",
    "        (\"system\", \"당신은 회사 내규 챗봇입니다. 사용자 정보와 회사 내규 문서가 주어집니다. 그것을 통해 사용자의 행동을 제시하세요.\\n\"\n",
    "                \"---\"\n",
    "                \"문서 : {context}\\n\\n\"\n",
    "                \"문서에서 응답을 찾을 수 없는 경우 '문서에서 응답을 찾을 수 없습니다.' 라고 답변하세요.\"), \n",
    "        (\"user\", \"{query}\")\n",
    "        ])\n",
    "    \n",
    "    docs = \"\\n\\n\".join(doc.page_content for doc in state[\"document\"])\n",
    "    \n",
    "    chain = prompt | llm\n",
    "\n",
    "    result = chain.invoke({\"context\":docs,\n",
    "                           \"query\":state[\"query\"]})\n",
    "    \n",
    "    return {\"answer\":result}"
   ]
  },
  {
   "cell_type": "code",
   "execution_count": 75,
   "metadata": {},
   "outputs": [],
   "source": [
    "graph_builder = StateGraph(State)"
   ]
  },
  {
   "cell_type": "code",
   "execution_count": 76,
   "metadata": {},
   "outputs": [],
   "source": [
    "graph_builder.add_node(\"retriever_check\", retriever_check)\n",
    "graph_builder.add_node(\"reranker\", reranker)\n",
    "graph_builder.add_node(\"response\", response)\n",
    "\n",
    "graph_builder.add_edge(START, \"retriever_check\")\n",
    "graph_builder.add_edge(\"retriever_check\", \"reranker\")\n",
    "graph_builder.add_edge(\"reranker\", \"response\")\n",
    "graph_builder.add_edge(\"response\", END);"
   ]
  },
  {
   "cell_type": "code",
   "execution_count": null,
   "metadata": {},
   "outputs": [],
   "source": [
    "graph = graph_builder.compile()"
   ]
  },
  {
   "cell_type": "code",
   "execution_count": 78,
   "metadata": {},
   "outputs": [
    {
     "data": {
      "image/png": "[encoded data removed]",
      "text/plain": [
       "<langgraph.graph.state.CompiledStateGraph object at 0x000001F54DF7FAC0>"
      ]
     },
     "execution_count": 78,
     "metadata": {},
     "output_type": "execute_result"
    }
   ],
   "source": [
    "graph"
   ]
  },
  {
   "cell_type": "code",
   "execution_count": 92,
   "metadata": {},
   "outputs": [],
   "source": [
    "result = graph.stream({\"query\": \"우리 회사에는 어떤 복지제도가 있나요?\"})"
   ]
  },
  {
   "cell_type": "code",
   "execution_count": 93,
   "metadata": {},
   "outputs": [
    {
     "name": "stdout",
     "output_type": "stream",
     "text": [
      "\n",
      "\n",
      "=== retriever_check ===\n",
      "\n",
      "\n",
      "{'retrieval_type': 'HR'}\n",
      "\n",
      "\n",
      "=== reranker ===\n",
      "\n",
      "\n",
      "{'document': [Document(metadata={'producer': 'Skia/PDF m134', 'creator': 'Mozilla/5.0 (X11; Linux x86_64) AppleWebKit/537.36 (KHTML, like Gecko) HeadlessChrome/134.0.0.0 Safari/537.36', 'creationdate': '2025-06-20T10:32:30+00:00', 'title': '1. 인사 운영 메뉴얼', 'moddate': '2025-06-20T10:32:30+00:00', 'source': './files/rules/rules2/1._인사_운영_메뉴얼.pdf', 'total_pages': 5, 'page': 2, 'page_label': '3'}, page_content='복지 제도 : 직원들의 업무 만족도와 복지를 위해 다음과 같은 제도를 운영합니다 : 점심 식대 지원 , 간식 · 커피 무제한 제공 , 의료검진 지원 , 자기계발비 또는 도서구입비 지원 , 사내 동호회 지원 등 .'), Document(metadata={'producer': 'Skia/PDF m134', 'creator': 'Mozilla/5.0 (X11; Linux x86_64) AppleWebKit/537.36 (KHTML, like Gecko) HeadlessChrome/134.0.0.0 Safari/537.36', 'creationdate': '2025-06-20T10:32:30+00:00', 'title': '1. 인사 운영 메뉴얼', 'moddate': '2025-06-20T10:32:30+00:00', 'source': './files/rules/rules2/1._인사_운영_메뉴얼.pdf', 'total_pages': 5, 'page': 3, 'page_label': '4'}, page_content='소통 채널 :인사 관련 문의나 건의사항은 HR 담당자를 통해 상시 접수받습니다 . 연봉 , 복리후생 , 조직문화 등 다양한 주제에 대해 익명으로 의견을 제출할 수 있는 메신저 내 온라인 창구를 운영합니다 .')]}\n",
      "\n",
      "\n",
      "=== response ===\n",
      "\n",
      "\n",
      "우리 회사에는 다음과 같은 복지 제도가 있습니다:\n",
      "\n",
      "1. 점심 식대 지원\n",
      "2. 간식 · 커피 무제한 제공\n",
      "3. 의료검진 지원\n",
      "4. 자기계발비 또는 도서구입비 지원\n",
      "5. 사내 동호회 지원\n",
      "\n",
      "이러한 제도를 통해 직원들의 업무 만족도와 복지를 높이고 있습니다.\n"
     ]
    }
   ],
   "source": [
    "for step in result:\n",
    "    for k,v in step.items():\n",
    "        print(f\"\\n\\n=== {k} ===\\n\\n\")\n",
    "        if k != \"response\":\n",
    "            print(v)\n",
    "        else:\n",
    "            print(v[\"answer\"].content)"
   ]
  },
  {
   "cell_type": "code",
   "execution_count": null,
   "metadata": {},
   "outputs": [],
   "source": [
    "result = graph.invoke({\"query\": \"원격근무는 언제 할 수 있나요?\"})"
   ]
  },
  {
   "cell_type": "code",
   "execution_count": 95,
   "metadata": {},
   "outputs": [
    {
     "data": {
      "text/plain": [
       "{'query': '재택근무는 언제 할 수 있나요?',\n",
       " 'answer': AIMessage(content='원격근무는 주 2 회까지 허용하여 업무 효율과 워라밸을 지원합니다. 따라서 재택근무는 주 2 회 이내로 가능합니다.', additional_kwargs={'refusal': None}, response_metadata={'token_usage': {'completion_tokens': 40, 'prompt_tokens': 117, 'total_tokens': 157, 'completion_tokens_details': {'accepted_prediction_tokens': 0, 'audio_tokens': 0, 'reasoning_tokens': 0, 'rejected_prediction_tokens': 0}, 'prompt_tokens_details': {'audio_tokens': 0, 'cached_tokens': 0}}, 'model_name': 'gpt-4o-mini-2024-07-18', 'system_fingerprint': 'fp_34a54ae93c', 'finish_reason': 'stop', 'logprobs': None}, id='run-5255b545-29d7-4813-9400-e0c747950b60-0', usage_metadata={'input_tokens': 117, 'output_tokens': 40, 'total_tokens': 157, 'input_token_details': {'audio': 0, 'cache_read': 0}, 'output_token_details': {'audio': 0, 'reasoning': 0}}),\n",
       " 'document': [Document(metadata={'producer': 'Skia/PDF m134', 'creator': 'Mozilla/5.0 (X11; Linux x86_64) AppleWebKit/537.36 (KHTML, like Gecko) HeadlessChrome/134.0.0.0 Safari/537.36', 'creationdate': '2025-06-20T10:32:30+00:00', 'title': '1. 인사 운영 메뉴얼', 'moddate': '2025-06-20T10:32:30+00:00', 'source': './files/rules/rules2/1._인사_운영_메뉴얼.pdf', 'total_pages': 5, 'page': 1, 'page_label': '2'}, page_content='원격근무는 주 2 회까지 허용하여 업무 효율과 워라밸을 지원합니다 .')],\n",
       " 'retrieval_type': 'HR'}"
      ]
     },
     "execution_count": 95,
     "metadata": {},
     "output_type": "execute_result"
    }
   ],
   "source": [
    "result"
   ]
  },
  {
   "cell_type": "code",
   "execution_count": 97,
   "metadata": {},
   "outputs": [],
   "source": [
    "result = graph.stream({\"query\": \"퇴사를 계획중인데 어떻게 하면 되나요?\"})"
   ]
  },
  {
   "cell_type": "code",
   "execution_count": 98,
   "metadata": {},
   "outputs": [
    {
     "name": "stdout",
     "output_type": "stream",
     "text": [
      "\n",
      "\n",
      "=== retriever_check ===\n",
      "\n",
      "\n",
      "{'retrieval_type': 'HR'}\n",
      "\n",
      "\n",
      "=== reranker ===\n",
      "\n",
      "\n",
      "{'document': [Document(metadata={'producer': 'Skia/PDF m134', 'creator': 'Mozilla/5.0 (X11; Linux x86_64) AppleWebKit/537.36 (KHTML, like Gecko) HeadlessChrome/134.0.0.0 Safari/537.36', 'creationdate': '2025-06-20T10:32:30+00:00', 'title': '1. 인사 운영 메뉴얼', 'moddate': '2025-06-20T10:32:30+00:00', 'source': './files/rules/rules2/1._인사_운영_메뉴얼.pdf', 'total_pages': 5, 'page': 3, 'page_label': '4'}, page_content='퇴사 통보 : 직원이 자발적으로 퇴사하고자 할 경우 , 인수인계를 고려하여 최소 4 주 이전에 퇴사 의사를 통보하는 것을 권장합니다 . 퇴사 신청은 퇴직 의사 확인서 제출을 통해 공식화되며 , 팀 리더 및 HR 과 면담을 거칩니다 .')]}\n",
      "\n",
      "\n",
      "=== response ===\n",
      "\n",
      "\n",
      "퇴사를 계획하고 계신다면, 다음 단계를 따라 주시기 바랍니다:\n",
      "\n",
      "1. 최소 4주 이전에 퇴사 의사를 통보하는 것이 권장됩니다. 이는 인수인계를 고려한 것입니다.\n",
      "2. 퇴사 신청은 퇴직 의사 확인서를 제출하여 공식화해야 합니다.\n",
      "3. 팀 리더 및 HR과 면담을 진행해야 합니다.\n",
      "\n",
      "이 과정을 통해 퇴사를 원활하게 진행할 수 있습니다.\n"
     ]
    }
   ],
   "source": [
    "for step in result:\n",
    "    for k,v in step.items():\n",
    "        print(f\"\\n\\n=== {k} ===\\n\\n\")\n",
    "        if k != \"response\":\n",
    "            print(v)\n",
    "        else:\n",
    "            print(v[\"answer\"].content)"
   ]
  },
  {
   "cell_type": "code",
   "execution_count": 107,
   "metadata": {},
   "outputs": [],
   "source": [
    "result = graph.stream({\"query\": \"회사 계정의 비밀번호는 어떤 규칙대로 만들어야하나요?\"})"
   ]
  },
  {
   "cell_type": "code",
   "execution_count": 108,
   "metadata": {},
   "outputs": [
    {
     "name": "stdout",
     "output_type": "stream",
     "text": [
      "\n",
      "\n",
      "=== retriever_check ===\n",
      "\n",
      "\n",
      "{'retrieval_type': 'Security'}\n",
      "\n",
      "\n",
      "=== reranker ===\n",
      "\n",
      "\n",
      "{'document': [Document(metadata={'producer': 'Skia/PDF m134', 'creator': 'Mozilla/5.0 (X11; Linux x86_64) AppleWebKit/537.36 (KHTML, like Gecko) HeadlessChrome/134.0.0.0 Safari/537.36', 'creationdate': '2025-06-20T08:17:52+00:00', 'title': '2. 보안 정책', 'moddate': '2025-06-20T08:17:52+00:00', 'source': './files/rules/rules2/2._보안_정책.pdf', 'total_pages': 5, 'page': 1, 'page_label': '2'}, page_content='비밀번호는 최소 12 자 이상이어야 하며 대문자 , 소문자 , 숫자 , 특수문자를 각각 1 자 이상 포함해야 합니다 . 비밀번호는 90일마다 주기적 변경을 권고하고 동일 비밀번호를 재사용하지 않습니다 . 중요한 시스템의 경우 최근 5 개 이전 비밀번호와 다른 값으로 변경해야 합니다 .'), Document(metadata={'producer': 'Skia/PDF m134', 'creator': 'Mozilla/5.0 (X11; Linux x86_64) AppleWebKit/537.36 (KHTML, like Gecko) HeadlessChrome/134.0.0.0 Safari/537.36', 'creationdate': '2025-06-20T08:17:52+00:00', 'title': '2. 보안 정책', 'moddate': '2025-06-20T08:17:52+00:00', 'source': './files/rules/rules2/2._보안_정책.pdf', 'total_pages': 5, 'page': 2, 'page_label': '3'}, page_content='PC 에는 로그인 비밀번호를 설정하고 15 분 이하의 비사용 시간 후 자동으로 화면이 잠기도록 합니다.')]}\n",
      "\n",
      "\n",
      "=== response ===\n",
      "\n",
      "\n",
      "비밀번호는 최소 12자 이상이어야 하며, 대문자, 소문자, 숫자, 특수문자를 각각 1자 이상 포함해야 합니다. 또한 비밀번호는 90일마다 주기적으로 변경하는 것이 권고되며, 동일 비밀번호를 재사용하지 않아야 합니다. 중요한 시스템의 경우 최근 5개 이전 비밀번호와 다른 값으로 변경해야 합니다.\n"
     ]
    }
   ],
   "source": [
    "for step in result:\n",
    "    for k,v in step.items():\n",
    "        print(f\"\\n\\n=== {k} ===\\n\\n\")\n",
    "        if k != \"response\":\n",
    "            print(v)\n",
    "        else:\n",
    "            print(v[\"answer\"].content)"
   ]
  }
 ],
 "metadata": {
  "kernelspec": {
   "display_name": "Modulabs",
   "language": "python",
   "name": "python3"
  },
  "language_info": {
   "codemirror_mode": {
    "name": "ipython",
    "version": 3
   },
   "file_extension": ".py",
   "mimetype": "text/x-python",
   "name": "python",
   "nbconvert_exporter": "python",
   "pygments_lexer": "ipython3",
   "version": "3.10.12"
  }
 },
 "nbformat": 4,
 "nbformat_minor": 2
}
