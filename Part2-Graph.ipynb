{
 "cells": [
  {
   "cell_type": "code",
   "execution_count": 1,
   "metadata": {},
   "outputs": [
    {
     "data": {
      "text/plain": [
       "True"
      ]
     },
     "execution_count": 1,
     "metadata": {},
     "output_type": "execute_result"
    }
   ],
   "source": [
    "from langchain_community.document_loaders.csv_loader import CSVLoader\n",
    "import pandas as pd\n",
    "from IPython.display import Markdown\n",
    "import re\n",
    "\n",
    "from typing import Annotated, Literal\n",
    "from typing_extensions import TypedDict\n",
    "from langchain_openai import ChatOpenAI, OpenAIEmbeddings\n",
    "from langchain.text_splitter import RecursiveCharacterTextSplitter\n",
    "from langchain_community.vectorstores import FAISS\n",
    "from langchain_community.tools.tavily_search import TavilySearchResults\n",
    "from langchain.tools.retriever import create_retriever_tool\n",
    "from langchain.document_loaders import PyMuPDFLoader, PyPDFLoader\n",
    "from langgraph.graph import StateGraph, START, END\n",
    "from langgraph.graph.message import add_messages\n",
    "from langgraph.prebuilt import ToolNode, tools_condition\n",
    "from langgraph.checkpoint.memory import MemorySaver\n",
    "from langchain_core.prompts import ChatPromptTemplate, PromptTemplate\n",
    "from langchain_core.documents.base import Document\n",
    "from langchain_core.vectorstores.base import VectorStoreRetriever\n",
    "from langchain_core.output_parsers.openai_tools import JsonOutputToolsParser\n",
    "from langchain_core.output_parsers.string import StrOutputParser\n",
    "from langchain.schema.runnable import RunnablePassthrough, RunnableLambda\n",
    "from langchain_experimental.utilities import PythonREPL\n",
    "from langchain_experimental.tools.python.tool import PythonAstREPLTool\n",
    "from pydantic import BaseModel, Field\n",
    "from markitdown import MarkItDown\n",
    "import dotenv\n",
    "import os\n",
    "\n",
    "dotenv.load_dotenv()"
   ]
  },
  {
   "cell_type": "code",
   "execution_count": 5,
   "metadata": {},
   "outputs": [],
   "source": [
    "file_path = \"./data/titanic.csv\"\n",
    "df = pd.read_csv(file_path)\n",
    "\n",
    "llm = ChatOpenAI(model=\"gpt-4o-mini\",\n",
    "                 temperature=0.,)"
   ]
  },
  {
   "cell_type": "code",
   "execution_count": null,
   "metadata": {},
   "outputs": [],
   "source": [
    "def create_title_summary(df, file_path):\n",
    "    text = f\"\"\"\n",
    "            당신은 요약 전문가입니다.\n",
    "           \n",
    "            데이터프레임 : {df}\n",
    "\n",
    "            데이터프레임의 정보를 보고 제목과 요약을 만들어냅니다.\n",
    "            요약은 20글자 이내로 생성합니다.\n",
    "\n",
    "            참고할 정보는 아래와 같습니다.\n",
    "\n",
    "            파일 경로 : {file_path}\n",
    "\n",
    "            1. 제목: \n",
    "            2. 요약: \n",
    "\n",
    "        \"\"\"\n",
    "    result = llm.invoke(text).content\n",
    "\n",
    "    title = \"Untitled\"\n",
    "    summary = \"No Summary\"    \n",
    "\n",
    "    try:\n",
    "        lines = result.split(\"\\n\")\n",
    "        title = lines[0].replace(\"1. 제목: \", \"\").strip()\n",
    "        summary = \"\\n\".join(lines[1:]).replace(\"2. 요약:\", \"\").strip()\n",
    "    except:\n",
    "        pass\n",
    "\n",
    "    return title, summary"
   ]
  },
  {
   "cell_type": "code",
   "execution_count": 19,
   "metadata": {},
   "outputs": [
    {
     "name": "stdout",
     "output_type": "stream",
     "text": [
      "여긴가\n"
     ]
    }
   ],
   "source": [
    "title, summary = create_title_summary(df, file_path)"
   ]
  },
  {
   "cell_type": "code",
   "execution_count": 14,
   "metadata": {},
   "outputs": [
    {
     "data": {
      "text/plain": [
       "'타이타닉 승객 데이터'"
      ]
     },
     "execution_count": 14,
     "metadata": {},
     "output_type": "execute_result"
    }
   ],
   "source": [
    "title"
   ]
  },
  {
   "cell_type": "code",
   "execution_count": 15,
   "metadata": {},
   "outputs": [
    {
     "data": {
      "text/plain": [
       "'생존자 및 승객 정보'"
      ]
     },
     "execution_count": 15,
     "metadata": {},
     "output_type": "execute_result"
    }
   ],
   "source": [
    "summary"
   ]
  }
 ],
 "metadata": {
  "kernelspec": {
   "display_name": "Modulabs",
   "language": "python",
   "name": "python3"
  },
  "language_info": {
   "codemirror_mode": {
    "name": "ipython",
    "version": 3
   },
   "file_extension": ".py",
   "mimetype": "text/x-python",
   "name": "python",
   "nbconvert_exporter": "python",
   "pygments_lexer": "ipython3",
   "version": "3.10.12"
  }
 },
 "nbformat": 4,
 "nbformat_minor": 2
}
