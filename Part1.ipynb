{
 "cells": [
  {
   "cell_type": "code",
   "execution_count": 4,
   "metadata": {},
   "outputs": [
    {
     "data": {
      "text/plain": [
       "True"
      ]
     },
     "execution_count": 4,
     "metadata": {},
     "output_type": "execute_result"
    }
   ],
   "source": [
    "from langchain_openai import ChatOpenAI, OpenAIEmbeddings\n",
    "from langchain.text_splitter import RecursiveCharacterTextSplitter\n",
    "from langchain_community.vectorstores import FAISS\n",
    "from langchain.document_loaders import PyPDFLoader\n",
    "from langchain_core.prompts import ChatPromptTemplate\n",
    "from langchain.schema.runnable import RunnablePassthrough, RunnableLambda\n",
    "from IPython.display import Markdown\n",
    "import dotenv\n",
    "import os\n",
    "\n",
    "dotenv.load_dotenv()"
   ]
  },
  {
   "cell_type": "code",
   "execution_count": 5,
   "metadata": {},
   "outputs": [],
   "source": [
    "llm = ChatOpenAI(model=\"gpt-4o-mini\",\n",
    "                 temperature=0.,)\n",
    "\n",
    "embeddings = OpenAIEmbeddings()"
   ]
  },
  {
   "cell_type": "code",
   "execution_count": 6,
   "metadata": {},
   "outputs": [],
   "source": [
    "dir = \"./files/\"\n",
    "file_list = os.listdir(dir)"
   ]
  },
  {
   "cell_type": "code",
   "execution_count": 7,
   "metadata": {},
   "outputs": [
    {
     "name": "stdout",
     "output_type": "stream",
     "text": [
      "['2025-AI-Trend-Report.pdf', 'Practice_document.pdf']\n"
     ]
    }
   ],
   "source": [
    "print(file_list)"
   ]
  },
  {
   "cell_type": "markdown",
   "metadata": {},
   "source": [
    "### Part1-1. 문서 기반 챗봇"
   ]
  },
  {
   "cell_type": "code",
   "execution_count": 8,
   "metadata": {},
   "outputs": [],
   "source": [
    "# 텍스트 스플리터 생성\n",
    "\n",
    "splitter = RecursiveCharacterTextSplitter(chunk_size=300, \n",
    "                                               chunk_overlap=50, \n",
    "                                               separators=[\"\\n\\n\"])"
   ]
  },
  {
   "cell_type": "code",
   "execution_count": 9,
   "metadata": {},
   "outputs": [],
   "source": [
    "# PDF 로더 생성\n",
    "\n",
    "loader = PyPDFLoader(dir+file_list[0])"
   ]
  },
  {
   "cell_type": "code",
   "execution_count": 10,
   "metadata": {},
   "outputs": [],
   "source": [
    "# PDF 문서 로드 및 스플릿\n",
    "\n",
    "split_docs = loader.load_and_split(text_splitter=splitter)"
   ]
  },
  {
   "cell_type": "code",
   "execution_count": 11,
   "metadata": {},
   "outputs": [],
   "source": [
    "# 벡터스토어 생성\n",
    "\n",
    "vector_store = FAISS.from_documents(embedding=embeddings, documents=split_docs)"
   ]
  },
  {
   "cell_type": "code",
   "execution_count": 12,
   "metadata": {},
   "outputs": [],
   "source": [
    "# 리트리버 생성\n",
    "\n",
    "retriever = vector_store.as_retriever()"
   ]
  },
  {
   "cell_type": "code",
   "execution_count": 13,
   "metadata": {},
   "outputs": [],
   "source": [
    "prompt = ChatPromptTemplate([\n",
    "    (\"system\", \"문서 : {context}\\n\\n\"\n",
    "               \"당신은 문서를 기반으로 응답하는 상담원입니다. 항상 문서를 기반하여 응답해주세요\\n\"\n",
    "               \"문서에서 응답을 찾을 수 없는 경우 '해당 문의는 010-2222-3333으로 연락해주시면 도와드리겠습니다. 도와드리지 못해 죄송합니다.' 라고 답변하세요.\"), \n",
    "    (\"user\", \"{query}\")\n",
    "\n",
    "])"
   ]
  },
  {
   "cell_type": "code",
   "execution_count": 14,
   "metadata": {},
   "outputs": [],
   "source": [
    "chain = {\"context\": retriever | RunnableLambda(lambda docs:\"\\n\\n\".join(doc.page_content for doc in docs)),\n",
    "         \"query\": RunnablePassthrough()} | prompt | llm"
   ]
  },
  {
   "cell_type": "code",
   "execution_count": 15,
   "metadata": {},
   "outputs": [],
   "source": [
    "query = \"2025년엔 어떤 부분을 준비해야할까?\""
   ]
  },
  {
   "cell_type": "code",
   "execution_count": 16,
   "metadata": {},
   "outputs": [],
   "source": [
    "result = chain.invoke(query)"
   ]
  },
  {
   "cell_type": "code",
   "execution_count": 17,
   "metadata": {},
   "outputs": [
    {
     "name": "stdout",
     "output_type": "stream",
     "text": [
      "2025년에는 AI 기술의 발전과 함께 기업들이 책임감 있는 AI 활용을 위해 여러 가지를 준비해야 할 것으로 보입니다. 특히 다음과 같은 부분을 준비하는 것이 중요합니다:\n",
      "\n",
      "1. **신뢰할 수 있는 AI 구축**: 윤리적이고 안전하며 투명한 AI 개발 프로세스를 마련해야 합니다. 이는 기업의 장기적인 성공을 위해 필수적입니다.\n",
      "\n",
      "2. **AI 기술의 정교화**: 멀티모달 AI와 자율 AI 등 새로운 기술과 서비스를 도입하여 기업의 가치 창출 방식을 변화시켜야 합니다.\n",
      "\n",
      "3. **AI의 지속 가능성 및 사이버 보안**: AI 기술 활용에서의 지속 가능성과 사이버 보안 문제를 효과적으로 관리하는 노력이 필요합니다.\n",
      "\n",
      "4. **에너지 효율적인 기술 투자**: AI 시스템의 에너지 소비가 환경에 미치는 영향을 완화하기 위해 에너지 효율적인 칩, 혁신적인 냉각 기술 등에 투자해야 합니다.\n",
      "\n",
      "5. **AI 신뢰성 검증**: AI의 신뢰성을 효율적으로 검증할 수 있는 시스템을 마련하여 실질적인 인사이트를 얻을 수 있도록 해야 합니다.\n",
      "\n",
      "이러한 준비를 통해 기업들은 변화하는 환경에 적응하고 경쟁력을 높일 수 있을 것입니다.\n"
     ]
    }
   ],
   "source": [
    "print(result.content)"
   ]
  },
  {
   "cell_type": "code",
   "execution_count": 18,
   "metadata": {},
   "outputs": [
    {
     "data": {
      "text/plain": [
       "'2025년에는 AI 기술의 발전과 함께 기업들이 책임감 있는 AI 활용을 위해 여러 가지를 준비해야 할 것으로 보입니다. 특히 다음과 같은 부분을 준비하는 것이 중요합니다:\\n\\n1. **신뢰할 수 있는 AI 구축**: 윤리적이고 안전하며 투명한 AI 개발 프로세스를 마련해야 합니다. 이는 기업의 장기적인 성공을 위해 필수적입니다.\\n\\n2. **AI 기술의 정교화**: 멀티모달 AI와 자율 AI 등 새로운 기술과 서비스를 도입하여 기업의 가치 창출 방식을 변화시켜야 합니다.\\n\\n3. **AI의 지속 가능성 및 사이버 보안**: AI 기술 활용에서의 지속 가능성과 사이버 보안 문제를 효과적으로 관리하는 노력이 필요합니다.\\n\\n4. **에너지 효율적인 기술 투자**: AI 시스템의 에너지 소비가 환경에 미치는 영향을 완화하기 위해 에너지 효율적인 칩, 혁신적인 냉각 기술 등에 투자해야 합니다.\\n\\n5. **AI 신뢰성 검증**: AI의 신뢰성을 효율적으로 검증할 수 있는 시스템을 마련하여 실질적인 인사이트를 얻을 수 있도록 해야 합니다.\\n\\n이러한 준비를 통해 기업들은 변화하는 환경에 적응하고 경쟁력을 높일 수 있을 것입니다.'"
      ]
     },
     "execution_count": 18,
     "metadata": {},
     "output_type": "execute_result"
    }
   ],
   "source": [
    "result.content"
   ]
  },
  {
   "cell_type": "markdown",
   "metadata": {},
   "source": [
    "### Part1-2 고객 응대 챗봇"
   ]
  },
  {
   "cell_type": "code",
   "execution_count": 19,
   "metadata": {},
   "outputs": [],
   "source": [
    "# PDF 로더 생성\n",
    "\n",
    "loader = PyPDFLoader(dir+file_list[1])"
   ]
  },
  {
   "cell_type": "code",
   "execution_count": 20,
   "metadata": {},
   "outputs": [],
   "source": [
    "# PDF 문서 로드 및 스플릿\n",
    "\n",
    "split_docs = loader.load_and_split(text_splitter=splitter)"
   ]
  },
  {
   "cell_type": "code",
   "execution_count": 21,
   "metadata": {},
   "outputs": [],
   "source": [
    "# 벡터스토어 생성\n",
    "\n",
    "vector_store = FAISS.from_documents(embedding=embeddings, documents=split_docs)"
   ]
  },
  {
   "cell_type": "code",
   "execution_count": 22,
   "metadata": {},
   "outputs": [],
   "source": [
    "# 리트리버 생성\n",
    "\n",
    "retriever = vector_store.as_retriever()"
   ]
  },
  {
   "cell_type": "code",
   "execution_count": 23,
   "metadata": {},
   "outputs": [],
   "source": [
    "# 프롬프트 템플릿\n",
    "prompt = ChatPromptTemplate.from_messages([\n",
    "    (\"system\", \n",
    "     \"\"\"\n",
    "    context : {context}\n",
    "\n",
    "    당신은 언제나 고객에게 최선을 다해 답변을 하며 말투는 굉장히 친근합니다. 직업은 전문 상담원입니다. 답변 시, 아래의 규칙을 지켜야만 합니다.\n",
    "    ---\n",
    "    ### 규칙 ###\n",
    "    1. 주어진 context만을 이용하여 답변해야합니다. \n",
    "    2. 주어진 context에서 답변을 할 수 없다면 \"해당 문의는 010-2255-3366으로 연락주시면 도와드리겠습니다. 영업 시간은 오전 10시-오후 6시입니다.\" 라고 대답하세요.\n",
    "    3. 문자열에 A1, A2, A11, A22 등 필요 없는 문자는 제거한 뒤 출력합니다.\n",
    "    4. 항상 친절한 말투로 응대합니다.\n",
    "    5. 하이퍼 링크를 그대로 출력합니다. 대소문자를 명확하게 구분하세요. 아래 예시를 참고하여 서식을 맞추세요.\n",
    "    **하이퍼퍼 링크 예시**\n",
    "    5-1. [스타벅스 구역삼사거리점](https://naver.me/FV7K6xTM) 입니다.\n",
    "    5-2. [화목순대국](https://naver.me/FQVGK6TZ) 입니다.\n",
    "    5-3. [모두의연구소 역삼캠퍼스](https://naver.me/GMvc9Hv5) 입니다.\n",
    "    ---\n",
    "    \"\"\"),\n",
    "    (\"human\", \"{query}\")\n",
    "])"
   ]
  },
  {
   "cell_type": "code",
   "execution_count": 24,
   "metadata": {},
   "outputs": [],
   "source": [
    "chain = {\"context\": retriever | RunnableLambda(lambda docs:\"\\n\\n\".join(doc.page_content for doc in docs)),\n",
    "         \"query\": RunnablePassthrough()} | prompt | llm"
   ]
  },
  {
   "cell_type": "code",
   "execution_count": 25,
   "metadata": {},
   "outputs": [],
   "source": [
    "query = \"개강하는 날짜 알려주세요.\""
   ]
  },
  {
   "cell_type": "code",
   "execution_count": 26,
   "metadata": {},
   "outputs": [],
   "source": [
    "result = chain.invoke(query)"
   ]
  },
  {
   "cell_type": "code",
   "execution_count": 27,
   "metadata": {},
   "outputs": [
    {
     "name": "stdout",
     "output_type": "stream",
     "text": [
      "아이펠 데이터사이언티스트 3기 과정의 개강일은 2024년 9월 25일입니다. 더 궁금한 점이 있으시면 언제든지 말씀해 주세요!\n"
     ]
    }
   ],
   "source": [
    "print(result.content)"
   ]
  },
  {
   "cell_type": "code",
   "execution_count": 28,
   "metadata": {},
   "outputs": [],
   "source": [
    "query = \"오프라인으로도 수강할 수 있나요?\""
   ]
  },
  {
   "cell_type": "code",
   "execution_count": 29,
   "metadata": {},
   "outputs": [],
   "source": [
    "result = chain.invoke(query)"
   ]
  },
  {
   "cell_type": "code",
   "execution_count": 30,
   "metadata": {},
   "outputs": [
    {
     "name": "stdout",
     "output_type": "stream",
     "text": [
      "아이펠 교육과정은 100% 실시간 온라인 과정으로 진행됩니다. 하지만 희망하시는 경우, 오프라인 학습 공간인 [모두의연구소 강남 캠퍼스](https://naver.me/FslREXGR) 또는 [모두의연구소 역삼 캠퍼스](https://naver.me/GMvc9Hv5)를 무료로 제공해드리고 있습니다. 공간 사용 방법은 입학 후 별도로 안내드릴 예정입니다.\n"
     ]
    }
   ],
   "source": [
    "print(result.content)"
   ]
  },
  {
   "cell_type": "code",
   "execution_count": 31,
   "metadata": {},
   "outputs": [],
   "source": [
    "query = \"역삼캠퍼스는 어디에 있나요?\""
   ]
  },
  {
   "cell_type": "code",
   "execution_count": 32,
   "metadata": {},
   "outputs": [],
   "source": [
    "result = chain.invoke(query)"
   ]
  },
  {
   "cell_type": "code",
   "execution_count": 33,
   "metadata": {},
   "outputs": [
    {
     "data": {
      "text/markdown": [
       "역삼캠퍼스는 서울 강남구 역삼로 156 태광빌딩 2층, 4층에 위치해 있습니다. 자세한 내용은 [모두의연구소 역삼캠퍼스](https://naver.me/GMvc9Hv5)에서 확인하실 수 있습니다."
      ],
      "text/plain": [
       "<IPython.core.display.Markdown object>"
      ]
     },
     "execution_count": 33,
     "metadata": {},
     "output_type": "execute_result"
    }
   ],
   "source": [
    "Markdown(result.content)"
   ]
  },
  {
   "cell_type": "code",
   "execution_count": 34,
   "metadata": {},
   "outputs": [],
   "source": [
    "query = \"역삼캠퍼스 링크는 뭔가요?\""
   ]
  },
  {
   "cell_type": "code",
   "execution_count": 35,
   "metadata": {},
   "outputs": [],
   "source": [
    "result = chain.invoke(query)"
   ]
  },
  {
   "cell_type": "code",
   "execution_count": 36,
   "metadata": {},
   "outputs": [
    {
     "name": "stdout",
     "output_type": "stream",
     "text": [
      "역삼캠퍼스 링크는 [모두의연구소 역삼캠퍼스](https://naver.me/GMvc9Hv5) 입니다. 궁금한 점이 있으면 언제든지 물어보세요!\n"
     ]
    }
   ],
   "source": [
    "print(result.content)"
   ]
  }
 ],
 "metadata": {
  "kernelspec": {
   "display_name": "Modulabs",
   "language": "python",
   "name": "python3"
  },
  "language_info": {
   "codemirror_mode": {
    "name": "ipython",
    "version": 3
   },
   "file_extension": ".py",
   "mimetype": "text/x-python",
   "name": "python",
   "nbconvert_exporter": "python",
   "pygments_lexer": "ipython3",
   "version": "3.10.12"
  }
 },
 "nbformat": 4,
 "nbformat_minor": 2
}
