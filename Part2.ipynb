{
 "cells": [
  {
   "cell_type": "code",
   "execution_count": 3,
   "metadata": {},
   "outputs": [
    {
     "data": {
      "text/plain": [
       "True"
      ]
     },
     "execution_count": 3,
     "metadata": {},
     "output_type": "execute_result"
    }
   ],
   "source": [
    "from langchain_community.document_loaders.csv_loader import CSVLoader\n",
    "import pandas as pd\n",
    "import re\n",
    "from langchain_openai import ChatOpenAI\n",
    "from langchain_core.prompts import ChatPromptTemplate, PromptTemplate\n",
    "from langchain.schema.runnable import RunnablePassthrough, RunnableLambda\n",
    "from langchain_experimental.tools.python.tool import PythonAstREPLTool\n",
    "from markitdown import MarkItDown\n",
    "import dotenv\n",
    "import os\n",
    "\n",
    "dotenv.load_dotenv()"
   ]
  },
  {
   "cell_type": "markdown",
   "metadata": {},
   "source": [
    "### 2-1. 프롬프트로 분석하기"
   ]
  },
  {
   "cell_type": "code",
   "execution_count": 117,
   "metadata": {},
   "outputs": [],
   "source": [
    "df = pd.read_csv(\"./data/titanic.csv\")"
   ]
  },
  {
   "cell_type": "code",
   "execution_count": 118,
   "metadata": {},
   "outputs": [
    {
     "data": {
      "text/html": [
       "<div>\n",
       "<style scoped>\n",
       "    .dataframe tbody tr th:only-of-type {\n",
       "        vertical-align: middle;\n",
       "    }\n",
       "\n",
       "    .dataframe tbody tr th {\n",
       "        vertical-align: top;\n",
       "    }\n",
       "\n",
       "    .dataframe thead th {\n",
       "        text-align: right;\n",
       "    }\n",
       "</style>\n",
       "<table border=\"1\" class=\"dataframe\">\n",
       "  <thead>\n",
       "    <tr style=\"text-align: right;\">\n",
       "      <th></th>\n",
       "      <th>PassengerId</th>\n",
       "      <th>Survived</th>\n",
       "      <th>Pclass</th>\n",
       "      <th>Name</th>\n",
       "      <th>Sex</th>\n",
       "      <th>Age</th>\n",
       "      <th>SibSp</th>\n",
       "      <th>Parch</th>\n",
       "      <th>Ticket</th>\n",
       "      <th>Fare</th>\n",
       "      <th>Cabin</th>\n",
       "      <th>Embarked</th>\n",
       "    </tr>\n",
       "  </thead>\n",
       "  <tbody>\n",
       "    <tr>\n",
       "      <th>0</th>\n",
       "      <td>1</td>\n",
       "      <td>0</td>\n",
       "      <td>3</td>\n",
       "      <td>Braund, Mr. Owen Harris</td>\n",
       "      <td>male</td>\n",
       "      <td>22.0</td>\n",
       "      <td>1</td>\n",
       "      <td>0</td>\n",
       "      <td>A/5 21171</td>\n",
       "      <td>7.2500</td>\n",
       "      <td>NaN</td>\n",
       "      <td>S</td>\n",
       "    </tr>\n",
       "    <tr>\n",
       "      <th>1</th>\n",
       "      <td>2</td>\n",
       "      <td>1</td>\n",
       "      <td>1</td>\n",
       "      <td>Cumings, Mrs. John Bradley (Florence Briggs Th...</td>\n",
       "      <td>female</td>\n",
       "      <td>38.0</td>\n",
       "      <td>1</td>\n",
       "      <td>0</td>\n",
       "      <td>PC 17599</td>\n",
       "      <td>71.2833</td>\n",
       "      <td>C85</td>\n",
       "      <td>C</td>\n",
       "    </tr>\n",
       "    <tr>\n",
       "      <th>2</th>\n",
       "      <td>3</td>\n",
       "      <td>1</td>\n",
       "      <td>3</td>\n",
       "      <td>Heikkinen, Miss. Laina</td>\n",
       "      <td>female</td>\n",
       "      <td>26.0</td>\n",
       "      <td>0</td>\n",
       "      <td>0</td>\n",
       "      <td>STON/O2. 3101282</td>\n",
       "      <td>7.9250</td>\n",
       "      <td>NaN</td>\n",
       "      <td>S</td>\n",
       "    </tr>\n",
       "    <tr>\n",
       "      <th>3</th>\n",
       "      <td>4</td>\n",
       "      <td>1</td>\n",
       "      <td>1</td>\n",
       "      <td>Futrelle, Mrs. Jacques Heath (Lily May Peel)</td>\n",
       "      <td>female</td>\n",
       "      <td>35.0</td>\n",
       "      <td>1</td>\n",
       "      <td>0</td>\n",
       "      <td>113803</td>\n",
       "      <td>53.1000</td>\n",
       "      <td>C123</td>\n",
       "      <td>S</td>\n",
       "    </tr>\n",
       "    <tr>\n",
       "      <th>4</th>\n",
       "      <td>5</td>\n",
       "      <td>0</td>\n",
       "      <td>3</td>\n",
       "      <td>Allen, Mr. William Henry</td>\n",
       "      <td>male</td>\n",
       "      <td>35.0</td>\n",
       "      <td>0</td>\n",
       "      <td>0</td>\n",
       "      <td>373450</td>\n",
       "      <td>8.0500</td>\n",
       "      <td>NaN</td>\n",
       "      <td>S</td>\n",
       "    </tr>\n",
       "  </tbody>\n",
       "</table>\n",
       "</div>"
      ],
      "text/plain": [
       "   PassengerId  Survived  Pclass  \\\n",
       "0            1         0       3   \n",
       "1            2         1       1   \n",
       "2            3         1       3   \n",
       "3            4         1       1   \n",
       "4            5         0       3   \n",
       "\n",
       "                                                Name     Sex   Age  SibSp  \\\n",
       "0                            Braund, Mr. Owen Harris    male  22.0      1   \n",
       "1  Cumings, Mrs. John Bradley (Florence Briggs Th...  female  38.0      1   \n",
       "2                             Heikkinen, Miss. Laina  female  26.0      0   \n",
       "3       Futrelle, Mrs. Jacques Heath (Lily May Peel)  female  35.0      1   \n",
       "4                           Allen, Mr. William Henry    male  35.0      0   \n",
       "\n",
       "   Parch            Ticket     Fare Cabin Embarked  \n",
       "0      0         A/5 21171   7.2500   NaN        S  \n",
       "1      0          PC 17599  71.2833   C85        C  \n",
       "2      0  STON/O2. 3101282   7.9250   NaN        S  \n",
       "3      0            113803  53.1000  C123        S  \n",
       "4      0            373450   8.0500   NaN        S  "
      ]
     },
     "execution_count": 118,
     "metadata": {},
     "output_type": "execute_result"
    }
   ],
   "source": [
    "df.head()"
   ]
  },
  {
   "cell_type": "code",
   "execution_count": 119,
   "metadata": {},
   "outputs": [
    {
     "name": "stdout",
     "output_type": "stream",
     "text": [
      "<class 'pandas.core.frame.DataFrame'>\n",
      "RangeIndex: 891 entries, 0 to 890\n",
      "Data columns (total 12 columns):\n",
      " #   Column       Non-Null Count  Dtype  \n",
      "---  ------       --------------  -----  \n",
      " 0   PassengerId  891 non-null    int64  \n",
      " 1   Survived     891 non-null    int64  \n",
      " 2   Pclass       891 non-null    int64  \n",
      " 3   Name         891 non-null    object \n",
      " 4   Sex          891 non-null    object \n",
      " 5   Age          714 non-null    float64\n",
      " 6   SibSp        891 non-null    int64  \n",
      " 7   Parch        891 non-null    int64  \n",
      " 8   Ticket       891 non-null    object \n",
      " 9   Fare         891 non-null    float64\n",
      " 10  Cabin        204 non-null    object \n",
      " 11  Embarked     889 non-null    object \n",
      "dtypes: float64(2), int64(5), object(5)\n",
      "memory usage: 83.7+ KB\n"
     ]
    }
   ],
   "source": [
    "df.info()"
   ]
  },
  {
   "cell_type": "code",
   "execution_count": 120,
   "metadata": {},
   "outputs": [],
   "source": [
    "md = MarkItDown()"
   ]
  },
  {
   "cell_type": "code",
   "execution_count": 121,
   "metadata": {},
   "outputs": [],
   "source": [
    "convert_df = md.convert(\"./data/titanic.csv\")"
   ]
  },
  {
   "cell_type": "code",
   "execution_count": 122,
   "metadata": {},
   "outputs": [],
   "source": [
    "convert_df = convert_df.text_content"
   ]
  },
  {
   "cell_type": "code",
   "execution_count": 123,
   "metadata": {},
   "outputs": [],
   "source": [
    "prompt = PromptTemplate.from_template(\n",
    "    \"\"\"\n",
    "    table : {convert}\n",
    "\n",
    "    당신은 데이터 분석 전문가입니다.\n",
    "    주어진 table 데이터를 기반으로 데이터 분석에 도움을 주세요.\n",
    "\n",
    "    query : {query}\n",
    "\n",
    "    \"\"\"\n",
    "    )"
   ]
  },
  {
   "cell_type": "code",
   "execution_count": 4,
   "metadata": {},
   "outputs": [],
   "source": [
    "llm = ChatOpenAI(model=\"gpt-4o-mini\",\n",
    "                 temperature=0.,)"
   ]
  },
  {
   "cell_type": "code",
   "execution_count": 125,
   "metadata": {},
   "outputs": [],
   "source": [
    "chain = prompt | llm"
   ]
  },
  {
   "cell_type": "code",
   "execution_count": 126,
   "metadata": {},
   "outputs": [],
   "source": [
    "query = \"이 데이터에서 2번째 행의 이름은 무엇인가요?\""
   ]
  },
  {
   "cell_type": "code",
   "execution_count": 127,
   "metadata": {},
   "outputs": [],
   "source": [
    "result = chain.invoke({\"convert\":convert_df,\n",
    "                       \"query\" : query\n",
    "                       })"
   ]
  },
  {
   "cell_type": "code",
   "execution_count": 128,
   "metadata": {},
   "outputs": [
    {
     "data": {
      "text/plain": [
       "'주어진 데이터에서 2번째 행의 이름은 \"Cumings, Mrs. John Bradley (Florence Briggs Thayer)\"입니다.'"
      ]
     },
     "execution_count": 128,
     "metadata": {},
     "output_type": "execute_result"
    }
   ],
   "source": [
    "result.content"
   ]
  },
  {
   "cell_type": "code",
   "execution_count": 129,
   "metadata": {},
   "outputs": [],
   "source": [
    "def chat_llm(query):\n",
    "    result = chain.invoke({\"convert\":convert_df,\n",
    "                       \"query\" : query\n",
    "                       })    \n",
    "    \n",
    "    return result.content"
   ]
  },
  {
   "cell_type": "code",
   "execution_count": 130,
   "metadata": {},
   "outputs": [],
   "source": [
    "answer = chat_llm(\"이 데이터에서 얻을 수 있는 인사이트는 무엇인가요?\")"
   ]
  },
  {
   "cell_type": "code",
   "execution_count": 131,
   "metadata": {},
   "outputs": [
    {
     "name": "stdout",
     "output_type": "stream",
     "text": [
      "주어진 데이터는 타이타닉 호의 승객 정보를 포함하고 있으며, 이를 통해 여러 가지 인사이트를 도출할 수 있습니다. 다음은 이 데이터에서 얻을 수 있는 몇 가지 주요 인사이트입니다:\n",
      "\n",
      "1. **생존율 분석**:\n",
      "   - 전체 승객 중 생존한 비율과 사망한 비율을 계산하여 생존율을 분석할 수 있습니다. 성별, 나이, 선실 등급(Pclass)별로 생존율을 비교하면 특정 그룹이 더 높은 생존율을 보였는지 확인할 수 있습니다.\n",
      "\n",
      "2. **성별에 따른 생존율**:\n",
      "   - 남성과 여성의 생존율을 비교하여 성별이 생존에 미친 영향을 분석할 수 있습니다. 일반적으로 여성의 생존율이 남성보다 높았던 것으로 알려져 있습니다.\n",
      "\n",
      "3. **연령대별 생존율**:\n",
      "   - 연령대별로 생존율을 분석하여 어린이, 청소년, 성인, 노인 등 각 연령대의 생존율을 비교할 수 있습니다. 예를 들어, 어린이의 생존율이 높았는지 확인할 수 있습니다.\n",
      "\n",
      "4. **선실 등급(Pclass)과 생존율**:\n",
      "   - 선실 등급에 따른 생존율을 분석하여 고급 선실(Pclass 1) 승객이 더 높은 생존율을 보였는지 확인할 수 있습니다. 이는 사회적 지위가 생존에 미친 영향을 나타낼 수 있습니다.\n",
      "\n",
      "5. **가족 구성원 수와 생존율**:\n",
      "   - SibSp(형제/자매 수)와 Parch(부모/자녀 수) 변수를 사용하여 가족과 함께 탑승한 승객의 생존율을 분석할 수 있습니다. 가족과 함께 탑승한 경우 생존율이 높았는지 확인할 수 있습니다.\n",
      "\n",
      "6. **요금(Fare)과 생존율**:\n",
      "   - 승객의 요금과 생존율 간의 상관관계를 분석하여 요금이 생존에 미친 영향을 평가할 수 있습니다. 높은 요금을 지불한 승객이 더 높은 생존율을 보였는지 확인할 수 있습니다.\n",
      "\n",
      "7. **탑승 항구(Embarked)와 생존율**:\n",
      "   - 승객이 탑승한 항구에 따라 생존율을 분석하여 특정 항구에서 탑승한 승객이 더 높은 생존율을 보였는지 확인할 수 있습니다.\n",
      "\n",
      "8. **결측치 분석**:\n",
      "   - Age, Cabin, Embarked와 같은 변수에서 결측치가 존재하는데, 이 결측치를 어떻게 처리할지에 대한 전략을 세울 수 있습니다. 예를 들어, 나이의 결측치를 평균 또는 중앙값으로 대체할 수 있습니다.\n",
      "\n",
      "9. **데이터 시각화**:\n",
      "   - 생존율, 성별, 연령대, 선실 등급 등의 변수를 시각화하여 패턴을 쉽게 이해할 수 있도록 도와줄 수 있습니다. 예를 들어, 막대 그래프, 히스토그램, 상자 그림 등을 활용할 수 있습니다.\n",
      "\n",
      "이러한 인사이트를 통해 타이타닉 사건에 대한 이해를 높이고, 생존에 영향을 미친 요인들을 분석할 수 있습니다. 데이터 분석을 통해 도출된 결과는 향후 유사한 사건에 대한 예방 및 대응 전략 수립에 기여할 수 있습니다.\n"
     ]
    }
   ],
   "source": [
    "print(answer)"
   ]
  },
  {
   "cell_type": "code",
   "execution_count": 132,
   "metadata": {},
   "outputs": [],
   "source": [
    "answer = chat_llm(\"이 데이터를 이용한 분석 순서를 추천해주세요. 무엇부터 해야하나요?\")"
   ]
  },
  {
   "cell_type": "code",
   "execution_count": 133,
   "metadata": {},
   "outputs": [
    {
     "name": "stdout",
     "output_type": "stream",
     "text": [
      "데이터 분석을 시작하기 위해서는 다음과 같은 단계로 진행하는 것이 좋습니다. 이 단계들은 데이터의 이해, 전처리, 탐색적 데이터 분석(EDA), 모델링, 그리고 결과 해석 및 시각화를 포함합니다.\n",
      "\n",
      "### 1. 데이터 이해\n",
      "- **데이터 구조 파악**: 데이터의 각 열(특성)의 의미를 이해합니다. 예를 들어, `PassengerId`, `Survived`, `Pclass`, `Name`, `Sex`, `Age`, `SibSp`, `Parch`, `Ticket`, `Fare`, `Cabin`, `Embarked` 등의 열이 무엇을 의미하는지 확인합니다.\n",
      "- **데이터 타입 확인**: 각 열의 데이터 타입(정수, 실수, 문자열 등)을 확인합니다.\n",
      "\n",
      "### 2. 데이터 전처리\n",
      "- **결측치 처리**: `Age`, `Cabin`, `Fare` 등에서 결측치가 있는지 확인하고, 이를 처리하는 방법(삭제, 평균/중앙값 대체 등)을 결정합니다.\n",
      "- **데이터 형식 변환**: 필요에 따라 데이터 형식을 변환합니다. 예를 들어, `Survived`는 이진 변수로 변환할 수 있습니다.\n",
      "- **범주형 변수 인코딩**: `Sex`, `Embarked`와 같은 범주형 변수를 수치형으로 변환합니다(예: 원-핫 인코딩).\n",
      "\n",
      "### 3. 탐색적 데이터 분석 (EDA)\n",
      "- **기초 통계량 확인**: 각 열의 기초 통계량(평균, 중앙값, 최솟값, 최댓값 등)을 확인합니다.\n",
      "- **데이터 시각화**: \n",
      "  - 생존자와 비생존자의 분포를 시각화합니다.\n",
      "  - 나이, 성별, 클래스(Pclass)별 생존율을 시각화합니다.\n",
      "  - 요금(Fare) 분포를 확인하고, 생존 여부에 따른 요금의 차이를 시각화합니다.\n",
      "- **상관관계 분석**: 생존 여부와 다른 변수들 간의 상관관계를 분석합니다.\n",
      "\n",
      "### 4. 모델링\n",
      "- **모델 선택**: 생존 예측을 위한 모델을 선택합니다. 예를 들어, 로지스틱 회귀, 결정 트리, 랜덤 포레스트, SVM 등을 고려할 수 있습니다.\n",
      "- **모델 학습**: 데이터를 훈련 세트와 테스트 세트로 나누고, 선택한 모델을 훈련합니다.\n",
      "- **모델 평가**: 테스트 세트를 사용하여 모델의 성능을 평가합니다. 정확도, 정밀도, 재현율, F1 점수 등을 확인합니다.\n",
      "\n",
      "### 5. 결과 해석 및 시각화\n",
      "- **모델 결과 해석**: 모델의 결과를 해석하고, 어떤 변수들이 생존에 가장 큰 영향을 미쳤는지 분석합니다.\n",
      "- **시각화**: 모델의 예측 결과를 시각화하여 이해를 돕습니다. 예를 들어, 중요 변수의 시각화, 혼동 행렬 등을 활용할 수 있습니다.\n",
      "\n",
      "### 6. 결론 도출 및 보고서 작성\n",
      "- **결과 요약**: 분석 결과를 요약하고, 주요 발견 사항을 정리합니다.\n",
      "- **보고서 작성**: 분석 과정과 결과를 문서화하여 공유할 수 있도록 합니다.\n",
      "\n",
      "이러한 단계들을 통해 데이터를 체계적으로 분석하고, 유의미한 인사이트를 도출할 수 있습니다. 각 단계에서 필요한 도구와 기술(예: Python, R, SQL, Tableau 등)을 활용하여 분석을 진행하세요.\n"
     ]
    }
   ],
   "source": [
    "print(answer)"
   ]
  },
  {
   "cell_type": "markdown",
   "metadata": {},
   "source": [
    "### 2-1. 도구 사용"
   ]
  },
  {
   "cell_type": "code",
   "execution_count": 40,
   "metadata": {},
   "outputs": [],
   "source": [
    "df2 = pd.read_csv(\"./data/athlete_events.csv\")"
   ]
  },
  {
   "cell_type": "code",
   "execution_count": 41,
   "metadata": {},
   "outputs": [
    {
     "name": "stdout",
     "output_type": "stream",
     "text": [
      "<class 'pandas.core.frame.DataFrame'>\n",
      "RangeIndex: 271116 entries, 0 to 271115\n",
      "Data columns (total 15 columns):\n",
      " #   Column  Non-Null Count   Dtype  \n",
      "---  ------  --------------   -----  \n",
      " 0   ID      271116 non-null  int64  \n",
      " 1   Name    271116 non-null  object \n",
      " 2   Sex     271116 non-null  object \n",
      " 3   Age     261642 non-null  float64\n",
      " 4   Height  210945 non-null  float64\n",
      " 5   Weight  208241 non-null  float64\n",
      " 6   Team    271116 non-null  object \n",
      " 7   NOC     271116 non-null  object \n",
      " 8   Games   271116 non-null  object \n",
      " 9   Year    271116 non-null  int64  \n",
      " 10  Season  271116 non-null  object \n",
      " 11  City    271116 non-null  object \n",
      " 12  Sport   271116 non-null  object \n",
      " 13  Event   271116 non-null  object \n",
      " 14  Medal   39783 non-null   object \n",
      "dtypes: float64(3), int64(2), object(10)\n",
      "memory usage: 31.0+ MB\n"
     ]
    }
   ],
   "source": [
    "df2.info()"
   ]
  },
  {
   "cell_type": "code",
   "execution_count": 42,
   "metadata": {},
   "outputs": [
    {
     "data": {
      "text/html": [
       "<div>\n",
       "<style scoped>\n",
       "    .dataframe tbody tr th:only-of-type {\n",
       "        vertical-align: middle;\n",
       "    }\n",
       "\n",
       "    .dataframe tbody tr th {\n",
       "        vertical-align: top;\n",
       "    }\n",
       "\n",
       "    .dataframe thead th {\n",
       "        text-align: right;\n",
       "    }\n",
       "</style>\n",
       "<table border=\"1\" class=\"dataframe\">\n",
       "  <thead>\n",
       "    <tr style=\"text-align: right;\">\n",
       "      <th></th>\n",
       "      <th>ID</th>\n",
       "      <th>Name</th>\n",
       "      <th>Sex</th>\n",
       "      <th>Age</th>\n",
       "      <th>Height</th>\n",
       "      <th>Weight</th>\n",
       "      <th>Team</th>\n",
       "      <th>NOC</th>\n",
       "      <th>Games</th>\n",
       "      <th>Year</th>\n",
       "      <th>Season</th>\n",
       "      <th>City</th>\n",
       "      <th>Sport</th>\n",
       "      <th>Event</th>\n",
       "      <th>Medal</th>\n",
       "    </tr>\n",
       "  </thead>\n",
       "  <tbody>\n",
       "    <tr>\n",
       "      <th>0</th>\n",
       "      <td>1</td>\n",
       "      <td>A Dijiang</td>\n",
       "      <td>M</td>\n",
       "      <td>24.0</td>\n",
       "      <td>180.0</td>\n",
       "      <td>80.0</td>\n",
       "      <td>China</td>\n",
       "      <td>CHN</td>\n",
       "      <td>1992 Summer</td>\n",
       "      <td>1992</td>\n",
       "      <td>Summer</td>\n",
       "      <td>Barcelona</td>\n",
       "      <td>Basketball</td>\n",
       "      <td>Basketball Men's Basketball</td>\n",
       "      <td>NaN</td>\n",
       "    </tr>\n",
       "    <tr>\n",
       "      <th>1</th>\n",
       "      <td>2</td>\n",
       "      <td>A Lamusi</td>\n",
       "      <td>M</td>\n",
       "      <td>23.0</td>\n",
       "      <td>170.0</td>\n",
       "      <td>60.0</td>\n",
       "      <td>China</td>\n",
       "      <td>CHN</td>\n",
       "      <td>2012 Summer</td>\n",
       "      <td>2012</td>\n",
       "      <td>Summer</td>\n",
       "      <td>London</td>\n",
       "      <td>Judo</td>\n",
       "      <td>Judo Men's Extra-Lightweight</td>\n",
       "      <td>NaN</td>\n",
       "    </tr>\n",
       "    <tr>\n",
       "      <th>2</th>\n",
       "      <td>3</td>\n",
       "      <td>Gunnar Nielsen Aaby</td>\n",
       "      <td>M</td>\n",
       "      <td>24.0</td>\n",
       "      <td>NaN</td>\n",
       "      <td>NaN</td>\n",
       "      <td>Denmark</td>\n",
       "      <td>DEN</td>\n",
       "      <td>1920 Summer</td>\n",
       "      <td>1920</td>\n",
       "      <td>Summer</td>\n",
       "      <td>Antwerpen</td>\n",
       "      <td>Football</td>\n",
       "      <td>Football Men's Football</td>\n",
       "      <td>NaN</td>\n",
       "    </tr>\n",
       "    <tr>\n",
       "      <th>3</th>\n",
       "      <td>4</td>\n",
       "      <td>Edgar Lindenau Aabye</td>\n",
       "      <td>M</td>\n",
       "      <td>34.0</td>\n",
       "      <td>NaN</td>\n",
       "      <td>NaN</td>\n",
       "      <td>Denmark/Sweden</td>\n",
       "      <td>DEN</td>\n",
       "      <td>1900 Summer</td>\n",
       "      <td>1900</td>\n",
       "      <td>Summer</td>\n",
       "      <td>Paris</td>\n",
       "      <td>Tug-Of-War</td>\n",
       "      <td>Tug-Of-War Men's Tug-Of-War</td>\n",
       "      <td>Gold</td>\n",
       "    </tr>\n",
       "    <tr>\n",
       "      <th>4</th>\n",
       "      <td>5</td>\n",
       "      <td>Christine Jacoba Aaftink</td>\n",
       "      <td>F</td>\n",
       "      <td>21.0</td>\n",
       "      <td>185.0</td>\n",
       "      <td>82.0</td>\n",
       "      <td>Netherlands</td>\n",
       "      <td>NED</td>\n",
       "      <td>1988 Winter</td>\n",
       "      <td>1988</td>\n",
       "      <td>Winter</td>\n",
       "      <td>Calgary</td>\n",
       "      <td>Speed Skating</td>\n",
       "      <td>Speed Skating Women's 500 metres</td>\n",
       "      <td>NaN</td>\n",
       "    </tr>\n",
       "  </tbody>\n",
       "</table>\n",
       "</div>"
      ],
      "text/plain": [
       "   ID                      Name Sex   Age  Height  Weight            Team  \\\n",
       "0   1                 A Dijiang   M  24.0   180.0    80.0           China   \n",
       "1   2                  A Lamusi   M  23.0   170.0    60.0           China   \n",
       "2   3       Gunnar Nielsen Aaby   M  24.0     NaN     NaN         Denmark   \n",
       "3   4      Edgar Lindenau Aabye   M  34.0     NaN     NaN  Denmark/Sweden   \n",
       "4   5  Christine Jacoba Aaftink   F  21.0   185.0    82.0     Netherlands   \n",
       "\n",
       "   NOC        Games  Year  Season       City          Sport  \\\n",
       "0  CHN  1992 Summer  1992  Summer  Barcelona     Basketball   \n",
       "1  CHN  2012 Summer  2012  Summer     London           Judo   \n",
       "2  DEN  1920 Summer  1920  Summer  Antwerpen       Football   \n",
       "3  DEN  1900 Summer  1900  Summer      Paris     Tug-Of-War   \n",
       "4  NED  1988 Winter  1988  Winter    Calgary  Speed Skating   \n",
       "\n",
       "                              Event Medal  \n",
       "0       Basketball Men's Basketball   NaN  \n",
       "1      Judo Men's Extra-Lightweight   NaN  \n",
       "2           Football Men's Football   NaN  \n",
       "3       Tug-Of-War Men's Tug-Of-War  Gold  \n",
       "4  Speed Skating Women's 500 metres   NaN  "
      ]
     },
     "execution_count": 42,
     "metadata": {},
     "output_type": "execute_result"
    }
   ],
   "source": [
    "df2.head()"
   ]
  },
  {
   "cell_type": "code",
   "execution_count": 81,
   "metadata": {},
   "outputs": [],
   "source": [
    "prompt = ChatPromptTemplate([\n",
    "    (\"system\", \"\"\"당신은 pandas 라이브러리를 사용할 수 있는 전문가입니다. 주어진 df의 형태를 참고하여 코드를 작성합니다. \\\n",
    "                다음은 `print(df.head())`의 형태입니다. {head}\n",
    "     \n",
    "                ### 예시1\n",
    "                ```python\n",
    "     \n",
    "                len(df)\n",
    "                ```\n",
    "                ### 예시2\n",
    "                ```python\n",
    "     \n",
    "                # sum_gamerounds에 대한 히스토그램\n",
    "                plt.figure(figsize=(12, 6))\n",
    "                sns.histplot(df['sum_gamerounds'], bins=10, kde=True)\n",
    "                plt.title('Distribution of Sum Gamerounds')\n",
    "                plt.xlabel('Sum Gamerounds')\n",
    "                plt.ylabel('Frequency')\n",
    "                plt.grid()\n",
    "                plt.show()\n",
    "                ```\n",
    "     \n",
    "     \"\"\"),\n",
    "    (\"human\", \"{query}\")\n",
    "])"
   ]
  },
  {
   "cell_type": "code",
   "execution_count": 82,
   "metadata": {},
   "outputs": [],
   "source": [
    "code_tool = PythonAstREPLTool(name=\"python_repl_ast\", \n",
    "                              description=\"A Python shell. Use this to execute python commands. \\\n",
    "                                           Input should be a valid python command. When using this tool, \\\n",
    "                                           sometimes output is abbreviated - make sure it does not look abbreviated before using it in your answer.\",\n",
    "                               locals={\"df\":df2})"
   ]
  },
  {
   "cell_type": "code",
   "execution_count": 83,
   "metadata": {},
   "outputs": [],
   "source": [
    "def extract_code(content):\n",
    "\n",
    "    content = content.content\n",
    "\n",
    "    return re.findall(r'```python\\n(.*?)\\n```', content, re.DOTALL)[0]"
   ]
  },
  {
   "cell_type": "code",
   "execution_count": null,
   "metadata": {},
   "outputs": [],
   "source": [
    "def checker(response):\n",
    "\n",
    "    code = extract_code(response)\n",
    "\n",
    "    prompt = PromptTemplate.from_template(\"\"\"\n",
    "            너는 입력된 코드의 결과가 시각화인지, 문자열로 출력되는지 검사하는 역할을 맡은 데이터 분석가야.\n",
    "            시각화라면 : \"plot\"\n",
    "            문자열이면 : \"print\"\n",
    "            를 출력하여야해.\n",
    "            항상 대답은 둘 중 하나로만 단답형으로 대답해야해. [\"plot\", \"print\"]          \n",
    "                \n",
    "\n",
    "            code : {code}                                          \n",
    "\n",
    "            \"\"\"\n",
    "            )\n",
    "\n",
    "    chain = prompt | llm\n",
    "    \n",
    "    result = chain.invoke({\"code\": code}).content\n",
    "\n",
    "    code_prompt = PromptTemplate.from_template(\"\"\"\n",
    "            너는 주어진 차트를 해석해주는 데이터분석가야.\n",
    "            주어진 차트를 해석해줘\n",
    "                                               \n",
    "            ### 예시 1\n",
    "            - UserID는 고유한 식별값입니다.\n",
    "            \n",
    "            ### 예시 2\n",
    "            - X축은 2013-02-11 ~ 2016-04-16까지의 시간을 나타내는 TimeStamp 컬럼입니다.\n",
    "            - Y축은 Passengers로 해당 날짜에 탑승한 승객을 나타냅니다.\n",
    "            - 제목은 'Number of passengers on board by date'로 일자 별로 탑승한 승객을 보려는 시계열 차트입니다.\n",
    "\n",
    "            code : {code}                                          \n",
    "\n",
    "            \"\"\"\n",
    "            )\n",
    "    \n",
    "    code_chain = code_prompt | llm\n",
    "\n",
    "    if result == \"plot\":\n",
    "        print(f\"====== 결과값 : {result}으로 시각화를 진행합니다. ====== \\n\\n\")\n",
    "        code_tool.run(code)\n",
    "        response = code_chain.invoke({\"code\":code})\n",
    "        print(response.content)\n",
    "        return response\n",
    "    else:\n",
    "        print(f\"====== 결과값 : {result}으로 답변을 진행합니다. ====== \\n\\n\")\n",
    "        print(response.content)\n",
    "        return response"
   ]
  },
  {
   "cell_type": "code",
   "execution_count": 121,
   "metadata": {},
   "outputs": [],
   "source": [
    "chain = prompt | llm | RunnableLambda(checker)"
   ]
  },
  {
   "cell_type": "code",
   "execution_count": 122,
   "metadata": {},
   "outputs": [
    {
     "name": "stdout",
     "output_type": "stream",
     "text": [
      "====== 결과값 : print으로 답변을 진행합니다. ====== \n",
      "\n",
      "\n",
      "가장 성적이 좋은 선수는 메달을 보유한 선수 중에서 가장 높은 순위를 가진 선수를 찾는 것으로 정의할 수 있습니다. 아래 코드를 사용하여 가장 성적이 좋은 선수를 찾을 수 있습니다.\n",
      "\n",
      "```python\n",
      "# 가장 성적이 좋은 선수 찾기\n",
      "best_athlete = df[df['Medal'] == 'Gold'].iloc[0]\n",
      "\n",
      "# 결과 출력\n",
      "print(f\"가장 성적이 좋은 선수: {best_athlete['Name']}, 국가: {best_athlete['Team']}, 메달: {best_athlete['Medal']}\")\n",
      "```\n",
      "\n",
      "이 코드는 메달이 'Gold'인 선수 중 첫 번째 선수를 선택하여 그 선수의 이름, 국가, 메달 정보를 출력합니다. 만약 금메달을 가진 선수가 여러 명이라면, 추가적인 기준을 설정하여 가장 성적이 좋은 선수를 선택할 수 있습니다.\n"
     ]
    }
   ],
   "source": [
    "result = chain.invoke({\"head\": df2.head(),\n",
    "                       \"query\":\"가장 성적이 좋은 선수는 누구야?\"})"
   ]
  },
  {
   "cell_type": "markdown",
   "metadata": {},
   "source": [
    "### 문제점\n",
    "- 도메인 정보에 대한 부재\n",
    "- Title, Summary같은 정보를 추가하기가 어려움.\n",
    "- 프롬프트에 추가하여 진행할 수 있지만 매번 프롬프트에 추가하기가 어려움."
   ]
  },
  {
   "cell_type": "markdown",
   "metadata": {},
   "source": []
  }
 ],
 "metadata": {
  "kernelspec": {
   "display_name": "Modulabs",
   "language": "python",
   "name": "python3"
  },
  "language_info": {
   "codemirror_mode": {
    "name": "ipython",
    "version": 3
   },
   "file_extension": ".py",
   "mimetype": "text/x-python",
   "name": "python",
   "nbconvert_exporter": "python",
   "pygments_lexer": "ipython3",
   "version": "3.10.12"
  }
 },
 "nbformat": 4,
 "nbformat_minor": 2
}
