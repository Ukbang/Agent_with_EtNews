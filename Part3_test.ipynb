{
 "cells": [
  {
   "cell_type": "code",
   "execution_count": 2,
   "metadata": {},
   "outputs": [
    {
     "data": {
      "text/plain": [
       "True"
      ]
     },
     "execution_count": 2,
     "metadata": {},
     "output_type": "execute_result"
    }
   ],
   "source": [
    "from langchain_community.document_loaders.csv_loader import CSVLoader\n",
    "import pandas as pd\n",
    "from IPython.display import Markdown\n",
    "import re\n",
    "import datetime\n",
    "from pykrx.stock import get_market_ticker_list, get_market_ticker_name\n",
    "from typing import Annotated, Literal\n",
    "from typing_extensions import TypedDict\n",
    "from langchain_openai import ChatOpenAI, OpenAIEmbeddings\n",
    "from langchain.text_splitter import RecursiveCharacterTextSplitter\n",
    "from langchain_community.vectorstores import FAISS\n",
    "from langchain_community.tools.tavily_search import TavilySearchResults\n",
    "from langchain.tools.retriever import create_retriever_tool\n",
    "from langchain.document_loaders import PyMuPDFLoader, PyPDFLoader\n",
    "from langgraph.graph import StateGraph, START, END\n",
    "from langgraph.graph.message import add_messages, MessagesState\n",
    "from langgraph.prebuilt import ToolNode, tools_condition\n",
    "from langgraph.checkpoint.memory import MemorySaver\n",
    "from langchain_core.prompts import ChatPromptTemplate, PromptTemplate\n",
    "from langchain_core.tools import tool\n",
    "from langchain_core.documents.base import Document\n",
    "from langchain_core.vectorstores.base import VectorStoreRetriever\n",
    "from langchain_core.output_parsers.openai_tools import JsonOutputToolsParser\n",
    "from langchain_core.output_parsers.string import StrOutputParser\n",
    "from langchain.schema.runnable import RunnablePassthrough, RunnableLambda\n",
    "from langchain_experimental.utilities import PythonREPL\n",
    "from langchain_experimental.tools.python.tool import PythonAstREPLTool\n",
    "from pydantic import BaseModel, Field\n",
    "from markitdown import MarkItDown\n",
    "import dotenv\n",
    "import os\n",
    "\n",
    "dotenv.load_dotenv()"
   ]
  },
  {
   "cell_type": "code",
   "execution_count": 3,
   "metadata": {},
   "outputs": [],
   "source": [
    "import yfinance as yf\n",
    "\n",
    "# 피엔티 , 137400"
   ]
  },
  {
   "cell_type": "code",
   "execution_count": null,
   "metadata": {},
   "outputs": [],
   "source": [
    "class State(TypedDict):\n",
    "    messages : Annotated[list, add_messages]\n",
    "    df : Annotated[pd.DataFrame, \"Stock Dataset\"]\n",
    "    tool_call : Annotated[str, \"tool_call Result\"]"
   ]
  },
  {
   "cell_type": "code",
   "execution_count": 72,
   "metadata": {},
   "outputs": [],
   "source": [
    "s = State[\"df\"]"
   ]
  },
  {
   "cell_type": "code",
   "execution_count": 5,
   "metadata": {},
   "outputs": [],
   "source": [
    "# 주식 DB를 만드는 함수 {\"삼성전자\":\"005930, ... }\n",
    "\n",
    "def create_stock_db():\n",
    "    stock_dict = {}\n",
    "    today = datetime.datetime.today()\n",
    "    \n",
    "    stock_list = get_market_ticker_list(today, market=\"KOSPI\")\n",
    "\n",
    "    for stock in stock_list:\n",
    "        stock_dict.update({get_market_ticker_name(stock):stock})\n",
    "    \n",
    "    stock_list = get_market_ticker_list(today, market=\"KOSDAQ\")\n",
    "\n",
    "    for stock in stock_list:\n",
    "        stock_dict.update({get_market_ticker_name(stock):stock})\n",
    "\n",
    "    return stock_dict"
   ]
  },
  {
   "cell_type": "code",
   "execution_count": 6,
   "metadata": {},
   "outputs": [],
   "source": [
    "stock_db = create_stock_db()"
   ]
  },
  {
   "cell_type": "code",
   "execution_count": 7,
   "metadata": {},
   "outputs": [],
   "source": [
    "prompt = PromptTemplate.from_template(\"\"\"\n",
    "당신은 주식 이름 추출기입니다.\n",
    "주어진 문장에서 주식이름만 추출하세요.\n",
    "\n",
    "### 예시 1\n",
    "query : 삼성전자의 최근 1년에 대해서 분석해주세요.\n",
    "\n",
    "answer : 삼성전자\n",
    "\n",
    "### 예시 2\n",
    "query : AJ홀딩스우의 최근 실적은 얼마인가요?\n",
    "\n",
    "answer : AJ홀딩스우\n",
    "\n",
    "### 입력\n",
    "query : {query}\n",
    "\n",
    "answer : \n",
    "\n",
    "\"\"\"\n",
    ")\n",
    "\n",
    "llm = ChatOpenAI(model=\"gpt-4o-mini\",\n",
    "                 temperature=0,)"
   ]
  },
  {
   "cell_type": "code",
   "execution_count": 8,
   "metadata": {},
   "outputs": [],
   "source": [
    "stock_name = \"피엔티\"\n",
    "\n",
    "stock_code = stock_db[stock_name]\n"
   ]
  },
  {
   "cell_type": "code",
   "execution_count": 9,
   "metadata": {},
   "outputs": [],
   "source": [
    "@tool\n",
    "def search_stock(query):\n",
    "\n",
    "    \"\"\"\n",
    "    주식 검색 도구입니다.\n",
    "    결과값으로 데이터프레임이 반환됩니다.\n",
    "    입력 쿼리에서 주식이름을 추출한 후 모든 주식 데이터를 가져옵니다.\n",
    "    \"\"\"\n",
    "\n",
    "\n",
    "    prompt = PromptTemplate.from_template(\"\"\"\n",
    "        당신은 주식 이름 추출기입니다.\n",
    "        주어진 문장에서 주식이름만 추출하세요.\n",
    "\n",
    "        ### 예시 1\n",
    "        query : 삼성전자의 최근 1년에 대해서 분석해주세요.\n",
    "\n",
    "        answer : 삼성전자\n",
    "\n",
    "        ### 예시 2\n",
    "        query : AJ홀딩스우의 최근 실적은 얼마인가요?\n",
    "\n",
    "        answer : AJ홀딩스우\n",
    "\n",
    "        ### 입력\n",
    "        query : {query}\n",
    "\n",
    "        answer : \n",
    "\n",
    "        \"\"\"\n",
    "        )\n",
    "    \n",
    "    chain = prompt | llm | StrOutputParser()\n",
    "\n",
    "    stock_name = chain.invoke({\"query\":query})\n",
    "\n",
    "    try:\n",
    "        stock_code = stock_db[stock_name.strip().upper()]   \n",
    "    except:\n",
    "        raise ValueError(f\"종목명 : {stock_name}을/를 검색할 수 없습니다. 오탈자나 한국거래소에서 거래중인 주식인지 확인해주세요.\")\n",
    "    \n",
    "    # 예: 삼성전자 (한국거래소는 뒤에 '.KS'를 붙임)\n",
    "    ticker = yf.Ticker(stock_code+\".KS\")\n",
    "\n",
    "    df = ticker.history(period=\"max\") # 기간: '1d', '5d', '1mo', '1y', 'max' 등\n",
    "\n",
    "    return df"
   ]
  },
  {
   "cell_type": "code",
   "execution_count": 10,
   "metadata": {},
   "outputs": [
    {
     "name": "stderr",
     "output_type": "stream",
     "text": [
      "C:\\Users\\Admin\\AppData\\Local\\Temp\\ipykernel_8944\\546577314.py:1: LangChainDeprecationWarning: The method `BaseTool.__call__` was deprecated in langchain-core 0.1.47 and will be removed in 1.0. Use :meth:`~invoke` instead.\n",
      "  df = search_stock(\"LS가 뭐죠?\")\n",
      "keys must be str, int, float, bool or None, not Timestamp\n",
      "Error in LangChainTracer.on_tool_end callback: TypeError('keys must be str, int, float, bool or None, not Timestamp')\n"
     ]
    }
   ],
   "source": [
    "df = search_stock(\"LS가 뭐죠?\")"
   ]
  },
  {
   "cell_type": "code",
   "execution_count": 37,
   "metadata": {},
   "outputs": [
    {
     "name": "stderr",
     "output_type": "stream",
     "text": [
      "Error in LangChainTracer.on_tool_end callback: TypeError('keys must be str, int, float, bool or None, not Timestamp')\n"
     ]
    },
    {
     "data": {
      "text/html": [
       "<div>\n",
       "<style scoped>\n",
       "    .dataframe tbody tr th:only-of-type {\n",
       "        vertical-align: middle;\n",
       "    }\n",
       "\n",
       "    .dataframe tbody tr th {\n",
       "        vertical-align: top;\n",
       "    }\n",
       "\n",
       "    .dataframe thead th {\n",
       "        text-align: right;\n",
       "    }\n",
       "</style>\n",
       "<table border=\"1\" class=\"dataframe\">\n",
       "  <thead>\n",
       "    <tr style=\"text-align: right;\">\n",
       "      <th></th>\n",
       "      <th>Open</th>\n",
       "      <th>High</th>\n",
       "      <th>Low</th>\n",
       "      <th>Close</th>\n",
       "      <th>Volume</th>\n",
       "      <th>Dividends</th>\n",
       "      <th>Stock Splits</th>\n",
       "    </tr>\n",
       "    <tr>\n",
       "      <th>Date</th>\n",
       "      <th></th>\n",
       "      <th></th>\n",
       "      <th></th>\n",
       "      <th></th>\n",
       "      <th></th>\n",
       "      <th></th>\n",
       "      <th></th>\n",
       "    </tr>\n",
       "  </thead>\n",
       "  <tbody>\n",
       "    <tr>\n",
       "      <th>2000-01-04 00:00:00+09:00</th>\n",
       "      <td>8647.702567</td>\n",
       "      <td>10137.029120</td>\n",
       "      <td>8647.702567</td>\n",
       "      <td>10088.986328</td>\n",
       "      <td>509500</td>\n",
       "      <td>600.0</td>\n",
       "      <td>0.0</td>\n",
       "    </tr>\n",
       "    <tr>\n",
       "      <th>2000-01-05 00:00:00+09:00</th>\n",
       "      <td>10088.986328</td>\n",
       "      <td>10785.606813</td>\n",
       "      <td>9656.601200</td>\n",
       "      <td>10088.986328</td>\n",
       "      <td>457500</td>\n",
       "      <td>0.0</td>\n",
       "      <td>0.0</td>\n",
       "    </tr>\n",
       "    <tr>\n",
       "      <th>2000-01-06 00:00:00+09:00</th>\n",
       "      <td>10329.202588</td>\n",
       "      <td>10329.202588</td>\n",
       "      <td>9128.132520</td>\n",
       "      <td>9608.560547</td>\n",
       "      <td>351700</td>\n",
       "      <td>0.0</td>\n",
       "      <td>0.0</td>\n",
       "    </tr>\n",
       "    <tr>\n",
       "      <th>2000-01-07 00:00:00+09:00</th>\n",
       "      <td>9224.217965</td>\n",
       "      <td>9704.645984</td>\n",
       "      <td>9224.217965</td>\n",
       "      <td>9560.517578</td>\n",
       "      <td>191100</td>\n",
       "      <td>0.0</td>\n",
       "      <td>0.0</td>\n",
       "    </tr>\n",
       "    <tr>\n",
       "      <th>2000-01-10 00:00:00+09:00</th>\n",
       "      <td>9608.560380</td>\n",
       "      <td>9752.688786</td>\n",
       "      <td>9272.260767</td>\n",
       "      <td>9560.517578</td>\n",
       "      <td>198600</td>\n",
       "      <td>0.0</td>\n",
       "      <td>0.0</td>\n",
       "    </tr>\n",
       "    <tr>\n",
       "      <th>...</th>\n",
       "      <td>...</td>\n",
       "      <td>...</td>\n",
       "      <td>...</td>\n",
       "      <td>...</td>\n",
       "      <td>...</td>\n",
       "      <td>...</td>\n",
       "      <td>...</td>\n",
       "    </tr>\n",
       "    <tr>\n",
       "      <th>2025-03-17 00:00:00+09:00</th>\n",
       "      <td>130600.000000</td>\n",
       "      <td>131300.000000</td>\n",
       "      <td>121200.000000</td>\n",
       "      <td>121700.000000</td>\n",
       "      <td>725086</td>\n",
       "      <td>0.0</td>\n",
       "      <td>0.0</td>\n",
       "    </tr>\n",
       "    <tr>\n",
       "      <th>2025-03-18 00:00:00+09:00</th>\n",
       "      <td>122400.000000</td>\n",
       "      <td>127100.000000</td>\n",
       "      <td>121600.000000</td>\n",
       "      <td>122800.000000</td>\n",
       "      <td>554183</td>\n",
       "      <td>0.0</td>\n",
       "      <td>0.0</td>\n",
       "    </tr>\n",
       "    <tr>\n",
       "      <th>2025-03-19 00:00:00+09:00</th>\n",
       "      <td>121200.000000</td>\n",
       "      <td>122700.000000</td>\n",
       "      <td>117800.000000</td>\n",
       "      <td>118000.000000</td>\n",
       "      <td>420890</td>\n",
       "      <td>0.0</td>\n",
       "      <td>0.0</td>\n",
       "    </tr>\n",
       "    <tr>\n",
       "      <th>2025-03-20 00:00:00+09:00</th>\n",
       "      <td>119500.000000</td>\n",
       "      <td>125700.000000</td>\n",
       "      <td>118300.000000</td>\n",
       "      <td>123300.000000</td>\n",
       "      <td>473135</td>\n",
       "      <td>0.0</td>\n",
       "      <td>0.0</td>\n",
       "    </tr>\n",
       "    <tr>\n",
       "      <th>2025-03-21 00:00:00+09:00</th>\n",
       "      <td>120100.000000</td>\n",
       "      <td>121700.000000</td>\n",
       "      <td>116300.000000</td>\n",
       "      <td>116500.000000</td>\n",
       "      <td>309818</td>\n",
       "      <td>0.0</td>\n",
       "      <td>0.0</td>\n",
       "    </tr>\n",
       "  </tbody>\n",
       "</table>\n",
       "<p>6313 rows × 7 columns</p>\n",
       "</div>"
      ],
      "text/plain": [
       "                                    Open           High            Low  \\\n",
       "Date                                                                     \n",
       "2000-01-04 00:00:00+09:00    8647.702567   10137.029120    8647.702567   \n",
       "2000-01-05 00:00:00+09:00   10088.986328   10785.606813    9656.601200   \n",
       "2000-01-06 00:00:00+09:00   10329.202588   10329.202588    9128.132520   \n",
       "2000-01-07 00:00:00+09:00    9224.217965    9704.645984    9224.217965   \n",
       "2000-01-10 00:00:00+09:00    9608.560380    9752.688786    9272.260767   \n",
       "...                                  ...            ...            ...   \n",
       "2025-03-17 00:00:00+09:00  130600.000000  131300.000000  121200.000000   \n",
       "2025-03-18 00:00:00+09:00  122400.000000  127100.000000  121600.000000   \n",
       "2025-03-19 00:00:00+09:00  121200.000000  122700.000000  117800.000000   \n",
       "2025-03-20 00:00:00+09:00  119500.000000  125700.000000  118300.000000   \n",
       "2025-03-21 00:00:00+09:00  120100.000000  121700.000000  116300.000000   \n",
       "\n",
       "                                   Close  Volume  Dividends  Stock Splits  \n",
       "Date                                                                       \n",
       "2000-01-04 00:00:00+09:00   10088.986328  509500      600.0           0.0  \n",
       "2000-01-05 00:00:00+09:00   10088.986328  457500        0.0           0.0  \n",
       "2000-01-06 00:00:00+09:00    9608.560547  351700        0.0           0.0  \n",
       "2000-01-07 00:00:00+09:00    9560.517578  191100        0.0           0.0  \n",
       "2000-01-10 00:00:00+09:00    9560.517578  198600        0.0           0.0  \n",
       "...                                  ...     ...        ...           ...  \n",
       "2025-03-17 00:00:00+09:00  121700.000000  725086        0.0           0.0  \n",
       "2025-03-18 00:00:00+09:00  122800.000000  554183        0.0           0.0  \n",
       "2025-03-19 00:00:00+09:00  118000.000000  420890        0.0           0.0  \n",
       "2025-03-20 00:00:00+09:00  123300.000000  473135        0.0           0.0  \n",
       "2025-03-21 00:00:00+09:00  116500.000000  309818        0.0           0.0  \n",
       "\n",
       "[6313 rows x 7 columns]"
      ]
     },
     "execution_count": 37,
     "metadata": {},
     "output_type": "execute_result"
    }
   ],
   "source": [
    "search_stock.invoke(\"LS가 뭐죠?\")"
   ]
  },
  {
   "cell_type": "code",
   "execution_count": 63,
   "metadata": {},
   "outputs": [],
   "source": [
    "df_dict = df.reset_index().to_dict()"
   ]
  },
  {
   "cell_type": "code",
   "execution_count": 64,
   "metadata": {},
   "outputs": [
    {
     "data": {
      "text/html": [
       "<div>\n",
       "<style scoped>\n",
       "    .dataframe tbody tr th:only-of-type {\n",
       "        vertical-align: middle;\n",
       "    }\n",
       "\n",
       "    .dataframe tbody tr th {\n",
       "        vertical-align: top;\n",
       "    }\n",
       "\n",
       "    .dataframe thead th {\n",
       "        text-align: right;\n",
       "    }\n",
       "</style>\n",
       "<table border=\"1\" class=\"dataframe\">\n",
       "  <thead>\n",
       "    <tr style=\"text-align: right;\">\n",
       "      <th></th>\n",
       "      <th>Date</th>\n",
       "      <th>Open</th>\n",
       "      <th>High</th>\n",
       "      <th>Low</th>\n",
       "      <th>Close</th>\n",
       "      <th>Volume</th>\n",
       "      <th>Dividends</th>\n",
       "      <th>Stock Splits</th>\n",
       "    </tr>\n",
       "  </thead>\n",
       "  <tbody>\n",
       "    <tr>\n",
       "      <th>0</th>\n",
       "      <td>2000-01-04 00:00:00+09:00</td>\n",
       "      <td>8647.703404</td>\n",
       "      <td>10137.030101</td>\n",
       "      <td>8647.703404</td>\n",
       "      <td>10088.987305</td>\n",
       "      <td>509500</td>\n",
       "      <td>600.0</td>\n",
       "      <td>0.0</td>\n",
       "    </tr>\n",
       "    <tr>\n",
       "      <th>1</th>\n",
       "      <td>2000-01-05 00:00:00+09:00</td>\n",
       "      <td>10088.987305</td>\n",
       "      <td>10785.607857</td>\n",
       "      <td>9656.602134</td>\n",
       "      <td>10088.987305</td>\n",
       "      <td>457500</td>\n",
       "      <td>0.0</td>\n",
       "      <td>0.0</td>\n",
       "    </tr>\n",
       "    <tr>\n",
       "      <th>2</th>\n",
       "      <td>2000-01-06 00:00:00+09:00</td>\n",
       "      <td>10329.199438</td>\n",
       "      <td>10329.199438</td>\n",
       "      <td>9128.129736</td>\n",
       "      <td>9608.557617</td>\n",
       "      <td>351700</td>\n",
       "      <td>0.0</td>\n",
       "      <td>0.0</td>\n",
       "    </tr>\n",
       "    <tr>\n",
       "      <th>3</th>\n",
       "      <td>2000-01-07 00:00:00+09:00</td>\n",
       "      <td>9224.213254</td>\n",
       "      <td>9704.641027</td>\n",
       "      <td>9224.213254</td>\n",
       "      <td>9560.512695</td>\n",
       "      <td>191100</td>\n",
       "      <td>0.0</td>\n",
       "      <td>0.0</td>\n",
       "    </tr>\n",
       "    <tr>\n",
       "      <th>4</th>\n",
       "      <td>2000-01-10 00:00:00+09:00</td>\n",
       "      <td>9608.555473</td>\n",
       "      <td>9752.683805</td>\n",
       "      <td>9272.256031</td>\n",
       "      <td>9560.512695</td>\n",
       "      <td>198600</td>\n",
       "      <td>0.0</td>\n",
       "      <td>0.0</td>\n",
       "    </tr>\n",
       "    <tr>\n",
       "      <th>...</th>\n",
       "      <td>...</td>\n",
       "      <td>...</td>\n",
       "      <td>...</td>\n",
       "      <td>...</td>\n",
       "      <td>...</td>\n",
       "      <td>...</td>\n",
       "      <td>...</td>\n",
       "      <td>...</td>\n",
       "    </tr>\n",
       "    <tr>\n",
       "      <th>6308</th>\n",
       "      <td>2025-03-17 00:00:00+09:00</td>\n",
       "      <td>130600.000000</td>\n",
       "      <td>131300.000000</td>\n",
       "      <td>121200.000000</td>\n",
       "      <td>121700.000000</td>\n",
       "      <td>725086</td>\n",
       "      <td>0.0</td>\n",
       "      <td>0.0</td>\n",
       "    </tr>\n",
       "    <tr>\n",
       "      <th>6309</th>\n",
       "      <td>2025-03-18 00:00:00+09:00</td>\n",
       "      <td>122400.000000</td>\n",
       "      <td>127100.000000</td>\n",
       "      <td>121600.000000</td>\n",
       "      <td>122800.000000</td>\n",
       "      <td>554183</td>\n",
       "      <td>0.0</td>\n",
       "      <td>0.0</td>\n",
       "    </tr>\n",
       "    <tr>\n",
       "      <th>6310</th>\n",
       "      <td>2025-03-19 00:00:00+09:00</td>\n",
       "      <td>121200.000000</td>\n",
       "      <td>122700.000000</td>\n",
       "      <td>117800.000000</td>\n",
       "      <td>118000.000000</td>\n",
       "      <td>420890</td>\n",
       "      <td>0.0</td>\n",
       "      <td>0.0</td>\n",
       "    </tr>\n",
       "    <tr>\n",
       "      <th>6311</th>\n",
       "      <td>2025-03-20 00:00:00+09:00</td>\n",
       "      <td>119500.000000</td>\n",
       "      <td>125700.000000</td>\n",
       "      <td>118300.000000</td>\n",
       "      <td>123300.000000</td>\n",
       "      <td>473135</td>\n",
       "      <td>0.0</td>\n",
       "      <td>0.0</td>\n",
       "    </tr>\n",
       "    <tr>\n",
       "      <th>6312</th>\n",
       "      <td>2025-03-21 00:00:00+09:00</td>\n",
       "      <td>120100.000000</td>\n",
       "      <td>121700.000000</td>\n",
       "      <td>116300.000000</td>\n",
       "      <td>116500.000000</td>\n",
       "      <td>309818</td>\n",
       "      <td>0.0</td>\n",
       "      <td>0.0</td>\n",
       "    </tr>\n",
       "  </tbody>\n",
       "</table>\n",
       "<p>6313 rows × 8 columns</p>\n",
       "</div>"
      ],
      "text/plain": [
       "                          Date           Open           High            Low  \\\n",
       "0    2000-01-04 00:00:00+09:00    8647.703404   10137.030101    8647.703404   \n",
       "1    2000-01-05 00:00:00+09:00   10088.987305   10785.607857    9656.602134   \n",
       "2    2000-01-06 00:00:00+09:00   10329.199438   10329.199438    9128.129736   \n",
       "3    2000-01-07 00:00:00+09:00    9224.213254    9704.641027    9224.213254   \n",
       "4    2000-01-10 00:00:00+09:00    9608.555473    9752.683805    9272.256031   \n",
       "...                        ...            ...            ...            ...   \n",
       "6308 2025-03-17 00:00:00+09:00  130600.000000  131300.000000  121200.000000   \n",
       "6309 2025-03-18 00:00:00+09:00  122400.000000  127100.000000  121600.000000   \n",
       "6310 2025-03-19 00:00:00+09:00  121200.000000  122700.000000  117800.000000   \n",
       "6311 2025-03-20 00:00:00+09:00  119500.000000  125700.000000  118300.000000   \n",
       "6312 2025-03-21 00:00:00+09:00  120100.000000  121700.000000  116300.000000   \n",
       "\n",
       "              Close  Volume  Dividends  Stock Splits  \n",
       "0      10088.987305  509500      600.0           0.0  \n",
       "1      10088.987305  457500        0.0           0.0  \n",
       "2       9608.557617  351700        0.0           0.0  \n",
       "3       9560.512695  191100        0.0           0.0  \n",
       "4       9560.512695  198600        0.0           0.0  \n",
       "...             ...     ...        ...           ...  \n",
       "6308  121700.000000  725086        0.0           0.0  \n",
       "6309  122800.000000  554183        0.0           0.0  \n",
       "6310  118000.000000  420890        0.0           0.0  \n",
       "6311  123300.000000  473135        0.0           0.0  \n",
       "6312  116500.000000  309818        0.0           0.0  \n",
       "\n",
       "[6313 rows x 8 columns]"
      ]
     },
     "execution_count": 64,
     "metadata": {},
     "output_type": "execute_result"
    }
   ],
   "source": [
    "pd.DataFrame(df_dict)"
   ]
  },
  {
   "cell_type": "code",
   "execution_count": null,
   "metadata": {},
   "outputs": [],
   "source": [
    "df_json = df.reset_index().to_json(,)"
   ]
  },
  {
   "cell_type": "code",
   "execution_count": 54,
   "metadata": {},
   "outputs": [
    {
     "ename": "TypeError",
     "evalue": "string indices must be integers",
     "output_type": "error",
     "traceback": [
      "\u001b[1;31m---------------------------------------------------------------------------\u001b[0m",
      "\u001b[1;31mTypeError\u001b[0m                                 Traceback (most recent call last)",
      "Cell \u001b[1;32mIn[54], line 1\u001b[0m\n\u001b[1;32m----> 1\u001b[0m \u001b[43mdf_json\u001b[49m\u001b[43m[\u001b[49m\u001b[38;5;124;43m\"\u001b[39;49m\u001b[38;5;124;43mDate\u001b[39;49m\u001b[38;5;124;43m\"\u001b[39;49m\u001b[43m]\u001b[49m\n",
      "\u001b[1;31mTypeError\u001b[0m: string indices must be integers"
     ]
    }
   ],
   "source": [
    "df_json[\"Date\"]"
   ]
  },
  {
   "cell_type": "code",
   "execution_count": 11,
   "metadata": {},
   "outputs": [
    {
     "data": {
      "text/html": [
       "<div>\n",
       "<style scoped>\n",
       "    .dataframe tbody tr th:only-of-type {\n",
       "        vertical-align: middle;\n",
       "    }\n",
       "\n",
       "    .dataframe tbody tr th {\n",
       "        vertical-align: top;\n",
       "    }\n",
       "\n",
       "    .dataframe thead th {\n",
       "        text-align: right;\n",
       "    }\n",
       "</style>\n",
       "<table border=\"1\" class=\"dataframe\">\n",
       "  <thead>\n",
       "    <tr style=\"text-align: right;\">\n",
       "      <th></th>\n",
       "      <th>Open</th>\n",
       "      <th>High</th>\n",
       "      <th>Low</th>\n",
       "      <th>Close</th>\n",
       "      <th>Volume</th>\n",
       "      <th>Dividends</th>\n",
       "      <th>Stock Splits</th>\n",
       "    </tr>\n",
       "    <tr>\n",
       "      <th>Date</th>\n",
       "      <th></th>\n",
       "      <th></th>\n",
       "      <th></th>\n",
       "      <th></th>\n",
       "      <th></th>\n",
       "      <th></th>\n",
       "      <th></th>\n",
       "    </tr>\n",
       "  </thead>\n",
       "  <tbody>\n",
       "    <tr>\n",
       "      <th>2000-01-04 00:00:00+09:00</th>\n",
       "      <td>8647.703404</td>\n",
       "      <td>10137.030101</td>\n",
       "      <td>8647.703404</td>\n",
       "      <td>10088.987305</td>\n",
       "      <td>509500</td>\n",
       "      <td>600.0</td>\n",
       "      <td>0.0</td>\n",
       "    </tr>\n",
       "    <tr>\n",
       "      <th>2000-01-05 00:00:00+09:00</th>\n",
       "      <td>10088.987305</td>\n",
       "      <td>10785.607857</td>\n",
       "      <td>9656.602134</td>\n",
       "      <td>10088.987305</td>\n",
       "      <td>457500</td>\n",
       "      <td>0.0</td>\n",
       "      <td>0.0</td>\n",
       "    </tr>\n",
       "    <tr>\n",
       "      <th>2000-01-06 00:00:00+09:00</th>\n",
       "      <td>10329.199438</td>\n",
       "      <td>10329.199438</td>\n",
       "      <td>9128.129736</td>\n",
       "      <td>9608.557617</td>\n",
       "      <td>351700</td>\n",
       "      <td>0.0</td>\n",
       "      <td>0.0</td>\n",
       "    </tr>\n",
       "    <tr>\n",
       "      <th>2000-01-07 00:00:00+09:00</th>\n",
       "      <td>9224.213254</td>\n",
       "      <td>9704.641027</td>\n",
       "      <td>9224.213254</td>\n",
       "      <td>9560.512695</td>\n",
       "      <td>191100</td>\n",
       "      <td>0.0</td>\n",
       "      <td>0.0</td>\n",
       "    </tr>\n",
       "    <tr>\n",
       "      <th>2000-01-10 00:00:00+09:00</th>\n",
       "      <td>9608.555473</td>\n",
       "      <td>9752.683805</td>\n",
       "      <td>9272.256031</td>\n",
       "      <td>9560.512695</td>\n",
       "      <td>198600</td>\n",
       "      <td>0.0</td>\n",
       "      <td>0.0</td>\n",
       "    </tr>\n",
       "  </tbody>\n",
       "</table>\n",
       "</div>"
      ],
      "text/plain": [
       "                                   Open          High          Low  \\\n",
       "Date                                                                 \n",
       "2000-01-04 00:00:00+09:00   8647.703404  10137.030101  8647.703404   \n",
       "2000-01-05 00:00:00+09:00  10088.987305  10785.607857  9656.602134   \n",
       "2000-01-06 00:00:00+09:00  10329.199438  10329.199438  9128.129736   \n",
       "2000-01-07 00:00:00+09:00   9224.213254   9704.641027  9224.213254   \n",
       "2000-01-10 00:00:00+09:00   9608.555473   9752.683805  9272.256031   \n",
       "\n",
       "                                  Close  Volume  Dividends  Stock Splits  \n",
       "Date                                                                      \n",
       "2000-01-04 00:00:00+09:00  10088.987305  509500      600.0           0.0  \n",
       "2000-01-05 00:00:00+09:00  10088.987305  457500        0.0           0.0  \n",
       "2000-01-06 00:00:00+09:00   9608.557617  351700        0.0           0.0  \n",
       "2000-01-07 00:00:00+09:00   9560.512695  191100        0.0           0.0  \n",
       "2000-01-10 00:00:00+09:00   9560.512695  198600        0.0           0.0  "
      ]
     },
     "execution_count": 11,
     "metadata": {},
     "output_type": "execute_result"
    }
   ],
   "source": [
    "df.head()"
   ]
  },
  {
   "cell_type": "code",
   "execution_count": 162,
   "metadata": {},
   "outputs": [],
   "source": [
    "@tool\n",
    "def web_search(query):\n",
    "    \"\"\"\n",
    "    입력된 질의를 바탕으로 검색을 시도하는 도구입니다.\n",
    "    기본적으로 5개의 검색 결과를 가져옵니다.\n",
    "    \"\"\"\n",
    "    tool = TavilySearchResults()\n",
    "    return tool"
   ]
  },
  {
   "cell_type": "code",
   "execution_count": null,
   "metadata": {},
   "outputs": [],
   "source": [
    "tools = [PythonAstREPLTool(), TavilySearchResults(), search_stock]"
   ]
  },
  {
   "cell_type": "code",
   "execution_count": 33,
   "metadata": {},
   "outputs": [],
   "source": [
    "code_tool = PythonAstREPLTool(name=\"code_tool\")"
   ]
  },
  {
   "cell_type": "code",
   "execution_count": 13,
   "metadata": {},
   "outputs": [
    {
     "data": {
      "text/plain": [
       "2"
      ]
     },
     "execution_count": 13,
     "metadata": {},
     "output_type": "execute_result"
    }
   ],
   "source": [
    "code_tool.invoke(\"1+1\")"
   ]
  },
  {
   "cell_type": "code",
   "execution_count": 34,
   "metadata": {},
   "outputs": [],
   "source": [
    "with_tool = llm.bind_tools([code_tool])"
   ]
  },
  {
   "cell_type": "code",
   "execution_count": 18,
   "metadata": {},
   "outputs": [],
   "source": [
    "result = with_tool.invoke(\"한국의 평균기온은 어떻게 되나요?\")"
   ]
  },
  {
   "cell_type": "code",
   "execution_count": 22,
   "metadata": {},
   "outputs": [
    {
     "data": {
      "text/plain": [
       "AIMessage(content='한국의 평균 기온은 지역과 계절에 따라 다르지만, 일반적으로 다음과 같은 경향을 보입니다:\\n\\n1. **겨울 (12월~2월)**: 평균 기온은 -6도에서 3도 사이입니다. 북부 지역은 더 춥고, 남부 지역은 상대적으로 온화합니다.\\n2. **봄 (3월~5월)**: 평균 기온은 5도에서 20도 사이로, 따뜻한 날씨가 시작됩니다.\\n3. **여름 (6월~8월)**: 평균 기온은 20도에서 30도 사이로, 특히 7월과 8월은 매우 덥고 습합니다.\\n4. **가을 (9월~11월)**: 평균 기온은 10도에서 20도 사이로, 기온이 서서히 내려갑니다.\\n\\n전국 평균 기온은 대략 10도에서 15도 사이로 볼 수 있습니다. 하지만 이는 대략적인 수치이며, 기후 변화나 특정 연도의 날씨에 따라 달라질 수 있습니다. 더 구체적인 데이터가 필요하다면 기상청의 자료를 참고하는 것이 좋습니다.', additional_kwargs={'refusal': None}, response_metadata={'token_usage': {'completion_tokens': 260, 'prompt_tokens': 98, 'total_tokens': 358, 'completion_tokens_details': {'accepted_prediction_tokens': 0, 'audio_tokens': 0, 'reasoning_tokens': 0, 'rejected_prediction_tokens': 0}, 'prompt_tokens_details': {'audio_tokens': 0, 'cached_tokens': 0}}, 'model_name': 'gpt-4o-mini-2024-07-18', 'system_fingerprint': 'fp_e4fa3702df', 'finish_reason': 'stop', 'logprobs': None}, id='run-6cc5f3d3-26f3-4b57-8b45-d72f7fc38f11-0', usage_metadata={'input_tokens': 98, 'output_tokens': 260, 'total_tokens': 358, 'input_token_details': {'audio': 0, 'cache_read': 0}, 'output_token_details': {'audio': 0, 'reasoning': 0}})"
      ]
     },
     "execution_count": 22,
     "metadata": {},
     "output_type": "execute_result"
    }
   ],
   "source": [
    "result"
   ]
  },
  {
   "cell_type": "code",
   "execution_count": 35,
   "metadata": {},
   "outputs": [],
   "source": [
    "result = with_tool.invoke(\"1~10까지 반복하는 파이썬 코드를 짜고싶어\")"
   ]
  },
  {
   "cell_type": "code",
   "execution_count": 36,
   "metadata": {},
   "outputs": [
    {
     "data": {
      "text/plain": [
       "AIMessage(content='', additional_kwargs={'tool_calls': [{'id': 'call_bRtYkrFQbPI8xYmXKD23JJw2', 'function': {'arguments': '{\"query\":\"for i in range(1, 11):\\\\n    print(i)\"}', 'name': 'code_tool'}, 'type': 'function'}], 'refusal': None}, response_metadata={'token_usage': {'completion_tokens': 30, 'prompt_tokens': 103, 'total_tokens': 133, 'completion_tokens_details': {'accepted_prediction_tokens': 0, 'audio_tokens': 0, 'reasoning_tokens': 0, 'rejected_prediction_tokens': 0}, 'prompt_tokens_details': {'audio_tokens': 0, 'cached_tokens': 0}}, 'model_name': 'gpt-4o-mini-2024-07-18', 'system_fingerprint': 'fp_e4fa3702df', 'finish_reason': 'tool_calls', 'logprobs': None}, id='run-dec3caa3-2141-40d9-b7dc-dd853d15ceee-0', tool_calls=[{'name': 'code_tool', 'args': {'query': 'for i in range(1, 11):\\n    print(i)'}, 'id': 'call_bRtYkrFQbPI8xYmXKD23JJw2', 'type': 'tool_call'}], usage_metadata={'input_tokens': 103, 'output_tokens': 30, 'total_tokens': 133, 'input_token_details': {'audio': 0, 'cache_read': 0}, 'output_token_details': {'audio': 0, 'reasoning': 0}})"
      ]
     },
     "execution_count": 36,
     "metadata": {},
     "output_type": "execute_result"
    }
   ],
   "source": [
    "result"
   ]
  },
  {
   "cell_type": "code",
   "execution_count": 166,
   "metadata": {},
   "outputs": [],
   "source": [
    "llm_with_tools = llm.bind_tools(tools)"
   ]
  },
  {
   "cell_type": "code",
   "execution_count": 173,
   "metadata": {},
   "outputs": [],
   "source": [
    "result = llm_with_tools.stream(\"피엔티의 최근 실적은 어떤가요?\", stream_mode=\"values\")"
   ]
  },
  {
   "cell_type": "code",
   "execution_count": 172,
   "metadata": {},
   "outputs": [
    {
     "name": "stdout",
     "output_type": "stream",
     "text": [
      "content='' additional_kwargs={'tool_calls': [{'index': 0, 'id': 'call_eJlueOyRz6qlY1dDtoBjtKwa', 'function': {'arguments': '', 'name': 'search_stock'}, 'type': 'function'}]} response_metadata={} id='run-c19068de-2ea6-4e2c-addb-d100c1dbbffe' tool_calls=[{'name': 'search_stock', 'args': {}, 'id': 'call_eJlueOyRz6qlY1dDtoBjtKwa', 'type': 'tool_call'}] tool_call_chunks=[{'name': 'search_stock', 'args': '', 'id': 'call_eJlueOyRz6qlY1dDtoBjtKwa', 'index': 0, 'type': 'tool_call_chunk'}]\n",
      "content='' additional_kwargs={'tool_calls': [{'index': 0, 'id': None, 'function': {'arguments': '{\"', 'name': None}, 'type': None}]} response_metadata={} id='run-c19068de-2ea6-4e2c-addb-d100c1dbbffe' tool_calls=[{'name': '', 'args': {}, 'id': None, 'type': 'tool_call'}] tool_call_chunks=[{'name': None, 'args': '{\"', 'id': None, 'index': 0, 'type': 'tool_call_chunk'}]\n",
      "content='' additional_kwargs={'tool_calls': [{'index': 0, 'id': None, 'function': {'arguments': 'query', 'name': None}, 'type': None}]} response_metadata={} id='run-c19068de-2ea6-4e2c-addb-d100c1dbbffe' invalid_tool_calls=[{'name': None, 'args': 'query', 'id': None, 'error': None, 'type': 'invalid_tool_call'}] tool_call_chunks=[{'name': None, 'args': 'query', 'id': None, 'index': 0, 'type': 'tool_call_chunk'}]\n",
      "content='' additional_kwargs={'tool_calls': [{'index': 0, 'id': None, 'function': {'arguments': '\":\"', 'name': None}, 'type': None}]} response_metadata={} id='run-c19068de-2ea6-4e2c-addb-d100c1dbbffe' invalid_tool_calls=[{'name': None, 'args': '\":\"', 'id': None, 'error': None, 'type': 'invalid_tool_call'}] tool_call_chunks=[{'name': None, 'args': '\":\"', 'id': None, 'index': 0, 'type': 'tool_call_chunk'}]\n",
      "content='' additional_kwargs={'tool_calls': [{'index': 0, 'id': None, 'function': {'arguments': '피', 'name': None}, 'type': None}]} response_metadata={} id='run-c19068de-2ea6-4e2c-addb-d100c1dbbffe' invalid_tool_calls=[{'name': None, 'args': '피', 'id': None, 'error': None, 'type': 'invalid_tool_call'}] tool_call_chunks=[{'name': None, 'args': '피', 'id': None, 'index': 0, 'type': 'tool_call_chunk'}]\n",
      "content='' additional_kwargs={'tool_calls': [{'index': 0, 'id': None, 'function': {'arguments': '엔', 'name': None}, 'type': None}]} response_metadata={} id='run-c19068de-2ea6-4e2c-addb-d100c1dbbffe' invalid_tool_calls=[{'name': None, 'args': '엔', 'id': None, 'error': None, 'type': 'invalid_tool_call'}] tool_call_chunks=[{'name': None, 'args': '엔', 'id': None, 'index': 0, 'type': 'tool_call_chunk'}]\n",
      "content='' additional_kwargs={'tool_calls': [{'index': 0, 'id': None, 'function': {'arguments': '티', 'name': None}, 'type': None}]} response_metadata={} id='run-c19068de-2ea6-4e2c-addb-d100c1dbbffe' invalid_tool_calls=[{'name': None, 'args': '티', 'id': None, 'error': None, 'type': 'invalid_tool_call'}] tool_call_chunks=[{'name': None, 'args': '티', 'id': None, 'index': 0, 'type': 'tool_call_chunk'}]\n",
      "content='' additional_kwargs={'tool_calls': [{'index': 0, 'id': None, 'function': {'arguments': '\"}', 'name': None}, 'type': None}]} response_metadata={} id='run-c19068de-2ea6-4e2c-addb-d100c1dbbffe' invalid_tool_calls=[{'name': None, 'args': '\"}', 'id': None, 'error': None, 'type': 'invalid_tool_call'}] tool_call_chunks=[{'name': None, 'args': '\"}', 'id': None, 'index': 0, 'type': 'tool_call_chunk'}]\n",
      "content='' additional_kwargs={} response_metadata={'finish_reason': 'tool_calls', 'model_name': 'gpt-4o-mini-2024-07-18', 'system_fingerprint': 'fp_e4fa3702df'} id='run-c19068de-2ea6-4e2c-addb-d100c1dbbffe'\n"
     ]
    }
   ],
   "source": [
    "for step in result:\n",
    "    print(step)"
   ]
  },
  {
   "cell_type": "code",
   "execution_count": 175,
   "metadata": {},
   "outputs": [],
   "source": [
    "for step in result:\n",
    "    step.pretty_print()"
   ]
  },
  {
   "cell_type": "code",
   "execution_count": 164,
   "metadata": {},
   "outputs": [
    {
     "data": {
      "text/plain": [
       "tools(tags=None, recurse=True, explode_args=False, func_accepts_config=True, func_accepts={'store': ('__pregel_store', None)}, tools_by_name={'python_repl_ast': PythonAstREPLTool(globals={}, locals={}), 'tavily_search_results_json': TavilySearchResults(api_wrapper=TavilySearchAPIWrapper(tavily_api_key=SecretStr('**********'))), 'search_stock': StructuredTool(name='search_stock', description='주식 검색 도구입니다.\\n결과값으로 데이터프레임이 반환됩니다.\\n입력 쿼리에서 주식이름을 추출한 후 모든 주식 데이터를 가져옵니다.', args_schema=<class 'langchain_core.utils.pydantic.search_stock'>, func=<function search_stock at 0x0000028250B3E950>)}, tool_to_state_args={'python_repl_ast': {}, 'tavily_search_results_json': {}, 'search_stock': {}}, tool_to_store_arg={'python_repl_ast': None, 'tavily_search_results_json': None, 'search_stock': None}, handle_tool_errors=True, messages_key='messages')"
      ]
     },
     "execution_count": 164,
     "metadata": {},
     "output_type": "execute_result"
    }
   ],
   "source": [
    "ToolNode(tools)"
   ]
  },
  {
   "cell_type": "code",
   "execution_count": 157,
   "metadata": {},
   "outputs": [],
   "source": [
    "web_search = TavilySearchResults()"
   ]
  },
  {
   "cell_type": "code",
   "execution_count": 161,
   "metadata": {},
   "outputs": [
    {
     "data": {
      "text/plain": [
       "[{'title': \"[기업분석] 배터리랑 같이 크는 장비 업체 '피엔티' - 바이라인네트워크\",\n",
       "  'url': 'https://byline.network/2022/07/15-195/',\n",
       "  'content': '피엔티는 이차전지를 구성하는 전극과 분리막, 전자소재 등을 제조하는 장비와 자동화 설비를 제공하는 국내 업체입니다. 2003년에 설립했고 2013년에',\n",
       "  'score': 0.8282873},\n",
       " {'title': '회사소개 | (주)피엔티',\n",
       "  'url': 'https://www.epnt.co.kr/company/',\n",
       "  'content': '주식회사 피앤티는 철저한 장인정신과 미래를 개척하는 도전정신으로 감동을 주는 회사, 신뢰를 주는 롤투롤 설비 생산 기업 입니다.',\n",
       "  'score': 0.7001659555555555},\n",
       " {'title': '보유종목점검 - 1. 피엔티 : 네이버 블로그',\n",
       "  'url': 'https://blog.naver.com/chlbest/223714149861',\n",
       "  'content': '피엔티, 현대차 의왕 연구소에 전고체 전극 장비 공급\\u200b 피엔티 공장 조감도(사진=회사 홈페이지)이차전지 제조 장비 전문 기업인 피엔티(PNT)가 현대자동',\n",
       "  'score': 0.57435945},\n",
       " {'title': '(주)피엔티 2025년 기업정보 | 직원수, 근무환경, 복리후생 등 - 사람인',\n",
       "  'url': 'https://www.saramin.co.kr/zf_user/company-info/view/csn/Zm9qNG9WcGt6dlp0RWxvelMrSnVHUT09/company_nm/(%EC%A3%BC)%ED%94%BC%EC%97%94%ED%8B%B0',\n",
       "  'content': '피엔티는 각종 롤투롤 컨버팅 기계를 주력으로 성장한 회사입니다. 웹가이딩, 장력제어, 오토터렛, 오토스플라이싱, 코팅, 칼렌더링, 슬리팅 등 기반이 되는 기술에 강점',\n",
       "  'score': 0.48574239999999996},\n",
       " {'title': '피엔티, 전기차와 안티드론으로 도약 - Goover',\n",
       "  'url': 'https://seo.goover.ai/report/202411/go-public-report-ko-6497454b-f7dd-4dc3-b9c9-fc68dd606368-0-0.html',\n",
       "  'content': '현재의 업황은 침체 중이지만 피엔티는 이차전지 설비 업체 중 실적이 가장 우수하다고 강조하고 있습니다. 기관 및 외국인 투자자들의 매매가 주요한',\n",
       "  'score': 0.34857047777777783}]"
      ]
     },
     "execution_count": 161,
     "metadata": {},
     "output_type": "execute_result"
    }
   ],
   "source": [
    "web_search.invoke(\"피엔티는 어떤 기업인가요?\")"
   ]
  },
  {
   "cell_type": "code",
   "execution_count": 74,
   "metadata": {},
   "outputs": [],
   "source": [
    "tool_calls = []"
   ]
  },
  {
   "cell_type": "code",
   "execution_count": null,
   "metadata": {},
   "outputs": [],
   "source": [
    "def route_tools(\n",
    "    state: State,\n",
    "):\n",
    "try:\n",
    "        message = messages[-1]\n",
    "    else:\n",
    "        # 입력 상태에 메시지가 없는 경우 예외 발생\n",
    "        raise ValueError(f\"No messages found in input state to tool_edge: {state}\")\n",
    "\n",
    "    # AI 메시지에 도구 호출이 있는 경우 \"tools\" 반환\n",
    "    if hasattr(message, \"tool_calls\") and len(message.tool_calls) > 0:\n",
    "        # 도구 호출이 있는 경우 \"tools\" 반환\n",
    "        return \"tools\"\n",
    "    # 도구 호출이 없는 경우 \"END\" 반환\n",
    "    return \"llm\""
   ]
  }
 ],
 "metadata": {
  "kernelspec": {
   "display_name": "Modulabs",
   "language": "python",
   "name": "python3"
  },
  "language_info": {
   "codemirror_mode": {
    "name": "ipython",
    "version": 3
   },
   "file_extension": ".py",
   "mimetype": "text/x-python",
   "name": "python",
   "nbconvert_exporter": "python",
   "pygments_lexer": "ipython3",
   "version": "3.10.12"
  }
 },
 "nbformat": 4,
 "nbformat_minor": 2
}
