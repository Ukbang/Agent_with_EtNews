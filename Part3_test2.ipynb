{
 "cells": [
  {
   "cell_type": "code",
   "execution_count": 225,
   "metadata": {},
   "outputs": [
    {
     "data": {
      "text/plain": [
       "True"
      ]
     },
     "execution_count": 225,
     "metadata": {},
     "output_type": "execute_result"
    }
   ],
   "source": [
    "from langchain_community.document_loaders.csv_loader import CSVLoader\n",
    "import pandas as pd\n",
    "import yfinance as yf\n",
    "from IPython.display import Markdown\n",
    "from langchain_core.runnables import RunnableConfig\n",
    "import re\n",
    "import datetime\n",
    "from pykrx.stock import get_market_ticker_list, get_market_ticker_name\n",
    "from langchain_community.agent_toolkits import FileManagementToolkit\n",
    "from typing import Annotated, Literal\n",
    "from typing_extensions import TypedDict\n",
    "from langchain_openai import ChatOpenAI, OpenAIEmbeddings\n",
    "from langchain.text_splitter import RecursiveCharacterTextSplitter\n",
    "from langchain_community.vectorstores import FAISS\n",
    "from langchain_community.tools.tavily_search import TavilySearchResults\n",
    "from langchain.tools.retriever import create_retriever_tool\n",
    "from langchain.document_loaders import PyMuPDFLoader, PyPDFLoader\n",
    "from langgraph.graph import StateGraph, START, END\n",
    "from langgraph.graph.message import add_messages, MessagesState\n",
    "from langgraph.prebuilt import ToolNode, tools_condition\n",
    "from langgraph.checkpoint.memory import MemorySaver\n",
    "from langchain_core.prompts import ChatPromptTemplate, PromptTemplate\n",
    "from langchain_core.tools import tool\n",
    "from langchain_community.agent_toolkits import FileManagementToolkit\n",
    "from langchain_core.documents.base import Document\n",
    "from langchain_core.vectorstores.base import VectorStoreRetriever\n",
    "from langchain_core.output_parsers.openai_tools import JsonOutputToolsParser\n",
    "from langchain_core.output_parsers.string import StrOutputParser\n",
    "from langchain.schema.runnable import RunnablePassthrough, RunnableLambda\n",
    "from langchain_experimental.utilities import PythonREPL\n",
    "from langchain_experimental.tools.python.tool import PythonAstREPLTool\n",
    "from pydantic import BaseModel, Field\n",
    "from markitdown import MarkItDown\n",
    "import dotenv\n",
    "import os\n",
    "\n",
    "dotenv.load_dotenv()"
   ]
  },
  {
   "cell_type": "code",
   "execution_count": null,
   "metadata": {},
   "outputs": [],
   "source": [
    "class State(TypedDict):\n",
    "    messages : Annotated[list, add_messages]\n",
    "    tool_call : Annotated[dict, \"tool_call Result\"]"
   ]
  },
  {
   "cell_type": "code",
   "execution_count": null,
   "metadata": {},
   "outputs": [],
   "source": [
    "# tools = [TavilySearchResults(), PythonAstREPLTool(), *FileManagementToolkit(\n",
    "#     selected_tools=[\"write_file\"]).get_tools(),\n",
    "# ]"
   ]
  },
  {
   "cell_type": "code",
   "execution_count": 209,
   "metadata": {},
   "outputs": [],
   "source": [
    "root_dir=\"./files\""
   ]
  },
  {
   "cell_type": "code",
   "execution_count": 378,
   "metadata": {},
   "outputs": [],
   "source": [
    "llm = ChatOpenAI(model=\"gpt-4o-mini\",\n",
    "                 temperature=0.,)"
   ]
  },
  {
   "cell_type": "code",
   "execution_count": 463,
   "metadata": {},
   "outputs": [],
   "source": [
    "search_tool, code_tool, write_tool = TavilySearchResults(), PythonAstREPLTool(), FileManagementToolkit(selected_tools=[\"write_file\"]).get_tools()[0]"
   ]
  },
  {
   "cell_type": "code",
   "execution_count": 465,
   "metadata": {},
   "outputs": [],
   "source": [
    "llm_with_tools = llm.bind_tools([search_tool, code_tool])\n",
    "code_llm = llm.bind_tools([write_tool])"
   ]
  },
  {
   "cell_type": "code",
   "execution_count": 468,
   "metadata": {},
   "outputs": [],
   "source": [
    "history_checker = llm.with_structured_output(HistoryChecker)\n",
    "intent_checker = llm.with_structured_output(IntentClassifier)"
   ]
  },
  {
   "cell_type": "code",
   "execution_count": null,
   "metadata": {},
   "outputs": [],
   "source": [
    "class HistoryChecker(BaseModel):\n",
    "    \"\"\"\n",
    "    이전의 대화 기록을 참고하여 질문에 대해 답변할 수 있는지 판단합니다.\n",
    "    답변할 수 있다면 \"yes\", 답변할 수 없다면 \"no\"를 반환합니다.\n",
    "    \"\"\"\n",
    "\n",
    "    yes_no : Literal[\"yes\", \"no\"] = Field(..., description=\"\"\"Use your previous conversation history to determine if you can answer your questions.\n",
    "    Return \"yes\" if you can answer, \"no\" if you can't answer.\"\"\")"
   ]
  },
  {
   "cell_type": "code",
   "execution_count": null,
   "metadata": {},
   "outputs": [],
   "source": [
    "def history_check(state:State):\n",
    "\n",
    "    prompt = PromptTemplate.from_template(\"\"\"\n",
    "\n",
    "                이전의 대화 기록을 참고하여 질문에 대해 답변할 수 있는지 판단합니다.\n",
    "                답변할 수 있다면 \"yes\", 답변할 수 없다면 \"no\"를 반환합니다.\n",
    "                \n",
    "                대화 기록 : {history}\n",
    "                                          \n",
    "                질문 : {query}\n",
    "                                          \n",
    "                \"\"\")\n",
    "    \n",
    "    chain = prompt | history_checker\n",
    "\n",
    "    result = chain.invoke({\"history\":state[\"messages\"][:-1],\n",
    "                  \"query\":state[\"messages\"][-1]})\n",
    "\n",
    "    return result.yes_no"
   ]
  },
  {
   "cell_type": "code",
   "execution_count": 438,
   "metadata": {},
   "outputs": [],
   "source": [
    "def memory_chat(state:State):\n",
    "\n",
    "    prompt = PromptTemplate.from_template(\"\"\"\n",
    "\n",
    "                이전의 대화 기록을 참고하여 질문에 대해 답변하세요.\n",
    "                아래 대화 기록을 첨부합니다.\n",
    "                대화 기록을 통해 답변이 어렵다면 내부 지식을 참조하세요.\n",
    "                \n",
    "                대화 기록 : {history}\n",
    "                                          \n",
    "                질문 : {query}\n",
    "                                          \n",
    "                \"\"\")\n",
    "\n",
    "    \n",
    "    chain = prompt | llm\n",
    "\n",
    "    answer = chain.invoke({\"history\":state[\"messages\"][:-1],\n",
    "                  \"query\":state[\"messages\"][-1]})\n",
    "\n",
    "    return {\"messages\":answer}"
   ]
  },
  {
   "cell_type": "code",
   "execution_count": 467,
   "metadata": {},
   "outputs": [],
   "source": [
    "class IntentClassifier:\n",
    "    \"\"\"\n",
    "    당신은 의도 분류 어시스턴트입니다.\n",
    "\n",
    "    들어온 질문이 어떤 의도를 지닌 질문인지 판단합니다.\n",
    "    당신은 \"code\", \"tool\" 두개 중 하나로만 대답합니다.\n",
    "\n",
    "    1. code : \"문제가 데이터 분석과 관련된 문제일 경우 반환하는 값\"\n",
    "    ### code의 예시\n",
    "    - 삼성전자의 추세선을 그려주세요.\n",
    "    - LS의 3월 21일 종가는 얼마인가요?\n",
    "\n",
    "    2. tool : \"문제가 웹 서칭, 파일 관리, 일반 질의에 해당할 경우 반환하는 값\"\n",
    "    ### tool의 예시\n",
    "    - 한국의 날씨는 어떤가요?\n",
    "    - 조사한 내용의 레포트 작성해주세요.\n",
    "\n",
    "    \"\"\"\n",
    "\n",
    "    binary : Literal[\"code\", \"tool\"] = Field(..., description=\"\"\"You are the intent classification assistant. \n",
    "                                             Determine what intention the question is.\n",
    "                                             You only answer either \"code\" or \"tool\".\n",
    "                                             \"\"\")"
   ]
  },
  {
   "cell_type": "code",
   "execution_count": 469,
   "metadata": {},
   "outputs": [],
   "source": [
    "def intent_check(state:State):\n",
    "\n",
    "    prompt = PromptTemplate.from_template(\"\"\"\n",
    "\n",
    "                당신은 의도 분류 어시스턴트입니다.\n",
    "\n",
    "                들어온 질문이 어떤 의도를 지닌 질문인지 판단합니다.\n",
    "                당신은 \"code\", \"tool\" 두개 중 하나로만 대답합니다.\n",
    "                                          \n",
    "                질문 : {query}\n",
    "                                          \n",
    "                \"\"\")\n",
    "    \n",
    "    chain = prompt | IntentClassifier\n",
    "\n",
    "    result = chain.invoke({\"query\":state[\"messages\"][-1]})\n",
    "\n",
    "    return result.binary"
   ]
  },
  {
   "cell_type": "code",
   "execution_count": null,
   "metadata": {},
   "outputs": [],
   "source": [
    "def select(\n",
    "    state: State,\n",
    "):\n",
    "    try:\n",
    "        message = state[\"messages\"][-1]\n",
    "    except:\n",
    "        # 입력 상태에 메시지가 없는 경우 예외 발생\n",
    "        raise ValueError(f\"이전 대화 기록이 존재하지 않습니다.\")\n",
    "    \n",
    "    result = llm_with_tools.invoke(message.content)\n",
    "\n",
    "    if hasattr(result, \"tool_calls\") and len(result.tool_calls) > 0:\n",
    "        tool_calls = getattr(result, \"tool_calls\")[0]\n",
    "        return {\"tool_call\": tool_calls}\n",
    "    else:\n",
    "        return {\"tool_call\":None}\n",
    "\n",
    "    "
   ]
  },
  {
   "cell_type": "code",
   "execution_count": 440,
   "metadata": {},
   "outputs": [],
   "source": [
    "# 주식 DB를 만드는 함수 {\"삼성전자\":\"005930, ... }\n",
    "\n",
    "def create_stock_db():\n",
    "    stock_dict = {}\n",
    "    today = datetime.datetime.today()\n",
    "    \n",
    "    stock_list = get_market_ticker_list(today, market=\"KOSPI\")\n",
    "\n",
    "    for stock in stock_list:\n",
    "        stock_dict.update({get_market_ticker_name(stock):stock})\n",
    "    \n",
    "    stock_list = get_market_ticker_list(today, market=\"KOSDAQ\")\n",
    "\n",
    "    for stock in stock_list:\n",
    "        stock_dict.update({get_market_ticker_name(stock):stock})\n",
    "\n",
    "    return stock_dict\n",
    "\n",
    "stock_db = create_stock_db()"
   ]
  },
  {
   "cell_type": "code",
   "execution_count": null,
   "metadata": {},
   "outputs": [],
   "source": [
    "def search_stock(query):\n",
    "\n",
    "    \"\"\"\n",
    "    주식 검색 도구입니다.\n",
    "    결과값으로 데이터프레임이 반환됩니다.\n",
    "    입력 쿼리에서 주식이름을 추출한 후 모든 주식 데이터를 가져옵니다.\n",
    "    \"\"\"\n",
    "\n",
    "\n",
    "    prompt = PromptTemplate.from_template(\"\"\"\n",
    "        당신은 주식 이름 추출기입니다.\n",
    "        주어진 문장에서 주식이름만 추출하세요.\n",
    "\n",
    "        ### 예시 1\n",
    "        query : 삼성전자의 최근 1년에 대해서 분석해주세요.\n",
    "\n",
    "        answer : 삼성전자\n",
    "\n",
    "        ### 예시 2\n",
    "        query : AJ홀딩스우의 최근 실적은 얼마인가요?\n",
    "\n",
    "        answer : AJ홀딩스우\n",
    "\n",
    "        ### 입력\n",
    "        query : {query}\n",
    "\n",
    "        answer : \n",
    "\n",
    "        \"\"\"\n",
    "        )\n",
    "    \n",
    "    chain = prompt | llm | StrOutputParser()\n",
    "\n",
    "    stock_name = chain.invoke({\"query\":query})\n",
    "\n",
    "    try:\n",
    "        stock_code = stock_db[stock_name.strip().upper()]   \n",
    "    except:\n",
    "        raise ValueError(f\"종목명 : {stock_name}을/를 검색할 수 없습니다. 오탈자나 한국거래소에서 거래중인 주식인지 확인해주세요.\")\n",
    "    \n",
    "    # 예: 삼성전자 (한국거래소는 뒤에 '.KS'를 붙임)\n",
    "    ticker = yf.Ticker(stock_code+\".KS\")\n",
    "\n",
    "    df = ticker.history(period=\"max\") # 기간: '1d', '5d', '1mo', '1y', 'max' 등\n",
    "\n",
    "    return df.reset_index()"
   ]
  },
  {
   "cell_type": "code",
   "execution_count": null,
   "metadata": {},
   "outputs": [],
   "source": [
    "# tavily_search_results_json, python_repl_ast, read_file, write_file, list_directory\n",
    "\n",
    "def tools(state:State):\n",
    "    try:\n",
    "        name = state[\"tool_call\"][\"name\"]\n",
    "    except:\n",
    "        name = \"llm\"\n",
    "\n",
    "    if name == \"tavily_search_results_json\":\n",
    "\n",
    "        result = search_tool.invoke(state[\"tool_call\"][\"args\"][\"query\"])\n",
    "        prompt = ChatPromptTemplate.from_messages([\n",
    "            (\"system\", \"\"\"\n",
    "                        당신은 아래 내용을 이용하여 답변합니다.\n",
    "                        생각을 담지 말고 사실만을 전달하세요.\n",
    "                        내용 : {result}\n",
    "\n",
    "                        \"\"\"),\n",
    "            (\"human\", \"{query}\")\n",
    "        ])\n",
    "\n",
    "        chain = prompt | llm\n",
    "\n",
    "        answer = chain.invoke({\"result\":result,\n",
    "                               \"query\":state[\"messages\"][-1]})\n",
    "        \n",
    "        print(answer)\n",
    "        \n",
    "        return {\"messages\": answer}\n",
    "    \n",
    "    elif name == \"python_repl_ast\":\n",
    "\n",
    "        title = \"\"\n",
    "\n",
    "        if len(code_tool.locals) > 0:\n",
    "            pass\n",
    "        else:\n",
    "            try:\n",
    "                df = search_stock(state[\"query\"])\n",
    "            except:\n",
    "                pass\n",
    "            \n",
    "\n",
    "        code = state[\"tool_call\"][\"args\"][\"query\"]\n",
    "        code_tool.invoke(code)\n",
    "\n",
    "        prompt = ChatPromptTemplate.from_messages([\n",
    "            (\"system\", \"\"\"\n",
    "                        아래의 코드를 참고하여 질의에 대해 답변합니다.\n",
    "                        절대 코드에 대해 설명하지마세요.\n",
    "                        독자는 프로그래머가 아닙니다.\n",
    "                        데이터 분석과 관련된 코드가 입력된다면 항상 인사이트를 포함하세요.\n",
    "                        단순 코드는 단순하게 대답합니다.\n",
    "\n",
    "                        코드 : {code}\n",
    "             \n",
    "                        ### 필요하다면 참고할 것\n",
    "\n",
    "                        title : {title}\n",
    "\n",
    "                        \"\"\"),\n",
    "            (\"human\", \"{query}\")\n",
    "        ])\n",
    "\n",
    "        chain = prompt | llm\n",
    "\n",
    "        answer = chain.invoke({\"code\":code,\n",
    "                               \"title\":title,\n",
    "                               \"query\":state[\"messages\"][-1]})\n",
    "        \n",
    "        return {\"messages\": answer}    \n",
    "\n",
    "    elif name ==\"write_file\":\n",
    "        \n",
    "        result = state[\"tool_calls\"][\"args\"]\n",
    "        \n",
    "        prompt = PromptTemplate.from_template(\"\"\"\n",
    "                    당신은 입력된 정보를 레포트로 만들어내는 역할을 담당하고 있습니다.\n",
    "                    \n",
    "                    루트디렉토리의 위치는 \"./files/\" 입니다. 디렉토리 내부에 파일을 만들어주세요.\n",
    "                    만들어지는 파일 형태는 .pdf파일이어야합니다.\n",
    "                                              \n",
    "                    input : {input}\n",
    "                    \n",
    "                    \"\"\")\n",
    "\n",
    "        return write_tool.invoke(result)\n",
    "    else:\n",
    "        return {\"messages\":llm.invoke(state[\"messages\"][-1]).content}"
   ]
  },
  {
   "cell_type": "code",
   "execution_count": 454,
   "metadata": {},
   "outputs": [],
   "source": [
    "def pretty_print(state:State):\n",
    "\n",
    "    print(f\"\\n\\n===== Result =====\\n\\n\")\n",
    "\n",
    "    print(state[\"messages\"][-1].content)"
   ]
  },
  {
   "cell_type": "code",
   "execution_count": 455,
   "metadata": {},
   "outputs": [],
   "source": [
    "graph = StateGraph(State)"
   ]
  },
  {
   "cell_type": "code",
   "execution_count": 456,
   "metadata": {},
   "outputs": [],
   "source": [
    "graph.add_node(\"memory_chat\", memory_chat)\n",
    "graph.add_node(\"select\", select)\n",
    "graph.add_node(\"tools\", tools)\n",
    "graph.add_node(\"pretty_print\", pretty_print)\n",
    "\n",
    "# graph.add_edge(START, \"select\")\n",
    "graph.add_conditional_edges(START,\n",
    "                            history_check,\n",
    "                            {\"yes\":\"memory_chat\",\n",
    "                             \"no\":\"select\"})\n",
    "graph.add_edge(\"select\", \"tools\")\n",
    "graph.add_edge(\"tools\", \"pretty_print\")\n",
    "graph.add_edge(\"memory_chat\", \"pretty_print\")\n",
    "graph.add_edge(\"pretty_print\", END);"
   ]
  },
  {
   "cell_type": "code",
   "execution_count": 457,
   "metadata": {},
   "outputs": [],
   "source": [
    "memory = MemorySaver()\n",
    "\n",
    "app = graph.compile(checkpointer=memory)"
   ]
  },
  {
   "cell_type": "code",
   "execution_count": 458,
   "metadata": {},
   "outputs": [],
   "source": [
    "config = RunnableConfig(recursion_limit=10, configurable={\"thread_id\": \"1054\"})"
   ]
  },
  {
   "cell_type": "code",
   "execution_count": 435,
   "metadata": {},
   "outputs": [
    {
     "data": {
      "image/png": "[encoded data removed]",
      "text/plain": [
       "<langgraph.graph.state.CompiledStateGraph object at 0x00000112322AF820>"
      ]
     },
     "execution_count": 435,
     "metadata": {},
     "output_type": "execute_result"
    }
   ],
   "source": [
    "app"
   ]
  },
  {
   "cell_type": "code",
   "execution_count": 227,
   "metadata": {},
   "outputs": [
    {
     "name": "stdout",
     "output_type": "stream",
     "text": [
      "content='피엔티에 대해 알려주세요.' additional_kwargs={} response_metadata={} id='33fc80c0-151b-4d7f-ab19-5b120da85c87'\n",
      "content='피엔티는 롤투롤 컨버팅 기계를 주력으로 성장한 회사입니다. 주요 기술로는 웹가이딩, 장력제어, 오토터렛, 오토스플라이싱, 코팅, 칼렌더링, 슬리팅 등이 있습니다. 이 회사는 디스플레이 소재용 필름, 전자전기 및 2차 전지의 분리막, 음극, 양극 소재 등을 생산하는 장비를 개발하고 있습니다. 또한, IT용 소재와 2차 전지의 음극 및 분리막 소재, Copper 등의 코팅 및 슬리터 장비의 제작 판매를 주요 사업으로 하고 있습니다. \\n\\n자세한 정보는 다음 링크에서 확인할 수 있습니다:\\n- [피엔티 공식 웹사이트](https://www.epnt.co.kr/)\\n- [사람인 기업정보](https://www.saramin.co.kr/zf_user/company-info/view/csn/Zm9qNG9WcGt6dlp0RWxvelMrSnVHUT09/company_nm/(%EC%A3%BC)%ED%94%BC%EC%97%94%ED%8B%B0)\\n- [삼성전자 기업정보](https://comp.fnguide.com/SVO2/ASP/SVD_Main.asp?gicode=A137400)\\n- [나무위키](https://namu.wiki/w/%ED%94%BC%EC%97%94%ED%8B%B0)' additional_kwargs={'refusal': None} response_metadata={'token_usage': {'completion_tokens': 316, 'prompt_tokens': 714, 'total_tokens': 1030, 'completion_tokens_details': {'accepted_prediction_tokens': 0, 'audio_tokens': 0, 'reasoning_tokens': 0, 'rejected_prediction_tokens': 0}, 'prompt_tokens_details': {'audio_tokens': 0, 'cached_tokens': 0}}, 'model_name': 'gpt-4o-mini-2024-07-18', 'system_fingerprint': 'fp_b8bc95a0ac', 'finish_reason': 'stop', 'logprobs': None} id='run-2b2b14c1-b026-431f-827d-a4c27fa76b3f-0' usage_metadata={'input_tokens': 714, 'output_tokens': 316, 'total_tokens': 1030, 'input_token_details': {'audio': 0, 'cache_read': 0}, 'output_token_details': {'audio': 0, 'reasoning': 0}}\n",
      "\n",
      "\n",
      "===== Result =====\n",
      "\n",
      "\n",
      "피엔티는 롤투롤 컨버팅 기계를 주력으로 성장한 회사입니다. 주요 기술로는 웹가이딩, 장력제어, 오토터렛, 오토스플라이싱, 코팅, 칼렌더링, 슬리팅 등이 있습니다. 이 회사는 디스플레이 소재용 필름, 전자전기 및 2차 전지의 분리막, 음극, 양극 소재 등을 생산하는 장비를 개발하고 있습니다. 또한, IT용 소재와 2차 전지의 음극 및 분리막 소재, Copper 등의 코팅 및 슬리터 장비의 제작 판매를 주요 사업으로 하고 있습니다. \n",
      "\n",
      "자세한 정보는 다음 링크에서 확인할 수 있습니다:\n",
      "- [피엔티 공식 웹사이트](https://www.epnt.co.kr/)\n",
      "- [사람인 기업정보](https://www.saramin.co.kr/zf_user/company-info/view/csn/Zm9qNG9WcGt6dlp0RWxvelMrSnVHUT09/company_nm/(%EC%A3%BC)%ED%94%BC%EC%97%94%ED%8B%B0)\n",
      "- [삼성전자 기업정보](https://comp.fnguide.com/SVO2/ASP/SVD_Main.asp?gicode=A137400)\n",
      "- [나무위키](https://namu.wiki/w/%ED%94%BC%EC%97%94%ED%8B%B0)\n"
     ]
    }
   ],
   "source": [
    "result = app.invoke({\"messages\":(\"user\", \"피엔티에 대해 알려주세요.\")}, config=config)"
   ]
  },
  {
   "cell_type": "code",
   "execution_count": null,
   "metadata": {},
   "outputs": [
    {
     "name": "stdout",
     "output_type": "stream",
     "text": [
      "content='30+30은 뭐야?' additional_kwargs={} response_metadata={} id='e475bd00-b707-4628-9bf1-7d69ed6b0ebd'\n",
      "content='' additional_kwargs={'tool_calls': [{'id': 'call_8qB2cFwlLqPgDthFKdIdEXAy', 'function': {'arguments': '{\"query\":\"30 + 30\"}', 'name': 'python_repl_ast'}, 'type': 'function'}], 'refusal': None} response_metadata={'token_usage': {'completion_tokens': 20, 'prompt_tokens': 203, 'total_tokens': 223, 'completion_tokens_details': {'accepted_prediction_tokens': 0, 'audio_tokens': 0, 'reasoning_tokens': 0, 'rejected_prediction_tokens': 0}, 'prompt_tokens_details': {'audio_tokens': 0, 'cached_tokens': 0}}, 'model_name': 'gpt-4o-mini-2024-07-18', 'system_fingerprint': 'fp_b8bc95a0ac', 'finish_reason': 'tool_calls', 'logprobs': None} id='run-374de99a-2754-453b-a838-e4d17801676b-0' tool_calls=[{'name': 'python_repl_ast', 'args': {'query': '30 + 30'}, 'id': 'call_8qB2cFwlLqPgDthFKdIdEXAy', 'type': 'tool_call'}] usage_metadata={'input_tokens': 203, 'output_tokens': 20, 'total_tokens': 223, 'input_token_details': {'audio': 0, 'cache_read': 0}, 'output_token_details': {'audio': 0, 'reasoning': 0}}\n",
      "\n",
      "\n",
      "===== Result =====\n",
      "\n",
      "\n",
      "30 + 30은 60입니다. 이는 두 수를 더한 결과로, 간단한 산술 연산입니다.\n"
     ]
    }
   ],
   "source": [
    "result = app.invoke({\"messages\":(\"user\", \"30+30은 뭐야?\")}, config=config)"
   ]
  },
  {
   "cell_type": "code",
   "execution_count": 462,
   "metadata": {},
   "outputs": [
    {
     "name": "stdout",
     "output_type": "stream",
     "text": [
      "content=\"import pandas as pd\\nimport matplotlib.pyplot as plt\\n\\ndf = pd.DataFrame({'이름': ['철수', '영희', '민수'], '나이': [20, 21, 19]})\\ndf['성인여부'] = df['나이'] >= 20\\n\\nplt.bar(df['이름'], df['나이'], color='skyblue')\\nplt.title('이름별 나이')\\nplt.xlabel('이름')\\nplt.ylabel('나이')\\nplt.show()\\n\" additional_kwargs={} response_metadata={} id='964ea2e7-b47b-4659-b1dd-ce60a81d0dde'\n",
      "content='' additional_kwargs={'tool_calls': [{'id': 'call_dVG7iwo1BSZLsqIOxPrhuQVm', 'function': {'arguments': '{\"query\":\"import pandas as pd\\\\nimport matplotlib.pyplot as plt\\\\n\\\\ndf = pd.DataFrame({\\'이름\\': [\\'철수\\', \\'영희\\', \\'민수\\'], \\'나이\\': [20, 21, 19]})\\\\ndf[\\'성인여부\\'] = df[\\'나이\\'] >= 20\\\\n\\\\nplt.bar(df[\\'이름\\'], df[\\'나이\\'], color=\\'skyblue\\')\\\\nplt.title(\\'이름별 나이\\')\\\\nplt.xlabel(\\'이름\\')\\\\nplt.ylabel(\\'나이\\')\\\\nplt.show()\"}', 'name': 'python_repl_ast'}, 'type': 'function'}], 'refusal': None} response_metadata={'token_usage': {'completion_tokens': 133, 'prompt_tokens': 300, 'total_tokens': 433, 'completion_tokens_details': {'accepted_prediction_tokens': 0, 'audio_tokens': 0, 'reasoning_tokens': 0, 'rejected_prediction_tokens': 0}, 'prompt_tokens_details': {'audio_tokens': 0, 'cached_tokens': 0}}, 'model_name': 'gpt-4o-mini-2024-07-18', 'system_fingerprint': 'fp_b8bc95a0ac', 'finish_reason': 'tool_calls', 'logprobs': None} id='run-e2ce0ef4-1834-47fb-a7e0-b03d2be8d2df-0' tool_calls=[{'name': 'python_repl_ast', 'args': {'query': \"import pandas as pd\\nimport matplotlib.pyplot as plt\\n\\ndf = pd.DataFrame({'이름': ['철수', '영희', '민수'], '나이': [20, 21, 19]})\\ndf['성인여부'] = df['나이'] >= 20\\n\\nplt.bar(df['이름'], df['나이'], color='skyblue')\\nplt.title('이름별 나이')\\nplt.xlabel('이름')\\nplt.ylabel('나이')\\nplt.show()\"}, 'id': 'call_dVG7iwo1BSZLsqIOxPrhuQVm', 'type': 'tool_call'}] usage_metadata={'input_tokens': 300, 'output_tokens': 133, 'total_tokens': 433, 'input_token_details': {'audio': 0, 'cache_read': 0}, 'output_token_details': {'audio': 0, 'reasoning': 0}}\n"
     ]
    },
    {
     "data": {
      "image/png": "[encoded data removed]",
      "text/plain": [
       "<Figure size 640x480 with 1 Axes>"
      ]
     },
     "metadata": {},
     "output_type": "display_data"
    },
    {
     "name": "stdout",
     "output_type": "stream",
     "text": [
      "import pandas as pd\n",
      "import matplotlib.pyplot as plt\n",
      "\n",
      "df = pd.DataFrame({'이름': ['철수', '영희', '민수'], '나이': [20, 21, 19]})\n",
      "df['성인여부'] = df['나이'] >= 20\n",
      "\n",
      "plt.bar(df['이름'], df['나이'], color='skyblue')\n",
      "plt.title('이름별 나이')\n",
      "plt.xlabel('이름')\n",
      "plt.ylabel('나이')\n",
      "plt.show()\n",
      "globals={'__builtins__': {'__name__': 'builtins', '__doc__': \"Built-in functions, exceptions, and other objects.\\n\\nNoteworthy: None is the `nil' object; Ellipsis represents `...' in slices.\", '__package__': '', '__loader__': <class '_frozen_importlib.BuiltinImporter'>, '__spec__': ModuleSpec(name='builtins', loader=<class '_frozen_importlib.BuiltinImporter'>, origin='built-in'), '__build_class__': <built-in function __build_class__>, '__import__': <built-in function __import__>, 'abs': <built-in function abs>, 'all': <built-in function all>, 'any': <built-in function any>, 'ascii': <built-in function ascii>, 'bin': <built-in function bin>, 'breakpoint': <built-in function breakpoint>, 'callable': <built-in function callable>, 'chr': <built-in function chr>, 'compile': <built-in function compile>, 'delattr': <built-in function delattr>, 'dir': <built-in function dir>, 'divmod': <built-in function divmod>, 'eval': <built-in function eval>, 'exec': <built-in function exec>, 'format': <built-in function format>, 'getattr': <built-in function getattr>, 'globals': <built-in function globals>, 'hasattr': <built-in function hasattr>, 'hash': <built-in function hash>, 'hex': <built-in function hex>, 'id': <built-in function id>, 'input': <bound method Kernel.raw_input of <ipykernel.ipkernel.IPythonKernel object at 0x00000112042E1990>>, 'isinstance': <built-in function isinstance>, 'issubclass': <built-in function issubclass>, 'iter': <built-in function iter>, 'aiter': <built-in function aiter>, 'len': <built-in function len>, 'locals': <built-in function locals>, 'max': <built-in function max>, 'min': <built-in function min>, 'next': <built-in function next>, 'anext': <built-in function anext>, 'oct': <built-in function oct>, 'ord': <built-in function ord>, 'pow': <built-in function pow>, 'print': <built-in function print>, 'repr': <built-in function repr>, 'round': <built-in function round>, 'setattr': <built-in function setattr>, 'sorted': <built-in function sorted>, 'sum': <built-in function sum>, 'vars': <built-in function vars>, 'None': None, 'Ellipsis': Ellipsis, 'NotImplemented': NotImplemented, 'False': False, 'True': True, 'bool': <class 'bool'>, 'memoryview': <class 'memoryview'>, 'bytearray': <class 'bytearray'>, 'bytes': <class 'bytes'>, 'classmethod': <class 'classmethod'>, 'complex': <class 'complex'>, 'dict': <class 'dict'>, 'enumerate': <class 'enumerate'>, 'filter': <class 'filter'>, 'float': <class 'float'>, 'frozenset': <class 'frozenset'>, 'property': <class 'property'>, 'int': <class 'int'>, 'list': <class 'list'>, 'map': <class 'map'>, 'object': <class 'object'>, 'range': <class 'range'>, 'reversed': <class 'reversed'>, 'set': <class 'set'>, 'slice': <class 'slice'>, 'staticmethod': <class 'staticmethod'>, 'str': <class 'str'>, 'super': <class 'super'>, 'tuple': <class 'tuple'>, 'type': <class 'type'>, 'zip': <class 'zip'>, '__debug__': True, 'BaseException': <class 'BaseException'>, 'Exception': <class 'Exception'>, 'TypeError': <class 'TypeError'>, 'StopAsyncIteration': <class 'StopAsyncIteration'>, 'StopIteration': <class 'StopIteration'>, 'GeneratorExit': <class 'GeneratorExit'>, 'SystemExit': <class 'SystemExit'>, 'KeyboardInterrupt': <class 'KeyboardInterrupt'>, 'ImportError': <class 'ImportError'>, 'ModuleNotFoundError': <class 'ModuleNotFoundError'>, 'OSError': <class 'OSError'>, 'EnvironmentError': <class 'OSError'>, 'IOError': <class 'OSError'>, 'WindowsError': <class 'OSError'>, 'EOFError': <class 'EOFError'>, 'RuntimeError': <class 'RuntimeError'>, 'RecursionError': <class 'RecursionError'>, 'NotImplementedError': <class 'NotImplementedError'>, 'NameError': <class 'NameError'>, 'UnboundLocalError': <class 'UnboundLocalError'>, 'AttributeError': <class 'AttributeError'>, 'SyntaxError': <class 'SyntaxError'>, 'IndentationError': <class 'IndentationError'>, 'TabError': <class 'TabError'>, 'LookupError': <class 'LookupError'>, 'IndexError': <class 'IndexError'>, 'KeyError': <class 'KeyError'>, 'ValueError': <class 'ValueError'>, 'UnicodeError': <class 'UnicodeError'>, 'UnicodeEncodeError': <class 'UnicodeEncodeError'>, 'UnicodeDecodeError': <class 'UnicodeDecodeError'>, 'UnicodeTranslateError': <class 'UnicodeTranslateError'>, 'AssertionError': <class 'AssertionError'>, 'ArithmeticError': <class 'ArithmeticError'>, 'FloatingPointError': <class 'FloatingPointError'>, 'OverflowError': <class 'OverflowError'>, 'ZeroDivisionError': <class 'ZeroDivisionError'>, 'SystemError': <class 'SystemError'>, 'ReferenceError': <class 'ReferenceError'>, 'MemoryError': <class 'MemoryError'>, 'BufferError': <class 'BufferError'>, 'Warning': <class 'Warning'>, 'UserWarning': <class 'UserWarning'>, 'EncodingWarning': <class 'EncodingWarning'>, 'DeprecationWarning': <class 'DeprecationWarning'>, 'PendingDeprecationWarning': <class 'PendingDeprecationWarning'>, 'SyntaxWarning': <class 'SyntaxWarning'>, 'RuntimeWarning': <class 'RuntimeWarning'>, 'FutureWarning': <class 'FutureWarning'>, 'ImportWarning': <class 'ImportWarning'>, 'UnicodeWarning': <class 'UnicodeWarning'>, 'BytesWarning': <class 'BytesWarning'>, 'ResourceWarning': <class 'ResourceWarning'>, 'ConnectionError': <class 'ConnectionError'>, 'BlockingIOError': <class 'BlockingIOError'>, 'BrokenPipeError': <class 'BrokenPipeError'>, 'ChildProcessError': <class 'ChildProcessError'>, 'ConnectionAbortedError': <class 'ConnectionAbortedError'>, 'ConnectionRefusedError': <class 'ConnectionRefusedError'>, 'ConnectionResetError': <class 'ConnectionResetError'>, 'FileExistsError': <class 'FileExistsError'>, 'FileNotFoundError': <class 'FileNotFoundError'>, 'IsADirectoryError': <class 'IsADirectoryError'>, 'NotADirectoryError': <class 'NotADirectoryError'>, 'InterruptedError': <class 'InterruptedError'>, 'PermissionError': <class 'PermissionError'>, 'ProcessLookupError': <class 'ProcessLookupError'>, 'TimeoutError': <class 'TimeoutError'>, 'open': <built-in function open>, 'copyright': Copyright (c) 2001-2023 Python Software Foundation.\n",
      "All Rights Reserved.\n",
      "\n",
      "Copyright (c) 2000 BeOpen.com.\n",
      "All Rights Reserved.\n",
      "\n",
      "Copyright (c) 1995-2001 Corporation for National Research Initiatives.\n",
      "All Rights Reserved.\n",
      "\n",
      "Copyright (c) 1991-1995 Stichting Mathematisch Centrum, Amsterdam.\n",
      "All Rights Reserved., 'credits':     Thanks to CWI, CNRI, BeOpen.com, Zope Corporation and a cast of thousands\n",
      "    for supporting Python development.  See www.python.org for more information., 'license': See https://www.python.org/psf/license/, 'help': Type help() for interactive help, or help(object) for help about object., 'execfile': <function execfile at 0x0000011203E9D6C0>, 'runfile': <function runfile at 0x0000011204058D30>, '__IPYTHON__': True, 'display': <function display at 0x000001120280D000>, 'get_ipython': <bound method InteractiveShell.get_ipython of <ipykernel.zmqshell.ZMQInteractiveShell object at 0x00000112042E1E70>>}} locals={'pd': <module 'pandas' from 'c:\\\\Users\\\\Admin\\\\anaconda3\\\\envs\\\\Modulabs\\\\lib\\\\site-packages\\\\pandas\\\\__init__.py'>, 'plt': <module 'matplotlib.pyplot' from 'c:\\\\Users\\\\Admin\\\\anaconda3\\\\envs\\\\Modulabs\\\\lib\\\\site-packages\\\\matplotlib\\\\pyplot.py'>, 'file_path': '피엔티.csv', 'df':    이름  나이   성인여부\n",
      "0  철수  20   True\n",
      "1  영희  21   True\n",
      "2  민수  19  False}\n",
      "\n",
      "\n",
      "===== Result =====\n",
      "\n",
      "\n",
      "이 코드는 세 명의 이름과 그에 해당하는 나이를 바 차트로 시각화합니다. 각 사람의 나이를 비교하여 성인 여부를 판단하는 추가적인 정보도 포함되어 있습니다. \n",
      "\n",
      "이 시각화를 통해 각 개인의 나이를 쉽게 비교할 수 있으며, 성인 여부를 통해 특정 연령대의 분포를 파악할 수 있습니다. 예를 들어, 이 데이터에서는 철수와 영희가 성인인 반면, 민수는 성인이 아니라는 점을 알 수 있습니다. 이는 특정 연령대의 특성을 분석하거나, 연령에 따른 행동 패턴을 이해하는 데 유용할 수 있습니다.\n"
     ]
    }
   ],
   "source": [
    "result = app.invoke({\"messages\":(\"user\", \"\"\"import pandas as pd\n",
    "import matplotlib.pyplot as plt\n",
    "\n",
    "df = pd.DataFrame({'이름': ['철수', '영희', '민수'], '나이': [20, 21, 19]})\n",
    "df['성인여부'] = df['나이'] >= 20\n",
    "\n",
    "plt.bar(df['이름'], df['나이'], color='skyblue')\n",
    "plt.title('이름별 나이')\n",
    "plt.xlabel('이름')\n",
    "plt.ylabel('나이')\n",
    "plt.show()\n",
    "\"\"\")}, config=config)"
   ]
  },
  {
   "cell_type": "code",
   "execution_count": 461,
   "metadata": {},
   "outputs": [
    {
     "data": {
      "text/plain": [
       "{'messages': [HumanMessage(content='피엔티의 30일 추세 그래프 보여줘', additional_kwargs={}, response_metadata={}, id='2017a877-05ba-429d-b9b8-eca5069adc64'),\n",
       "  AIMessage(content='피엔티의 30일 추세 그래프에 대한 정보는 제공되지 않았습니다. 그러나 피엔티의 주가는 최근 45,800.00원이었으며, 코스닥 증권 거래소에 상장되어 있습니다. 추가적인 세부사항이나 그래프는 해당 링크를 통해 확인할 수 있습니다. \\n\\n- [피엔티(A137400) | Snapshot | 기업정보 - 삼성전자](https://comp.fnguide.com/SVO2/ASP/SVD_Main.asp?pGB=1&gicode=A137400&cID=&MenuYn=Y&ReportGB=B&NewMenuID=Y&stkGb=701)\\n- [피엔티(137400) : 씽크풀](https://m.thinkpool.com/item/137400)\\n- [피엔티 137400 코스닥 - 다음 금융](https://finance.daum.net/quotes/A137400)\\n- [피엔티 (137400) - 인베스팅닷컴](https://kr.investing.com/equities/people-technology-inc)\\n- [44,350 +0.68% | 피엔티](https://alphasquare.co.kr/home/market-summary?code=137400)', additional_kwargs={'refusal': None}, response_metadata={'token_usage': {'completion_tokens': 257, 'prompt_tokens': 765, 'total_tokens': 1022, 'completion_tokens_details': {'accepted_prediction_tokens': 0, 'audio_tokens': 0, 'reasoning_tokens': 0, 'rejected_prediction_tokens': 0}, 'prompt_tokens_details': {'audio_tokens': 0, 'cached_tokens': 0}}, 'model_name': 'gpt-4o-mini-2024-07-18', 'system_fingerprint': 'fp_b8bc95a0ac', 'finish_reason': 'stop', 'logprobs': None}, id='run-7f639c26-747a-4c46-8bb5-114ebc65c9ad-0', usage_metadata={'input_tokens': 765, 'output_tokens': 257, 'total_tokens': 1022, 'input_token_details': {'audio': 0, 'cache_read': 0}, 'output_token_details': {'audio': 0, 'reasoning': 0}}),\n",
       "  HumanMessage(content='코드 툴의 df를 이용해 피엔티의 30일 추세 그래프 보여줘', additional_kwargs={}, response_metadata={}, id='4a653c39-62d6-4ddb-bc7e-e2cf649441a7'),\n",
       "  AIMessage(content='피엔티의 30일 추세 그래프를 보여주기 위해서는 해당 데이터가 필요합니다. 그러나 현재 제공된 정보에는 피엔티의 30일 주가 데이터가 포함되어 있지 않습니다. 주가 데이터가 필요하시면, 관련된 금융 데이터 제공 사이트나 API를 통해 확인하시기 바랍니다.', additional_kwargs={'refusal': None}, response_metadata={'token_usage': {'completion_tokens': 70, 'prompt_tokens': 800, 'total_tokens': 870, 'completion_tokens_details': {'accepted_prediction_tokens': 0, 'audio_tokens': 0, 'reasoning_tokens': 0, 'rejected_prediction_tokens': 0}, 'prompt_tokens_details': {'audio_tokens': 0, 'cached_tokens': 0}}, 'model_name': 'gpt-4o-mini-2024-07-18', 'system_fingerprint': 'fp_b8bc95a0ac', 'finish_reason': 'stop', 'logprobs': None}, id='run-5f0708da-1563-45d5-b206-ba0ec7b85536-0', usage_metadata={'input_tokens': 800, 'output_tokens': 70, 'total_tokens': 870, 'input_token_details': {'audio': 0, 'cache_read': 0}, 'output_token_details': {'audio': 0, 'reasoning': 0}})],\n",
       " 'tool_call': {'name': 'tavily_search_results_json',\n",
       "  'args': {'query': '피엔티 30일 주가 추세'},\n",
       "  'id': 'call_WhuFJLin1cz5vEOapfIT2jNx',\n",
       "  'type': 'tool_call'}}"
      ]
     },
     "execution_count": 461,
     "metadata": {},
     "output_type": "execute_result"
    }
   ],
   "source": [
    "result"
   ]
  },
  {
   "cell_type": "code",
   "execution_count": 449,
   "metadata": {},
   "outputs": [
    {
     "name": "stdout",
     "output_type": "stream",
     "text": [
      "\n",
      "\n",
      "===== Result =====\n",
      "\n",
      "\n",
      "아까 하신 질문은 \"30+30은 뭐야?\"였습니다. 그에 대한 답변은 30 + 30은 60이라는 내용이었습니다.\n"
     ]
    }
   ],
   "source": [
    "result = app.invoke({\"messages\":(\"user\", \"아까 내가 무슨 질문을 했지?\")}, config=config)"
   ]
  },
  {
   "cell_type": "code",
   "execution_count": null,
   "metadata": {},
   "outputs": [],
   "source": []
  },
  {
   "cell_type": "code",
   "execution_count": 203,
   "metadata": {},
   "outputs": [
    {
     "data": {
      "text/plain": [
       "AIMessage(content='피엔티는 롤투롤 컨버팅 기계의 세계적인 전문가로, 다양한 롤투롤 컨버팅 기계를 주력으로 성장한 회사입니다. 주요 기술로는 웹 가이딩, 장력 제어, 오토 터렛, 오토 스플라이싱, 코팅, 칼렌더링, 슬리팅 등이 있습니다.\\n\\n회사는 디스플레이 소재용 필름, 전자전기 및 소형 및 ESS용 중대형 2차 전지의 분리막, 음극, 양극 소재, 그리고 회로 소재 및 2차 전지용 극박 등을 생산하는 장비를 개발하고 있습니다.\\n\\n피엔티의 주요 사업은 IT용 소재, 2차 전지의 음극 및 분리막 소재, Copper 등의 코팅 및 슬리터 장비의 제작 및 판매입니다.\\n\\n자세한 정보는 다음 링크에서 확인할 수 있습니다:\\n- [피엔티 공식 웹사이트](https://www.epnt.co.kr/)\\n- [사람인 기업정보](https://www.saramin.co.kr/zf_user/company-info/view/csn/Zm9qNG9WcGt6dlp0RWxvelMrSnVHUT09/company_nm/(%EC%A3%BC)%ED%94%BC%EC%97%94%ED%8B%B0)\\n- [삼성전자 기업정보](https://comp.fnguide.com/SVO2/ASP/SVD_Main.asp?gicode=A137400)\\n- [나무위키](https://namu.wiki/w/%ED%94%BC%EC%97%94%ED%8B%B0)', additional_kwargs={'refusal': None}, response_metadata={'token_usage': {'completion_tokens': 353, 'prompt_tokens': 654, 'total_tokens': 1007, 'completion_tokens_details': {'accepted_prediction_tokens': 0, 'audio_tokens': 0, 'reasoning_tokens': 0, 'rejected_prediction_tokens': 0}, 'prompt_tokens_details': {'audio_tokens': 0, 'cached_tokens': 0}}, 'model_name': 'gpt-4o-mini-2024-07-18', 'system_fingerprint': 'fp_b8bc95a0ac', 'finish_reason': 'stop', 'logprobs': None}, id='run-325c2de0-9492-42d0-8e7a-e008c658ed2d-0', usage_metadata={'input_tokens': 654, 'output_tokens': 353, 'total_tokens': 1007, 'input_token_details': {'audio': 0, 'cache_read': 0}, 'output_token_details': {'audio': 0, 'reasoning': 0}})"
      ]
     },
     "execution_count": 203,
     "metadata": {},
     "output_type": "execute_result"
    }
   ],
   "source": [
    "c.invoke({\"history\":history})"
   ]
  }
 ],
 "metadata": {
  "kernelspec": {
   "display_name": "Modulabs",
   "language": "python",
   "name": "python3"
  },
  "language_info": {
   "codemirror_mode": {
    "name": "ipython",
    "version": 3
   },
   "file_extension": ".py",
   "mimetype": "text/x-python",
   "name": "python",
   "nbconvert_exporter": "python",
   "pygments_lexer": "ipython3",
   "version": "3.10.12"
  }
 },
 "nbformat": 4,
 "nbformat_minor": 2
}
