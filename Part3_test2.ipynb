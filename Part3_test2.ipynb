{
 "cells": [
  {
   "cell_type": "code",
   "execution_count": 245,
   "metadata": {},
   "outputs": [
    {
     "data": {
      "text/plain": [
       "True"
      ]
     },
     "execution_count": 245,
     "metadata": {},
     "output_type": "execute_result"
    }
   ],
   "source": [
    "from langchain_community.document_loaders.csv_loader import CSVLoader\n",
    "import pandas as pd\n",
    "import yfinance as yf\n",
    "from IPython.display import Markdown\n",
    "import re\n",
    "import datetime\n",
    "from pykrx.stock import get_market_ticker_list, get_market_ticker_name\n",
    "from langchain_community.agent_toolkits import FileManagementToolkit\n",
    "from typing import Annotated, Literal\n",
    "from typing_extensions import TypedDict\n",
    "from langchain_openai import ChatOpenAI, OpenAIEmbeddings\n",
    "from langchain.text_splitter import RecursiveCharacterTextSplitter\n",
    "from langchain_community.vectorstores import FAISS\n",
    "from langchain_community.tools.tavily_search import TavilySearchResults\n",
    "from langchain.tools.retriever import create_retriever_tool\n",
    "from langchain.document_loaders import PyMuPDFLoader, PyPDFLoader\n",
    "from langgraph.graph import StateGraph, START, END\n",
    "from langgraph.graph.message import add_messages, MessagesState\n",
    "from langgraph.prebuilt import ToolNode, tools_condition\n",
    "from langgraph.checkpoint.memory import MemorySaver\n",
    "from langchain_core.prompts import ChatPromptTemplate, PromptTemplate\n",
    "from langchain_core.tools import tool\n",
    "from langchain_community.agent_toolkits import FileManagementToolkit\n",
    "from langchain_core.documents.base import Document\n",
    "from langchain_core.vectorstores.base import VectorStoreRetriever\n",
    "from langchain_core.output_parsers.openai_tools import JsonOutputToolsParser\n",
    "from langchain_core.output_parsers.string import StrOutputParser\n",
    "from langchain.schema.runnable import RunnablePassthrough, RunnableLambda\n",
    "from langchain_experimental.utilities import PythonREPL\n",
    "from langchain_experimental.tools.python.tool import PythonAstREPLTool\n",
    "from pydantic import BaseModel, Field\n",
    "from markitdown import MarkItDown\n",
    "import dotenv\n",
    "import os\n",
    "\n",
    "dotenv.load_dotenv()"
   ]
  },
  {
   "cell_type": "code",
   "execution_count": 246,
   "metadata": {},
   "outputs": [],
   "source": [
    "class State(TypedDict):\n",
    "    messages : Annotated[list, add_messages]\n",
    "    df : Annotated[dict, \"Stock Dataset\"]\n",
    "    tool_call : Annotated[str, \"tool_call Result\"]"
   ]
  },
  {
   "cell_type": "code",
   "execution_count": 247,
   "metadata": {},
   "outputs": [],
   "source": [
    "tools = [TavilySearchResults(), PythonAstREPLTool(), *FileManagementToolkit(\n",
    "    selected_tools=[\"read_file\", \"write_file\", \"list_directory\"]).get_tools(),\n",
    "]"
   ]
  },
  {
   "cell_type": "code",
   "execution_count": 248,
   "metadata": {},
   "outputs": [],
   "source": [
    "root_dir=\"./files\""
   ]
  },
  {
   "cell_type": "code",
   "execution_count": 249,
   "metadata": {},
   "outputs": [],
   "source": [
    "llm = ChatOpenAI(model=\"gpt-4o-mini\",\n",
    "                 temperature=0.,)"
   ]
  },
  {
   "cell_type": "code",
   "execution_count": 250,
   "metadata": {},
   "outputs": [],
   "source": [
    "llm_with_tools = llm.bind_tools(tools)"
   ]
  },
  {
   "cell_type": "code",
   "execution_count": null,
   "metadata": {},
   "outputs": [],
   "source": [
    "def route(\n",
    "    state: State,\n",
    "):\n",
    "    try:\n",
    "        message = state[\"messages\"][-1]\n",
    "    except:\n",
    "        # 입력 상태에 메시지가 없는 경우 예외 발생\n",
    "        raise ValueError(f\"이전 대화 기록이 존재하지 않습니다.\")\n",
    "\n",
    "    # AI 메시지에 도구 호출이 있는 경우 \"tools\" 반환\n",
    "    tool_calls = hasattr(message, \"tool_calls\")\n",
    "    if  len(tool_calls) > 0:\n",
    "        # 도구 호출이 있는 경우 \"tools\" 반환\n",
    "        return \"tools\"\n",
    "    # 도구 호출이 없는 경우 \"END\" 반환\n",
    "    return {\"messages\":llm.invoke(state[\"messages\"][-1])}"
   ]
  },
  {
   "cell_type": "code",
   "execution_count": 252,
   "metadata": {},
   "outputs": [],
   "source": [
    "# 주식 DB를 만드는 함수 {\"삼성전자\":\"005930, ... }\n",
    "\n",
    "def create_stock_db():\n",
    "    stock_dict = {}\n",
    "    today = datetime.datetime.today()\n",
    "    \n",
    "    stock_list = get_market_ticker_list(today, market=\"KOSPI\")\n",
    "\n",
    "    for stock in stock_list:\n",
    "        stock_dict.update({get_market_ticker_name(stock):stock})\n",
    "    \n",
    "    stock_list = get_market_ticker_list(today, market=\"KOSDAQ\")\n",
    "\n",
    "    for stock in stock_list:\n",
    "        stock_dict.update({get_market_ticker_name(stock):stock})\n",
    "\n",
    "    return stock_dict\n",
    "\n",
    "stock_db = create_stock_db()"
   ]
  },
  {
   "cell_type": "code",
   "execution_count": 253,
   "metadata": {},
   "outputs": [],
   "source": [
    "def search_stock(query):\n",
    "\n",
    "    \"\"\"\n",
    "    주식 검색 도구입니다.\n",
    "    결과값으로 데이터프레임이 반환됩니다.\n",
    "    입력 쿼리에서 주식이름을 추출한 후 모든 주식 데이터를 가져옵니다.\n",
    "    \"\"\"\n",
    "\n",
    "\n",
    "    prompt = PromptTemplate.from_template(\"\"\"\n",
    "        당신은 주식 이름 추출기입니다.\n",
    "        주어진 문장에서 주식이름만 추출하세요.\n",
    "\n",
    "        ### 예시 1\n",
    "        query : 삼성전자의 최근 1년에 대해서 분석해주세요.\n",
    "\n",
    "        answer : 삼성전자\n",
    "\n",
    "        ### 예시 2\n",
    "        query : AJ홀딩스우의 최근 실적은 얼마인가요?\n",
    "\n",
    "        answer : AJ홀딩스우\n",
    "\n",
    "        ### 입력\n",
    "        query : {query}\n",
    "\n",
    "        answer : \n",
    "\n",
    "        \"\"\"\n",
    "        )\n",
    "    \n",
    "    chain = prompt | llm | StrOutputParser()\n",
    "\n",
    "    stock_name = chain.invoke({\"query\":query})\n",
    "\n",
    "    try:\n",
    "        stock_code = stock_db[stock_name.strip().upper()]   \n",
    "    except:\n",
    "        raise ValueError(f\"종목명 : {stock_name}을/를 검색할 수 없습니다. 오탈자나 한국거래소에서 거래중인 주식인지 확인해주세요.\")\n",
    "    \n",
    "    # 예: 삼성전자 (한국거래소는 뒤에 '.KS'를 붙임)\n",
    "    ticker = yf.Ticker(stock_code+\".KS\")\n",
    "\n",
    "    df = ticker.history(period=\"max\") # 기간: '1d', '5d', '1mo', '1y', 'max' 등\n",
    "\n",
    "    return df.reset_index(), stock_name"
   ]
  },
  {
   "cell_type": "code",
   "execution_count": 256,
   "metadata": {},
   "outputs": [],
   "source": [
    "code_tool = PythonAstREPLTool()"
   ]
  },
  {
   "cell_type": "code",
   "execution_count": null,
   "metadata": {},
   "outputs": [],
   "source": [
    "# tavily_search_results_json, python_repl_ast, read_file, write_file, list_directory\n",
    "\n",
    "def response(state:State):\n",
    "\n",
    "    name = state[\"tool_call\"].name\n",
    "\n",
    "    if name == \"tavily_search_results_json\":\n",
    "\n",
    "        result = search_tool.invoke(state[\"tool_calls\"][0][\"args\"][\"query\"])\n",
    "        prompt = ChatPromptTemplate.from_messages(\n",
    "            (\"system\", \"\"\"\n",
    "                        당신은 아래 내용을 이용하여 답변합니다.\n",
    "                        생각을 담지 말고 사실만을 전달하세요.\n",
    "                        내용 : {result}\n",
    "\n",
    "                        \"\"\"),\n",
    "            (\"human\", \"{query}\")\n",
    "        )\n",
    "\n",
    "        chain = prompt | llm\n",
    "\n",
    "        answer = chain.invoke({\"result\":result,\n",
    "                               \"query\":state[\"messages\"][-1]}).content\n",
    "        \n",
    "        return {\"answer\": answer}\n",
    "    \n",
    "    elif name == \"python_repl_ast\":\n",
    "\n",
    "        title = \"\"\n",
    "\n",
    "        if len(code_tool.locals) > 0:\n",
    "            pass\n",
    "        else:\n",
    "            try:\n",
    "                df, title = search_stock(state[\"query\"])\n",
    "            except:\n",
    "                pass\n",
    "            \n",
    "\n",
    "        code = state[\"tool_calls\"][0][\"args\"][\"query\"]\n",
    "        code_tool.invoke(code)\n",
    "\n",
    "        prompt = ChatPromptTemplate.from_messages(\n",
    "            (\"system\", \"\"\"\n",
    "                        아래의 코드를 참고하여 질의에 대해 답변합니다.\n",
    "                        절대 코드에 대해 설명하지마세요.\n",
    "                        독자는 프로그래머가 아닙니다.\n",
    "                        데이터 분석과 관련된 코드가 입력된다면 항상 인사이트를 포함하세요.\n",
    "                        단순 코드는 단순하게 대답합니다.\n",
    "\n",
    "                        코드 : {code}\n",
    "             \n",
    "                        ### 필요하다면 참고할 것\n",
    "\n",
    "                        title : {title}\n",
    "\n",
    "                        \"\"\"),\n",
    "            (\"human\", \"{query}\")\n",
    "        )\n",
    "\n",
    "        chain = prompt | llm\n",
    "\n",
    "        answer = chain.invoke({\"code\":code,\n",
    "                               \"title\":title,\n",
    "                               \"query\":state[\"messages\"][-1]}).content\n",
    "        \n",
    "        return {\"answer\": answer}    \n",
    "\n",
    "    elif name ==\"write_file\":\n",
    "        \n",
    "        root_dir = root_dir\n",
    "        result = state[\"tool_calls\"][0][\"args\"]\n",
    "        \n",
    "        return write_tool.invoke(result)\n",
    "    else:\n",
    "        return {\"messages\":llm.invoke(state[\"messages\"][-1])}"
   ]
  },
  {
   "cell_type": "code",
   "execution_count": 258,
   "metadata": {},
   "outputs": [],
   "source": [
    "graph = StateGraph(State)"
   ]
  },
  {
   "cell_type": "code",
   "execution_count": null,
   "metadata": {},
   "outputs": [],
   "source": [
    "graph.add_node(\"route\", route)\n",
    "graph.add_node(\"response\", response)\n",
    "graph.add_node(\"route\", route)\n",
    "graph.add_node(\"route\", route)"
   ]
  }
 ],
 "metadata": {
  "kernelspec": {
   "display_name": "Modulabs",
   "language": "python",
   "name": "python3"
  },
  "language_info": {
   "codemirror_mode": {
    "name": "ipython",
    "version": 3
   },
   "file_extension": ".py",
   "mimetype": "text/x-python",
   "name": "python",
   "nbconvert_exporter": "python",
   "pygments_lexer": "ipython3",
   "version": "3.10.12"
  }
 },
 "nbformat": 4,
 "nbformat_minor": 2
}
