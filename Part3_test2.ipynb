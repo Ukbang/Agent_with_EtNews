{
 "cells": [
  {
   "cell_type": "code",
   "execution_count": null,
   "metadata": {},
   "outputs": [
    {
     "data": {
      "text/plain": [
       "True"
      ]
     },
     "execution_count": 543,
     "metadata": {},
     "output_type": "execute_result"
    }
   ],
   "source": [
    "from langchain_community.document_loaders.csv_loader import CSVLoader\n",
    "import pandas as pd\n",
    "import yfinance as yf\n",
    "from IPython.display import Markdown\n",
    "from langchain_core.runnables import RunnableConfig\n",
    "from langchain.schema import HumanMessage, AIMessage\n",
    "import re\n",
    "import datetime\n",
    "from pykrx.stock import get_market_ticker_list, get_market_ticker_name\n",
    "from langchain_community.agent_toolkits import FileManagementToolkit\n",
    "from typing import Annotated, Literal\n",
    "from typing_extensions import TypedDict\n",
    "from langchain_openai import ChatOpenAI, OpenAIEmbeddings\n",
    "from langchain.text_splitter import RecursiveCharacterTextSplitter\n",
    "from langchain_community.vectorstores import FAISS\n",
    "from langchain_community.tools.tavily_search import TavilySearchResults\n",
    "from langchain.tools.retriever import create_retriever_tool\n",
    "from langchain.document_loaders import PyMuPDFLoader, PyPDFLoader\n",
    "from langgraph.graph import StateGraph, START, END\n",
    "from langgraph.graph.message import add_messages, MessagesState\n",
    "from langgraph.prebuilt import ToolNode, tools_condition\n",
    "from langgraph.checkpoint.memory import MemorySaver\n",
    "from langchain_core.prompts import ChatPromptTemplate, PromptTemplate\n",
    "from langchain_core.tools import tool\n",
    "from langchain_community.agent_toolkits import FileManagementToolkit\n",
    "from langchain_core.documents.base import Document\n",
    "from langchain_core.vectorstores.base import VectorStoreRetriever\n",
    "from langchain_core.output_parsers.openai_tools import JsonOutputToolsParser\n",
    "from langchain_core.output_parsers.string import StrOutputParser\n",
    "from langchain.schema.runnable import RunnablePassthrough, RunnableLambda\n",
    "from langchain_experimental.utilities import PythonREPL\n",
    "from langchain_experimental.tools.python.tool import PythonAstREPLTool\n",
    "from pydantic import BaseModel, Field\n",
    "from markitdown import MarkItDown\n",
    "import dotenv\n",
    "import os\n",
    "\n",
    "dotenv.load_dotenv()"
   ]
  },
  {
   "cell_type": "code",
   "execution_count": 688,
   "metadata": {},
   "outputs": [],
   "source": [
    "class State(TypedDict):\n",
    "    messages : Annotated[list, add_messages]\n",
    "    tool_call : Annotated[dict, \"tool_call Result\"]"
   ]
  },
  {
   "cell_type": "code",
   "execution_count": 689,
   "metadata": {},
   "outputs": [],
   "source": [
    "root_dir=\"./files\""
   ]
  },
  {
   "cell_type": "code",
   "execution_count": 690,
   "metadata": {},
   "outputs": [],
   "source": [
    "llm = ChatOpenAI(model=\"gpt-4o-mini\",\n",
    "                 temperature=0.,)"
   ]
  },
  {
   "cell_type": "code",
   "execution_count": 691,
   "metadata": {},
   "outputs": [],
   "source": [
    "tools = [TavilySearchResults(), PythonAstREPLTool(), FileManagementToolkit(selected_tools=[\"write_file\"]).get_tools()[0]]\n",
    "search_tool, code_tool, write_tool = tools"
   ]
  },
  {
   "cell_type": "code",
   "execution_count": 692,
   "metadata": {},
   "outputs": [],
   "source": [
    "llm_with_tools = llm.bind_tools(tools)"
   ]
  },
  {
   "cell_type": "code",
   "execution_count": 694,
   "metadata": {},
   "outputs": [],
   "source": [
    "history_checker = llm.with_structured_output(HistoryChecker)\n",
    "intent_checker = llm.with_structured_output(IntentClassifier)"
   ]
  },
  {
   "cell_type": "code",
   "execution_count": 695,
   "metadata": {},
   "outputs": [],
   "source": [
    "class HistoryChecker(BaseModel):\n",
    "    \"\"\"\n",
    "    이전의 대화 기록을 참고하여 질문에 대해 답변할 수 있는지 판단합니다.\n",
    "    답변할 수 있다면 \"yes\", 답변할 수 없다면 \"no\"를 반환합니다.\n",
    "    \"\"\"\n",
    "\n",
    "    yes_no : Literal[\"yes\", \"no\"] = Field(..., description=\"\"\"Use your previous conversation history to determine if you can answer your questions.\n",
    "    Return \"yes\" if you can answer, \"no\" if you can't answer.\"\"\")"
   ]
  },
  {
   "cell_type": "code",
   "execution_count": 696,
   "metadata": {},
   "outputs": [],
   "source": [
    "def history_check(state:State):\n",
    "\n",
    "    prompt = PromptTemplate.from_template(\"\"\"\n",
    "\n",
    "                이전의 대화 기록을 참고하여 질문에 대해 답변할 수 있는지 판단합니다.\n",
    "                답변할 수 있다면 \"yes\", 답변할 수 없다면 \"no\"를 반환합니다.\n",
    "                \n",
    "                대화 기록 : {history}\n",
    "                                          \n",
    "                질문 : {query}\n",
    "                                          \n",
    "                \"\"\")\n",
    "    \n",
    "    chain = prompt | history_checker\n",
    "\n",
    "    result = chain.invoke({\"history\":state[\"messages\"][:-1],\n",
    "                  \"query\":state[\"messages\"][-1]})\n",
    "\n",
    "    return result.yes_no"
   ]
  },
  {
   "cell_type": "code",
   "execution_count": 697,
   "metadata": {},
   "outputs": [],
   "source": [
    "def memory_chat(state:State):\n",
    "\n",
    "    prompt = PromptTemplate.from_template(\"\"\"\n",
    "\n",
    "                이전의 대화 기록을 참고하여 질문에 대해 답변하세요.\n",
    "                아래 대화 기록을 첨부합니다.\n",
    "                대화 기록을 통해 답변이 어렵다면 내부 지식을 참조하세요.\n",
    "                \n",
    "                대화 기록 : {history}\n",
    "                                          \n",
    "                질문 : {query}\n",
    "                                          \n",
    "                \"\"\")\n",
    "\n",
    "    \n",
    "    chain = prompt | llm\n",
    "\n",
    "    answer = chain.invoke({\"history\":state[\"messages\"][:-1],\n",
    "                  \"query\":state[\"messages\"][-1]})\n",
    "\n",
    "    return {\"messages\":answer}"
   ]
  },
  {
   "cell_type": "code",
   "execution_count": 698,
   "metadata": {},
   "outputs": [],
   "source": [
    "class IntentClassifier(BaseModel):\n",
    "    \"\"\"\n",
    "    당신은 의도 분류 어시스턴트입니다.\n",
    "\n",
    "    들어온 질문이 어떤 의도를 지닌 질문인지 판단합니다.\n",
    "    당신은 \"code\", \"tool\" 두개 중 하나로만 대답합니다.\n",
    "\n",
    "    1. code : \"문제가 데이터 분석 혹은 코드 실행과 관련된 문제일 경우 반환하는 값\"\n",
    "    ### code의 예시\n",
    "    - 삼성전자의 거래량을 분석해주세요.\n",
    "    - LS의 3월 21일 종가는 얼마인가요?\n",
    "    - 100 + 100은 얼마인가요?\n",
    "    - 로또번호 랜덤생성기 만들어주세요.\n",
    "    - ```python import matplotlib.pyplot as plt import numpy as np\n",
    "         df = pd.DataFrame({'이름': ['철수', '영희', '민수'], '나이': [20, 21, 19]})\n",
    "         df['성인여부'] = df['나이'] >= 20\n",
    "\n",
    "         plt.bar(df['이름'], df['나이'], color='skyblue')\n",
    "         plt.title('이름별 나이')\n",
    "         plt.xlabel('이름')\n",
    "         plt.ylabel('나이')\n",
    "         plt.show()\n",
    "      ```\n",
    "\n",
    "    2. tool : \"문제가 웹 서칭, 파일 관리, 일반 질의에 해당할 경우 반환하는 값\"\n",
    "    ### tool의 예시\n",
    "    - 한국의 날씨는 어떤가요?\n",
    "    - 조사한 내용의 레포트 작성해주세요.\n",
    "\n",
    "    \"\"\"\n",
    "\n",
    "    binary : Literal[\"code\", \"tool\"] = Field(..., description=\"\"\"You are the intent classification assistant. \n",
    "                                             Determine what intention the question is.\n",
    "                                             You only answer either \"code\" or \"tool\".\n",
    "                                             \"\"\")"
   ]
  },
  {
   "cell_type": "code",
   "execution_count": 708,
   "metadata": {},
   "outputs": [],
   "source": [
    "def intent_check(state:State):\n",
    "\n",
    "    prompt = PromptTemplate.from_template(\"\"\"\n",
    "\n",
    "                당신은 의도 분류 어시스턴트입니다.\n",
    "\n",
    "                들어온 질문이 어떤 의도를 지닌 질문인지 판단합니다.\n",
    "                당신은 \"code\", \"tool\" 두개 중 하나로만 대답합니다.\n",
    "                                          \n",
    "                질문 : {query}\n",
    "                                          \n",
    "                \"\"\")\n",
    "    \n",
    "    chain = prompt | intent_checker\n",
    "\n",
    "    result = chain.invoke({\"query\":state[\"messages\"][-1]})\n",
    "\n",
    "    return result.binary"
   ]
  },
  {
   "cell_type": "code",
   "execution_count": 709,
   "metadata": {},
   "outputs": [],
   "source": [
    "def intent_node(state:State):\n",
    "    return state"
   ]
  },
  {
   "cell_type": "code",
   "execution_count": 710,
   "metadata": {},
   "outputs": [],
   "source": [
    "def select(\n",
    "    state: State,\n",
    "):\n",
    "    try:\n",
    "        message = state[\"messages\"][-1]\n",
    "    except:\n",
    "        # 입력 상태에 메시지가 없는 경우 예외 발생\n",
    "        raise ValueError(f\"이전 대화 기록이 존재하지 않습니다.\")\n",
    "    \n",
    "    result = llm_with_tools.invoke(message.content)\n",
    "\n",
    "    if hasattr(result, \"tool_calls\") and len(result.tool_calls) > 0:\n",
    "        tool_calls = getattr(result, \"tool_calls\")[0]\n",
    "        return {\"tool_call\": tool_calls}\n",
    "    else:\n",
    "        return {\"tool_call\":None}\n",
    "\n",
    "    "
   ]
  },
  {
   "cell_type": "code",
   "execution_count": 711,
   "metadata": {},
   "outputs": [],
   "source": [
    "# 주식 DB를 만드는 함수 {\"삼성전자\":\"005930, ... }\n",
    "\n",
    "def create_stock_db():\n",
    "    stock_dict = {}\n",
    "    today = datetime.datetime.today()\n",
    "    \n",
    "    stock_list = get_market_ticker_list(today, market=\"KOSPI\")\n",
    "\n",
    "    for stock in stock_list:\n",
    "        stock_dict.update({get_market_ticker_name(stock):stock})\n",
    "    \n",
    "    stock_list = get_market_ticker_list(today, market=\"KOSDAQ\")\n",
    "\n",
    "    for stock in stock_list:\n",
    "        stock_dict.update({get_market_ticker_name(stock):stock})\n",
    "\n",
    "    return stock_dict\n",
    "\n",
    "stock_db = create_stock_db()"
   ]
  },
  {
   "cell_type": "code",
   "execution_count": 712,
   "metadata": {},
   "outputs": [],
   "source": [
    "def stock_search(state:State):\n",
    "\n",
    "    \"\"\"\n",
    "    주식 검색 도구입니다.\n",
    "    결과값으로 데이터프레임이 반환됩니다.\n",
    "    입력 쿼리에서 주식이름을 추출한 후 모든 주식 데이터를 가져옵니다.\n",
    "    \"\"\"\n",
    "\n",
    "\n",
    "    prompt = PromptTemplate.from_template(\"\"\"\n",
    "        당신은 주식 이름 추출기입니다.\n",
    "        주어진 문장에서 주식이름만 추출하세요.\n",
    "\n",
    "        ### 예시 1\n",
    "        query : 삼성전자의 최근 1년에 대해서 분석해주세요.\n",
    "\n",
    "        answer : 삼성전자\n",
    "\n",
    "        ### 예시 2\n",
    "        query : AJ홀딩스우의 최근 실적은 얼마인가요?\n",
    "\n",
    "        answer : AJ홀딩스우\n",
    "\n",
    "        ### 입력\n",
    "        query : {query}\n",
    "\n",
    "        answer : \n",
    "\n",
    "        \"\"\"\n",
    "        )\n",
    "    \n",
    "    chain = prompt | llm | StrOutputParser()\n",
    "\n",
    "    stock_name = chain.invoke({\"query\":state[\"messages\"][-1]})\n",
    "\n",
    "    result = llm_with_tools.invoke(state[\"messages\"][-1].content)\n",
    "\n",
    "    try:\n",
    "        stock_code = stock_db[stock_name.strip().upper()]   \n",
    "    except:\n",
    "        if hasattr(result, \"tool_calls\") and len(result.tool_calls) > 0:\n",
    "            tool_calls = getattr(result, \"tool_calls\")[0]\n",
    "            return {\"tool_call\": tool_calls}\n",
    "        else:\n",
    "            return {\"tool_call\":None}\n",
    "        \n",
    "\n",
    "    \n",
    "    # 예: 삼성전자 (한국거래소는 뒤에 '.KS'를 붙임)\n",
    "    ticker = yf.Ticker(stock_code+\".KS\")\n",
    "\n",
    "    df = ticker.history(period=\"max\") # 기간: '1d', '5d', '1mo', '1y', 'max' 등\n",
    "\n",
    "    return {\"df\":df.reset_index().to_dict()}"
   ]
  },
  {
   "cell_type": "code",
   "execution_count": null,
   "metadata": {},
   "outputs": [],
   "source": [
    "# tavily_search_results_json, python_repl_ast, read_file, write_file, list_directory\n",
    "\n",
    "def tools(state:State):\n",
    "    try:\n",
    "        name = state[\"tool_call\"][\"name\"]\n",
    "    except:\n",
    "        name = \"llm\"\n",
    "\n",
    "    if name == \"tavily_search_results_json\":\n",
    "\n",
    "        result = search_tool.invoke(state[\"tool_call\"][\"args\"][\"query\"])\n",
    "        prompt = ChatPromptTemplate.from_messages([\n",
    "            (\"system\", \"\"\"\n",
    "                        당신은 아래 내용을 이용하여 답변합니다.\n",
    "                        생각을 담지 말고 사실만을 전달하세요.\n",
    "                        내용 : {result}\n",
    "\n",
    "                        \"\"\"),\n",
    "            (\"human\", \"{query}\")\n",
    "        ])\n",
    "\n",
    "        chain = prompt | llm\n",
    "\n",
    "        answer = chain.invoke({\"result\":result,\n",
    "                               \"query\":state[\"messages\"][-1]})\n",
    "        \n",
    "        return {\"messages\": answer}\n",
    "    \n",
    "    elif name == \"python_repl_ast\":\n",
    "\n",
    "        if len(code_tool.locals) > 0:\n",
    "            pass\n",
    "        else:\n",
    "            try:\n",
    "                code_tool.locals = pd.DataFrame(state[\"df\"])\n",
    "            except:\n",
    "                pass\n",
    "            \n",
    "\n",
    "        code = state[\"tool_call\"][\"args\"][\"query\"]\n",
    "        code_tool.invoke(code)\n",
    "\n",
    "        prompt = ChatPromptTemplate.from_messages([\n",
    "            (\"system\", \"\"\"\n",
    "                        아래의 코드를 참고하여 질의에 대해 답변합니다.\n",
    "                        절대 코드에 대해 설명하지마세요.\n",
    "                        독자는 프로그래머가 아닙니다.\n",
    "                        항상 출력되는 값을 기준으로 설명합니다.\n",
    "                        데이터 분석과 관련된 코드가 입력된다면 항상상 인사이트를 포함하세요.\n",
    "                        단순한 코드라면 간단하게 대답합니다.\n",
    "\n",
    "                        코드 : {code}\n",
    "\n",
    "                        \"\"\"),\n",
    "            (\"human\", \"{query}\")\n",
    "        ])\n",
    "\n",
    "        chain = prompt | llm\n",
    "\n",
    "        answer = chain.invoke({\"code\":code,\n",
    "                               \"query\":state[\"messages\"][-1]})\n",
    "        \n",
    "        return {\"messages\": answer}    \n",
    "\n",
    "    elif name ==\"write_file\":\n",
    "        \n",
    "        result = state[\"tool_calls\"][\"args\"]\n",
    "        \n",
    "        prompt = PromptTemplate.from_template(\"\"\"\n",
    "                    당신은 입력된 정보를 레포트로 만들어내는 역할을 담당하고 있습니다.\n",
    "                    \n",
    "                    루트디렉토리의 위치는 \"./files/\" 입니다. 디렉토리 내부에 파일을 만들어주세요.\n",
    "                    만들어지는 파일 형태는 .pdf파일이어야합니다.\n",
    "                                              \n",
    "                    input : {input}\n",
    "                    \n",
    "                    \"\"\")\n",
    "\n",
    "        return write_tool.invoke(result)\n",
    "    else:\n",
    "\n",
    "        prompt = PromptTemplate.from_template(\"\"\"\n",
    "                질문에 대해 한글로 대답해주세요.\n",
    "\n",
    "                질문 : {query}\n",
    "                \"\"\"\n",
    "                )\n",
    "        \n",
    "        chain = prompt | llm\n",
    "\n",
    "        return {\"messages\":chain.invoke({\"query\":state[\"messages\"][-1]})}"
   ]
  },
  {
   "cell_type": "code",
   "execution_count": 724,
   "metadata": {},
   "outputs": [],
   "source": [
    "def pretty_print(state:State):\n",
    "\n",
    "    print(f\"\\n\\n===== Result =====\\n\\n\")\n",
    "\n",
    "    print(state[\"messages\"][-1].content)"
   ]
  },
  {
   "cell_type": "code",
   "execution_count": 744,
   "metadata": {},
   "outputs": [],
   "source": [
    "graph = StateGraph(State)"
   ]
  },
  {
   "cell_type": "code",
   "execution_count": 745,
   "metadata": {},
   "outputs": [],
   "source": [
    "graph.add_node(\"intent_node\", intent_node)\n",
    "graph.add_node(\"stock_search\", stock_search)\n",
    "graph.add_node(\"memory_chat\", memory_chat)\n",
    "graph.add_node(\"select\", select)\n",
    "graph.add_node(\"tools\", tools)\n",
    "graph.add_node(\"pretty_print\", pretty_print)\n",
    "\n",
    "graph.add_conditional_edges(START,\n",
    "                            history_check,\n",
    "                            {\"yes\":\"memory_chat\",\n",
    "                             \"no\":\"intent_node\"})\n",
    "graph.add_conditional_edges(\"intent_node\",\n",
    "                            intent_check,\n",
    "                            {\"code\":\"stock_search\",\n",
    "                             \"tool\":\"select\"})\n",
    "graph.add_edge(\"stock_search\", \"tools\")\n",
    "graph.add_edge(\"select\", \"tools\")\n",
    "graph.add_edge(\"tools\", \"pretty_print\")\n",
    "graph.add_edge(\"memory_chat\", \"pretty_print\")\n",
    "graph.add_edge(\"pretty_print\", END);"
   ]
  },
  {
   "cell_type": "code",
   "execution_count": 753,
   "metadata": {},
   "outputs": [],
   "source": [
    "memory = MemorySaver()\n",
    "\n",
    "app = graph.compile(checkpointer=memory)"
   ]
  },
  {
   "cell_type": "code",
   "execution_count": null,
   "metadata": {},
   "outputs": [],
   "source": [
    "config = RunnableConfig(recursion_limit=10, configurable={\"thread_id\": \"1054\"})"
   ]
  },
  {
   "cell_type": "code",
   "execution_count": 752,
   "metadata": {},
   "outputs": [],
   "source": [
    "app = graph.compile()"
   ]
  },
  {
   "cell_type": "code",
   "execution_count": 633,
   "metadata": {},
   "outputs": [
    {
     "data": {
      "image/png": "[encoded data removed]",
      "text/plain": [
       "<langgraph.graph.state.CompiledStateGraph object at 0x00000112320315A0>"
      ]
     },
     "execution_count": 633,
     "metadata": {},
     "output_type": "execute_result"
    }
   ],
   "source": [
    "app"
   ]
  },
  {
   "cell_type": "code",
   "execution_count": 227,
   "metadata": {},
   "outputs": [
    {
     "name": "stdout",
     "output_type": "stream",
     "text": [
      "content='피엔티에 대해 알려주세요.' additional_kwargs={} response_metadata={} id='33fc80c0-151b-4d7f-ab19-5b120da85c87'\n",
      "content='피엔티는 롤투롤 컨버팅 기계를 주력으로 성장한 회사입니다. 주요 기술로는 웹가이딩, 장력제어, 오토터렛, 오토스플라이싱, 코팅, 칼렌더링, 슬리팅 등이 있습니다. 이 회사는 디스플레이 소재용 필름, 전자전기 및 2차 전지의 분리막, 음극, 양극 소재 등을 생산하는 장비를 개발하고 있습니다. 또한, IT용 소재와 2차 전지의 음극 및 분리막 소재, Copper 등의 코팅 및 슬리터 장비의 제작 판매를 주요 사업으로 하고 있습니다. \\n\\n자세한 정보는 다음 링크에서 확인할 수 있습니다:\\n- [피엔티 공식 웹사이트](https://www.epnt.co.kr/)\\n- [사람인 기업정보](https://www.saramin.co.kr/zf_user/company-info/view/csn/Zm9qNG9WcGt6dlp0RWxvelMrSnVHUT09/company_nm/(%EC%A3%BC)%ED%94%BC%EC%97%94%ED%8B%B0)\\n- [삼성전자 기업정보](https://comp.fnguide.com/SVO2/ASP/SVD_Main.asp?gicode=A137400)\\n- [나무위키](https://namu.wiki/w/%ED%94%BC%EC%97%94%ED%8B%B0)' additional_kwargs={'refusal': None} response_metadata={'token_usage': {'completion_tokens': 316, 'prompt_tokens': 714, 'total_tokens': 1030, 'completion_tokens_details': {'accepted_prediction_tokens': 0, 'audio_tokens': 0, 'reasoning_tokens': 0, 'rejected_prediction_tokens': 0}, 'prompt_tokens_details': {'audio_tokens': 0, 'cached_tokens': 0}}, 'model_name': 'gpt-4o-mini-2024-07-18', 'system_fingerprint': 'fp_b8bc95a0ac', 'finish_reason': 'stop', 'logprobs': None} id='run-2b2b14c1-b026-431f-827d-a4c27fa76b3f-0' usage_metadata={'input_tokens': 714, 'output_tokens': 316, 'total_tokens': 1030, 'input_token_details': {'audio': 0, 'cache_read': 0}, 'output_token_details': {'audio': 0, 'reasoning': 0}}\n",
      "\n",
      "\n",
      "===== Result =====\n",
      "\n",
      "\n",
      "피엔티는 롤투롤 컨버팅 기계를 주력으로 성장한 회사입니다. 주요 기술로는 웹가이딩, 장력제어, 오토터렛, 오토스플라이싱, 코팅, 칼렌더링, 슬리팅 등이 있습니다. 이 회사는 디스플레이 소재용 필름, 전자전기 및 2차 전지의 분리막, 음극, 양극 소재 등을 생산하는 장비를 개발하고 있습니다. 또한, IT용 소재와 2차 전지의 음극 및 분리막 소재, Copper 등의 코팅 및 슬리터 장비의 제작 판매를 주요 사업으로 하고 있습니다. \n",
      "\n",
      "자세한 정보는 다음 링크에서 확인할 수 있습니다:\n",
      "- [피엔티 공식 웹사이트](https://www.epnt.co.kr/)\n",
      "- [사람인 기업정보](https://www.saramin.co.kr/zf_user/company-info/view/csn/Zm9qNG9WcGt6dlp0RWxvelMrSnVHUT09/company_nm/(%EC%A3%BC)%ED%94%BC%EC%97%94%ED%8B%B0)\n",
      "- [삼성전자 기업정보](https://comp.fnguide.com/SVO2/ASP/SVD_Main.asp?gicode=A137400)\n",
      "- [나무위키](https://namu.wiki/w/%ED%94%BC%EC%97%94%ED%8B%B0)\n"
     ]
    }
   ],
   "source": [
    "result = app.invoke({\"messages\":(\"user\", \"피엔티에 대해 알려주세요.\")}, config=config)"
   ]
  },
  {
   "cell_type": "code",
   "execution_count": null,
   "metadata": {},
   "outputs": [
    {
     "ename": "ValueError",
     "evalue": "Checkpointer requires one or more of the following 'configurable' keys: ['thread_id', 'checkpoint_ns', 'checkpoint_id']",
     "output_type": "error",
     "traceback": [
      "\u001b[1;31m---------------------------------------------------------------------------\u001b[0m",
      "\u001b[1;31mValueError\u001b[0m                                Traceback (most recent call last)",
      "Cell \u001b[1;32mIn[754], line 1\u001b[0m\n\u001b[1;32m----> 1\u001b[0m result \u001b[38;5;241m=\u001b[39m \u001b[43mapp\u001b[49m\u001b[38;5;241;43m.\u001b[39;49m\u001b[43minvoke\u001b[49m\u001b[43m(\u001b[49m\u001b[43m{\u001b[49m\u001b[38;5;124;43m\"\u001b[39;49m\u001b[38;5;124;43mmessages\u001b[39;49m\u001b[38;5;124;43m\"\u001b[39;49m\u001b[43m:\u001b[49m\u001b[43m(\u001b[49m\u001b[38;5;124;43m\"\u001b[39;49m\u001b[38;5;124;43muser\u001b[39;49m\u001b[38;5;124;43m\"\u001b[39;49m\u001b[43m,\u001b[49m\u001b[43m \u001b[49m\u001b[38;5;124;43m\"\u001b[39;49m\u001b[38;5;124;43m30+30은 뭐야?\u001b[39;49m\u001b[38;5;124;43m\"\u001b[39;49m\u001b[43m)\u001b[49m\u001b[43m}\u001b[49m\u001b[43m)\u001b[49m\u001b[38;5;66;03m#, config=config)\u001b[39;00m\n",
      "File \u001b[1;32mc:\\Users\\Admin\\anaconda3\\envs\\Modulabs\\lib\\site-packages\\langgraph\\pregel\\__init__.py:2367\u001b[0m, in \u001b[0;36mPregel.invoke\u001b[1;34m(self, input, config, stream_mode, output_keys, interrupt_before, interrupt_after, debug, **kwargs)\u001b[0m\n\u001b[0;32m   2365\u001b[0m \u001b[38;5;28;01melse\u001b[39;00m:\n\u001b[0;32m   2366\u001b[0m     chunks \u001b[38;5;241m=\u001b[39m []\n\u001b[1;32m-> 2367\u001b[0m \u001b[38;5;28;01mfor\u001b[39;00m chunk \u001b[38;5;129;01min\u001b[39;00m \u001b[38;5;28mself\u001b[39m\u001b[38;5;241m.\u001b[39mstream(\n\u001b[0;32m   2368\u001b[0m     \u001b[38;5;28minput\u001b[39m,\n\u001b[0;32m   2369\u001b[0m     config,\n\u001b[0;32m   2370\u001b[0m     stream_mode\u001b[38;5;241m=\u001b[39mstream_mode,\n\u001b[0;32m   2371\u001b[0m     output_keys\u001b[38;5;241m=\u001b[39moutput_keys,\n\u001b[0;32m   2372\u001b[0m     interrupt_before\u001b[38;5;241m=\u001b[39minterrupt_before,\n\u001b[0;32m   2373\u001b[0m     interrupt_after\u001b[38;5;241m=\u001b[39minterrupt_after,\n\u001b[0;32m   2374\u001b[0m     debug\u001b[38;5;241m=\u001b[39mdebug,\n\u001b[0;32m   2375\u001b[0m     \u001b[38;5;241m*\u001b[39m\u001b[38;5;241m*\u001b[39mkwargs,\n\u001b[0;32m   2376\u001b[0m ):\n\u001b[0;32m   2377\u001b[0m     \u001b[38;5;28;01mif\u001b[39;00m stream_mode \u001b[38;5;241m==\u001b[39m \u001b[38;5;124m\"\u001b[39m\u001b[38;5;124mvalues\u001b[39m\u001b[38;5;124m\"\u001b[39m:\n\u001b[0;32m   2378\u001b[0m         latest \u001b[38;5;241m=\u001b[39m chunk\n",
      "File \u001b[1;32mc:\\Users\\Admin\\anaconda3\\envs\\Modulabs\\lib\\site-packages\\langgraph\\pregel\\__init__.py:1946\u001b[0m, in \u001b[0;36mPregel.stream\u001b[1;34m(self, input, config, stream_mode, output_keys, interrupt_before, interrupt_after, debug, subgraphs)\u001b[0m\n\u001b[0;32m   1930\u001b[0m run_manager \u001b[38;5;241m=\u001b[39m callback_manager\u001b[38;5;241m.\u001b[39mon_chain_start(\n\u001b[0;32m   1931\u001b[0m     \u001b[38;5;28;01mNone\u001b[39;00m,\n\u001b[0;32m   1932\u001b[0m     \u001b[38;5;28minput\u001b[39m,\n\u001b[0;32m   1933\u001b[0m     name\u001b[38;5;241m=\u001b[39mconfig\u001b[38;5;241m.\u001b[39mget(\u001b[38;5;124m\"\u001b[39m\u001b[38;5;124mrun_name\u001b[39m\u001b[38;5;124m\"\u001b[39m, \u001b[38;5;28mself\u001b[39m\u001b[38;5;241m.\u001b[39mget_name()),\n\u001b[0;32m   1934\u001b[0m     run_id\u001b[38;5;241m=\u001b[39mconfig\u001b[38;5;241m.\u001b[39mget(\u001b[38;5;124m\"\u001b[39m\u001b[38;5;124mrun_id\u001b[39m\u001b[38;5;124m\"\u001b[39m),\n\u001b[0;32m   1935\u001b[0m )\n\u001b[0;32m   1936\u001b[0m \u001b[38;5;28;01mtry\u001b[39;00m:\n\u001b[0;32m   1937\u001b[0m     \u001b[38;5;66;03m# assign defaults\u001b[39;00m\n\u001b[0;32m   1938\u001b[0m     (\n\u001b[0;32m   1939\u001b[0m         debug,\n\u001b[0;32m   1940\u001b[0m         stream_modes,\n\u001b[0;32m   1941\u001b[0m         output_keys,\n\u001b[0;32m   1942\u001b[0m         interrupt_before_,\n\u001b[0;32m   1943\u001b[0m         interrupt_after_,\n\u001b[0;32m   1944\u001b[0m         checkpointer,\n\u001b[0;32m   1945\u001b[0m         store,\n\u001b[1;32m-> 1946\u001b[0m     ) \u001b[38;5;241m=\u001b[39m \u001b[38;5;28;43mself\u001b[39;49m\u001b[38;5;241;43m.\u001b[39;49m\u001b[43m_defaults\u001b[49m\u001b[43m(\u001b[49m\n\u001b[0;32m   1947\u001b[0m \u001b[43m        \u001b[49m\u001b[43mconfig\u001b[49m\u001b[43m,\u001b[49m\n\u001b[0;32m   1948\u001b[0m \u001b[43m        \u001b[49m\u001b[43mstream_mode\u001b[49m\u001b[38;5;241;43m=\u001b[39;49m\u001b[43mstream_mode\u001b[49m\u001b[43m,\u001b[49m\n\u001b[0;32m   1949\u001b[0m \u001b[43m        \u001b[49m\u001b[43moutput_keys\u001b[49m\u001b[38;5;241;43m=\u001b[39;49m\u001b[43moutput_keys\u001b[49m\u001b[43m,\u001b[49m\n\u001b[0;32m   1950\u001b[0m \u001b[43m        \u001b[49m\u001b[43minterrupt_before\u001b[49m\u001b[38;5;241;43m=\u001b[39;49m\u001b[43minterrupt_before\u001b[49m\u001b[43m,\u001b[49m\n\u001b[0;32m   1951\u001b[0m \u001b[43m        \u001b[49m\u001b[43minterrupt_after\u001b[49m\u001b[38;5;241;43m=\u001b[39;49m\u001b[43minterrupt_after\u001b[49m\u001b[43m,\u001b[49m\n\u001b[0;32m   1952\u001b[0m \u001b[43m        \u001b[49m\u001b[43mdebug\u001b[49m\u001b[38;5;241;43m=\u001b[39;49m\u001b[43mdebug\u001b[49m\u001b[43m,\u001b[49m\n\u001b[0;32m   1953\u001b[0m \u001b[43m    \u001b[49m\u001b[43m)\u001b[49m\n\u001b[0;32m   1954\u001b[0m     \u001b[38;5;66;03m# set up subgraph checkpointing\u001b[39;00m\n\u001b[0;32m   1955\u001b[0m     \u001b[38;5;28;01mif\u001b[39;00m \u001b[38;5;28mself\u001b[39m\u001b[38;5;241m.\u001b[39mcheckpointer \u001b[38;5;129;01mis\u001b[39;00m \u001b[38;5;28;01mTrue\u001b[39;00m:\n",
      "File \u001b[1;32mc:\\Users\\Admin\\anaconda3\\envs\\Modulabs\\lib\\site-packages\\langgraph\\pregel\\__init__.py:1760\u001b[0m, in \u001b[0;36mPregel._defaults\u001b[1;34m(self, config, stream_mode, output_keys, interrupt_before, interrupt_after, debug)\u001b[0m\n\u001b[0;32m   1758\u001b[0m     checkpointer \u001b[38;5;241m=\u001b[39m \u001b[38;5;28mself\u001b[39m\u001b[38;5;241m.\u001b[39mcheckpointer\n\u001b[0;32m   1759\u001b[0m \u001b[38;5;28;01mif\u001b[39;00m checkpointer \u001b[38;5;129;01mand\u001b[39;00m \u001b[38;5;129;01mnot\u001b[39;00m config\u001b[38;5;241m.\u001b[39mget(CONF):\n\u001b[1;32m-> 1760\u001b[0m     \u001b[38;5;28;01mraise\u001b[39;00m \u001b[38;5;167;01mValueError\u001b[39;00m(\n\u001b[0;32m   1761\u001b[0m         \u001b[38;5;124mf\u001b[39m\u001b[38;5;124m\"\u001b[39m\u001b[38;5;124mCheckpointer requires one or more of the following \u001b[39m\u001b[38;5;124m'\u001b[39m\u001b[38;5;124mconfigurable\u001b[39m\u001b[38;5;124m'\u001b[39m\u001b[38;5;124m keys: \u001b[39m\u001b[38;5;132;01m{\u001b[39;00m[s\u001b[38;5;241m.\u001b[39mid\u001b[38;5;250m \u001b[39m\u001b[38;5;28;01mfor\u001b[39;00m\u001b[38;5;250m \u001b[39ms\u001b[38;5;250m \u001b[39m\u001b[38;5;129;01min\u001b[39;00m\u001b[38;5;250m \u001b[39mcheckpointer\u001b[38;5;241m.\u001b[39mconfig_specs]\u001b[38;5;132;01m}\u001b[39;00m\u001b[38;5;124m\"\u001b[39m\n\u001b[0;32m   1762\u001b[0m     )\n\u001b[0;32m   1763\u001b[0m \u001b[38;5;28;01mif\u001b[39;00m CONFIG_KEY_STORE \u001b[38;5;129;01min\u001b[39;00m config\u001b[38;5;241m.\u001b[39mget(CONF, {}):\n\u001b[0;32m   1764\u001b[0m     store: Optional[BaseStore] \u001b[38;5;241m=\u001b[39m config[CONF][CONFIG_KEY_STORE]\n",
      "\u001b[1;31mValueError\u001b[0m: Checkpointer requires one or more of the following 'configurable' keys: ['thread_id', 'checkpoint_ns', 'checkpoint_id']"
     ]
    }
   ],
   "source": [
    "result = app.invoke({\"messages\":(\"user\", \"30+30은 뭐야?\")}, config=config)"
   ]
  },
  {
   "cell_type": "code",
   "execution_count": 750,
   "metadata": {},
   "outputs": [
    {
     "name": "stdout",
     "output_type": "stream",
     "text": [
      "\n",
      "\n",
      "===== Result =====\n",
      "\n",
      "\n",
      "죄송하지만, 이전의 대화 내용을 기억할 수 없어서 어떤 질문을 하셨는지 알 수 없습니다. 다시 질문해 주시면 최선을 다해 답변해 드리겠습니다.\n"
     ]
    }
   ],
   "source": [
    "result = app.invoke({\"messages\":(\"user\", \"내가 아까 뭐라고 질문했지?\")}, config=config)"
   ]
  },
  {
   "cell_type": "code",
   "execution_count": 743,
   "metadata": {},
   "outputs": [
    {
     "data": {
      "text/plain": [
       "{'messages': [HumanMessage(content='30+30은 뭐야?', additional_kwargs={}, response_metadata={}, id='c8e19729-838f-453f-9241-9a56395c1958'),\n",
       "  AIMessage(content='30 + 30은 60입니다.', additional_kwargs={'refusal': None}, response_metadata={'token_usage': {'completion_tokens': 10, 'prompt_tokens': 108, 'total_tokens': 118, 'completion_tokens_details': {'accepted_prediction_tokens': 0, 'audio_tokens': 0, 'reasoning_tokens': 0, 'rejected_prediction_tokens': 0}, 'prompt_tokens_details': {'audio_tokens': 0, 'cached_tokens': 0}}, 'model_name': 'gpt-4o-mini-2024-07-18', 'system_fingerprint': 'fp_b8bc95a0ac', 'finish_reason': 'stop', 'logprobs': None}, id='run-ae4e792b-d37d-4e47-be4a-29637762ccc5-0', usage_metadata={'input_tokens': 108, 'output_tokens': 10, 'total_tokens': 118, 'input_token_details': {'audio': 0, 'cache_read': 0}, 'output_token_details': {'audio': 0, 'reasoning': 0}}),\n",
       "  HumanMessage(content='내가 아까 뭐라고 질문했지?', additional_kwargs={}, response_metadata={}, id='6d7933ca-cbdc-4871-9404-b2275af900cb'),\n",
       "  AIMessage(content='당신은 \"30+30은 뭐야?\"라고 질문하셨습니다.', additional_kwargs={'refusal': None}, response_metadata={'token_usage': {'completion_tokens': 18, 'prompt_tokens': 391, 'total_tokens': 409, 'completion_tokens_details': {'accepted_prediction_tokens': 0, 'audio_tokens': 0, 'reasoning_tokens': 0, 'rejected_prediction_tokens': 0}, 'prompt_tokens_details': {'audio_tokens': 0, 'cached_tokens': 0}}, 'model_name': 'gpt-4o-mini-2024-07-18', 'system_fingerprint': 'fp_b8bc95a0ac', 'finish_reason': 'stop', 'logprobs': None}, id='run-79f44387-3c5b-42e9-a66c-fac83109da96-0', usage_metadata={'input_tokens': 391, 'output_tokens': 18, 'total_tokens': 409, 'input_token_details': {'audio': 0, 'cache_read': 0}, 'output_token_details': {'audio': 0, 'reasoning': 0}})]}"
      ]
     },
     "execution_count": 743,
     "metadata": {},
     "output_type": "execute_result"
    }
   ],
   "source": [
    "result"
   ]
  },
  {
   "cell_type": "code",
   "execution_count": 721,
   "metadata": {},
   "outputs": [
    {
     "name": "stdout",
     "output_type": "stream",
     "text": [
      "content=\"2023년 추천 주식에 대한 정보는 다음과 같습니다:\\n\\n1. **방위산업체**: 레이시온 테크놀로지스, 록히드 마틴, 노스롭 그루먼은 주가 상승이 예상됩니다. [자세히 보기](https://kr.investing.com/analysis/article-200442223)\\n\\n2. **제약회사**: 일라이 릴리, 머크, 브리스톨 마이어스 스퀴브는 시장보다 높은 수익률이 예상됩니다. [자세히 보기](https://www.hankyung.com/article/202212299176O)\\n\\n3. **2024년 추가 상승 예상 주식**: 우버, 블랙스톤, 인텔, 크라우드스트라이크, 익스피디아. [자세히 보기](https://kr.investing.com/analysis/article-200446203)\\n\\n이 외에도 2023년 주식시장에서 '의료AI', 2차전지, 로봇, 반도체 등의 테마가 주목받고 있습니다. [자세히 보기](https://stockplus.com/m/investing_strategies/articles/6449?scope=all)\" additional_kwargs={'refusal': None} response_metadata={'token_usage': {'completion_tokens': 259, 'prompt_tokens': 691, 'total_tokens': 950, 'completion_tokens_details': {'accepted_prediction_tokens': 0, 'audio_tokens': 0, 'reasoning_tokens': 0, 'rejected_prediction_tokens': 0}, 'prompt_tokens_details': {'audio_tokens': 0, 'cached_tokens': 0}}, 'model_name': 'gpt-4o-mini-2024-07-18', 'system_fingerprint': 'fp_b8bc95a0ac', 'finish_reason': 'stop', 'logprobs': None} id='run-b874678c-bafa-4296-9c7d-2ac082dddc47-0' usage_metadata={'input_tokens': 691, 'output_tokens': 259, 'total_tokens': 950, 'input_token_details': {'audio': 0, 'cache_read': 0}, 'output_token_details': {'audio': 0, 'reasoning': 0}}\n",
      "\n",
      "\n",
      "===== Result =====\n",
      "\n",
      "\n",
      "2023년 추천 주식에 대한 정보는 다음과 같습니다:\n",
      "\n",
      "1. **방위산업체**: 레이시온 테크놀로지스, 록히드 마틴, 노스롭 그루먼은 주가 상승이 예상됩니다. [자세히 보기](https://kr.investing.com/analysis/article-200442223)\n",
      "\n",
      "2. **제약회사**: 일라이 릴리, 머크, 브리스톨 마이어스 스퀴브는 시장보다 높은 수익률이 예상됩니다. [자세히 보기](https://www.hankyung.com/article/202212299176O)\n",
      "\n",
      "3. **2024년 추가 상승 예상 주식**: 우버, 블랙스톤, 인텔, 크라우드스트라이크, 익스피디아. [자세히 보기](https://kr.investing.com/analysis/article-200446203)\n",
      "\n",
      "이 외에도 2023년 주식시장에서 '의료AI', 2차전지, 로봇, 반도체 등의 테마가 주목받고 있습니다. [자세히 보기](https://stockplus.com/m/investing_strategies/articles/6449?scope=all)\n"
     ]
    }
   ],
   "source": [
    "result = app.invoke({\"messages\":(\"user\", \"\"\"import pandas as pd\n",
    "import matplotlib.pyplot as plt\n",
    "\n",
    "df = pd.DataFrame({'이름': ['철수', '영희', '민수'], '나이': [20, 21, 19]})\n",
    "df['성인여부'] = df['나이'] >= 20\n",
    "\n",
    "plt.bar(df['이름'], df['나이'], color='skyblue')\n",
    "plt.title('이름별 나이')\n",
    "plt.xlabel('이름')\n",
    "plt.ylabel('나이')\n",
    "plt.show()\n",
    "\"\"\")})"
   ]
  },
  {
   "cell_type": "code",
   "execution_count": 730,
   "metadata": {},
   "outputs": [
    {
     "name": "stdout",
     "output_type": "stream",
     "text": [
      "content='2023년 추천 주식으로는 다음과 같은 종목들이 있습니다:\\n\\n1. 레이시온 테크놀로지스\\n2. 록히드 마틴\\n3. 노스롭 그루먼\\n4. 일라이 릴리\\n5. 머크\\n6. 브리스톨 마이어스 스퀴브\\n\\n이 외에도 2023년에 이어 2024년에도 추가 상승할 것으로 예상되는 주식으로는 우버, 블랙스톤, 인텔, 크라우드스트라이크, 익스피디아가 있습니다. \\n\\n자세한 내용은 각 링크를 참조하시기 바랍니다:\\n- [2023년 시장 전망: 새해를 위한 추천 주식 15종목 | Investing.com](https://kr.investing.com/analysis/article-200442223)\\n- [2023년 시장 전망: 새해를 위한 추천 주식 15종목 | 한경닷컴](https://www.hankyung.com/article/202212299176O)\\n- [2023년에 이어 2024년에도 추가 상승할 만한 주식 5종목 - 인베스팅닷컴](https://kr.investing.com/analysis/article-200446203)' additional_kwargs={'refusal': None} response_metadata={'token_usage': {'completion_tokens': 260, 'prompt_tokens': 691, 'total_tokens': 951, 'completion_tokens_details': {'accepted_prediction_tokens': 0, 'audio_tokens': 0, 'reasoning_tokens': 0, 'rejected_prediction_tokens': 0}, 'prompt_tokens_details': {'audio_tokens': 0, 'cached_tokens': 0}}, 'model_name': 'gpt-4o-mini-2024-07-18', 'system_fingerprint': 'fp_b8bc95a0ac', 'finish_reason': 'stop', 'logprobs': None} id='run-77fc86f5-4909-489d-ac4c-fedbc0a0562f-0' usage_metadata={'input_tokens': 691, 'output_tokens': 260, 'total_tokens': 951, 'input_token_details': {'audio': 0, 'cache_read': 0}, 'output_token_details': {'audio': 0, 'reasoning': 0}}\n",
      "\n",
      "\n",
      "===== Result =====\n",
      "\n",
      "\n",
      "2023년 추천 주식으로는 다음과 같은 종목들이 있습니다:\n",
      "\n",
      "1. 레이시온 테크놀로지스\n",
      "2. 록히드 마틴\n",
      "3. 노스롭 그루먼\n",
      "4. 일라이 릴리\n",
      "5. 머크\n",
      "6. 브리스톨 마이어스 스퀴브\n",
      "\n",
      "이 외에도 2023년에 이어 2024년에도 추가 상승할 것으로 예상되는 주식으로는 우버, 블랙스톤, 인텔, 크라우드스트라이크, 익스피디아가 있습니다. \n",
      "\n",
      "자세한 내용은 각 링크를 참조하시기 바랍니다:\n",
      "- [2023년 시장 전망: 새해를 위한 추천 주식 15종목 | Investing.com](https://kr.investing.com/analysis/article-200442223)\n",
      "- [2023년 시장 전망: 새해를 위한 추천 주식 15종목 | 한경닷컴](https://www.hankyung.com/article/202212299176O)\n",
      "- [2023년에 이어 2024년에도 추가 상승할 만한 주식 5종목 - 인베스팅닷컴](https://kr.investing.com/analysis/article-200446203)\n"
     ]
    }
   ],
   "source": [
    "result = app.invoke({\"messages\":(\"user\", \"\"\"\n",
    "어떤 주식을 사는게 좋을까?\n",
    "\"\"\")})"
   ]
  },
  {
   "cell_type": "code",
   "execution_count": 731,
   "metadata": {},
   "outputs": [
    {
     "name": "stdout",
     "output_type": "stream",
     "text": [
      "\n",
      "\n",
      "===== Result =====\n",
      "\n",
      "\n",
      "물론입니다! 질문에 대한 이유를 설명해 드리겠습니다. 어떤 주제에 대한 이유를 알고 싶으신가요? 구체적인 내용을 말씀해 주시면 더 자세히 답변해 드릴 수 있습니다.\n"
     ]
    }
   ],
   "source": [
    "result = app.invoke({\"messages\":(\"user\", \"이유에 대해서도 알려줘\")})"
   ]
  },
  {
   "cell_type": "code",
   "execution_count": 732,
   "metadata": {},
   "outputs": [
    {
     "data": {
      "text/plain": [
       "{'messages': [HumanMessage(content='이유에 대해서도 알려줘', additional_kwargs={}, response_metadata={}, id='571e5ccb-1317-47cc-bf9a-9b9bb5ead4f0'),\n",
       "  AIMessage(content='물론입니다! 질문에 대한 이유를 설명해 드리겠습니다. 어떤 주제에 대한 이유를 알고 싶으신가요? 구체적인 내용을 말씀해 주시면 더 자세히 답변해 드릴 수 있습니다.', additional_kwargs={'refusal': None}, response_metadata={'token_usage': {'completion_tokens': 49, 'prompt_tokens': 66, 'total_tokens': 115, 'completion_tokens_details': {'accepted_prediction_tokens': 0, 'audio_tokens': 0, 'reasoning_tokens': 0, 'rejected_prediction_tokens': 0}, 'prompt_tokens_details': {'audio_tokens': 0, 'cached_tokens': 0}}, 'model_name': 'gpt-4o-mini-2024-07-18', 'system_fingerprint': 'fp_b8bc95a0ac', 'finish_reason': 'stop', 'logprobs': None}, id='run-f9ac2e9b-1589-4635-a335-5085752226c3-0', usage_metadata={'input_tokens': 66, 'output_tokens': 49, 'total_tokens': 115, 'input_token_details': {'audio': 0, 'cache_read': 0}, 'output_token_details': {'audio': 0, 'reasoning': 0}})],\n",
       " 'tool_call': None}"
      ]
     },
     "execution_count": 732,
     "metadata": {},
     "output_type": "execute_result"
    }
   ],
   "source": [
    "result"
   ]
  },
  {
   "cell_type": "code",
   "execution_count": 203,
   "metadata": {},
   "outputs": [
    {
     "data": {
      "text/plain": [
       "AIMessage(content='피엔티는 롤투롤 컨버팅 기계의 세계적인 전문가로, 다양한 롤투롤 컨버팅 기계를 주력으로 성장한 회사입니다. 주요 기술로는 웹 가이딩, 장력 제어, 오토 터렛, 오토 스플라이싱, 코팅, 칼렌더링, 슬리팅 등이 있습니다.\\n\\n회사는 디스플레이 소재용 필름, 전자전기 및 소형 및 ESS용 중대형 2차 전지의 분리막, 음극, 양극 소재, 그리고 회로 소재 및 2차 전지용 극박 등을 생산하는 장비를 개발하고 있습니다.\\n\\n피엔티의 주요 사업은 IT용 소재, 2차 전지의 음극 및 분리막 소재, Copper 등의 코팅 및 슬리터 장비의 제작 및 판매입니다.\\n\\n자세한 정보는 다음 링크에서 확인할 수 있습니다:\\n- [피엔티 공식 웹사이트](https://www.epnt.co.kr/)\\n- [사람인 기업정보](https://www.saramin.co.kr/zf_user/company-info/view/csn/Zm9qNG9WcGt6dlp0RWxvelMrSnVHUT09/company_nm/(%EC%A3%BC)%ED%94%BC%EC%97%94%ED%8B%B0)\\n- [삼성전자 기업정보](https://comp.fnguide.com/SVO2/ASP/SVD_Main.asp?gicode=A137400)\\n- [나무위키](https://namu.wiki/w/%ED%94%BC%EC%97%94%ED%8B%B0)', additional_kwargs={'refusal': None}, response_metadata={'token_usage': {'completion_tokens': 353, 'prompt_tokens': 654, 'total_tokens': 1007, 'completion_tokens_details': {'accepted_prediction_tokens': 0, 'audio_tokens': 0, 'reasoning_tokens': 0, 'rejected_prediction_tokens': 0}, 'prompt_tokens_details': {'audio_tokens': 0, 'cached_tokens': 0}}, 'model_name': 'gpt-4o-mini-2024-07-18', 'system_fingerprint': 'fp_b8bc95a0ac', 'finish_reason': 'stop', 'logprobs': None}, id='run-325c2de0-9492-42d0-8e7a-e008c658ed2d-0', usage_metadata={'input_tokens': 654, 'output_tokens': 353, 'total_tokens': 1007, 'input_token_details': {'audio': 0, 'cache_read': 0}, 'output_token_details': {'audio': 0, 'reasoning': 0}})"
      ]
     },
     "execution_count": 203,
     "metadata": {},
     "output_type": "execute_result"
    }
   ],
   "source": [
    "c.invoke({\"history\":history})"
   ]
  }
 ],
 "metadata": {
  "kernelspec": {
   "display_name": "Modulabs",
   "language": "python",
   "name": "python3"
  },
  "language_info": {
   "codemirror_mode": {
    "name": "ipython",
    "version": 3
   },
   "file_extension": ".py",
   "mimetype": "text/x-python",
   "name": "python",
   "nbconvert_exporter": "python",
   "pygments_lexer": "ipython3",
   "version": "3.10.12"
  }
 },
 "nbformat": 4,
 "nbformat_minor": 2
}
