{
 "cells": [
  {
   "cell_type": "code",
   "execution_count": 2,
   "metadata": {},
   "outputs": [
    {
     "data": {
      "text/plain": [
       "True"
      ]
     },
     "execution_count": 2,
     "metadata": {},
     "output_type": "execute_result"
    }
   ],
   "source": [
    "from typing import Annotated, Literal\n",
    "from typing_extensions import TypedDict\n",
    "from langchain_openai import ChatOpenAI, OpenAIEmbeddings\n",
    "from langchain.text_splitter import RecursiveCharacterTextSplitter\n",
    "from langchain_community.vectorstores import FAISS\n",
    "from langchain_community.tools.tavily_search import TavilySearchResults\n",
    "from langchain.tools.retriever import create_retriever_tool\n",
    "from langchain.document_loaders import PyMuPDFLoader, PyPDFLoader\n",
    "from langgraph.graph import StateGraph, START, END\n",
    "from langgraph.graph.message import add_messages\n",
    "from langgraph.prebuilt import ToolNode, tools_condition\n",
    "from langgraph.checkpoint.memory import MemorySaver\n",
    "from langchain_core.prompts import ChatPromptTemplate, PromptTemplate\n",
    "from langchain_core.documents.base import Document\n",
    "from langchain_core.vectorstores.base import VectorStoreRetriever\n",
    "from langchain_core.output_parsers.openai_tools import JsonOutputToolsParser\n",
    "from langchain_core.output_parsers.string import StrOutputParser\n",
    "from langchain.schema.runnable import RunnablePassthrough, RunnableLambda\n",
    "from langchain_experimental.utilities import PythonREPL\n",
    "from pydantic import BaseModel, Field\n",
    "import dotenv\n",
    "import os\n",
    "\n",
    "dotenv.load_dotenv()"
   ]
  },
  {
   "cell_type": "code",
   "execution_count": 26,
   "metadata": {},
   "outputs": [],
   "source": [
    "llm = ChatOpenAI(model=\"gpt-4o-mini\",\n",
    "                 temperature=0.,)\n",
    "\n",
    "embeddings = OpenAIEmbeddings()\n",
    "\n",
    "file_path = os.listdir(\"files/\")[1]"
   ]
  },
  {
   "cell_type": "code",
   "execution_count": 27,
   "metadata": {},
   "outputs": [],
   "source": [
    "# 리트리버 생성\n",
    "\n",
    "def embedding_file(file_path):\n",
    "    splitter = RecursiveCharacterTextSplitter.from_tiktoken_encoder(\n",
    "        chunk_size=300,\n",
    "        chunk_overlap=50,\n",
    "        separators=[\"\\n\\n\"],\n",
    "    )\n",
    "\n",
    "    loader = PyPDFLoader(f\"./files/{file_path}\")\n",
    "    docs = loader.load_and_split(text_splitter=splitter)\n",
    "\n",
    "    embeddings = OpenAIEmbeddings()\n",
    "    vector_store = FAISS.from_documents(docs, embeddings)\n",
    "    retriever = vector_store.as_retriever()\n",
    "\n",
    "    return retriever"
   ]
  },
  {
   "cell_type": "code",
   "execution_count": 28,
   "metadata": {},
   "outputs": [],
   "source": [
    "retriever = embedding_file(file_path)"
   ]
  },
  {
   "cell_type": "code",
   "execution_count": null,
   "metadata": {},
   "outputs": [],
   "source": [
    "# retriever : Annotated[VectorStoreRetriever, \"VectorStore Retriever\"]"
   ]
  },
  {
   "cell_type": "code",
   "execution_count": 299,
   "metadata": {},
   "outputs": [],
   "source": [
    "class State(TypedDict):\n",
    "    query : Annotated[str, \"User Question\"]\n",
    "    answer : Annotated[str, \"LLM Response\"]\n",
    "    document : Annotated[Document, \"Retrieve Response\"]\n",
    "    init_state : Annotated[bool, \"Init Checker\"]"
   ]
  },
  {
   "cell_type": "code",
   "execution_count": 300,
   "metadata": {},
   "outputs": [],
   "source": [
    "# Start -> get_initial_state\n",
    "\n",
    "def get_initial_state(state:State):\n",
    "    if state.get(\"init_state\", False):\n",
    "        print(\"====== Already State ======\")\n",
    "        return \n",
    "    else:\n",
    "        print(\"====== State Init Complete ======\")\n",
    "        return {\"answer\":\"\",\n",
    "                \"init_state\":True,\n",
    "                }"
   ]
  },
  {
   "cell_type": "code",
   "execution_count": 301,
   "metadata": {},
   "outputs": [],
   "source": [
    "def create_document(state:State):\n",
    "    docs = retriever.invoke(state[\"query\"])\n",
    "\n",
    "    docs = \"\\n\\n\".join(doc.page_content for doc in docs)\n",
    "\n",
    "    return {\"document\":docs}"
   ]
  },
  {
   "cell_type": "code",
   "execution_count": 302,
   "metadata": {},
   "outputs": [],
   "source": [
    "def create_prompt(state:State):\n",
    "    prompt = ChatPromptTemplate.from_messages([\n",
    "                (\"system\", \n",
    "                \"\"\"\n",
    "                context : {context}\n",
    "\n",
    "                당신은 언제나 고객에게 최선을 다해 답변을 하며 말투는 굉장히 친근합니다. 직업은 전문 상담원입니다. 답변 시, 아래의 규칙을 지켜야만 합니다.\n",
    "                ---\n",
    "                ### 규칙 ###\n",
    "                1. 주어진 context만을 이용하여 답변해야합니다. \n",
    "                2. 주어진 context에서 답변을 할 수 없다면 \"해당 문의는 010-2255-3366으로 연락주시면 도와드리겠습니다. 영업 시간은 오전 10시-오후 6시입니다.\" 라고 대답하세요.\n",
    "                3. 문자열에 A1, A2, A11, A22 등 필요 없는 문자는 제거한 뒤 출력합니다.\n",
    "                4. 항상 친절한 말투로 응대합니다.\n",
    "                5. 하이퍼 링크를 그대로 출력합니다. 대소문자를 명확하게 구분하세요. 아래 예시를 참고하여 서식을 맞추세요.\n",
    "                **하이퍼 링크 예시**\n",
    "                5-1. [스타벅스 구역삼사거리점](https://naver.me/FV7K6xTM) 입니다.\n",
    "                5-2. [화목순대국](https://naver.me/FQVGK6TZ) 입니다.\n",
    "                5-3. [모두의연구소 역삼캠퍼스](https://naver.me/GMvc9Hv5) 입니다.\n",
    "                ---\n",
    "                \"\"\"),\n",
    "                (\"human\", \"{query}\")\n",
    "            ])\n",
    "    \n",
    "    chain = prompt | llm\n",
    "\n",
    "    return {\"answer\": chain.invoke({\"context\" : state[\"document\"],\n",
    "                                    \"query\": state[\"query\"]})}"
   ]
  },
  {
   "cell_type": "code",
   "execution_count": 303,
   "metadata": {},
   "outputs": [],
   "source": [
    "graph_builder = StateGraph(State)"
   ]
  },
  {
   "cell_type": "code",
   "execution_count": 304,
   "metadata": {},
   "outputs": [],
   "source": [
    "graph_builder.add_node(\"init\", get_initial_state);\n",
    "graph_builder.add_node(\"format_docs\", create_document);\n",
    "graph_builder.add_node(\"prompt1\", create_prompt);\n",
    "\n",
    "graph_builder.add_edge(START, \"init\");\n",
    "graph_builder.add_edge(\"init\", \"format_docs\");\n",
    "graph_builder.add_edge(\"format_docs\", \"prompt1\");\n",
    "graph_builder.add_edge(\"prompt1\", END); "
   ]
  },
  {
   "cell_type": "code",
   "execution_count": 305,
   "metadata": {},
   "outputs": [],
   "source": [
    "graph = graph_builder.compile()"
   ]
  },
  {
   "cell_type": "code",
   "execution_count": null,
   "metadata": {},
   "outputs": [],
   "source": [
    "graph"
   ]
  },
  {
   "cell_type": "code",
   "execution_count": 289,
   "metadata": {},
   "outputs": [
    {
     "name": "stdout",
     "output_type": "stream",
     "text": [
      "====== State Init Complete ======\n"
     ]
    }
   ],
   "source": [
    "invoke_result = graph.invoke({\"query\":\"개강하는 날짜는 언제인가요?\"})"
   ]
  },
  {
   "cell_type": "code",
   "execution_count": 295,
   "metadata": {},
   "outputs": [
    {
     "data": {
      "text/plain": [
       "{'query': '개강하는 날짜는 언제인가요?',\n",
       " 'answer': AIMessage(content='아이펠 데이터사이언티스트 3기 개강일은 2024년 9월 25일입니다.', additional_kwargs={'refusal': None}, response_metadata={'token_usage': {'completion_tokens': 29, 'prompt_tokens': 3921, 'total_tokens': 3950, 'completion_tokens_details': {'accepted_prediction_tokens': 0, 'audio_tokens': 0, 'reasoning_tokens': 0, 'rejected_prediction_tokens': 0}, 'prompt_tokens_details': {'audio_tokens': 0, 'cached_tokens': 0}}, 'model_name': 'gpt-4o-mini-2024-07-18', 'system_fingerprint': 'fp_06737a9306', 'finish_reason': 'stop', 'logprobs': None}, id='run-1ccb0b20-a39c-4535-9802-0dc6c8681cfa-0', usage_metadata={'input_tokens': 3921, 'output_tokens': 29, 'total_tokens': 3950, 'input_token_details': {'audio': 0, 'cache_read': 0}, 'output_token_details': {'audio': 0, 'reasoning': 0}}),\n",
       " 'document': '아이펠  데이터사이언티스트  3 기\\n2A4 . 내일배움카드  실수령  후  다음  날  훈련생  등록이  가능하여  개강일  전일 ( 평일  기준 ) 까지  발급이  가능해야  합니다 . 가능한  아이펠  서류제출과  함께  바로  내일배움카드  신청을  해\\n주시는  게  가장  안전합니다 ! 부득이  하게  발급이  늦어지는  경우 , 교육  시작  후  4 일  까지  실수령  하여야  최종  등록  후  수강이  가능이  가능하니  미리  발급받고  편하게  입학  준비하세\\n요 ! (*개강일  이후  등록이  진행  되는  경우 , 결석  또는  지각  처리  될  수  있습니다 .)\\nQ5 . 지원하는데  나이  제한이  있나요 ? \\nA5 . 교육  신청에  나이  제한을  두고  있지  않습니다 . 다만 , 교육  기간  동안  정말  성실하게  참여할  수  있는지 , 전문적인  기술  습득을  위해  집중할  수  있는지 , 학습의  의지가  명확한지 ,  \\n아이펠만의  교육  방식과  맞는지  등  지원  서류와  인터뷰 ( 서류  합격  후 ) 과정에서  열정을  확인하며 , 신중히  선발하고  있습니다 .\\nQ6 . 해당  분야에  관심이  생겨  지원했는데  관련  지식이  없어도  수강할  수  있을까요 ?\\nA6 . 데이터  사이언티스트  과정  참여를  위해  파이썬 (Py thon) 언어에  대한  선수  지식이  필요합니다 . 파이썬에  자신  없는  분들은  미리  지원하셔서  ‘ 프리  아이펠 ʼ  프로그램을  통해  학\\n습해보실  수  있습니다 . (* 프리  아이펠  : 입학  전  아이펠의  학습  문화를  체험하고  사전  지식을  습득하는  프로그램으로  아이펠  퍼실리테이터가  함께합니다 ! )\\nQ7 . 퇴사 ( 이직 ) 하고  들을까  고민  중입니다 . 들을  만한  가치가  있을까요 ?\\nA7 . 단언하긴  어렵지만  본인이  원한다면  충분한  가치가  있다고  생각합니다 . 다만 , 이러한  의견은  모두  다를  수  있기에  신중하게  결정하시길  바라겠습니다 . 결정에  도움이  될  정보\\n를  ds.aif f el.io에  담아뒀으니  꼼꼼하게  확인하시고  현명한  결정을  내리시길  바라겠습니다 .\\n[학습  장소 ]\\nQ8 . 과정은  모두  온라인으로만  진행  되나요 ?\\nA8 . 아이펠  교육과정은  100% 실시간  온라인  과정으로  화상  플랫폼 (ZEP) 에서  진행됩니다 . 희망하시는  경우 , 오프라인  학습  공간 ( 모두의연구소  강남 / 역삼캠퍼스 ) 을  무료로  제공\\n해드리고  있습니다 . 공간  사용방법은  입학  후  별도로  안내드리겠습니다 .\\n[학습  방식 ]\\nQ9 . 혼자서  동영상  강의를  듣는  건가요 ?\\nA9 . 아이펠  교육은  학습시간 (10:00-18:00) 동안  화상  플랫폼 (ZEP) 에서  실시간  양방향으로  진행됩니다 . 실시간  양방향  교육은  특정  학습  시간에  실시간으로  퍼실리테이터 , 다른  \\n훈련생들과  함께  토론 , 프로젝트  실습  등을  진행하는  것을  의미합니다 . 원활한  학습을  위해  소음이  발생하는  곳 (e x. 카페 ) 또는  대화가  어려운  환경 (e x. 독서실 ) 은  가급적  피해주시\\n고 , 소통이  가능한  환경에서  참여하시길  적극  권장합니다 !\\nQ10 . 어떤  것들을  배우나요 ?\\nA 10 . 아이펠  데이터  사이언티스트  과정에서는  SQL, 비정제데이터  다루기 , 통계 , 머신러닝 , 딥러닝 , 시계열 , 추천시스템  등을  다루고  있습니다 . 배운  내용들을  토대로  미니해커톤\\n인  데이터톤과  졸업  프로젝트인  아이펠톤을  진행하게  됩니다 .\\nQ11. 블로그나  SNS 를  꼭  해야하나요 ?\\nA 11. 꼭  해야하는  것은  아닙니다 . 다만 , 블로그나  SNS 는  스스로  성장하는데에  도움을  주며  추후에는  남들에게  나를  표현하기  좋은  방법으로  아이펠에서는  적극  권장드리고  있습\\n니다 . 도움이  필요하시다면  퍼실리테이터가  도와드릴테니  걱정마세요 !\\nQ12. 학습량이  많은가요 ?\\nA 12. 학습량이  적다고  말씀드리기는  어렵습니다 . 비전공자부터  전공자까지  모두  배움의  정도에  차이가  있고  상당한  수준까지  학습이  진행되기에  개인  공부가  거의  필수로  작용할  \\n수  있습니다 . 다만 , 이러한  과정을  지나고나면  매우  성장해있는  본인의  모습을  보실  수  있으실겁니다 . 화이팅 !\\n[훈련  환경 ]\\nQ13 . 교육  중  카메라를  꼭  켜야하나요 ?\\nA 13 . 네  그럼요 ! 액티브  러닝을  원칙으로  일방향적인  주입식  교육이  아닌 , 함께  토론하고  문제를  해결하는  자기주도형  커뮤니티  교육의  본질은  소통입니다 ! 본인  참여  확인과  실시\\n간  양방향  교육  진행에  따라  카메라와  마이크  구동이  필수적으로  이루어져야  합니다 .\\nQ14 . 개인  PC 사양은  어느  정도로  갖추어야  하나요 ?\\nA 14 . 아이펠  교육  과정은  자체  개발한  LMS 에서  학습이  가능하여  인터넷  환경을  갖추어졌다면  학습이  가능합니다 . 다만 , LMS 이외에  다양한  온라인  서비스를  동시에  사용할  수  \\n있어  저사양  PC 로는  교육  진행이  어려울  수  있습니다 . 또한 , 캠퍼스에서  우분투  GPU 노트북을  대여해드릴  수  있습니다 . 필요하시다면  요청해주세요 .\\nQ15 . 졸업하면  어떤  것을  할  수  있게되나요 ?\\nA 15 . 졸업  후  데이터  분석가 , 데이터  사이언티스트 , 연구원  등으로  취업할  수  있습니다 . \\nQ16 . 졸업  프로젝트로는  어떤  걸  할  수  있나요 ?\\nA 16 . 데이터  기반  투자  전략과  머신러닝  투자  모델  구축 , 맞춤형  게임  추천  시스템  제작 , 온체인  데이터  분석을  통한  데이터  기반  의사  결정  지원  등  여러가지  프로젝트가  진행되었\\n습니다 .\\n[선발  절차 ]\\n\\n아이펠  데이터사이언티스트  3 기\\n1아이펠  데이터사이언티스트  3 기\\n해당  사업은  K \\ue088Digit al T raining 의  일환으로  고용노동부에서  주관하고  있습니다 .\\n저희는  모두의연구소  아이펠캠퍼스팀이며  해당  훈련을  운영하고  있습니다 .\\n아이펠이란 ?\\n아이펠은  누구나  인공지능을  학습할  수  있도록  설계된  교육  프로그램으로  코어 , 리서치 , 데이터사이언티스트  과정  등이  있습니다 . \\n코어  과정에서는  인공지능  모델  제작  및  어플리케이션  제작까지  진행하게  됩니다 .\\n리서치  과정에서는  대학원  수준의  인공지능  지식을  배울  수  있고  논문을  작성할  수  있는  수준까지  학습하게  됩니다 .\\n데이터  사이언티스트  과정은  실무  기반의  과정으로  데이터  분석 , 머신러닝  및  딥러닝  모델  제작까지  담당하며  이를  통해  비즈니스  인사이트를  도출하는  방법  등을  배우게  됩니다 .\\n개요\\n모두의연구소  데이터  사이언티스트  전문  과정\\n실무  기반  프로젝트로  학습하고  현직자  세미나로  이론과  실무를 , 현업  멘토와  포트폴리오  완성까지 !\\n교육명\\n모두의연구소  아이펠  데이터사이언티스트  3 기\\n모집  기간\\n202 4 . 08 . 21 - 202 4 . 09 . 2 4 , 약  1 달간  모집  예정입니다 .\\n교육  기간\\n202 4 . 09 . 25 - 25 . 03 . 21, 약  6 개월이며  120 일  과정입니다 .\\n교육  시간\\n평일  10:00 - 18:00 , 주말은  운영하지  않습니다 .\\n교육  환경\\n100% 실시간  온라인  과정  ( 타  KD T 훈련  및  직장  병행  불가 )\\n홈페이지\\n모두의연구소  홈페이지  (modulabs.co.kr)\\n아이펠  데이터사이언티스트  홈페이지  (ds.aif f el.io)\\n주소\\n모두의연구소  강남  캠퍼스  ( 서울  강남구  강남대로  32 4 역삼디오슈페리움  2 층  모두의연구소 ) ht tps://na v er .me/FslREX GR\\n모두의연구소  역삼  캠퍼스  ( 서울  강남구  역삼로  156 태광빌딩  2 층 , 4 층 ) ht tps://na v er .me/GM v c9H v5\\nF A Q\\n[지원  요건 ]\\nQ1. 재직중 ( 또는  재학중 ) 인데  지원할  수  있는지  궁금해요 !\\nA 1. 아이펠  교육과정은  약  6 개월  동안  월 - 금 , 10:00-18:00 풀타임으로  운영되고  있어  직장  또는  학교와  병행이  어렵습니다 . 내일배움카드  발급이  가능한  구직자  및  대학교  졸업  \\n예정자를  주요  대상자로  모집 , 선발하고  있으니  참여  가능  사항을  꼭  확인해주세요 !\\nQ2. 이전에  K \\ue088Digit al T raining 을  수강한  이력이  있는데  중복  수강이  가능한가요 ?\\nA2. K \\ue088Digit al T raining 과정은  생애  1 회  지원되는  과정으로  중복  수강이  어렵습니다 . ( 중도  포기  포함 ) K \\ue088Digit al T raining 이  아닌  K \\ue088Digit al Cr edit 과  같은  다른  국비지원  교육\\n이라면  중복  수강이  가능합니다 .\\nQ3 . 현재  해외에  체류  중인데  교육에  참여할  수  있나요 ?\\nA3 . 아이펠  교육  과정은  ‘고용노동부 ʼ와  함께하는  취업  또는  역량  강화를  위한  ‘직업  훈련 ʼ 과정입니다 . 해당  과정이  온라인으로  진행되더라도  해외  체류 , 여행 , 근로  등의  사유로  \\n과정에  성실히  참여하기  어려운  경우  훈련의  목적이  이루어지기  어렵다고  판단하여  수강을  제한하고  있습니다 .\\nQ4 . 내일배움카드는  언제까지  발급  되어야  하나요 ?\\n\\n아이펠  데이터사이언티스트  3 기\\n3Q17 . 서류를  제출  했어요 . 결과는  언제  알  수  있나요 ?\\nA 17 . 제출하신  지원서는  검토  후  2- 3 일  이내에  결과를  안내하고  있습니다 . ‘ 지원서  합격  → 온라인  인터뷰  → 최종  선발 ʼ 의  절차로  진행되고  있어  최종  합격  및  등록까지  일정  기간  \\n소요될  수  있으니  조금만  기다려주세요 !\\n[훈련비 ]\\nQ18 . 등록금 ( 훈련비 ) 은  정말  무료인가요 ?\\nA 18 . 내일배움카드  발급이  가능하다면  100% 무료로  입학이  가능합니다 . 단 , 잔액이  1 원이라도  있어야  하니  꼭  확인해주세요 !\\n[취업  지원 ]\\nQ19 . 졸업  이후에  취업까지  도와주시나요 ?\\nA 19 . 물론입니다 . 졸업  후의  성장  근력을  키워주는  졸업생  케어도  함께  진행하고  있습니다 . 멘토와의  취업  코칭 , 원티드  취업  프로그램  제휴  서비스 , 면접  코칭과  같은  다양한  시스\\n템을  운영  중에  있습니다 .\\n[데이터  사이언티스트란 ? ]\\n“데이터  사이언티스트 ˮ  의  필수  역량은 ?\\nAI 모델링 , 수학  및  통계 , 논리적인  실험  역량  등을  가장  중요하게  보는  것으로  알려져있습니다 . 이  외에도  ML Ops, 데이터  파이프라인  구축 , 데이터베이스 , 데이터  시각화 , 레\\n포팅  등  다양한  역량을  요구하고  있습니다 .\\n“데이터  사이언티스트 ˮ 의  목표\\n비즈니스를  위한  인사이트  도출\\n운영  효율  향상을  위한  예측  모델  개발\\n데이터  기반  의사결정  주도\\n“데이터  사이언티스트 ˮ 의  주요  업무\\n정형 /비정형  데이터  추출  및  정제\\n데이터  통계  분석을  통한  패턴  탐색\\n머신러닝 / 딥러닝  모델  구축  및  평가\\n“데이터  사이언티스트 ˮ 의  기술  스택\\nSQL, Py thon, R\\n머신러닝 / 딥러닝  프레임워크\\n통계  및  수학적  지식',\n",
       " 'init_state': True}"
      ]
     },
     "execution_count": 295,
     "metadata": {},
     "output_type": "execute_result"
    }
   ],
   "source": [
    "invoke_result"
   ]
  },
  {
   "cell_type": "code",
   "execution_count": 296,
   "metadata": {},
   "outputs": [
    {
     "name": "stdout",
     "output_type": "stream",
     "text": [
      "====== State Init Complete ======\n"
     ]
    }
   ],
   "source": [
    "invoke_result = graph.invoke({\"query\":\"오프라인강의인가요?\"})"
   ]
  },
  {
   "cell_type": "code",
   "execution_count": 297,
   "metadata": {},
   "outputs": [
    {
     "data": {
      "text/plain": [
       "{'query': '오프라인강의인가요?',\n",
       " 'answer': AIMessage(content='아이펠 교육과정은 100% 실시간 온라인 과정으로 화상 플랫폼(ZEP)에서 진행됩니다. 하지만 희망하시는 경우, 오프라인 학습 공간(모두의연구소 강남 / 역삼캠퍼스)을 무료로 제공해드리고 있습니다. 공간 사용방법은 입학 후 별도로 안내드릴 예정입니다.', additional_kwargs={'refusal': None}, response_metadata={'token_usage': {'completion_tokens': 79, 'prompt_tokens': 3920, 'total_tokens': 3999, 'completion_tokens_details': {'accepted_prediction_tokens': 0, 'audio_tokens': 0, 'reasoning_tokens': 0, 'rejected_prediction_tokens': 0}, 'prompt_tokens_details': {'audio_tokens': 0, 'cached_tokens': 3840}}, 'model_name': 'gpt-4o-mini-2024-07-18', 'system_fingerprint': 'fp_06737a9306', 'finish_reason': 'stop', 'logprobs': None}, id='run-18819a83-2cda-454f-9571-85cf6d4504f8-0', usage_metadata={'input_tokens': 3920, 'output_tokens': 79, 'total_tokens': 3999, 'input_token_details': {'audio': 0, 'cache_read': 3840}, 'output_token_details': {'audio': 0, 'reasoning': 0}}),\n",
       " 'document': '아이펠  데이터사이언티스트  3 기\\n2A4 . 내일배움카드  실수령  후  다음  날  훈련생  등록이  가능하여  개강일  전일 ( 평일  기준 ) 까지  발급이  가능해야  합니다 . 가능한  아이펠  서류제출과  함께  바로  내일배움카드  신청을  해\\n주시는  게  가장  안전합니다 ! 부득이  하게  발급이  늦어지는  경우 , 교육  시작  후  4 일  까지  실수령  하여야  최종  등록  후  수강이  가능이  가능하니  미리  발급받고  편하게  입학  준비하세\\n요 ! (*개강일  이후  등록이  진행  되는  경우 , 결석  또는  지각  처리  될  수  있습니다 .)\\nQ5 . 지원하는데  나이  제한이  있나요 ? \\nA5 . 교육  신청에  나이  제한을  두고  있지  않습니다 . 다만 , 교육  기간  동안  정말  성실하게  참여할  수  있는지 , 전문적인  기술  습득을  위해  집중할  수  있는지 , 학습의  의지가  명확한지 ,  \\n아이펠만의  교육  방식과  맞는지  등  지원  서류와  인터뷰 ( 서류  합격  후 ) 과정에서  열정을  확인하며 , 신중히  선발하고  있습니다 .\\nQ6 . 해당  분야에  관심이  생겨  지원했는데  관련  지식이  없어도  수강할  수  있을까요 ?\\nA6 . 데이터  사이언티스트  과정  참여를  위해  파이썬 (Py thon) 언어에  대한  선수  지식이  필요합니다 . 파이썬에  자신  없는  분들은  미리  지원하셔서  ‘ 프리  아이펠 ʼ  프로그램을  통해  학\\n습해보실  수  있습니다 . (* 프리  아이펠  : 입학  전  아이펠의  학습  문화를  체험하고  사전  지식을  습득하는  프로그램으로  아이펠  퍼실리테이터가  함께합니다 ! )\\nQ7 . 퇴사 ( 이직 ) 하고  들을까  고민  중입니다 . 들을  만한  가치가  있을까요 ?\\nA7 . 단언하긴  어렵지만  본인이  원한다면  충분한  가치가  있다고  생각합니다 . 다만 , 이러한  의견은  모두  다를  수  있기에  신중하게  결정하시길  바라겠습니다 . 결정에  도움이  될  정보\\n를  ds.aif f el.io에  담아뒀으니  꼼꼼하게  확인하시고  현명한  결정을  내리시길  바라겠습니다 .\\n[학습  장소 ]\\nQ8 . 과정은  모두  온라인으로만  진행  되나요 ?\\nA8 . 아이펠  교육과정은  100% 실시간  온라인  과정으로  화상  플랫폼 (ZEP) 에서  진행됩니다 . 희망하시는  경우 , 오프라인  학습  공간 ( 모두의연구소  강남 / 역삼캠퍼스 ) 을  무료로  제공\\n해드리고  있습니다 . 공간  사용방법은  입학  후  별도로  안내드리겠습니다 .\\n[학습  방식 ]\\nQ9 . 혼자서  동영상  강의를  듣는  건가요 ?\\nA9 . 아이펠  교육은  학습시간 (10:00-18:00) 동안  화상  플랫폼 (ZEP) 에서  실시간  양방향으로  진행됩니다 . 실시간  양방향  교육은  특정  학습  시간에  실시간으로  퍼실리테이터 , 다른  \\n훈련생들과  함께  토론 , 프로젝트  실습  등을  진행하는  것을  의미합니다 . 원활한  학습을  위해  소음이  발생하는  곳 (e x. 카페 ) 또는  대화가  어려운  환경 (e x. 독서실 ) 은  가급적  피해주시\\n고 , 소통이  가능한  환경에서  참여하시길  적극  권장합니다 !\\nQ10 . 어떤  것들을  배우나요 ?\\nA 10 . 아이펠  데이터  사이언티스트  과정에서는  SQL, 비정제데이터  다루기 , 통계 , 머신러닝 , 딥러닝 , 시계열 , 추천시스템  등을  다루고  있습니다 . 배운  내용들을  토대로  미니해커톤\\n인  데이터톤과  졸업  프로젝트인  아이펠톤을  진행하게  됩니다 .\\nQ11. 블로그나  SNS 를  꼭  해야하나요 ?\\nA 11. 꼭  해야하는  것은  아닙니다 . 다만 , 블로그나  SNS 는  스스로  성장하는데에  도움을  주며  추후에는  남들에게  나를  표현하기  좋은  방법으로  아이펠에서는  적극  권장드리고  있습\\n니다 . 도움이  필요하시다면  퍼실리테이터가  도와드릴테니  걱정마세요 !\\nQ12. 학습량이  많은가요 ?\\nA 12. 학습량이  적다고  말씀드리기는  어렵습니다 . 비전공자부터  전공자까지  모두  배움의  정도에  차이가  있고  상당한  수준까지  학습이  진행되기에  개인  공부가  거의  필수로  작용할  \\n수  있습니다 . 다만 , 이러한  과정을  지나고나면  매우  성장해있는  본인의  모습을  보실  수  있으실겁니다 . 화이팅 !\\n[훈련  환경 ]\\nQ13 . 교육  중  카메라를  꼭  켜야하나요 ?\\nA 13 . 네  그럼요 ! 액티브  러닝을  원칙으로  일방향적인  주입식  교육이  아닌 , 함께  토론하고  문제를  해결하는  자기주도형  커뮤니티  교육의  본질은  소통입니다 ! 본인  참여  확인과  실시\\n간  양방향  교육  진행에  따라  카메라와  마이크  구동이  필수적으로  이루어져야  합니다 .\\nQ14 . 개인  PC 사양은  어느  정도로  갖추어야  하나요 ?\\nA 14 . 아이펠  교육  과정은  자체  개발한  LMS 에서  학습이  가능하여  인터넷  환경을  갖추어졌다면  학습이  가능합니다 . 다만 , LMS 이외에  다양한  온라인  서비스를  동시에  사용할  수  \\n있어  저사양  PC 로는  교육  진행이  어려울  수  있습니다 . 또한 , 캠퍼스에서  우분투  GPU 노트북을  대여해드릴  수  있습니다 . 필요하시다면  요청해주세요 .\\nQ15 . 졸업하면  어떤  것을  할  수  있게되나요 ?\\nA 15 . 졸업  후  데이터  분석가 , 데이터  사이언티스트 , 연구원  등으로  취업할  수  있습니다 . \\nQ16 . 졸업  프로젝트로는  어떤  걸  할  수  있나요 ?\\nA 16 . 데이터  기반  투자  전략과  머신러닝  투자  모델  구축 , 맞춤형  게임  추천  시스템  제작 , 온체인  데이터  분석을  통한  데이터  기반  의사  결정  지원  등  여러가지  프로젝트가  진행되었\\n습니다 .\\n[선발  절차 ]\\n\\n아이펠  데이터사이언티스트  3 기\\n1아이펠  데이터사이언티스트  3 기\\n해당  사업은  K \\ue088Digit al T raining 의  일환으로  고용노동부에서  주관하고  있습니다 .\\n저희는  모두의연구소  아이펠캠퍼스팀이며  해당  훈련을  운영하고  있습니다 .\\n아이펠이란 ?\\n아이펠은  누구나  인공지능을  학습할  수  있도록  설계된  교육  프로그램으로  코어 , 리서치 , 데이터사이언티스트  과정  등이  있습니다 . \\n코어  과정에서는  인공지능  모델  제작  및  어플리케이션  제작까지  진행하게  됩니다 .\\n리서치  과정에서는  대학원  수준의  인공지능  지식을  배울  수  있고  논문을  작성할  수  있는  수준까지  학습하게  됩니다 .\\n데이터  사이언티스트  과정은  실무  기반의  과정으로  데이터  분석 , 머신러닝  및  딥러닝  모델  제작까지  담당하며  이를  통해  비즈니스  인사이트를  도출하는  방법  등을  배우게  됩니다 .\\n개요\\n모두의연구소  데이터  사이언티스트  전문  과정\\n실무  기반  프로젝트로  학습하고  현직자  세미나로  이론과  실무를 , 현업  멘토와  포트폴리오  완성까지 !\\n교육명\\n모두의연구소  아이펠  데이터사이언티스트  3 기\\n모집  기간\\n202 4 . 08 . 21 - 202 4 . 09 . 2 4 , 약  1 달간  모집  예정입니다 .\\n교육  기간\\n202 4 . 09 . 25 - 25 . 03 . 21, 약  6 개월이며  120 일  과정입니다 .\\n교육  시간\\n평일  10:00 - 18:00 , 주말은  운영하지  않습니다 .\\n교육  환경\\n100% 실시간  온라인  과정  ( 타  KD T 훈련  및  직장  병행  불가 )\\n홈페이지\\n모두의연구소  홈페이지  (modulabs.co.kr)\\n아이펠  데이터사이언티스트  홈페이지  (ds.aif f el.io)\\n주소\\n모두의연구소  강남  캠퍼스  ( 서울  강남구  강남대로  32 4 역삼디오슈페리움  2 층  모두의연구소 ) ht tps://na v er .me/FslREX GR\\n모두의연구소  역삼  캠퍼스  ( 서울  강남구  역삼로  156 태광빌딩  2 층 , 4 층 ) ht tps://na v er .me/GM v c9H v5\\nF A Q\\n[지원  요건 ]\\nQ1. 재직중 ( 또는  재학중 ) 인데  지원할  수  있는지  궁금해요 !\\nA 1. 아이펠  교육과정은  약  6 개월  동안  월 - 금 , 10:00-18:00 풀타임으로  운영되고  있어  직장  또는  학교와  병행이  어렵습니다 . 내일배움카드  발급이  가능한  구직자  및  대학교  졸업  \\n예정자를  주요  대상자로  모집 , 선발하고  있으니  참여  가능  사항을  꼭  확인해주세요 !\\nQ2. 이전에  K \\ue088Digit al T raining 을  수강한  이력이  있는데  중복  수강이  가능한가요 ?\\nA2. K \\ue088Digit al T raining 과정은  생애  1 회  지원되는  과정으로  중복  수강이  어렵습니다 . ( 중도  포기  포함 ) K \\ue088Digit al T raining 이  아닌  K \\ue088Digit al Cr edit 과  같은  다른  국비지원  교육\\n이라면  중복  수강이  가능합니다 .\\nQ3 . 현재  해외에  체류  중인데  교육에  참여할  수  있나요 ?\\nA3 . 아이펠  교육  과정은  ‘고용노동부 ʼ와  함께하는  취업  또는  역량  강화를  위한  ‘직업  훈련 ʼ 과정입니다 . 해당  과정이  온라인으로  진행되더라도  해외  체류 , 여행 , 근로  등의  사유로  \\n과정에  성실히  참여하기  어려운  경우  훈련의  목적이  이루어지기  어렵다고  판단하여  수강을  제한하고  있습니다 .\\nQ4 . 내일배움카드는  언제까지  발급  되어야  하나요 ?\\n\\n아이펠  데이터사이언티스트  3 기\\n3Q17 . 서류를  제출  했어요 . 결과는  언제  알  수  있나요 ?\\nA 17 . 제출하신  지원서는  검토  후  2- 3 일  이내에  결과를  안내하고  있습니다 . ‘ 지원서  합격  → 온라인  인터뷰  → 최종  선발 ʼ 의  절차로  진행되고  있어  최종  합격  및  등록까지  일정  기간  \\n소요될  수  있으니  조금만  기다려주세요 !\\n[훈련비 ]\\nQ18 . 등록금 ( 훈련비 ) 은  정말  무료인가요 ?\\nA 18 . 내일배움카드  발급이  가능하다면  100% 무료로  입학이  가능합니다 . 단 , 잔액이  1 원이라도  있어야  하니  꼭  확인해주세요 !\\n[취업  지원 ]\\nQ19 . 졸업  이후에  취업까지  도와주시나요 ?\\nA 19 . 물론입니다 . 졸업  후의  성장  근력을  키워주는  졸업생  케어도  함께  진행하고  있습니다 . 멘토와의  취업  코칭 , 원티드  취업  프로그램  제휴  서비스 , 면접  코칭과  같은  다양한  시스\\n템을  운영  중에  있습니다 .\\n[데이터  사이언티스트란 ? ]\\n“데이터  사이언티스트 ˮ  의  필수  역량은 ?\\nAI 모델링 , 수학  및  통계 , 논리적인  실험  역량  등을  가장  중요하게  보는  것으로  알려져있습니다 . 이  외에도  ML Ops, 데이터  파이프라인  구축 , 데이터베이스 , 데이터  시각화 , 레\\n포팅  등  다양한  역량을  요구하고  있습니다 .\\n“데이터  사이언티스트 ˮ 의  목표\\n비즈니스를  위한  인사이트  도출\\n운영  효율  향상을  위한  예측  모델  개발\\n데이터  기반  의사결정  주도\\n“데이터  사이언티스트 ˮ 의  주요  업무\\n정형 /비정형  데이터  추출  및  정제\\n데이터  통계  분석을  통한  패턴  탐색\\n머신러닝 / 딥러닝  모델  구축  및  평가\\n“데이터  사이언티스트 ˮ 의  기술  스택\\nSQL, Py thon, R\\n머신러닝 / 딥러닝  프레임워크\\n통계  및  수학적  지식',\n",
       " 'init_state': True}"
      ]
     },
     "execution_count": 297,
     "metadata": {},
     "output_type": "execute_result"
    }
   ],
   "source": [
    "invoke_result"
   ]
  }
 ],
 "metadata": {
  "kernelspec": {
   "display_name": "Modulabs",
   "language": "python",
   "name": "python3"
  },
  "language_info": {
   "codemirror_mode": {
    "name": "ipython",
    "version": 3
   },
   "file_extension": ".py",
   "mimetype": "text/x-python",
   "name": "python",
   "nbconvert_exporter": "python",
   "pygments_lexer": "ipython3",
   "version": "3.10.12"
  }
 },
 "nbformat": 4,
 "nbformat_minor": 2
}
