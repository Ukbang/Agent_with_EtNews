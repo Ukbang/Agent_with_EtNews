{
 "cells": [
  {
   "cell_type": "code",
   "execution_count": 2,
   "metadata": {},
   "outputs": [
    {
     "data": {
      "text/plain": [
       "True"
      ]
     },
     "execution_count": 2,
     "metadata": {},
     "output_type": "execute_result"
    }
   ],
   "source": [
    "from typing import Annotated, Literal\n",
    "from typing_extensions import TypedDict\n",
    "from langchain_openai import ChatOpenAI, OpenAIEmbeddings\n",
    "from langchain.text_splitter import RecursiveCharacterTextSplitter\n",
    "from langchain_community.vectorstores import FAISS\n",
    "from langchain_community.tools.tavily_search import TavilySearchResults\n",
    "from langchain.tools.retriever import create_retriever_tool\n",
    "from langchain.document_loaders import PyMuPDFLoader, PyPDFLoader\n",
    "from langgraph.graph import StateGraph, START, END\n",
    "from langgraph.graph.message import add_messages\n",
    "from langgraph.prebuilt import ToolNode, tools_condition\n",
    "from langgraph.checkpoint.memory import MemorySaver\n",
    "from langchain_core.prompts import ChatPromptTemplate, PromptTemplate\n",
    "from langchain_core.documents.base import Document\n",
    "from langchain_core.vectorstores.base import VectorStoreRetriever\n",
    "from langchain_core.output_parsers.openai_tools import JsonOutputToolsParser\n",
    "from langchain_core.output_parsers.string import StrOutputParser\n",
    "from langchain.schema.runnable import RunnablePassthrough, RunnableLambda\n",
    "from langchain_experimental.utilities import PythonREPL\n",
    "from pydantic import BaseModel, Field\n",
    "import dotenv\n",
    "import os\n",
    "\n",
    "dotenv.load_dotenv()"
   ]
  },
  {
   "cell_type": "code",
   "execution_count": null,
   "metadata": {},
   "outputs": [],
   "source": [
    "llm = ChatOpenAI(model=\"gpt-4o-mini\",\n",
    "                 temperature=0.,)\n",
    "\n",
    "embeddings = OpenAIEmbeddings()\n",
    "\n",
    "file_path = \"./files/Practice_document.pdf\""
   ]
  },
  {
   "cell_type": "code",
   "execution_count": null,
   "metadata": {},
   "outputs": [],
   "source": [
    "# 리트리버 생성\n",
    "\n",
    "def embedding_file(file_path):\n",
    "    splitter = RecursiveCharacterTextSplitter.from_tiktoken_encoder(\n",
    "        chunk_size=300,\n",
    "        chunk_overlap=50,\n",
    "        separators=[\"\\n\\n\"],\n",
    "    )\n",
    "\n",
    "    loader = PyPDFLoader(f\"{file_path}\")\n",
    "    docs = loader.load_and_split(text_splitter=splitter)\n",
    "\n",
    "    embeddings = OpenAIEmbeddings()\n",
    "    vector_store = FAISS.from_documents(docs, embeddings)\n",
    "    retriever = vector_store.as_retriever()\n",
    "\n",
    "    return retriever"
   ]
  },
  {
   "cell_type": "code",
   "execution_count": 28,
   "metadata": {},
   "outputs": [],
   "source": [
    "retriever = embedding_file(file_path)"
   ]
  },
  {
   "cell_type": "code",
   "execution_count": 371,
   "metadata": {},
   "outputs": [],
   "source": [
    "class State(TypedDict):\n",
    "    query : Annotated[str, \"User Question\"]\n",
    "    answer : Annotated[str, \"LLM Response\"]\n",
    "    document : Annotated[Document, \"Retrieve Response\"]"
   ]
  },
  {
   "cell_type": "code",
   "execution_count": 372,
   "metadata": {},
   "outputs": [],
   "source": [
    "# # Start -> get_initial_state\n",
    "\n",
    "# def get_initial_state(state:State):\n",
    "#     if state.get(\"init_state\"):\n",
    "#         print(\"====== Already State ======\")\n",
    "#         return state\n",
    "#     else:\n",
    "#         print(\"====== State Init Complete ======\")\n",
    "#         return {\"answer\":\"\",\n",
    "#                 \"init_state\":True,\n",
    "#                 }"
   ]
  },
  {
   "cell_type": "code",
   "execution_count": 373,
   "metadata": {},
   "outputs": [],
   "source": [
    "def create_document(state:State):\n",
    "    docs = retriever.invoke(state[\"query\"])\n",
    "\n",
    "    docs = \"\\n\\n\".join(doc.page_content for doc in docs)\n",
    "\n",
    "    return {\"document\":docs}"
   ]
  },
  {
   "cell_type": "code",
   "execution_count": 374,
   "metadata": {},
   "outputs": [],
   "source": [
    "def create_prompt(state:State):\n",
    "    prompt = ChatPromptTemplate.from_messages([\n",
    "                (\"system\", \n",
    "                \"\"\"\n",
    "                context : {context}\n",
    "\n",
    "                당신은 언제나 고객에게 최선을 다해 답변을 하며 말투는 굉장히 친근합니다. 직업은 전문 상담원입니다. 답변 시, 아래의 규칙을 지켜야만 합니다.\n",
    "                ---\n",
    "                ### 규칙 ###\n",
    "                1. 주어진 context만을 이용하여 답변해야합니다. \n",
    "                2. 주어진 context에서 답변을 할 수 없다면 \"해당 문의는 010-2255-3366으로 연락주시면 도와드리겠습니다. 영업 시간은 오전 10시-오후 6시입니다.\" 라고 대답하세요.\n",
    "                3. 문자열에 A1, A2, A11, A22 등 필요 없는 문자는 제거한 뒤 출력합니다.\n",
    "                4. 항상 친절한 말투로 응대합니다.\n",
    "                5. 하이퍼 링크를 그대로 출력합니다. 대소문자를 명확하게 구분하세요. 아래 예시를 참고하여 서식을 맞추세요.\n",
    "                **하이퍼 링크 예시**\n",
    "                5-1. [스타벅스 구역삼사거리점](https://naver.me/FV7K6xTM) 입니다.\n",
    "                5-2. [화목순대국](https://naver.me/FQVGK6TZ) 입니다.\n",
    "                5-3. [모두의연구소 역삼캠퍼스](https://naver.me/GMvc9Hv5) 입니다.\n",
    "                ---\n",
    "                \"\"\"),\n",
    "                (\"human\", \"{query}\")\n",
    "            ])\n",
    "    \n",
    "    chain = prompt | llm\n",
    "\n",
    "    return {\"answer\": chain.invoke({\"context\" : state[\"document\"],\n",
    "                                    \"query\": state[\"query\"]})}"
   ]
  },
  {
   "cell_type": "code",
   "execution_count": 375,
   "metadata": {},
   "outputs": [],
   "source": [
    "graph_builder = StateGraph(State)"
   ]
  },
  {
   "cell_type": "code",
   "execution_count": null,
   "metadata": {},
   "outputs": [],
   "source": [
    "graph_builder.add_node(\"format_docs\", create_document);\n",
    "graph_builder.add_node(\"prompt1\", create_prompt);\n",
    "\n",
    "graph_builder.add_edge(START, \"format_docs\");\n",
    "graph_builder.add_edge(\"format_docs\", \"prompt1\");\n",
    "graph_builder.add_edge(\"prompt1\", END); "
   ]
  },
  {
   "cell_type": "code",
   "execution_count": 377,
   "metadata": {},
   "outputs": [],
   "source": [
    "graph = graph_builder.compile()"
   ]
  },
  {
   "cell_type": "code",
   "execution_count": 378,
   "metadata": {},
   "outputs": [
    {
     "data": {
      "image/png": "[encoded data removed]",
      "text/plain": [
       "<langgraph.graph.state.CompiledStateGraph object at 0x00000229C86F9E40>"
      ]
     },
     "execution_count": 378,
     "metadata": {},
     "output_type": "execute_result"
    }
   ],
   "source": [
    "graph"
   ]
  },
  {
   "cell_type": "code",
   "execution_count": 379,
   "metadata": {},
   "outputs": [],
   "source": [
    "invoke_result = graph.invoke({\"query\":\"개강하는 날짜는 언제인가요?\"})"
   ]
  },
  {
   "cell_type": "code",
   "execution_count": 380,
   "metadata": {},
   "outputs": [
    {
     "data": {
      "text/plain": [
       "'아이펠 데이터사이언티스트 3 기의 개강일은 2024년 9월 25일입니다.'"
      ]
     },
     "execution_count": 380,
     "metadata": {},
     "output_type": "execute_result"
    }
   ],
   "source": [
    "invoke_result[\"answer\"].content"
   ]
  },
  {
   "cell_type": "code",
   "execution_count": 381,
   "metadata": {},
   "outputs": [],
   "source": [
    "invoke_result = graph.invoke({\"query\":\"오프라인 강의인가요?\"})"
   ]
  },
  {
   "cell_type": "code",
   "execution_count": 382,
   "metadata": {},
   "outputs": [
    {
     "data": {
      "text/plain": [
       "'아이펠 교육과정은 100% 실시간 온라인 과정으로 화상 플랫폼(ZEP)에서 진행됩니다. 하지만 희망하시는 경우, 오프라인 학습 공간(모두의연구소 강남 / 역삼캠퍼스)을 무료로 제공해드리고 있습니다. 공간 사용방법은 입학 후 별도로 안내드릴 예정입니다.'"
      ]
     },
     "execution_count": 382,
     "metadata": {},
     "output_type": "execute_result"
    }
   ],
   "source": [
    "invoke_result[\"answer\"].content"
   ]
  }
 ],
 "metadata": {
  "kernelspec": {
   "display_name": "Modulabs",
   "language": "python",
   "name": "python3"
  },
  "language_info": {
   "codemirror_mode": {
    "name": "ipython",
    "version": 3
   },
   "file_extension": ".py",
   "mimetype": "text/x-python",
   "name": "python",
   "nbconvert_exporter": "python",
   "pygments_lexer": "ipython3",
   "version": "3.10.12"
  }
 },
 "nbformat": 4,
 "nbformat_minor": 2
}
