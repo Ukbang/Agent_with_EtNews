{
 "cells": [
  {
   "cell_type": "code",
   "execution_count": 2,
   "metadata": {},
   "outputs": [
    {
     "data": {
      "text/plain": [
       "True"
      ]
     },
     "execution_count": 2,
     "metadata": {},
     "output_type": "execute_result"
    }
   ],
   "source": [
    "from typing import Annotated\n",
    "from typing_extensions import TypedDict\n",
    "from langchain_openai import ChatOpenAI, OpenAIEmbeddings\n",
    "from langchain.text_splitter import RecursiveCharacterTextSplitter\n",
    "from langchain_community.vectorstores import FAISS\n",
    "from langchain.document_loaders import PyPDFLoader\n",
    "from langgraph.graph import StateGraph, START, END\n",
    "from langchain_core.prompts import ChatPromptTemplate\n",
    "from langchain_core.documents.base import Document\n",
    "from langgraph.graph.message import add_messages\n",
    "import dotenv\n",
    "import os\n",
    "\n",
    "dotenv.load_dotenv()"
   ]
  },
  {
   "cell_type": "code",
   "execution_count": 3,
   "metadata": {},
   "outputs": [],
   "source": [
    "llm = ChatOpenAI(model=\"gpt-4o-mini\",\n",
    "                 temperature=0.,)\n",
    "\n",
    "file_path = \"./files/\"\n",
    "file_list = os.listdir(file_path)"
   ]
  },
  {
   "cell_type": "code",
   "execution_count": 4,
   "metadata": {},
   "outputs": [],
   "source": [
    "# 리트리버 생성\n",
    "\n",
    "def embedding_file(file_path):\n",
    "    splitter = RecursiveCharacterTextSplitter.from_tiktoken_encoder(\n",
    "        chunk_size=300,\n",
    "        chunk_overlap=50,\n",
    "        separators=[\"\\n\\n\"],\n",
    "    )\n",
    "\n",
    "    loader = PyPDFLoader(file_path)\n",
    "    docs = loader.load_and_split(text_splitter=splitter)\n",
    "\n",
    "    embeddings = OpenAIEmbeddings()\n",
    "    vector_store = FAISS.from_documents(docs, embeddings)\n",
    "    retriever = vector_store.as_retriever()\n",
    "\n",
    "    return retriever\n",
    "\n",
    "retriever = embedding_file(file_path+file_list[1])"
   ]
  },
  {
   "cell_type": "code",
   "execution_count": 5,
   "metadata": {},
   "outputs": [],
   "source": [
    "# 그래프 상태 정의\n",
    "\n",
    "class State(TypedDict):\n",
    "    messages : Annotated[list, add_messages]\n",
    "    document : Annotated[Document, \"Retrieve Response\"]"
   ]
  },
  {
   "cell_type": "code",
   "execution_count": 6,
   "metadata": {},
   "outputs": [],
   "source": [
    "# 도큐먼트 생성\n",
    "\n",
    "def create_document(state:State):\n",
    "    docs = retriever.invoke(state[\"messages\"][-1].content)\n",
    "\n",
    "    docs = \"\\n\\n\".join(doc.page_content for doc in docs)\n",
    "\n",
    "    return {\"document\":docs}"
   ]
  },
  {
   "cell_type": "code",
   "execution_count": 7,
   "metadata": {},
   "outputs": [],
   "source": [
    "# 체인 활성화\n",
    "\n",
    "def response(state:State):\n",
    "    prompt = ChatPromptTemplate.from_messages([\n",
    "                (\"system\", \n",
    "                \"\"\"\n",
    "                context : {context}\n",
    "\n",
    "                당신은 언제나 고객에게 최선을 다해 답변을 하며 말투는 굉장히 친근합니다. 직업은 전문 상담원입니다. 답변 시, 아래의 규칙을 지켜야만 합니다.\n",
    "                ---\n",
    "                ### 규칙 ###\n",
    "                1. 주어진 context만을 이용하여 답변해야합니다. \n",
    "                2. 주어진 context에서 답변을 할 수 없다면 \"해당 문의는 010-2255-3366으로 연락주시면 도와드리겠습니다. 영업 시간은 오전 10시-오후 6시입니다.\" 라고 대답하세요.\n",
    "                3. 문자열에 A1, A2, A11, A22 등 필요 없는 문자는 제거한 뒤 출력합니다.\n",
    "                4. 항상 친절한 말투로 응대합니다.\n",
    "                5. 하이퍼 링크를 그대로 출력합니다. 대소문자를 명확하게 구분하세요. 아래 예시를 참고하여 서식을 맞추세요.\n",
    "                **하이퍼 링크 예시**\n",
    "                5-1. [스타벅스 구역삼사거리점](https://naver.me/FV7K6xTM) 입니다.\n",
    "                5-2. [화목순대국](https://naver.me/FQVGK6TZ) 입니다.\n",
    "                5-3. [모두의연구소 역삼캠퍼스](https://naver.me/GMvc9Hv5) 입니다.\n",
    "                ---\n",
    "                \"\"\"),\n",
    "                (\"human\", \"{query}\")\n",
    "            ])\n",
    "    \n",
    "    chain = prompt | llm\n",
    "\n",
    "    return {\"messages\": chain.invoke({\"context\" : state[\"document\"],\n",
    "                                    \"query\": state[\"messages\"][-1]})}"
   ]
  },
  {
   "cell_type": "code",
   "execution_count": 8,
   "metadata": {},
   "outputs": [],
   "source": [
    "# 그래프 빌더 생성\n",
    "\n",
    "graph_builder = StateGraph(State)"
   ]
  },
  {
   "cell_type": "code",
   "execution_count": 9,
   "metadata": {},
   "outputs": [],
   "source": [
    "# 노드 및 엣지 추가\n",
    "\n",
    "graph_builder.add_node(\"create_document\", create_document);\n",
    "graph_builder.add_node(\"response\", response);\n",
    "\n",
    "graph_builder.add_edge(START, \"create_document\");\n",
    "graph_builder.add_edge(\"create_document\", \"response\");\n",
    "graph_builder.add_edge(\"response\", END); "
   ]
  },
  {
   "cell_type": "code",
   "execution_count": 10,
   "metadata": {},
   "outputs": [],
   "source": [
    "# 그래프 컴파일\n",
    "\n",
    "graph = graph_builder.compile()"
   ]
  },
  {
   "cell_type": "code",
   "execution_count": 11,
   "metadata": {},
   "outputs": [
    {
     "data": {
      "image/png": "[encoded data removed]",
      "text/plain": [
       "<langgraph.graph.state.CompiledStateGraph object at 0x00000225BC98EAA0>"
      ]
     },
     "execution_count": 11,
     "metadata": {},
     "output_type": "execute_result"
    }
   ],
   "source": [
    "# 그래프 시각화\n",
    "\n",
    "graph"
   ]
  },
  {
   "cell_type": "code",
   "execution_count": 12,
   "metadata": {},
   "outputs": [],
   "source": [
    "result = graph.invoke({\"messages\":(\"user\",\"언제 개강하나요?\")})"
   ]
  },
  {
   "cell_type": "code",
   "execution_count": 13,
   "metadata": {},
   "outputs": [
    {
     "data": {
      "text/plain": [
       "'아이펠 프로덕트 데이터 분석가 과정은 2024년 12월 30일부터 시작됩니다. 약 6개월 동안 진행되며, 평일에만 운영됩니다. 더 궁금한 점이 있으시면 언제든지 문의해 주세요!'"
      ]
     },
     "execution_count": 13,
     "metadata": {},
     "output_type": "execute_result"
    }
   ],
   "source": [
    "result[\"messages\"][-1].content"
   ]
  },
  {
   "cell_type": "code",
   "execution_count": 14,
   "metadata": {},
   "outputs": [],
   "source": [
    "result = graph.invoke({\"messages\":(\"user\",\"오프라인 강의인가요?\")})"
   ]
  },
  {
   "cell_type": "code",
   "execution_count": 15,
   "metadata": {},
   "outputs": [
    {
     "data": {
      "text/plain": [
       "'아이펠 교육과정은 100% 실시간 온라인 과정으로 화상 플랫폼(ZEP)에서 진행됩니다. 희망하시는 경우, 오프라인 학습 공간인 [모두의연구소 강남 캠퍼스](https://naver.me/FslREXGR) 또는 [모두의연구소 역삼캠퍼스](https://naver.me/GMvc9Hv5)를 무료로 제공해드리고 있습니다. 공간 사용 방법은 입학 후 별도로 안내드릴 예정입니다.'"
      ]
     },
     "execution_count": 15,
     "metadata": {},
     "output_type": "execute_result"
    }
   ],
   "source": [
    "result[\"messages\"][-1].content"
   ]
  },
  {
   "cell_type": "code",
   "execution_count": 16,
   "metadata": {},
   "outputs": [],
   "source": [
    "result = graph.invoke({\"messages\":(\"user\",\"졸업하면 어떤걸 할 수 있나요?\")})"
   ]
  },
  {
   "cell_type": "code",
   "execution_count": 17,
   "metadata": {},
   "outputs": [
    {
     "data": {
      "text/plain": [
       "'졸업 후에는 데이터 분석가, PM/PO, 그로스마케터 등으로 취업할 수 있습니다. 궁금한 점이 더 있으시면 언제든지 말씀해 주세요!'"
      ]
     },
     "execution_count": 17,
     "metadata": {},
     "output_type": "execute_result"
    }
   ],
   "source": [
    "result[\"messages\"][-1].content"
   ]
  },
  {
   "cell_type": "code",
   "execution_count": 18,
   "metadata": {},
   "outputs": [],
   "source": [
    "result = graph.invoke({\"messages\":(\"user\",\"서울에서 부산까지는 얼마나 걸리나요?\")})"
   ]
  },
  {
   "cell_type": "code",
   "execution_count": 19,
   "metadata": {},
   "outputs": [
    {
     "data": {
      "text/plain": [
       "'해당 문의는 010-2255-3366으로 연락주시면 도와드리겠습니다. 영업 시간은 오전 10시-오후 6시입니다.'"
      ]
     },
     "execution_count": 19,
     "metadata": {},
     "output_type": "execute_result"
    }
   ],
   "source": [
    "result[\"messages\"][-1].content"
   ]
  }
 ],
 "metadata": {
  "kernelspec": {
   "display_name": "Modulabs",
   "language": "python",
   "name": "python3"
  },
  "language_info": {
   "codemirror_mode": {
    "name": "ipython",
    "version": 3
   },
   "file_extension": ".py",
   "mimetype": "text/x-python",
   "name": "python",
   "nbconvert_exporter": "python",
   "pygments_lexer": "ipython3",
   "version": "3.10.12"
  }
 },
 "nbformat": 4,
 "nbformat_minor": 2
}
